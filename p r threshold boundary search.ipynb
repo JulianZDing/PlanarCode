{
 "cells": [
  {
   "cell_type": "code",
   "execution_count": 1,
   "id": "3fcade6a",
   "metadata": {},
   "outputs": [],
   "source": [
    "from threshold import *\n",
    "\n",
    "cache_dir = 'dijkstra_r'"
   ]
  },
  {
   "cell_type": "code",
   "execution_count": 3,
   "id": "5e6ac445",
   "metadata": {},
   "outputs": [
    {
     "name": "stdout",
     "output_type": "stream",
     "text": [
      "Loading cached progress from dijkstra_r/threshold_slope_boundary_search_0_0.15_0_0.2_2_8.pkl.\n"
     ]
    },
    {
     "data": {
      "application/vnd.jupyter.widget-view+json": {
       "model_id": "4c22ef52b63c4fa9bb34c59de7c29bd9",
       "version_major": 2,
       "version_minor": 0
      },
      "text/plain": [
       "Depth 8:   0%|          | 0/880 [00:00<?, ?it/s]"
      ]
     },
     "metadata": {},
     "output_type": "display_data"
    },
    {
     "data": {
      "application/vnd.jupyter.widget-view+json": {
       "model_id": "591c2f07b1104754a3d41a7d69751baa",
       "version_major": 2,
       "version_minor": 0
      },
      "text/plain": [
       "Depth 8 sub-progress:   0%|          | 0/9 [00:00<?, ?it/s]"
      ]
     },
     "metadata": {},
     "output_type": "display_data"
    },
    {
     "data": {
      "application/vnd.jupyter.widget-view+json": {
       "model_id": "f13c27d190df4a5cb79ff4d40d900a16",
       "version_major": 2,
       "version_minor": 0
      },
      "text/plain": [
       "Depth 8 sub-progress:   0%|          | 0/9 [00:00<?, ?it/s]"
      ]
     },
     "metadata": {},
     "output_type": "display_data"
    },
    {
     "data": {
      "application/vnd.jupyter.widget-view+json": {
       "model_id": "4706ceb62efb4d6e85cf77e00c7ef822",
       "version_major": 2,
       "version_minor": 0
      },
      "text/plain": [
       "Depth 8 sub-progress:   0%|          | 0/9 [00:00<?, ?it/s]"
      ]
     },
     "metadata": {},
     "output_type": "display_data"
    },
    {
     "data": {
      "application/vnd.jupyter.widget-view+json": {
       "model_id": "4b5f418994434228be8deffd5c095398",
       "version_major": 2,
       "version_minor": 0
      },
      "text/plain": [
       "Depth 8 sub-progress:   0%|          | 0/9 [00:00<?, ?it/s]"
      ]
     },
     "metadata": {},
     "output_type": "display_data"
    },
    {
     "data": {
      "application/vnd.jupyter.widget-view+json": {
       "model_id": "078161de35b44bfbb5d18a78d610d06c",
       "version_major": 2,
       "version_minor": 0
      },
      "text/plain": [
       "Depth 8 sub-progress:   0%|          | 0/9 [00:00<?, ?it/s]"
      ]
     },
     "metadata": {},
     "output_type": "display_data"
    },
    {
     "data": {
      "application/vnd.jupyter.widget-view+json": {
       "model_id": "1f5f0d3038a94b8e8594919a44c52d66",
       "version_major": 2,
       "version_minor": 0
      },
      "text/plain": [
       "Depth 8 sub-progress:   0%|          | 0/9 [00:00<?, ?it/s]"
      ]
     },
     "metadata": {},
     "output_type": "display_data"
    },
    {
     "data": {
      "application/vnd.jupyter.widget-view+json": {
       "model_id": "b97dfc75632847f58009fafbcf26e031",
       "version_major": 2,
       "version_minor": 0
      },
      "text/plain": [
       "Depth 8 sub-progress:   0%|          | 0/9 [00:00<?, ?it/s]"
      ]
     },
     "metadata": {},
     "output_type": "display_data"
    },
    {
     "data": {
      "application/vnd.jupyter.widget-view+json": {
       "model_id": "a12282a9bcec449f8ed2d5147bd9caee",
       "version_major": 2,
       "version_minor": 0
      },
      "text/plain": [
       "Depth 8 sub-progress:   0%|          | 0/9 [00:00<?, ?it/s]"
      ]
     },
     "metadata": {},
     "output_type": "display_data"
    },
    {
     "data": {
      "application/vnd.jupyter.widget-view+json": {
       "model_id": "038ce38c0b184eec8423f5e8a5b5eac8",
       "version_major": 2,
       "version_minor": 0
      },
      "text/plain": [
       "Depth 8 sub-progress:   0%|          | 0/9 [00:00<?, ?it/s]"
      ]
     },
     "metadata": {},
     "output_type": "display_data"
    },
    {
     "data": {
      "application/vnd.jupyter.widget-view+json": {
       "model_id": "42fa548b4a7f4f88916b3302743ead3a",
       "version_major": 2,
       "version_minor": 0
      },
      "text/plain": [
       "Depth 8 sub-progress:   0%|          | 0/9 [00:00<?, ?it/s]"
      ]
     },
     "metadata": {},
     "output_type": "display_data"
    },
    {
     "data": {
      "application/vnd.jupyter.widget-view+json": {
       "model_id": "5e0fe2d05b3a4e2aa5a126ba98b11dfc",
       "version_major": 2,
       "version_minor": 0
      },
      "text/plain": [
       "Depth 8 sub-progress:   0%|          | 0/9 [00:00<?, ?it/s]"
      ]
     },
     "metadata": {},
     "output_type": "display_data"
    },
    {
     "data": {
      "application/vnd.jupyter.widget-view+json": {
       "model_id": "da4348fc60814dd38ca6bf31b39c54d6",
       "version_major": 2,
       "version_minor": 0
      },
      "text/plain": [
       "Depth 8 sub-progress:   0%|          | 0/9 [00:00<?, ?it/s]"
      ]
     },
     "metadata": {},
     "output_type": "display_data"
    },
    {
     "data": {
      "application/vnd.jupyter.widget-view+json": {
       "model_id": "627f24e1d1d54066b517a49e747e6713",
       "version_major": 2,
       "version_minor": 0
      },
      "text/plain": [
       "Depth 8 sub-progress:   0%|          | 0/9 [00:00<?, ?it/s]"
      ]
     },
     "metadata": {},
     "output_type": "display_data"
    },
    {
     "data": {
      "application/vnd.jupyter.widget-view+json": {
       "model_id": "9acd4da3d5144e2882cfe92f79587bb9",
       "version_major": 2,
       "version_minor": 0
      },
      "text/plain": [
       "Depth 8 sub-progress:   0%|          | 0/9 [00:00<?, ?it/s]"
      ]
     },
     "metadata": {},
     "output_type": "display_data"
    },
    {
     "data": {
      "application/vnd.jupyter.widget-view+json": {
       "model_id": "3f42f57952294d32853a6bbcbd6f547c",
       "version_major": 2,
       "version_minor": 0
      },
      "text/plain": [
       "Depth 8 sub-progress:   0%|          | 0/9 [00:00<?, ?it/s]"
      ]
     },
     "metadata": {},
     "output_type": "display_data"
    },
    {
     "data": {
      "application/vnd.jupyter.widget-view+json": {
       "model_id": "7185a102e5f344f9a03800528d1f05a4",
       "version_major": 2,
       "version_minor": 0
      },
      "text/plain": [
       "Depth 8 sub-progress:   0%|          | 0/9 [00:00<?, ?it/s]"
      ]
     },
     "metadata": {},
     "output_type": "display_data"
    },
    {
     "data": {
      "application/vnd.jupyter.widget-view+json": {
       "model_id": "1c348f4298ea408ba2a22791297fb118",
       "version_major": 2,
       "version_minor": 0
      },
      "text/plain": [
       "Depth 8 sub-progress:   0%|          | 0/9 [00:00<?, ?it/s]"
      ]
     },
     "metadata": {},
     "output_type": "display_data"
    },
    {
     "data": {
      "application/vnd.jupyter.widget-view+json": {
       "model_id": "0b35c91949594978a7e0566616d32333",
       "version_major": 2,
       "version_minor": 0
      },
      "text/plain": [
       "Depth 8 sub-progress:   0%|          | 0/9 [00:00<?, ?it/s]"
      ]
     },
     "metadata": {},
     "output_type": "display_data"
    },
    {
     "data": {
      "application/vnd.jupyter.widget-view+json": {
       "model_id": "c9c9e593d67b4838b3c013fcbd71486e",
       "version_major": 2,
       "version_minor": 0
      },
      "text/plain": [
       "Depth 8 sub-progress:   0%|          | 0/9 [00:00<?, ?it/s]"
      ]
     },
     "metadata": {},
     "output_type": "display_data"
    },
    {
     "data": {
      "application/vnd.jupyter.widget-view+json": {
       "model_id": "c561b3ff19734b28a54bb4d439c3c291",
       "version_major": 2,
       "version_minor": 0
      },
      "text/plain": [
       "Depth 8 sub-progress:   0%|          | 0/9 [00:00<?, ?it/s]"
      ]
     },
     "metadata": {},
     "output_type": "display_data"
    },
    {
     "data": {
      "application/vnd.jupyter.widget-view+json": {
       "model_id": "8ac6e271ddc84644a48d11e85d671af2",
       "version_major": 2,
       "version_minor": 0
      },
      "text/plain": [
       "Depth 8 sub-progress:   0%|          | 0/9 [00:00<?, ?it/s]"
      ]
     },
     "metadata": {},
     "output_type": "display_data"
    },
    {
     "data": {
      "application/vnd.jupyter.widget-view+json": {
       "model_id": "498a603fef964a76b2d8fc9d84de4451",
       "version_major": 2,
       "version_minor": 0
      },
      "text/plain": [
       "Depth 8 sub-progress:   0%|          | 0/9 [00:00<?, ?it/s]"
      ]
     },
     "metadata": {},
     "output_type": "display_data"
    },
    {
     "data": {
      "application/vnd.jupyter.widget-view+json": {
       "model_id": "3559b0cd83294dc88e6aeb45154cdf33",
       "version_major": 2,
       "version_minor": 0
      },
      "text/plain": [
       "Depth 8 sub-progress:   0%|          | 0/9 [00:00<?, ?it/s]"
      ]
     },
     "metadata": {},
     "output_type": "display_data"
    },
    {
     "data": {
      "application/vnd.jupyter.widget-view+json": {
       "model_id": "ba360b8d6f66498cbe8018e2d7a98ee3",
       "version_major": 2,
       "version_minor": 0
      },
      "text/plain": [
       "Depth 8 sub-progress:   0%|          | 0/9 [00:00<?, ?it/s]"
      ]
     },
     "metadata": {},
     "output_type": "display_data"
    },
    {
     "data": {
      "application/vnd.jupyter.widget-view+json": {
       "model_id": "4765c1753a564dea98689e1c24d64509",
       "version_major": 2,
       "version_minor": 0
      },
      "text/plain": [
       "Depth 8 sub-progress:   0%|          | 0/9 [00:00<?, ?it/s]"
      ]
     },
     "metadata": {},
     "output_type": "display_data"
    },
    {
     "data": {
      "application/vnd.jupyter.widget-view+json": {
       "model_id": "1ecb66ebc516492c95f151b7236dc60b",
       "version_major": 2,
       "version_minor": 0
      },
      "text/plain": [
       "Depth 8 sub-progress:   0%|          | 0/9 [00:00<?, ?it/s]"
      ]
     },
     "metadata": {},
     "output_type": "display_data"
    },
    {
     "data": {
      "application/vnd.jupyter.widget-view+json": {
       "model_id": "d9f89707bb104147825151063d409123",
       "version_major": 2,
       "version_minor": 0
      },
      "text/plain": [
       "Depth 8 sub-progress:   0%|          | 0/9 [00:00<?, ?it/s]"
      ]
     },
     "metadata": {},
     "output_type": "display_data"
    },
    {
     "data": {
      "application/vnd.jupyter.widget-view+json": {
       "model_id": "3361840a580849268b781c06c97c9c88",
       "version_major": 2,
       "version_minor": 0
      },
      "text/plain": [
       "Depth 8 sub-progress:   0%|          | 0/9 [00:00<?, ?it/s]"
      ]
     },
     "metadata": {},
     "output_type": "display_data"
    },
    {
     "data": {
      "application/vnd.jupyter.widget-view+json": {
       "model_id": "96c39009709848fe8dd7cd1dc1e26410",
       "version_major": 2,
       "version_minor": 0
      },
      "text/plain": [
       "Depth 8 sub-progress:   0%|          | 0/9 [00:00<?, ?it/s]"
      ]
     },
     "metadata": {},
     "output_type": "display_data"
    },
    {
     "data": {
      "application/vnd.jupyter.widget-view+json": {
       "model_id": "170c98122fd448a69c13ebac5f044abc",
       "version_major": 2,
       "version_minor": 0
      },
      "text/plain": [
       "Depth 8 sub-progress:   0%|          | 0/9 [00:00<?, ?it/s]"
      ]
     },
     "metadata": {},
     "output_type": "display_data"
    },
    {
     "data": {
      "application/vnd.jupyter.widget-view+json": {
       "model_id": "d51c94f6e0a540299b293473fbf17264",
       "version_major": 2,
       "version_minor": 0
      },
      "text/plain": [
       "Depth 8 sub-progress:   0%|          | 0/9 [00:00<?, ?it/s]"
      ]
     },
     "metadata": {},
     "output_type": "display_data"
    },
    {
     "data": {
      "application/vnd.jupyter.widget-view+json": {
       "model_id": "9469a819c61d4e5a83b2efbf69707003",
       "version_major": 2,
       "version_minor": 0
      },
      "text/plain": [
       "Depth 8 sub-progress:   0%|          | 0/9 [00:00<?, ?it/s]"
      ]
     },
     "metadata": {},
     "output_type": "display_data"
    },
    {
     "data": {
      "application/vnd.jupyter.widget-view+json": {
       "model_id": "1e7a5344dfe4456f98e1f22177e8296f",
       "version_major": 2,
       "version_minor": 0
      },
      "text/plain": [
       "Depth 8 sub-progress:   0%|          | 0/9 [00:00<?, ?it/s]"
      ]
     },
     "metadata": {},
     "output_type": "display_data"
    },
    {
     "data": {
      "application/vnd.jupyter.widget-view+json": {
       "model_id": "92d914b4b8a34793b2f482b46974d5fd",
       "version_major": 2,
       "version_minor": 0
      },
      "text/plain": [
       "Depth 8 sub-progress:   0%|          | 0/9 [00:00<?, ?it/s]"
      ]
     },
     "metadata": {},
     "output_type": "display_data"
    },
    {
     "data": {
      "application/vnd.jupyter.widget-view+json": {
       "model_id": "5ab717577eff4d809eff791e4e719302",
       "version_major": 2,
       "version_minor": 0
      },
      "text/plain": [
       "Depth 8 sub-progress:   0%|          | 0/9 [00:00<?, ?it/s]"
      ]
     },
     "metadata": {},
     "output_type": "display_data"
    },
    {
     "data": {
      "application/vnd.jupyter.widget-view+json": {
       "model_id": "2e7348d4b76c49a48729129f6881205a",
       "version_major": 2,
       "version_minor": 0
      },
      "text/plain": [
       "Depth 8 sub-progress:   0%|          | 0/9 [00:00<?, ?it/s]"
      ]
     },
     "metadata": {},
     "output_type": "display_data"
    },
    {
     "data": {
      "application/vnd.jupyter.widget-view+json": {
       "model_id": "ea5f7235accb4c4d95e8dcbe4940f942",
       "version_major": 2,
       "version_minor": 0
      },
      "text/plain": [
       "Depth 8 sub-progress:   0%|          | 0/9 [00:00<?, ?it/s]"
      ]
     },
     "metadata": {},
     "output_type": "display_data"
    },
    {
     "data": {
      "application/vnd.jupyter.widget-view+json": {
       "model_id": "1f011c54eea34f0581f7ec7c9bb25eb3",
       "version_major": 2,
       "version_minor": 0
      },
      "text/plain": [
       "Depth 8 sub-progress:   0%|          | 0/9 [00:00<?, ?it/s]"
      ]
     },
     "metadata": {},
     "output_type": "display_data"
    },
    {
     "data": {
      "application/vnd.jupyter.widget-view+json": {
       "model_id": "ad9730c0a1094d15a201e6a8005341d5",
       "version_major": 2,
       "version_minor": 0
      },
      "text/plain": [
       "Depth 8 sub-progress:   0%|          | 0/9 [00:00<?, ?it/s]"
      ]
     },
     "metadata": {},
     "output_type": "display_data"
    },
    {
     "data": {
      "application/vnd.jupyter.widget-view+json": {
       "model_id": "ca7eb0141de14492b0dd5932c1f2f37d",
       "version_major": 2,
       "version_minor": 0
      },
      "text/plain": [
       "Depth 8 sub-progress:   0%|          | 0/9 [00:00<?, ?it/s]"
      ]
     },
     "metadata": {},
     "output_type": "display_data"
    },
    {
     "data": {
      "application/vnd.jupyter.widget-view+json": {
       "model_id": "7940b0531f2b460da02256af6721a6e6",
       "version_major": 2,
       "version_minor": 0
      },
      "text/plain": [
       "Depth 8 sub-progress:   0%|          | 0/9 [00:00<?, ?it/s]"
      ]
     },
     "metadata": {},
     "output_type": "display_data"
    },
    {
     "data": {
      "application/vnd.jupyter.widget-view+json": {
       "model_id": "5a1a831644c3446f8002612f3cb5015d",
       "version_major": 2,
       "version_minor": 0
      },
      "text/plain": [
       "Depth 8 sub-progress:   0%|          | 0/9 [00:00<?, ?it/s]"
      ]
     },
     "metadata": {},
     "output_type": "display_data"
    },
    {
     "data": {
      "application/vnd.jupyter.widget-view+json": {
       "model_id": "6f00d10a2daa42a589d4dfd3ea503bce",
       "version_major": 2,
       "version_minor": 0
      },
      "text/plain": [
       "Depth 8 sub-progress:   0%|          | 0/9 [00:00<?, ?it/s]"
      ]
     },
     "metadata": {},
     "output_type": "display_data"
    },
    {
     "data": {
      "application/vnd.jupyter.widget-view+json": {
       "model_id": "b42a575255b64098bd0c8aa32be773b4",
       "version_major": 2,
       "version_minor": 0
      },
      "text/plain": [
       "Depth 8 sub-progress:   0%|          | 0/9 [00:00<?, ?it/s]"
      ]
     },
     "metadata": {},
     "output_type": "display_data"
    },
    {
     "data": {
      "application/vnd.jupyter.widget-view+json": {
       "model_id": "a58f8f56a0cf41068ba499b2edfc0077",
       "version_major": 2,
       "version_minor": 0
      },
      "text/plain": [
       "Depth 8 sub-progress:   0%|          | 0/9 [00:00<?, ?it/s]"
      ]
     },
     "metadata": {},
     "output_type": "display_data"
    },
    {
     "data": {
      "application/vnd.jupyter.widget-view+json": {
       "model_id": "edc09e130c83438e9f1bb91df777a293",
       "version_major": 2,
       "version_minor": 0
      },
      "text/plain": [
       "Depth 8 sub-progress:   0%|          | 0/9 [00:00<?, ?it/s]"
      ]
     },
     "metadata": {},
     "output_type": "display_data"
    },
    {
     "data": {
      "application/vnd.jupyter.widget-view+json": {
       "model_id": "e5afc5e230fa4233a3d1dc127b628f99",
       "version_major": 2,
       "version_minor": 0
      },
      "text/plain": [
       "Depth 8 sub-progress:   0%|          | 0/9 [00:00<?, ?it/s]"
      ]
     },
     "metadata": {},
     "output_type": "display_data"
    },
    {
     "data": {
      "application/vnd.jupyter.widget-view+json": {
       "model_id": "df35ab9d4478452d916a356e723c8c97",
       "version_major": 2,
       "version_minor": 0
      },
      "text/plain": [
       "Depth 8 sub-progress:   0%|          | 0/9 [00:00<?, ?it/s]"
      ]
     },
     "metadata": {},
     "output_type": "display_data"
    },
    {
     "data": {
      "application/vnd.jupyter.widget-view+json": {
       "model_id": "2d7282861cba4524858794728819e850",
       "version_major": 2,
       "version_minor": 0
      },
      "text/plain": [
       "Depth 8 sub-progress:   0%|          | 0/9 [00:00<?, ?it/s]"
      ]
     },
     "metadata": {},
     "output_type": "display_data"
    },
    {
     "data": {
      "application/vnd.jupyter.widget-view+json": {
       "model_id": "cfcacc61900c4099964740dbbb797688",
       "version_major": 2,
       "version_minor": 0
      },
      "text/plain": [
       "Depth 8 sub-progress:   0%|          | 0/9 [00:00<?, ?it/s]"
      ]
     },
     "metadata": {},
     "output_type": "display_data"
    },
    {
     "data": {
      "application/vnd.jupyter.widget-view+json": {
       "model_id": "65479bd67c894b1d8f1e53a3100d5300",
       "version_major": 2,
       "version_minor": 0
      },
      "text/plain": [
       "Depth 8 sub-progress:   0%|          | 0/9 [00:00<?, ?it/s]"
      ]
     },
     "metadata": {},
     "output_type": "display_data"
    },
    {
     "data": {
      "application/vnd.jupyter.widget-view+json": {
       "model_id": "1fa5783ea4f9496e990ec737ceda1bc7",
       "version_major": 2,
       "version_minor": 0
      },
      "text/plain": [
       "Depth 8 sub-progress:   0%|          | 0/9 [00:00<?, ?it/s]"
      ]
     },
     "metadata": {},
     "output_type": "display_data"
    },
    {
     "data": {
      "application/vnd.jupyter.widget-view+json": {
       "model_id": "f131aeaeb802460e91fa146ad3c7f761",
       "version_major": 2,
       "version_minor": 0
      },
      "text/plain": [
       "Depth 8 sub-progress:   0%|          | 0/9 [00:00<?, ?it/s]"
      ]
     },
     "metadata": {},
     "output_type": "display_data"
    },
    {
     "data": {
      "application/vnd.jupyter.widget-view+json": {
       "model_id": "96b966c7c8a941f6a76f5b6596a861f1",
       "version_major": 2,
       "version_minor": 0
      },
      "text/plain": [
       "Depth 8 sub-progress:   0%|          | 0/9 [00:00<?, ?it/s]"
      ]
     },
     "metadata": {},
     "output_type": "display_data"
    },
    {
     "data": {
      "application/vnd.jupyter.widget-view+json": {
       "model_id": "4dc16dae4dae48449a475d6ce50b7957",
       "version_major": 2,
       "version_minor": 0
      },
      "text/plain": [
       "Depth 8 sub-progress:   0%|          | 0/9 [00:00<?, ?it/s]"
      ]
     },
     "metadata": {},
     "output_type": "display_data"
    },
    {
     "data": {
      "application/vnd.jupyter.widget-view+json": {
       "model_id": "c4f67312b20b44698fbc9b7e71bca948",
       "version_major": 2,
       "version_minor": 0
      },
      "text/plain": [
       "Depth 8 sub-progress:   0%|          | 0/9 [00:00<?, ?it/s]"
      ]
     },
     "metadata": {},
     "output_type": "display_data"
    },
    {
     "data": {
      "application/vnd.jupyter.widget-view+json": {
       "model_id": "b9c0a8a528514d73a6b2106993eed86a",
       "version_major": 2,
       "version_minor": 0
      },
      "text/plain": [
       "Depth 8 sub-progress:   0%|          | 0/9 [00:00<?, ?it/s]"
      ]
     },
     "metadata": {},
     "output_type": "display_data"
    },
    {
     "data": {
      "application/vnd.jupyter.widget-view+json": {
       "model_id": "7b8c79ba0dfe44d89ce954612794bbb5",
       "version_major": 2,
       "version_minor": 0
      },
      "text/plain": [
       "Depth 8 sub-progress:   0%|          | 0/9 [00:00<?, ?it/s]"
      ]
     },
     "metadata": {},
     "output_type": "display_data"
    },
    {
     "data": {
      "application/vnd.jupyter.widget-view+json": {
       "model_id": "ba86180461e7408ca6555b7313fe3536",
       "version_major": 2,
       "version_minor": 0
      },
      "text/plain": [
       "Depth 8 sub-progress:   0%|          | 0/9 [00:00<?, ?it/s]"
      ]
     },
     "metadata": {},
     "output_type": "display_data"
    },
    {
     "data": {
      "application/vnd.jupyter.widget-view+json": {
       "model_id": "5baffebefeee4d6bb82f695d709b6626",
       "version_major": 2,
       "version_minor": 0
      },
      "text/plain": [
       "Depth 8 sub-progress:   0%|          | 0/9 [00:00<?, ?it/s]"
      ]
     },
     "metadata": {},
     "output_type": "display_data"
    },
    {
     "data": {
      "application/vnd.jupyter.widget-view+json": {
       "model_id": "2fb207264cf443fe8e41547ced1848d0",
       "version_major": 2,
       "version_minor": 0
      },
      "text/plain": [
       "Depth 8 sub-progress:   0%|          | 0/9 [00:00<?, ?it/s]"
      ]
     },
     "metadata": {},
     "output_type": "display_data"
    },
    {
     "data": {
      "application/vnd.jupyter.widget-view+json": {
       "model_id": "6fc8d6a4bf6646ad8dd2e7e0d5ddc4e8",
       "version_major": 2,
       "version_minor": 0
      },
      "text/plain": [
       "Depth 8 sub-progress:   0%|          | 0/9 [00:00<?, ?it/s]"
      ]
     },
     "metadata": {},
     "output_type": "display_data"
    },
    {
     "data": {
      "application/vnd.jupyter.widget-view+json": {
       "model_id": "86f12634c6ae43b19ad52740ca9b7947",
       "version_major": 2,
       "version_minor": 0
      },
      "text/plain": [
       "Depth 8 sub-progress:   0%|          | 0/9 [00:00<?, ?it/s]"
      ]
     },
     "metadata": {},
     "output_type": "display_data"
    },
    {
     "data": {
      "application/vnd.jupyter.widget-view+json": {
       "model_id": "23b0453c9f41486087ab6381863b6b80",
       "version_major": 2,
       "version_minor": 0
      },
      "text/plain": [
       "Depth 8 sub-progress:   0%|          | 0/9 [00:00<?, ?it/s]"
      ]
     },
     "metadata": {},
     "output_type": "display_data"
    },
    {
     "data": {
      "application/vnd.jupyter.widget-view+json": {
       "model_id": "aa26875436f44677ab86e99886760cf2",
       "version_major": 2,
       "version_minor": 0
      },
      "text/plain": [
       "Depth 8 sub-progress:   0%|          | 0/9 [00:00<?, ?it/s]"
      ]
     },
     "metadata": {},
     "output_type": "display_data"
    },
    {
     "data": {
      "application/vnd.jupyter.widget-view+json": {
       "model_id": "74d2b9cfcca64eeeb8fb02c8954c876e",
       "version_major": 2,
       "version_minor": 0
      },
      "text/plain": [
       "Depth 8 sub-progress:   0%|          | 0/9 [00:00<?, ?it/s]"
      ]
     },
     "metadata": {},
     "output_type": "display_data"
    },
    {
     "data": {
      "application/vnd.jupyter.widget-view+json": {
       "model_id": "43810324f22a49ff988a4675eeb418f6",
       "version_major": 2,
       "version_minor": 0
      },
      "text/plain": [
       "Depth 8 sub-progress:   0%|          | 0/9 [00:00<?, ?it/s]"
      ]
     },
     "metadata": {},
     "output_type": "display_data"
    },
    {
     "data": {
      "application/vnd.jupyter.widget-view+json": {
       "model_id": "40a6714af90047cfb2084a6a56f7ffab",
       "version_major": 2,
       "version_minor": 0
      },
      "text/plain": [
       "Depth 8 sub-progress:   0%|          | 0/9 [00:00<?, ?it/s]"
      ]
     },
     "metadata": {},
     "output_type": "display_data"
    },
    {
     "data": {
      "application/vnd.jupyter.widget-view+json": {
       "model_id": "df8bdce09220496fb933f722877b5bf2",
       "version_major": 2,
       "version_minor": 0
      },
      "text/plain": [
       "Depth 8 sub-progress:   0%|          | 0/9 [00:00<?, ?it/s]"
      ]
     },
     "metadata": {},
     "output_type": "display_data"
    },
    {
     "data": {
      "application/vnd.jupyter.widget-view+json": {
       "model_id": "bae9e4c96bf3408babf2a8b1f51e3be1",
       "version_major": 2,
       "version_minor": 0
      },
      "text/plain": [
       "Depth 8 sub-progress:   0%|          | 0/9 [00:00<?, ?it/s]"
      ]
     },
     "metadata": {},
     "output_type": "display_data"
    },
    {
     "data": {
      "application/vnd.jupyter.widget-view+json": {
       "model_id": "94352775feea4697a344e7b494ffe8db",
       "version_major": 2,
       "version_minor": 0
      },
      "text/plain": [
       "Depth 8 sub-progress:   0%|          | 0/9 [00:00<?, ?it/s]"
      ]
     },
     "metadata": {},
     "output_type": "display_data"
    },
    {
     "data": {
      "application/vnd.jupyter.widget-view+json": {
       "model_id": "ce9a14c28b804b239321a9802e8107e3",
       "version_major": 2,
       "version_minor": 0
      },
      "text/plain": [
       "Depth 8 sub-progress:   0%|          | 0/9 [00:00<?, ?it/s]"
      ]
     },
     "metadata": {},
     "output_type": "display_data"
    },
    {
     "data": {
      "application/vnd.jupyter.widget-view+json": {
       "model_id": "1dc080bef67b42b586be2c80afba8a12",
       "version_major": 2,
       "version_minor": 0
      },
      "text/plain": [
       "Depth 8 sub-progress:   0%|          | 0/9 [00:00<?, ?it/s]"
      ]
     },
     "metadata": {},
     "output_type": "display_data"
    },
    {
     "data": {
      "application/vnd.jupyter.widget-view+json": {
       "model_id": "6fde564df9414fb59eb0b74c92da6b73",
       "version_major": 2,
       "version_minor": 0
      },
      "text/plain": [
       "Depth 8 sub-progress:   0%|          | 0/9 [00:00<?, ?it/s]"
      ]
     },
     "metadata": {},
     "output_type": "display_data"
    },
    {
     "data": {
      "application/vnd.jupyter.widget-view+json": {
       "model_id": "21f459ed95ce4fda91f2e3ce32fd0f75",
       "version_major": 2,
       "version_minor": 0
      },
      "text/plain": [
       "Depth 8 sub-progress:   0%|          | 0/9 [00:00<?, ?it/s]"
      ]
     },
     "metadata": {},
     "output_type": "display_data"
    },
    {
     "data": {
      "application/vnd.jupyter.widget-view+json": {
       "model_id": "3fe0d9cadcf644fcb3876f1370c831cc",
       "version_major": 2,
       "version_minor": 0
      },
      "text/plain": [
       "Depth 8 sub-progress:   0%|          | 0/9 [00:00<?, ?it/s]"
      ]
     },
     "metadata": {},
     "output_type": "display_data"
    },
    {
     "data": {
      "application/vnd.jupyter.widget-view+json": {
       "model_id": "11a03fd89a9d4c6cbe6bca3171773614",
       "version_major": 2,
       "version_minor": 0
      },
      "text/plain": [
       "Depth 8 sub-progress:   0%|          | 0/9 [00:00<?, ?it/s]"
      ]
     },
     "metadata": {},
     "output_type": "display_data"
    },
    {
     "data": {
      "application/vnd.jupyter.widget-view+json": {
       "model_id": "0fb15d411dc74a32b446998bf50e124f",
       "version_major": 2,
       "version_minor": 0
      },
      "text/plain": [
       "Depth 8 sub-progress:   0%|          | 0/9 [00:00<?, ?it/s]"
      ]
     },
     "metadata": {},
     "output_type": "display_data"
    },
    {
     "data": {
      "application/vnd.jupyter.widget-view+json": {
       "model_id": "df3367897b57431f987c4d02ee9652da",
       "version_major": 2,
       "version_minor": 0
      },
      "text/plain": [
       "Depth 8 sub-progress:   0%|          | 0/9 [00:00<?, ?it/s]"
      ]
     },
     "metadata": {},
     "output_type": "display_data"
    },
    {
     "data": {
      "application/vnd.jupyter.widget-view+json": {
       "model_id": "dcdaee1445414687bf8367788594d48e",
       "version_major": 2,
       "version_minor": 0
      },
      "text/plain": [
       "Depth 8 sub-progress:   0%|          | 0/9 [00:00<?, ?it/s]"
      ]
     },
     "metadata": {},
     "output_type": "display_data"
    },
    {
     "data": {
      "application/vnd.jupyter.widget-view+json": {
       "model_id": "a118dd26c9424ec596be4fe9afe9795e",
       "version_major": 2,
       "version_minor": 0
      },
      "text/plain": [
       "Depth 8 sub-progress:   0%|          | 0/9 [00:00<?, ?it/s]"
      ]
     },
     "metadata": {},
     "output_type": "display_data"
    },
    {
     "data": {
      "application/vnd.jupyter.widget-view+json": {
       "model_id": "abad6f2009ec4c709b4fe002b0f74f16",
       "version_major": 2,
       "version_minor": 0
      },
      "text/plain": [
       "Depth 8 sub-progress:   0%|          | 0/9 [00:00<?, ?it/s]"
      ]
     },
     "metadata": {},
     "output_type": "display_data"
    },
    {
     "data": {
      "application/vnd.jupyter.widget-view+json": {
       "model_id": "031840b0376144b58653308d72ea69e8",
       "version_major": 2,
       "version_minor": 0
      },
      "text/plain": [
       "Depth 8 sub-progress:   0%|          | 0/9 [00:00<?, ?it/s]"
      ]
     },
     "metadata": {},
     "output_type": "display_data"
    },
    {
     "data": {
      "application/vnd.jupyter.widget-view+json": {
       "model_id": "6c67faf30abb49e2a248c19c4872efa3",
       "version_major": 2,
       "version_minor": 0
      },
      "text/plain": [
       "Depth 8 sub-progress:   0%|          | 0/9 [00:00<?, ?it/s]"
      ]
     },
     "metadata": {},
     "output_type": "display_data"
    },
    {
     "data": {
      "application/vnd.jupyter.widget-view+json": {
       "model_id": "99d0f63706034a1792212d0025743c9b",
       "version_major": 2,
       "version_minor": 0
      },
      "text/plain": [
       "Depth 8 sub-progress:   0%|          | 0/9 [00:00<?, ?it/s]"
      ]
     },
     "metadata": {},
     "output_type": "display_data"
    },
    {
     "data": {
      "application/vnd.jupyter.widget-view+json": {
       "model_id": "fa0f1a373d0a4412b179326ff350d460",
       "version_major": 2,
       "version_minor": 0
      },
      "text/plain": [
       "Depth 8 sub-progress:   0%|          | 0/9 [00:00<?, ?it/s]"
      ]
     },
     "metadata": {},
     "output_type": "display_data"
    },
    {
     "data": {
      "application/vnd.jupyter.widget-view+json": {
       "model_id": "02374305f20f48cfafa2b9837ae77241",
       "version_major": 2,
       "version_minor": 0
      },
      "text/plain": [
       "Depth 8 sub-progress:   0%|          | 0/9 [00:00<?, ?it/s]"
      ]
     },
     "metadata": {},
     "output_type": "display_data"
    },
    {
     "data": {
      "application/vnd.jupyter.widget-view+json": {
       "model_id": "da654da3391b4c45b7298b1f0fd9be4e",
       "version_major": 2,
       "version_minor": 0
      },
      "text/plain": [
       "Depth 8 sub-progress:   0%|          | 0/9 [00:00<?, ?it/s]"
      ]
     },
     "metadata": {},
     "output_type": "display_data"
    },
    {
     "data": {
      "application/vnd.jupyter.widget-view+json": {
       "model_id": "6ff6baacfbb544b68d8117a13c64f782",
       "version_major": 2,
       "version_minor": 0
      },
      "text/plain": [
       "Depth 8 sub-progress:   0%|          | 0/9 [00:00<?, ?it/s]"
      ]
     },
     "metadata": {},
     "output_type": "display_data"
    },
    {
     "data": {
      "application/vnd.jupyter.widget-view+json": {
       "model_id": "ac81cfa4a6f24372aa40a2f71b8366a2",
       "version_major": 2,
       "version_minor": 0
      },
      "text/plain": [
       "Depth 8 sub-progress:   0%|          | 0/9 [00:00<?, ?it/s]"
      ]
     },
     "metadata": {},
     "output_type": "display_data"
    },
    {
     "data": {
      "application/vnd.jupyter.widget-view+json": {
       "model_id": "169914c00a684e2f9f90e5066a3245dc",
       "version_major": 2,
       "version_minor": 0
      },
      "text/plain": [
       "Depth 8 sub-progress:   0%|          | 0/9 [00:00<?, ?it/s]"
      ]
     },
     "metadata": {},
     "output_type": "display_data"
    },
    {
     "data": {
      "application/vnd.jupyter.widget-view+json": {
       "model_id": "772d023e16214dc2b161989b2efbaa46",
       "version_major": 2,
       "version_minor": 0
      },
      "text/plain": [
       "Depth 8 sub-progress:   0%|          | 0/9 [00:00<?, ?it/s]"
      ]
     },
     "metadata": {},
     "output_type": "display_data"
    },
    {
     "data": {
      "application/vnd.jupyter.widget-view+json": {
       "model_id": "d435bf96de7b4a73a35f324cfedafde3",
       "version_major": 2,
       "version_minor": 0
      },
      "text/plain": [
       "Depth 8 sub-progress:   0%|          | 0/9 [00:00<?, ?it/s]"
      ]
     },
     "metadata": {},
     "output_type": "display_data"
    },
    {
     "data": {
      "application/vnd.jupyter.widget-view+json": {
       "model_id": "be52ac360c5e45628171e9f28ea4533f",
       "version_major": 2,
       "version_minor": 0
      },
      "text/plain": [
       "Depth 8 sub-progress:   0%|          | 0/9 [00:00<?, ?it/s]"
      ]
     },
     "metadata": {},
     "output_type": "display_data"
    },
    {
     "data": {
      "application/vnd.jupyter.widget-view+json": {
       "model_id": "860b35f548794226a83ced3e4e34c5ac",
       "version_major": 2,
       "version_minor": 0
      },
      "text/plain": [
       "Depth 8 sub-progress:   0%|          | 0/9 [00:00<?, ?it/s]"
      ]
     },
     "metadata": {},
     "output_type": "display_data"
    },
    {
     "data": {
      "application/vnd.jupyter.widget-view+json": {
       "model_id": "01fc4bb967894db490d42c0d345adaad",
       "version_major": 2,
       "version_minor": 0
      },
      "text/plain": [
       "Depth 8 sub-progress:   0%|          | 0/9 [00:00<?, ?it/s]"
      ]
     },
     "metadata": {},
     "output_type": "display_data"
    },
    {
     "data": {
      "application/vnd.jupyter.widget-view+json": {
       "model_id": "8d10f7033dd341179582723c596efd51",
       "version_major": 2,
       "version_minor": 0
      },
      "text/plain": [
       "Depth 8 sub-progress:   0%|          | 0/9 [00:00<?, ?it/s]"
      ]
     },
     "metadata": {},
     "output_type": "display_data"
    },
    {
     "data": {
      "application/vnd.jupyter.widget-view+json": {
       "model_id": "906ca86cafd04e0ebd46d70010e73d49",
       "version_major": 2,
       "version_minor": 0
      },
      "text/plain": [
       "Depth 8 sub-progress:   0%|          | 0/9 [00:00<?, ?it/s]"
      ]
     },
     "metadata": {},
     "output_type": "display_data"
    },
    {
     "data": {
      "application/vnd.jupyter.widget-view+json": {
       "model_id": "e7f6d5e42bb9474f83614ebf32f5052d",
       "version_major": 2,
       "version_minor": 0
      },
      "text/plain": [
       "Depth 8 sub-progress:   0%|          | 0/9 [00:00<?, ?it/s]"
      ]
     },
     "metadata": {},
     "output_type": "display_data"
    },
    {
     "data": {
      "application/vnd.jupyter.widget-view+json": {
       "model_id": "52cd6d23e25f4da29dc2a3538b0a5d9d",
       "version_major": 2,
       "version_minor": 0
      },
      "text/plain": [
       "Depth 8 sub-progress:   0%|          | 0/9 [00:00<?, ?it/s]"
      ]
     },
     "metadata": {},
     "output_type": "display_data"
    },
    {
     "data": {
      "application/vnd.jupyter.widget-view+json": {
       "model_id": "559f6fbaf2f54dfba810ede5dac3f6db",
       "version_major": 2,
       "version_minor": 0
      },
      "text/plain": [
       "Depth 8 sub-progress:   0%|          | 0/9 [00:00<?, ?it/s]"
      ]
     },
     "metadata": {},
     "output_type": "display_data"
    },
    {
     "data": {
      "application/vnd.jupyter.widget-view+json": {
       "model_id": "9eae15426c6046988f9b21256edb1b71",
       "version_major": 2,
       "version_minor": 0
      },
      "text/plain": [
       "Depth 8 sub-progress:   0%|          | 0/9 [00:00<?, ?it/s]"
      ]
     },
     "metadata": {},
     "output_type": "display_data"
    },
    {
     "data": {
      "application/vnd.jupyter.widget-view+json": {
       "model_id": "0e3c909498384f2a85ca9ebd4b01c2e3",
       "version_major": 2,
       "version_minor": 0
      },
      "text/plain": [
       "Depth 8 sub-progress:   0%|          | 0/9 [00:00<?, ?it/s]"
      ]
     },
     "metadata": {},
     "output_type": "display_data"
    },
    {
     "data": {
      "application/vnd.jupyter.widget-view+json": {
       "model_id": "9130997f68cc4c57be3cfaea3e0819d2",
       "version_major": 2,
       "version_minor": 0
      },
      "text/plain": [
       "Depth 8 sub-progress:   0%|          | 0/9 [00:00<?, ?it/s]"
      ]
     },
     "metadata": {},
     "output_type": "display_data"
    },
    {
     "data": {
      "application/vnd.jupyter.widget-view+json": {
       "model_id": "813ade911efb4b0da586e44ea7f1fb46",
       "version_major": 2,
       "version_minor": 0
      },
      "text/plain": [
       "Depth 8 sub-progress:   0%|          | 0/9 [00:00<?, ?it/s]"
      ]
     },
     "metadata": {},
     "output_type": "display_data"
    },
    {
     "data": {
      "application/vnd.jupyter.widget-view+json": {
       "model_id": "c18beee77c9641eaa781131bb549ee24",
       "version_major": 2,
       "version_minor": 0
      },
      "text/plain": [
       "Depth 8 sub-progress:   0%|          | 0/9 [00:00<?, ?it/s]"
      ]
     },
     "metadata": {},
     "output_type": "display_data"
    },
    {
     "data": {
      "application/vnd.jupyter.widget-view+json": {
       "model_id": "7f548cf094184a5abb502cd8b1684c98",
       "version_major": 2,
       "version_minor": 0
      },
      "text/plain": [
       "Depth 8 sub-progress:   0%|          | 0/9 [00:00<?, ?it/s]"
      ]
     },
     "metadata": {},
     "output_type": "display_data"
    },
    {
     "data": {
      "application/vnd.jupyter.widget-view+json": {
       "model_id": "890c1ac372b14c46ac44f094946847b3",
       "version_major": 2,
       "version_minor": 0
      },
      "text/plain": [
       "Depth 8 sub-progress:   0%|          | 0/9 [00:00<?, ?it/s]"
      ]
     },
     "metadata": {},
     "output_type": "display_data"
    },
    {
     "data": {
      "application/vnd.jupyter.widget-view+json": {
       "model_id": "c937acef644e46b9a056d2ef29ca1aaa",
       "version_major": 2,
       "version_minor": 0
      },
      "text/plain": [
       "Depth 8 sub-progress:   0%|          | 0/9 [00:00<?, ?it/s]"
      ]
     },
     "metadata": {},
     "output_type": "display_data"
    },
    {
     "name": "stdout",
     "output_type": "stream",
     "text": [
      "Interrupted at depth 8\n",
      "Attempting to cache progress...\n",
      "Caching progress to dijkstra_r/threshold_slope_boundary_search_0_0.15_0_0.2_2_8.pkl.\n"
     ]
    }
   ],
   "source": [
    "p_range = (0, 0.15)\n",
    "r_range = (0, 0.2)\n",
    "\n",
    "results = boundary_search(\n",
    "    p_range, r_range, threshold_slope,\n",
    "    split=2, max_depth=8,\n",
    "    result_key=lambda a: a <= 0, cache_dir=cache_dir\n",
    ")"
   ]
  },
  {
   "cell_type": "code",
   "execution_count": 4,
   "id": "0067e889",
   "metadata": {},
   "outputs": [
    {
     "data": {
      "image/png": "[encoded data removed]",
      "text/plain": [
       "<Figure size 576x576 with 1 Axes>"
      ]
     },
     "metadata": {
      "needs_background": "light"
     },
     "output_type": "display_data"
    }
   ],
   "source": [
    "p_coords = []\n",
    "r_coords = []\n",
    "threshs = []\n",
    "for (p, r), t in results.items():\n",
    "    p_coords.append(p)\n",
    "    r_coords.append(r)\n",
    "    threshs.append(t <= 0)\n",
    "\n",
    "fig, ax = plt.subplots(1, 1, figsize=(8,8))\n",
    "ax.set_aspect('equal')\n",
    "ax.set_xlabel('$p$ values')\n",
    "ax.set_ylabel('$r$ values')\n",
    "\n",
    "scat = ax.scatter(p_coords, r_coords, c=threshs, s=2, cmap='viridis')"
   ]
  },
  {
   "cell_type": "code",
   "execution_count": null,
   "id": "38ca8694",
   "metadata": {},
   "outputs": [],
   "source": []
  }
 ],
 "metadata": {
  "kernelspec": {
   "display_name": "Python 3 (ipykernel)",
   "language": "python",
   "name": "python3"
  },
  "language_info": {
   "codemirror_mode": {
    "name": "ipython",
    "version": 3
   },
   "file_extension": ".py",
   "mimetype": "text/x-python",
   "name": "python",
   "nbconvert_exporter": "python",
   "pygments_lexer": "ipython3",
   "version": "3.9.7"
  }
 },
 "nbformat": 4,
 "nbformat_minor": 5
}
