{
 "cells": [
  {
   "cell_type": "code",
   "execution_count": 1,
   "id": "3fcade6a",
   "metadata": {},
   "outputs": [],
   "source": [
    "from threshold import *\n",
    "\n",
    "cache_dir = 'temp/dijkstra_r'"
   ]
  },
  {
   "cell_type": "code",
   "execution_count": 2,
   "id": "5e6ac445",
   "metadata": {},
   "outputs": [
    {
     "name": "stdout",
     "output_type": "stream",
     "text": [
      "Cache file temp/dijkstra_r/threshold_slope_boundary_search_0_0.15_0_0.2_2_8.pkl not found, starting from scratch.\n"
     ]
    },
    {
     "data": {
      "application/vnd.jupyter.widget-view+json": {
       "model_id": "f28fb1b692ae4e129f9db82f63004da8",
       "version_major": 2,
       "version_minor": 0
      },
      "text/plain": [
       "Depth 1:   0%|          | 0/1 [00:00<?, ?it/s]"
      ]
     },
     "metadata": {},
     "output_type": "display_data"
    },
    {
     "data": {
      "application/vnd.jupyter.widget-view+json": {
       "model_id": "b116a4a9213d4706a1040cc0abb41170",
       "version_major": 2,
       "version_minor": 0
      },
      "text/plain": [
       "Depth 2:   0%|          | 0/3 [00:00<?, ?it/s]"
      ]
     },
     "metadata": {},
     "output_type": "display_data"
    },
    {
     "data": {
      "application/vnd.jupyter.widget-view+json": {
       "model_id": "46095bbfacb44de8be1aa189cd24fccc",
       "version_major": 2,
       "version_minor": 0
      },
      "text/plain": [
       "Depth 3:   0%|          | 0/7 [00:00<?, ?it/s]"
      ]
     },
     "metadata": {},
     "output_type": "display_data"
    },
    {
     "name": "stdout",
     "output_type": "stream",
     "text": [
      "Caching progress to temp/dijkstra_r/threshold_slope_boundary_search_0_0.15_0_0.2_2_8.pkl.\n"
     ]
    },
    {
     "data": {
      "application/vnd.jupyter.widget-view+json": {
       "model_id": "44c2b070c31047feb29b42e6ed2dd0bb",
       "version_major": 2,
       "version_minor": 0
      },
      "text/plain": [
       "Depth 4:   0%|          | 0/13 [00:00<?, ?it/s]"
      ]
     },
     "metadata": {},
     "output_type": "display_data"
    },
    {
     "name": "stdout",
     "output_type": "stream",
     "text": [
      "Caching progress to temp/dijkstra_r/threshold_slope_boundary_search_0_0.15_0_0.2_2_8.pkl.\n"
     ]
    },
    {
     "data": {
      "application/vnd.jupyter.widget-view+json": {
       "model_id": "e94cb04b7c124fbdbbe770096d71c55d",
       "version_major": 2,
       "version_minor": 0
      },
      "text/plain": [
       "Depth 5:   0%|          | 0/26 [00:00<?, ?it/s]"
      ]
     },
     "metadata": {},
     "output_type": "display_data"
    },
    {
     "name": "stdout",
     "output_type": "stream",
     "text": [
      "Caching progress to temp/dijkstra_r/threshold_slope_boundary_search_0_0.15_0_0.2_2_8.pkl.\n",
      "Caching progress to temp/dijkstra_r/threshold_slope_boundary_search_0_0.15_0_0.2_2_8.pkl.\n"
     ]
    },
    {
     "data": {
      "application/vnd.jupyter.widget-view+json": {
       "model_id": "5fc8093274f943e696d83a41989f940b",
       "version_major": 2,
       "version_minor": 0
      },
      "text/plain": [
       "Depth 6:   0%|          | 0/72 [00:00<?, ?it/s]"
      ]
     },
     "metadata": {},
     "output_type": "display_data"
    },
    {
     "name": "stdout",
     "output_type": "stream",
     "text": [
      "Caching progress to temp/dijkstra_r/threshold_slope_boundary_search_0_0.15_0_0.2_2_8.pkl.\n",
      "Caching progress to temp/dijkstra_r/threshold_slope_boundary_search_0_0.15_0_0.2_2_8.pkl.\n",
      "Caching progress to temp/dijkstra_r/threshold_slope_boundary_search_0_0.15_0_0.2_2_8.pkl.\n",
      "Caching progress to temp/dijkstra_r/threshold_slope_boundary_search_0_0.15_0_0.2_2_8.pkl.\n",
      "Caching progress to temp/dijkstra_r/threshold_slope_boundary_search_0_0.15_0_0.2_2_8.pkl.\n"
     ]
    },
    {
     "data": {
      "application/vnd.jupyter.widget-view+json": {
       "model_id": "c8d11288a6fe4e6ba9d9c37d9a3ace4e",
       "version_major": 2,
       "version_minor": 0
      },
      "text/plain": [
       "Depth 7:   0%|          | 0/210 [00:00<?, ?it/s]"
      ]
     },
     "metadata": {},
     "output_type": "display_data"
    },
    {
     "name": "stdout",
     "output_type": "stream",
     "text": [
      "Caching progress to temp/dijkstra_r/threshold_slope_boundary_search_0_0.15_0_0.2_2_8.pkl.\n",
      "Caching progress to temp/dijkstra_r/threshold_slope_boundary_search_0_0.15_0_0.2_2_8.pkl.\n",
      "Caching progress to temp/dijkstra_r/threshold_slope_boundary_search_0_0.15_0_0.2_2_8.pkl.\n",
      "Caching progress to temp/dijkstra_r/threshold_slope_boundary_search_0_0.15_0_0.2_2_8.pkl.\n",
      "Caching progress to temp/dijkstra_r/threshold_slope_boundary_search_0_0.15_0_0.2_2_8.pkl.\n",
      "Caching progress to temp/dijkstra_r/threshold_slope_boundary_search_0_0.15_0_0.2_2_8.pkl.\n",
      "Caching progress to temp/dijkstra_r/threshold_slope_boundary_search_0_0.15_0_0.2_2_8.pkl.\n",
      "Caching progress to temp/dijkstra_r/threshold_slope_boundary_search_0_0.15_0_0.2_2_8.pkl.\n",
      "Caching progress to temp/dijkstra_r/threshold_slope_boundary_search_0_0.15_0_0.2_2_8.pkl.\n",
      "Caching progress to temp/dijkstra_r/threshold_slope_boundary_search_0_0.15_0_0.2_2_8.pkl.\n",
      "Caching progress to temp/dijkstra_r/threshold_slope_boundary_search_0_0.15_0_0.2_2_8.pkl.\n",
      "Caching progress to temp/dijkstra_r/threshold_slope_boundary_search_0_0.15_0_0.2_2_8.pkl.\n",
      "Caching progress to temp/dijkstra_r/threshold_slope_boundary_search_0_0.15_0_0.2_2_8.pkl.\n",
      "Caching progress to temp/dijkstra_r/threshold_slope_boundary_search_0_0.15_0_0.2_2_8.pkl.\n",
      "Caching progress to temp/dijkstra_r/threshold_slope_boundary_search_0_0.15_0_0.2_2_8.pkl.\n"
     ]
    },
    {
     "data": {
      "application/vnd.jupyter.widget-view+json": {
       "model_id": "93086e61ae3d4451b5ba9bae25716a6c",
       "version_major": 2,
       "version_minor": 0
      },
      "text/plain": [
       "Depth 8:   0%|          | 0/621 [00:00<?, ?it/s]"
      ]
     },
     "metadata": {},
     "output_type": "display_data"
    },
    {
     "name": "stdout",
     "output_type": "stream",
     "text": [
      "Caching progress to temp/dijkstra_r/threshold_slope_boundary_search_0_0.15_0_0.2_2_8.pkl.\n",
      "Caching progress to temp/dijkstra_r/threshold_slope_boundary_search_0_0.15_0_0.2_2_8.pkl.\n",
      "Caching progress to temp/dijkstra_r/threshold_slope_boundary_search_0_0.15_0_0.2_2_8.pkl.\n"
     ]
    },
    {
     "name": "stderr",
     "output_type": "stream",
     "text": [
      "Process ForkPoolWorker-12:\n",
      "Process ForkPoolWorker-3:\n",
      "Process ForkPoolWorker-9:\n",
      "Process ForkPoolWorker-6:\n",
      "Process ForkPoolWorker-10:\n",
      "Process ForkPoolWorker-8:\n",
      "Process ForkPoolWorker-11:\n",
      "Process ForkPoolWorker-4:\n",
      "Process ForkPoolWorker-2:\n",
      "Process ForkPoolWorker-1:\n",
      "Process ForkPoolWorker-7:\n",
      "Traceback (most recent call last):\n",
      "Traceback (most recent call last):\n",
      "Process ForkPoolWorker-5:\n",
      "Traceback (most recent call last):\n",
      "  File \"/home/azimuth/anaconda3/lib/python3.9/multiprocessing/process.py\", line 315, in _bootstrap\n",
      "    self.run()\n",
      "Traceback (most recent call last):\n",
      "Traceback (most recent call last):\n",
      "  File \"/home/azimuth/anaconda3/lib/python3.9/multiprocessing/process.py\", line 315, in _bootstrap\n",
      "    self.run()\n",
      "Traceback (most recent call last):\n",
      "  File \"/home/azimuth/anaconda3/lib/python3.9/multiprocessing/process.py\", line 315, in _bootstrap\n",
      "    self.run()\n",
      "Traceback (most recent call last):\n",
      "  File \"/home/azimuth/anaconda3/lib/python3.9/multiprocessing/process.py\", line 108, in run\n",
      "    self._target(*self._args, **self._kwargs)\n",
      "  File \"/home/azimuth/anaconda3/lib/python3.9/multiprocessing/process.py\", line 315, in _bootstrap\n",
      "    self.run()\n",
      "  File \"/home/azimuth/anaconda3/lib/python3.9/multiprocessing/process.py\", line 108, in run\n",
      "    self._target(*self._args, **self._kwargs)\n",
      "  File \"/home/azimuth/anaconda3/lib/python3.9/multiprocessing/process.py\", line 315, in _bootstrap\n",
      "    self.run()\n",
      "  File \"/home/azimuth/anaconda3/lib/python3.9/multiprocessing/process.py\", line 315, in _bootstrap\n",
      "    self.run()\n",
      "  File \"/home/azimuth/anaconda3/lib/python3.9/multiprocessing/pool.py\", line 114, in worker\n",
      "    task = get()\n",
      "  File \"/home/azimuth/anaconda3/lib/python3.9/multiprocessing/process.py\", line 108, in run\n",
      "    self._target(*self._args, **self._kwargs)\n",
      "  File \"/home/azimuth/anaconda3/lib/python3.9/multiprocessing/process.py\", line 315, in _bootstrap\n",
      "    self.run()\n",
      "  File \"/home/azimuth/anaconda3/lib/python3.9/multiprocessing/process.py\", line 108, in run\n",
      "    self._target(*self._args, **self._kwargs)\n",
      "  File \"/home/azimuth/anaconda3/lib/python3.9/multiprocessing/process.py\", line 108, in run\n",
      "    self._target(*self._args, **self._kwargs)\n",
      "  File \"/home/azimuth/anaconda3/lib/python3.9/multiprocessing/pool.py\", line 114, in worker\n",
      "    task = get()\n",
      "  File \"/home/azimuth/anaconda3/lib/python3.9/multiprocessing/queues.py\", line 365, in get\n",
      "    with self._rlock:\n",
      "  File \"/home/azimuth/anaconda3/lib/python3.9/multiprocessing/pool.py\", line 114, in worker\n",
      "    task = get()\n",
      "  File \"/home/azimuth/anaconda3/lib/python3.9/multiprocessing/process.py\", line 108, in run\n",
      "    self._target(*self._args, **self._kwargs)\n",
      "  File \"/home/azimuth/anaconda3/lib/python3.9/multiprocessing/pool.py\", line 114, in worker\n",
      "    task = get()\n",
      "  File \"/home/azimuth/anaconda3/lib/python3.9/multiprocessing/pool.py\", line 114, in worker\n",
      "    task = get()\n",
      "  File \"/home/azimuth/anaconda3/lib/python3.9/multiprocessing/queues.py\", line 365, in get\n",
      "    with self._rlock:\n",
      "  File \"/home/azimuth/anaconda3/lib/python3.9/multiprocessing/synchronize.py\", line 95, in __enter__\n",
      "    return self._semlock.__enter__()\n",
      "  File \"/home/azimuth/anaconda3/lib/python3.9/multiprocessing/queues.py\", line 365, in get\n",
      "    with self._rlock:\n",
      "  File \"/home/azimuth/anaconda3/lib/python3.9/multiprocessing/pool.py\", line 114, in worker\n",
      "    task = get()\n",
      "  File \"/home/azimuth/anaconda3/lib/python3.9/multiprocessing/queues.py\", line 365, in get\n",
      "    with self._rlock:\n",
      "  File \"/home/azimuth/anaconda3/lib/python3.9/multiprocessing/queues.py\", line 366, in get\n",
      "    res = self._reader.recv_bytes()\n",
      "  File \"/home/azimuth/anaconda3/lib/python3.9/multiprocessing/synchronize.py\", line 95, in __enter__\n",
      "    return self._semlock.__enter__()\n",
      "KeyboardInterrupt\n",
      "KeyboardInterrupt\n",
      "  File \"/home/azimuth/anaconda3/lib/python3.9/multiprocessing/synchronize.py\", line 95, in __enter__\n",
      "    return self._semlock.__enter__()\n",
      "  File \"/home/azimuth/anaconda3/lib/python3.9/multiprocessing/synchronize.py\", line 95, in __enter__\n",
      "    return self._semlock.__enter__()\n",
      "  File \"/home/azimuth/anaconda3/lib/python3.9/multiprocessing/connection.py\", line 221, in recv_bytes\n",
      "    buf = self._recv_bytes(maxlength)\n",
      "KeyboardInterrupt\n",
      "KeyboardInterrupt\n",
      "  File \"/home/azimuth/anaconda3/lib/python3.9/multiprocessing/queues.py\", line 365, in get\n",
      "    with self._rlock:\n",
      "  File \"/home/azimuth/anaconda3/lib/python3.9/multiprocessing/connection.py\", line 419, in _recv_bytes\n",
      "    buf = self._recv(4)\n",
      "  File \"/home/azimuth/anaconda3/lib/python3.9/multiprocessing/synchronize.py\", line 95, in __enter__\n",
      "    return self._semlock.__enter__()\n",
      "  File \"/home/azimuth/anaconda3/lib/python3.9/multiprocessing/connection.py\", line 384, in _recv\n",
      "    chunk = read(handle, remaining)\n",
      "KeyboardInterrupt\n",
      "KeyboardInterrupt\n"
     ]
    },
    {
     "name": "stdout",
     "output_type": "stream",
     "text": [
      "Interrupted at depth 8\n",
      "Caching progress to temp/dijkstra_r/threshold_slope_boundary_search_0_0.15_0_0.2_2_8.pkl.\n"
     ]
    },
    {
     "name": "stderr",
     "output_type": "stream",
     "text": [
      "Traceback (most recent call last):\n",
      "  File \"/home/azimuth/anaconda3/lib/python3.9/multiprocessing/process.py\", line 108, in run\n",
      "    self._target(*self._args, **self._kwargs)\n",
      "  File \"/home/azimuth/anaconda3/lib/python3.9/multiprocessing/process.py\", line 315, in _bootstrap\n",
      "    self.run()\n",
      "  File \"/home/azimuth/anaconda3/lib/python3.9/multiprocessing/pool.py\", line 114, in worker\n",
      "    task = get()\n",
      "  File \"/home/azimuth/anaconda3/lib/python3.9/multiprocessing/process.py\", line 108, in run\n",
      "    self._target(*self._args, **self._kwargs)\n",
      "  File \"/home/azimuth/anaconda3/lib/python3.9/multiprocessing/queues.py\", line 365, in get\n",
      "    with self._rlock:\n",
      "  File \"/home/azimuth/anaconda3/lib/python3.9/multiprocessing/pool.py\", line 114, in worker\n",
      "    task = get()\n",
      "  File \"/home/azimuth/anaconda3/lib/python3.9/multiprocessing/synchronize.py\", line 95, in __enter__\n",
      "    return self._semlock.__enter__()\n",
      "  File \"/home/azimuth/anaconda3/lib/python3.9/multiprocessing/queues.py\", line 365, in get\n",
      "    with self._rlock:\n",
      "KeyboardInterrupt\n",
      "  File \"/home/azimuth/anaconda3/lib/python3.9/multiprocessing/synchronize.py\", line 95, in __enter__\n",
      "    return self._semlock.__enter__()\n",
      "Traceback (most recent call last):\n",
      "Traceback (most recent call last):\n",
      "KeyboardInterrupt\n",
      "Traceback (most recent call last):\n",
      "  File \"/home/azimuth/anaconda3/lib/python3.9/multiprocessing/process.py\", line 315, in _bootstrap\n",
      "    self.run()\n",
      "  File \"/home/azimuth/anaconda3/lib/python3.9/multiprocessing/process.py\", line 315, in _bootstrap\n",
      "    self.run()\n",
      "  File \"/home/azimuth/anaconda3/lib/python3.9/multiprocessing/process.py\", line 315, in _bootstrap\n",
      "    self.run()\n",
      "  File \"/home/azimuth/anaconda3/lib/python3.9/multiprocessing/process.py\", line 108, in run\n",
      "    self._target(*self._args, **self._kwargs)\n",
      "  File \"/home/azimuth/anaconda3/lib/python3.9/multiprocessing/process.py\", line 108, in run\n",
      "    self._target(*self._args, **self._kwargs)\n",
      "  File \"/home/azimuth/anaconda3/lib/python3.9/multiprocessing/process.py\", line 108, in run\n",
      "    self._target(*self._args, **self._kwargs)\n",
      "Traceback (most recent call last):\n",
      "  File \"/home/azimuth/anaconda3/lib/python3.9/multiprocessing/pool.py\", line 125, in worker\n",
      "    result = (True, func(*args, **kwds))\n",
      "  File \"/home/azimuth/anaconda3/lib/python3.9/multiprocessing/pool.py\", line 125, in worker\n",
      "    result = (True, func(*args, **kwds))\n",
      "  File \"/home/azimuth/anaconda3/lib/python3.9/multiprocessing/pool.py\", line 125, in worker\n",
      "    result = (True, func(*args, **kwds))\n",
      "  File \"/home/azimuth/anaconda3/lib/python3.9/multiprocessing/process.py\", line 315, in _bootstrap\n",
      "    self.run()\n",
      "  File \"/home/azimuth/anaconda3/lib/python3.9/multiprocessing/pool.py\", line 51, in starmapstar\n",
      "    return list(itertools.starmap(args[0], args[1]))\n",
      "  File \"/home/azimuth/anaconda3/lib/python3.9/multiprocessing/pool.py\", line 51, in starmapstar\n",
      "    return list(itertools.starmap(args[0], args[1]))\n",
      "  File \"/mnt/e/Google Drive Sync/School Stuffs/Honours Thesis/PlanarCode/threshold.py\", line 278, in _compute_point\n",
      "    thresh = threshold(self.P[i], self.R[j], **kwargs) if key not in results else None\n",
      "  File \"/home/azimuth/anaconda3/lib/python3.9/multiprocessing/process.py\", line 108, in run\n",
      "    self._target(*self._args, **self._kwargs)\n",
      "  File \"/mnt/e/Google Drive Sync/School Stuffs/Honours Thesis/PlanarCode/threshold.py\", line 278, in _compute_point\n",
      "    thresh = threshold(self.P[i], self.R[j], **kwargs) if key not in results else None\n",
      "  File \"/home/azimuth/anaconda3/lib/python3.9/multiprocessing/pool.py\", line 51, in starmapstar\n",
      "    return list(itertools.starmap(args[0], args[1]))\n",
      "  File \"/mnt/e/Google Drive Sync/School Stuffs/Honours Thesis/PlanarCode/threshold.py\", line 52, in threshold_slope\n",
      "    y = [np.mean(sample_logical_errors(L, p, r, **kwargs)) for L in lengths]\n",
      "  File \"/home/azimuth/anaconda3/lib/python3.9/multiprocessing/pool.py\", line 125, in worker\n",
      "    result = (True, func(*args, **kwds))\n",
      "  File \"/mnt/e/Google Drive Sync/School Stuffs/Honours Thesis/PlanarCode/threshold.py\", line 52, in threshold_slope\n",
      "    y = [np.mean(sample_logical_errors(L, p, r, **kwargs)) for L in lengths]\n",
      "  File \"/mnt/e/Google Drive Sync/School Stuffs/Honours Thesis/PlanarCode/threshold.py\", line 278, in _compute_point\n",
      "    thresh = threshold(self.P[i], self.R[j], **kwargs) if key not in results else None\n",
      "  File \"/mnt/e/Google Drive Sync/School Stuffs/Honours Thesis/PlanarCode/threshold.py\", line 52, in <listcomp>\n",
      "    y = [np.mean(sample_logical_errors(L, p, r, **kwargs)) for L in lengths]\n",
      "  File \"/mnt/e/Google Drive Sync/School Stuffs/Honours Thesis/PlanarCode/threshold.py\", line 52, in <listcomp>\n",
      "    y = [np.mean(sample_logical_errors(L, p, r, **kwargs)) for L in lengths]\n",
      "  File \"/home/azimuth/anaconda3/lib/python3.9/multiprocessing/pool.py\", line 51, in starmapstar\n",
      "    return list(itertools.starmap(args[0], args[1]))\n",
      "  File \"/mnt/e/Google Drive Sync/School Stuffs/Honours Thesis/PlanarCode/threshold.py\", line 52, in threshold_slope\n",
      "    y = [np.mean(sample_logical_errors(L, p, r, **kwargs)) for L in lengths]\n",
      "  File \"/mnt/e/Google Drive Sync/School Stuffs/Honours Thesis/PlanarCode/threshold.py\", line 46, in sample_logical_errors\n",
      "    logical_errors = [single_shot_correction(code, **kwargs) for _ in range(samples)]\n",
      "  File \"/mnt/e/Google Drive Sync/School Stuffs/Honours Thesis/PlanarCode/threshold.py\", line 46, in sample_logical_errors\n",
      "    logical_errors = [single_shot_correction(code, **kwargs) for _ in range(samples)]\n",
      "  File \"/mnt/e/Google Drive Sync/School Stuffs/Honours Thesis/PlanarCode/threshold.py\", line 278, in _compute_point\n",
      "    thresh = threshold(self.P[i], self.R[j], **kwargs) if key not in results else None\n",
      "  File \"/mnt/e/Google Drive Sync/School Stuffs/Honours Thesis/PlanarCode/threshold.py\", line 52, in <listcomp>\n",
      "    y = [np.mean(sample_logical_errors(L, p, r, **kwargs)) for L in lengths]\n",
      "  File \"/mnt/e/Google Drive Sync/School Stuffs/Honours Thesis/PlanarCode/threshold.py\", line 46, in <listcomp>\n",
      "    logical_errors = [single_shot_correction(code, **kwargs) for _ in range(samples)]\n",
      "  File \"/mnt/e/Google Drive Sync/School Stuffs/Honours Thesis/PlanarCode/threshold.py\", line 46, in <listcomp>\n",
      "    logical_errors = [single_shot_correction(code, **kwargs) for _ in range(samples)]\n",
      "  File \"/mnt/e/Google Drive Sync/School Stuffs/Honours Thesis/PlanarCode/threshold.py\", line 52, in threshold_slope\n",
      "    y = [np.mean(sample_logical_errors(L, p, r, **kwargs)) for L in lengths]\n",
      "  File \"/mnt/e/Google Drive Sync/School Stuffs/Honours Thesis/PlanarCode/threshold.py\", line 46, in sample_logical_errors\n",
      "    logical_errors = [single_shot_correction(code, **kwargs) for _ in range(samples)]\n",
      "  File \"/mnt/e/Google Drive Sync/School Stuffs/Honours Thesis/PlanarCode/threshold.py\", line 28, in single_shot_correction\n",
      "    matching, paths = min_weight_syndrome_matching(lattice, syndrome, **kwargs)\n",
      "  File \"/mnt/e/Google Drive Sync/School Stuffs/Honours Thesis/PlanarCode/threshold.py\", line 28, in single_shot_correction\n",
      "    matching, paths = min_weight_syndrome_matching(lattice, syndrome, **kwargs)\n",
      "  File \"/mnt/e/Google Drive Sync/School Stuffs/Honours Thesis/PlanarCode/threshold.py\", line 52, in <listcomp>\n",
      "    y = [np.mean(sample_logical_errors(L, p, r, **kwargs)) for L in lengths]\n",
      "  File \"/mnt/e/Google Drive Sync/School Stuffs/Honours Thesis/PlanarCode/threshold.py\", line 46, in <listcomp>\n",
      "    logical_errors = [single_shot_correction(code, **kwargs) for _ in range(samples)]\n",
      "  File \"/mnt/e/Google Drive Sync/School Stuffs/Honours Thesis/PlanarCode/graph_operations.py\", line 41, in min_weight_syndrome_matching\n",
      "    matching_graph, paths = syndrome_to_matching_graph(\n",
      "  File \"/mnt/e/Google Drive Sync/School Stuffs/Honours Thesis/PlanarCode/graph_operations.py\", line 46, in min_weight_syndrome_matching\n",
      "    matched_labels = max_weight_matching(matching_graph, maxcardinality=True)\n",
      "  File \"/mnt/e/Google Drive Sync/School Stuffs/Honours Thesis/PlanarCode/threshold.py\", line 46, in sample_logical_errors\n",
      "    logical_errors = [single_shot_correction(code, **kwargs) for _ in range(samples)]\n",
      "  File \"/mnt/e/Google Drive Sync/School Stuffs/Honours Thesis/PlanarCode/threshold.py\", line 28, in single_shot_correction\n",
      "    matching, paths = min_weight_syndrome_matching(lattice, syndrome, **kwargs)\n"
     ]
    },
    {
     "name": "stderr",
     "output_type": "stream",
     "text": [
      "  File \"/mnt/e/Google Drive Sync/School Stuffs/Honours Thesis/PlanarCode/graph_operations.py\", line 100, in syndrome_to_matching_graph\n",
      "    graph, paths = graph_func(lattice, syndrome_coords, **kwargs)\n",
      "  File \"/mnt/e/Google Drive Sync/School Stuffs/Honours Thesis/PlanarCode/threshold.py\", line 46, in <listcomp>\n",
      "    logical_errors = [single_shot_correction(code, **kwargs) for _ in range(samples)]\n",
      "  File \"<class 'networkx.utils.decorators.argmap'> compilation 5\", line 5, in argmap_max_weight_matching_1\n",
      "    import warnings\n",
      "  File \"/mnt/e/Google Drive Sync/School Stuffs/Honours Thesis/PlanarCode/graph_operations.py\", line 46, in min_weight_syndrome_matching\n",
      "    matched_labels = max_weight_matching(matching_graph, maxcardinality=True)\n",
      "  File \"/mnt/e/Google Drive Sync/School Stuffs/Honours Thesis/PlanarCode/graph_operations.py\", line 180, in dijkstra_graph\n",
      "    distances, these_paths = single_source_dijkstra(lattice_graph, source)\n",
      "  File \"/mnt/e/Google Drive Sync/School Stuffs/Honours Thesis/PlanarCode/threshold.py\", line 25, in single_shot_correction\n",
      "    code.measure_syndrome(lattice=1)\n",
      "  File \"/home/azimuth/anaconda3/lib/python3.9/site-packages/networkx/algorithms/matching.py\", line 881, in max_weight_matching\n",
      "    if bestedge.get(bv) is None or kslack < slack(*bestedge[bv]):\n",
      "  File \"<class 'networkx.utils.decorators.argmap'> compilation 5\", line 5, in argmap_max_weight_matching_1\n",
      "    import warnings\n",
      "  File \"/home/azimuth/anaconda3/lib/python3.9/site-packages/networkx/algorithms/shortest_paths/weighted.py\", line 469, in single_source_dijkstra\n",
      "    return multi_source_dijkstra(\n",
      "  File \"/mnt/e/Google Drive Sync/School Stuffs/Honours Thesis/PlanarCode/photonic_planar_code.py\", line 273, in measure_syndrome\n",
      "    self.apply_failed_measurement_error(x, y, reverse=bool(lattice))\n",
      "KeyboardInterrupt\n",
      "  File \"/home/azimuth/anaconda3/lib/python3.9/site-packages/networkx/algorithms/matching.py\", line 846, in max_weight_matching\n",
      "    kslack = slack(v, w)\n",
      "  File \"/home/azimuth/anaconda3/lib/python3.9/site-packages/networkx/algorithms/shortest_paths/weighted.py\", line 730, in multi_source_dijkstra\n",
      "    dist = _dijkstra_multisource(\n",
      "  File \"/mnt/e/Google Drive Sync/School Stuffs/Honours Thesis/PlanarCode/photonic_planar_code.py\", line 226, in apply_failed_measurement_error\n",
      "    z = [self.primal_to_dual(coords, reverse) for coords in z]\n",
      "  File \"/home/azimuth/anaconda3/lib/python3.9/site-packages/networkx/algorithms/matching.py\", line 409, in slack\n",
      "    return dualvar[v] + dualvar[w] - 2 * G[v][w].get(weight, 1)\n",
      "  File \"/home/azimuth/anaconda3/lib/python3.9/site-packages/networkx/algorithms/shortest_paths/weighted.py\", line 847, in _dijkstra_multisource\n",
      "    paths[u] = paths[v] + [u]\n",
      "  File \"/mnt/e/Google Drive Sync/School Stuffs/Honours Thesis/PlanarCode/photonic_planar_code.py\", line 226, in <listcomp>\n",
      "    z = [self.primal_to_dual(coords, reverse) for coords in z]\n",
      "  File \"/home/azimuth/anaconda3/lib/python3.9/site-packages/networkx/classes/graph.py\", line 476, in __getitem__\n",
      "    return self.adj[n]\n",
      "KeyboardInterrupt\n",
      "  File \"/mnt/e/Google Drive Sync/School Stuffs/Honours Thesis/PlanarCode/planar_code.py\", line 326, in primal_to_dual\n",
      "    y += 1\n",
      "  File \"/home/azimuth/anaconda3/lib/python3.9/site-packages/networkx/classes/coreviews.py\", line 82, in __getitem__\n",
      "    return AtlasView(self._atlas[name])\n",
      "KeyboardInterrupt\n",
      "  File \"/home/azimuth/anaconda3/lib/python3.9/site-packages/networkx/classes/coreviews.py\", line 44, in __init__\n",
      "    def __init__(self, d):\n",
      "KeyboardInterrupt\n"
     ]
    }
   ],
   "source": [
    "p_range = (0, 0.15)\n",
    "r_range = (0, 0.2)\n",
    "\n",
    "engine = BoundarySearchEngine(p_range, r_range, split=2, max_depth=8, cache_dir=cache_dir, workers=12)\n",
    "results = engine.boundary_search(\n",
    "    threshold_slope, result_key=lambda a: a <= 0, save_every=50, samples=2000, pathfinding='dijkstra')"
   ]
  },
  {
   "cell_type": "code",
   "execution_count": 3,
   "id": "0067e889",
   "metadata": {},
   "outputs": [
    {
     "data": {
      "image/png": "[encoded data removed]",
      "text/plain": [
       "<Figure size 576x576 with 1 Axes>"
      ]
     },
     "metadata": {
      "needs_background": "light"
     },
     "output_type": "display_data"
    }
   ],
   "source": [
    "p_coords = []\n",
    "r_coords = []\n",
    "threshs = []\n",
    "for (p, r), t in results.items():\n",
    "    p_coords.append(p)\n",
    "    r_coords.append(r)\n",
    "    threshs.append(t <= 0)\n",
    "\n",
    "fig, ax = plt.subplots(1, 1, figsize=(8,8))\n",
    "ax.set_aspect('equal')\n",
    "ax.set_xlabel('$p$ values')\n",
    "ax.set_ylabel('$r$ values')\n",
    "\n",
    "scat = ax.scatter(p_coords, r_coords, c=threshs, s=2, cmap='viridis')"
   ]
  },
  {
   "cell_type": "code",
   "execution_count": null,
   "id": "38ca8694",
   "metadata": {},
   "outputs": [],
   "source": []
  }
 ],
 "metadata": {
  "kernelspec": {
   "display_name": "Python 3 (ipykernel)",
   "language": "python",
   "name": "python3"
  },
  "language_info": {
   "codemirror_mode": {
    "name": "ipython",
    "version": 3
   },
   "file_extension": ".py",
   "mimetype": "text/x-python",
   "name": "python",
   "nbconvert_exporter": "python",
   "pygments_lexer": "ipython3",
   "version": "3.9.7"
  }
 },
 "nbformat": 4,
 "nbformat_minor": 5
}
