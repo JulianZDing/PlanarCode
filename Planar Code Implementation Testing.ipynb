{
 "cells": [
  {
   "cell_type": "code",
   "execution_count": 1,
   "id": "d530f2f4",
   "metadata": {},
   "outputs": [],
   "source": [
    "import networkx as nx\n",
    "import numpy as np\n",
    "import matplotlib.pyplot as plt\n",
    "from tqdm.auto import tqdm\n",
    "\n",
    "from planar_code import PlanarCode, PlanarLattice\n",
    "from graph_operations import *\n",
    "from visualization import *"
   ]
  },
  {
   "cell_type": "code",
   "execution_count": null,
   "id": "78867085",
   "metadata": {},
   "outputs": [],
   "source": [
    "L, W = (5, 5)\n",
    "p=0.05\n",
    "p_dual=0.05\n",
    "planar_code = PlanarCode(L=L, W=W, pz=p, px=p_dual)\n",
    "planar_code.primal.apply_edge_operator((1,3,1))\n",
    "planar_code.primal.apply_edge_operator((3,2,0))\n",
    "plot_planar_code(planar_code, plot_dual=False, show_errors=False, show_syndrome=True, save_as='temp/planar_code_simple_syndrome.png')"
   ]
  },
  {
   "cell_type": "code",
   "execution_count": null,
   "id": "edbcca81",
   "metadata": {},
   "outputs": [],
   "source": [
    "lattice = planar_code.primal\n",
    "syndrome = lattice.measure_syndrome()\n",
    "graph, _ = syndrome_to_matching_graph(lattice, syndrome)\n",
    "\n",
    "fig, ax = plt.subplots(1,1,figsize=(6,6))\n",
    "nx.drawing.nx_pylab.draw_networkx(\n",
    "    graph, ax=ax,\n",
    "    node_size=1200,\n",
    "    node_color=3*['orange'] + 3*['blue'],\n",
    "    edge_color='black',\n",
    "    font_color='white',\n",
    "    font_weight='bold'\n",
    ")\n",
    "\n",
    "plot_matchings(lattice, syndrome)"
   ]
  },
  {
   "cell_type": "code",
   "execution_count": null,
   "id": "5841cbee",
   "metadata": {},
   "outputs": [],
   "source": [
    "L, W = (5, 5)\n",
    "p=0.05\n",
    "p_dual=0.05\n",
    "planar_code = PlanarCode(L=L, W=W, pz=p, px=p_dual, boundaries=np.array((1,0), dtype=int))\n",
    "planar_code.primal.apply_edge_operator(([1,2], 2, 0))\n",
    "planar_code.primal.apply_edge_operator((3, 1, 1))\n",
    "planar_code.dual.apply_edge_operator((2, 1, 1))\n",
    "planar_code.dual.apply_edge_operator((2, 2, 0))\n",
    "planar_code.dual.apply_edge_operator((1, 1, 0))\n",
    "plot_planar_code(planar_code, plot_dual=True, show_errors=True, show_syndrome=True, save_as='temp/planar_code_error_chains.png')"
   ]
  },
  {
   "cell_type": "code",
   "execution_count": null,
   "id": "f4a9ff9f",
   "metadata": {
    "scrolled": true
   },
   "outputs": [],
   "source": [
    "L, W = (8, 8)\n",
    "#p = np.full((L,W,2), 0.1)\n",
    "#p_dual = np.full((L-1,W+1,2), 0.05)\n",
    "p=0.05\n",
    "p_dual=0.05\n",
    "planar_code = PlanarCode(L=L, W=W, pz=p, px=p_dual, boundaries=np.array((1,0), dtype=int))\n",
    "planar_code.advance(1)\n",
    "#planar_code.primal.apply_edge_operator((2, slice(None), 1))\n",
    "#planar_code.dual.apply_edge_operator((slice(None), 2, 0))\n",
    "plot_planar_code(planar_code, plot_dual=True, show_errors=True, show_syndrome=True, save_as='temp/planar_code_demo1.png')\n",
    "plot_planar_code(planar_code, plot_dual=True, show_errors=False, show_syndrome=True, save_as='temp/planar_code_demo2.png')"
   ]
  },
  {
   "cell_type": "code",
   "execution_count": null,
   "id": "dc97f744",
   "metadata": {},
   "outputs": [],
   "source": [
    "planar_code.primal.reset()\n",
    "planar_code.primal.apply_edge_operator((1,2,1))\n",
    "planar_code.primal.apply_edge_operator((1,2,0))\n",
    "plot_planar_code(planar_code, plot_dual=False, show_errors=True, show_syndrome=True)\n",
    "\n",
    "planar_code.primal.apply_edge_operator((2,2,1))\n",
    "planar_code.primal.apply_edge_operator((1,3,0))\n",
    "plot_planar_code(planar_code, plot_dual=False, show_errors=True, show_syndrome=True)\n",
    "\n",
    "planar_code.primal.reset()\n",
    "planar_code.primal.apply_edge_operator((1,2,1))\n",
    "planar_code.primal.apply_edge_operator((1,2,0))\n",
    "planar_code.primal.apply_edge_operator((1,3,1))\n",
    "planar_code.primal.apply_edge_operator((2,1,1))\n",
    "planar_code.primal.apply_edge_operator((2,0,1))\n",
    "plot_planar_code(planar_code, plot_dual=False, show_errors=True, show_syndrome=True)"
   ]
  },
  {
   "cell_type": "code",
   "execution_count": null,
   "id": "d216a20f",
   "metadata": {},
   "outputs": [],
   "source": [
    "# Test error correction for every possible length-1 error\n",
    "planar_code = PlanarCode(L=7, W=7, pz=0.05)\n",
    "lattice = planar_code.primal\n",
    "lattice.apply_edge_operator((1,[0,1],1))\n",
    "lattice.apply_edge_operator((3,5,1))\n",
    "syndrome = lattice.measure_syndrome()\n",
    "graph = syndrome_to_matching_graph(lattice, syndrome, pathfinding='manhattan')[0]\n",
    "fig, ax = plt.subplots(1, 1, figsize=(6,6))\n",
    "ax.grid(False)\n",
    "for v0, v1, weight in graph.edges.data('weight'):\n",
    "    v0x, v0y = v0\n",
    "    v1x, v1y = v1\n",
    "    ax.plot((v0x, v1x), (v0y, v1y), 'k-')\n",
    "    ax.text((v0x+v1x)/2, (v0y+v1y)/2, str(weight), fontsize=14)\n",
    "plot_matchings(lattice, syndrome, pathfinding='manhattan')"
   ]
  },
  {
   "cell_type": "code",
   "execution_count": null,
   "id": "deba604b",
   "metadata": {},
   "outputs": [
    {
     "data": {
      "application/vnd.jupyter.widget-view+json": {
       "model_id": "22222731a6104a4385e71e5b22a0c3ff",
       "version_major": 2,
       "version_minor": 0
      },
      "text/plain": [
       "  0%|          | 0/152096 [00:00<?, ?it/s]"
      ]
     },
     "metadata": {},
     "output_type": "display_data"
    }
   ],
   "source": [
    "import itertools\n",
    "\n",
    "planar_code = PlanarCode(L=7, W=7, pz=0.05)\n",
    "lattice = planar_code.primal\n",
    "L, W, D = lattice.edges.shape\n",
    "edges = itertools.product(range(L), range(W), range(D))\n",
    "max_len_3_errors = itertools.combinations(edges, r=3)\n",
    "\n",
    "bad_error_chains = []\n",
    "for errors in tqdm(max_len_3_errors, total=152096):\n",
    "    lattice.reset()\n",
    "    prev = errors[0]\n",
    "    for edge in errors:\n",
    "        lattice.apply_edge_operator(edge)\n",
    "        prev = edge\n",
    "    syndrome = lattice.measure_syndrome()\n",
    "    matching, paths = min_weight_syndrome_matching(lattice, syndrome, pathfinding='manhattan')\n",
    "    for path in paths:\n",
    "        lattice.apply_edge_operators(path)\n",
    "    try:\n",
    "        logical_errors = lattice.detect_logical_errors()\n",
    "        if logical_errors > 0:\n",
    "            bad_error_chains.append(errors)\n",
    "    except:\n",
    "        print(paths)\n",
    "        plot_planar_code(planar_code, plot_dual=False, show_errors=True, show_syndrome=True)"
   ]
  },
  {
   "cell_type": "code",
   "execution_count": null,
   "id": "51c091ee",
   "metadata": {},
   "outputs": [],
   "source": [
    "print(len(bad_error_chains))\n",
    "for errors in bad_error_chains:\n",
    "    lattice.reset()\n",
    "    for edge in errors:\n",
    "        lattice.apply_edge_operator(edge)\n",
    "    syndrome = lattice.measure_syndrome()\n",
    "    plot_planar_code(planar_code, plot_dual=False, show_errors=True, show_syndrome=True)\n",
    "    plot_matchings(lattice, syndrome, pathfinding='manhattan')\n",
    "    matching, paths = min_weight_syndrome_matching(lattice, syndrome, pathfinding='manhattan')\n",
    "    for path in paths:\n",
    "        lattice.apply_edge_operators(path)\n",
    "    plot_planar_code(planar_code, plot_dual=False, show_errors=True, show_syndrome=True)"
   ]
  },
  {
   "cell_type": "code",
   "execution_count": null,
   "id": "1a715c7a",
   "metadata": {},
   "outputs": [],
   "source": [
    "lattice = PlanarLattice(8, 8, boundaries=(1,0), pz=0.05)\n",
    "lattice.apply_edge_operator((7, [3,4], 1))\n",
    "lattice.apply_edge_operator(([5,6], 3, 0))\n",
    "syndrome = lattice.measure_syndrome()\n",
    "plot_matchings(lattice, syndrome, pathfinding='manhattan')\n",
    "matchings, paths = min_weight_syndrome_matching(lattice, syndrome, pathfinding='manhattan')\n",
    "print(paths)\n",
    "for path in paths:\n",
    "    lattice.apply_edge_operators(path)\n",
    "lattice.detect_logical_errors()"
   ]
  },
  {
   "cell_type": "code",
   "execution_count": null,
   "id": "344319d0",
   "metadata": {
    "scrolled": true
   },
   "outputs": [],
   "source": [
    "lattice = planar_code.primal\n",
    "lattice.reset()\n",
    "syndrome = planar_code.measure_syndrome()[0]\n",
    "\n",
    "lattice.apply_edge_operator((0, slice(None), 1))\n",
    "lattice.apply_edge_operator((slice(None), 2, 0))\n",
    "plot_planar_code(planar_code, plot_dual=False, show_errors=True, show_syndrome=True)\n",
    "print(lattice.detect_logical_errors())"
   ]
  },
  {
   "cell_type": "code",
   "execution_count": null,
   "id": "7be1a241",
   "metadata": {},
   "outputs": [],
   "source": []
  }
 ],
 "metadata": {
  "kernelspec": {
   "display_name": "Python 3 (ipykernel)",
   "language": "python",
   "name": "python3"
  },
  "language_info": {
   "codemirror_mode": {
    "name": "ipython",
    "version": 3
   },
   "file_extension": ".py",
   "mimetype": "text/x-python",
   "name": "python",
   "nbconvert_exporter": "python",
   "pygments_lexer": "ipython3",
   "version": "3.9.7"
  }
 },
 "nbformat": 4,
 "nbformat_minor": 5
}
