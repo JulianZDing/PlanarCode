{
 "cells": [
  {
   "cell_type": "code",
   "execution_count": 9,
   "id": "d530f2f4",
   "metadata": {},
   "outputs": [],
   "source": [
    "import numpy as np\n",
    "import matplotlib.pyplot as plt\n",
    "\n",
    "from planar_code import PlanarCode\n",
    "from graph_operations import *\n",
    "from visualization import *\n",
    "\n",
    "L, W = (8, 8)\n",
    "#p = np.full((L,W,2), 0.1)\n",
    "#p_dual = np.full((L-1,W+1,2), 0.05)\n",
    "p=0.1\n",
    "p_dual=0.1\n",
    "planar_code = PlanarCode(L=L, W=W, p=p, p_dual=p_dual, boundaries=np.array((1,2), dtype=int))\n",
    "planar_code.advance(1)"
   ]
  },
  {
   "cell_type": "code",
   "execution_count": null,
   "id": "d216a20f",
   "metadata": {},
   "outputs": [],
   "source": [
    "plot_planar_code(planar_code, plot_dual=True, show_errors=True, show_syndrome=True)"
   ]
  },
  {
   "cell_type": "code",
   "execution_count": null,
   "id": "1a715c7a",
   "metadata": {},
   "outputs": [],
   "source": [
    "lattice = planar_code.primal\n",
    "syndrome = planar_code.measure_syndrome()[0]\n",
    "plot_matchings(lattice, syndrome, force_manhattan=False)\n",
    "plot_planar_code(planar_code, plot_dual=False, show_errors=True, show_syndrome=True)\n",
    "matchings, paths = min_weight_syndrome_matching(lattice, syndrome)\n",
    "print(matchings)\n",
    "for path in paths:\n",
    "    lattice.apply_edge_operators(path)\n",
    "plot_planar_code(planar_code, plot_dual=False, show_errors=True, show_syndrome=True)"
   ]
  },
  {
   "cell_type": "code",
   "execution_count": 10,
   "id": "344319d0",
   "metadata": {
    "scrolled": true
   },
   "outputs": [
    {
     "name": "stdout",
     "output_type": "stream",
     "text": [
      "1\n"
     ]
    },
    {
     "data": {
      "image/png": "[encoded data removed]",
      "text/plain": [
       "<Figure size 576x576 with 1 Axes>"
      ]
     },
     "metadata": {
      "needs_background": "light"
     },
     "output_type": "display_data"
    }
   ],
   "source": [
    "lattice = planar_code.primal\n",
    "lattice.reset()\n",
    "syndrome = planar_code.measure_syndrome()[0]\n",
    "\n",
    "lattice.apply_edge_operator(([0,3,5], slice(None), 1))\n",
    "#lattice.apply_edge_operator((slice(None), 2, 0))\n",
    "plot_planar_code(planar_code, plot_dual=False, show_errors=True, show_syndrome=True)\n",
    "print(lattice.detect_logical_errors())"
   ]
  },
  {
   "cell_type": "code",
   "execution_count": null,
   "id": "f77d99d8",
   "metadata": {},
   "outputs": [],
   "source": []
  }
 ],
 "metadata": {
  "kernelspec": {
   "display_name": "Python 3",
   "language": "python",
   "name": "python3"
  },
  "language_info": {
   "codemirror_mode": {
    "name": "ipython",
    "version": 3
   },
   "file_extension": ".py",
   "mimetype": "text/x-python",
   "name": "python",
   "nbconvert_exporter": "python",
   "pygments_lexer": "ipython3",
   "version": "3.8.8"
  }
 },
 "nbformat": 4,
 "nbformat_minor": 5
}
