{
 "cells": [
  {
   "cell_type": "code",
   "execution_count": 1,
   "id": "d08ef42f-1324-4cb1-8ae9-464e5b52528b",
   "metadata": {},
   "outputs": [],
   "source": [
    "import os\n",
    "import pickle\n",
    "import numpy as np\n",
    "import matplotlib.pyplot as plt\n",
    "\n",
    "from threshold import *\n",
    "\n",
    "SAVE_TO = 'temp/'"
   ]
  },
  {
   "cell_type": "code",
   "execution_count": 2,
   "id": "6dc3a5ee-79d8-4ed6-8827-87d3901d0b64",
   "metadata": {},
   "outputs": [
    {
     "name": "stdout",
     "output_type": "stream",
     "text": [
      "Cache file temp/<lambda>_boundary_search_0_4_0_4_2_15.pkl not found, starting from scratch.\n"
     ]
    },
    {
     "data": {
      "application/vnd.jupyter.widget-view+json": {
       "model_id": "2d3e5069cb3e49f385e57c1c668882ff",
       "version_major": 2,
       "version_minor": 0
      },
      "text/plain": [
       "Depth 1:   0%|          | 0/1 [00:00<?, ?it/s]"
      ]
     },
     "metadata": {},
     "output_type": "display_data"
    },
    {
     "data": {
      "application/vnd.jupyter.widget-view+json": {
       "model_id": "3ba845d5a4df4d12bab9b2fdd752df19",
       "version_major": 2,
       "version_minor": 0
      },
      "text/plain": [
       "Depth 1 sub-progress:   0%|          | 0/9 [00:00<?, ?it/s]"
      ]
     },
     "metadata": {},
     "output_type": "display_data"
    },
    {
     "data": {
      "application/vnd.jupyter.widget-view+json": {
       "model_id": "1360d9563874430a8b9799c821168f39",
       "version_major": 2,
       "version_minor": 0
      },
      "text/plain": [
       "Depth 2:   0%|          | 0/4 [00:00<?, ?it/s]"
      ]
     },
     "metadata": {},
     "output_type": "display_data"
    },
    {
     "data": {
      "application/vnd.jupyter.widget-view+json": {
       "model_id": "db65a6635e114a5d8a33e2d3aa7d43ca",
       "version_major": 2,
       "version_minor": 0
      },
      "text/plain": [
       "Depth 2 sub-progress:   0%|          | 0/9 [00:00<?, ?it/s]"
      ]
     },
     "metadata": {},
     "output_type": "display_data"
    },
    {
     "data": {
      "application/vnd.jupyter.widget-view+json": {
       "model_id": "94182ebde39b4869a918b52237014cb2",
       "version_major": 2,
       "version_minor": 0
      },
      "text/plain": [
       "Depth 2 sub-progress:   0%|          | 0/9 [00:00<?, ?it/s]"
      ]
     },
     "metadata": {},
     "output_type": "display_data"
    },
    {
     "data": {
      "application/vnd.jupyter.widget-view+json": {
       "model_id": "0e3967a22e0a4752ad397e43444e0901",
       "version_major": 2,
       "version_minor": 0
      },
      "text/plain": [
       "Depth 2 sub-progress:   0%|          | 0/9 [00:00<?, ?it/s]"
      ]
     },
     "metadata": {},
     "output_type": "display_data"
    },
    {
     "data": {
      "application/vnd.jupyter.widget-view+json": {
       "model_id": "576a00e70a834a4e957fe215a3d8f410",
       "version_major": 2,
       "version_minor": 0
      },
      "text/plain": [
       "Depth 2 sub-progress:   0%|          | 0/9 [00:00<?, ?it/s]"
      ]
     },
     "metadata": {},
     "output_type": "display_data"
    },
    {
     "data": {
      "application/vnd.jupyter.widget-view+json": {
       "model_id": "bfc40b1a375749dcab30869de6eb8d23",
       "version_major": 2,
       "version_minor": 0
      },
      "text/plain": [
       "Depth 3:   0%|          | 0/4 [00:00<?, ?it/s]"
      ]
     },
     "metadata": {},
     "output_type": "display_data"
    },
    {
     "data": {
      "application/vnd.jupyter.widget-view+json": {
       "model_id": "425fb9c8189d4be7886c26e9ef3aede7",
       "version_major": 2,
       "version_minor": 0
      },
      "text/plain": [
       "Depth 3 sub-progress:   0%|          | 0/9 [00:00<?, ?it/s]"
      ]
     },
     "metadata": {},
     "output_type": "display_data"
    },
    {
     "data": {
      "application/vnd.jupyter.widget-view+json": {
       "model_id": "1bb2cf7a6a1b41b69ef3bc718f540e35",
       "version_major": 2,
       "version_minor": 0
      },
      "text/plain": [
       "Depth 3 sub-progress:   0%|          | 0/9 [00:00<?, ?it/s]"
      ]
     },
     "metadata": {},
     "output_type": "display_data"
    },
    {
     "data": {
      "application/vnd.jupyter.widget-view+json": {
       "model_id": "f3e2aec4dc4f430693f6b915d1e97185",
       "version_major": 2,
       "version_minor": 0
      },
      "text/plain": [
       "Depth 3 sub-progress:   0%|          | 0/9 [00:00<?, ?it/s]"
      ]
     },
     "metadata": {},
     "output_type": "display_data"
    },
    {
     "data": {
      "application/vnd.jupyter.widget-view+json": {
       "model_id": "42d5f880654049f899604d21cca02194",
       "version_major": 2,
       "version_minor": 0
      },
      "text/plain": [
       "Depth 3 sub-progress:   0%|          | 0/9 [00:00<?, ?it/s]"
      ]
     },
     "metadata": {},
     "output_type": "display_data"
    },
    {
     "data": {
      "application/vnd.jupyter.widget-view+json": {
       "model_id": "e2dea95a50fc408abebaf1f3f3cdac4f",
       "version_major": 2,
       "version_minor": 0
      },
      "text/plain": [
       "Depth 4:   0%|          | 0/12 [00:00<?, ?it/s]"
      ]
     },
     "metadata": {},
     "output_type": "display_data"
    },
    {
     "data": {
      "application/vnd.jupyter.widget-view+json": {
       "model_id": "4f407ad18d9944a4b9c91072d8905765",
       "version_major": 2,
       "version_minor": 0
      },
      "text/plain": [
       "Depth 4 sub-progress:   0%|          | 0/9 [00:00<?, ?it/s]"
      ]
     },
     "metadata": {},
     "output_type": "display_data"
    },
    {
     "data": {
      "application/vnd.jupyter.widget-view+json": {
       "model_id": "fec0545412e246dfbd0820bc7c9f03ee",
       "version_major": 2,
       "version_minor": 0
      },
      "text/plain": [
       "Depth 4 sub-progress:   0%|          | 0/9 [00:00<?, ?it/s]"
      ]
     },
     "metadata": {},
     "output_type": "display_data"
    },
    {
     "data": {
      "application/vnd.jupyter.widget-view+json": {
       "model_id": "e5f9d44ef7534e3ebfdfcb5c4328f423",
       "version_major": 2,
       "version_minor": 0
      },
      "text/plain": [
       "Depth 4 sub-progress:   0%|          | 0/9 [00:00<?, ?it/s]"
      ]
     },
     "metadata": {},
     "output_type": "display_data"
    },
    {
     "data": {
      "application/vnd.jupyter.widget-view+json": {
       "model_id": "abc5d77000fb428f8a818a89eefa5996",
       "version_major": 2,
       "version_minor": 0
      },
      "text/plain": [
       "Depth 4 sub-progress:   0%|          | 0/9 [00:00<?, ?it/s]"
      ]
     },
     "metadata": {},
     "output_type": "display_data"
    },
    {
     "data": {
      "application/vnd.jupyter.widget-view+json": {
       "model_id": "225b82a8c41341ceb10e0d9d085b093e",
       "version_major": 2,
       "version_minor": 0
      },
      "text/plain": [
       "Depth 4 sub-progress:   0%|          | 0/9 [00:00<?, ?it/s]"
      ]
     },
     "metadata": {},
     "output_type": "display_data"
    },
    {
     "data": {
      "application/vnd.jupyter.widget-view+json": {
       "model_id": "eb2d5dc3cb6548e1b147b095774ae5c5",
       "version_major": 2,
       "version_minor": 0
      },
      "text/plain": [
       "Depth 4 sub-progress:   0%|          | 0/9 [00:00<?, ?it/s]"
      ]
     },
     "metadata": {},
     "output_type": "display_data"
    },
    {
     "data": {
      "application/vnd.jupyter.widget-view+json": {
       "model_id": "d1a138a0dc424ef6a86db6974fba231b",
       "version_major": 2,
       "version_minor": 0
      },
      "text/plain": [
       "Depth 4 sub-progress:   0%|          | 0/9 [00:00<?, ?it/s]"
      ]
     },
     "metadata": {},
     "output_type": "display_data"
    },
    {
     "data": {
      "application/vnd.jupyter.widget-view+json": {
       "model_id": "2589bc07ba1e4591bb35b7ebf39ee7df",
       "version_major": 2,
       "version_minor": 0
      },
      "text/plain": [
       "Depth 4 sub-progress:   0%|          | 0/9 [00:00<?, ?it/s]"
      ]
     },
     "metadata": {},
     "output_type": "display_data"
    },
    {
     "data": {
      "application/vnd.jupyter.widget-view+json": {
       "model_id": "7139c7550501449f82f2152133487efe",
       "version_major": 2,
       "version_minor": 0
      },
      "text/plain": [
       "Depth 4 sub-progress:   0%|          | 0/9 [00:00<?, ?it/s]"
      ]
     },
     "metadata": {},
     "output_type": "display_data"
    },
    {
     "data": {
      "application/vnd.jupyter.widget-view+json": {
       "model_id": "ac0bf58d10934f73a9a0aedfb981106c",
       "version_major": 2,
       "version_minor": 0
      },
      "text/plain": [
       "Depth 4 sub-progress:   0%|          | 0/9 [00:00<?, ?it/s]"
      ]
     },
     "metadata": {},
     "output_type": "display_data"
    },
    {
     "data": {
      "application/vnd.jupyter.widget-view+json": {
       "model_id": "3c8a9fd21b2e46a29bcd23e14464ea98",
       "version_major": 2,
       "version_minor": 0
      },
      "text/plain": [
       "Depth 4 sub-progress:   0%|          | 0/9 [00:00<?, ?it/s]"
      ]
     },
     "metadata": {},
     "output_type": "display_data"
    },
    {
     "data": {
      "application/vnd.jupyter.widget-view+json": {
       "model_id": "221a7ba2915e47fabad1c5896cfb2948",
       "version_major": 2,
       "version_minor": 0
      },
      "text/plain": [
       "Depth 4 sub-progress:   0%|          | 0/9 [00:00<?, ?it/s]"
      ]
     },
     "metadata": {},
     "output_type": "display_data"
    },
    {
     "data": {
      "application/vnd.jupyter.widget-view+json": {
       "model_id": "5cfb95e1d9864863b0c7d20fa2d88582",
       "version_major": 2,
       "version_minor": 0
      },
      "text/plain": [
       "Depth 5:   0%|          | 0/28 [00:00<?, ?it/s]"
      ]
     },
     "metadata": {},
     "output_type": "display_data"
    },
    {
     "data": {
      "application/vnd.jupyter.widget-view+json": {
       "model_id": "a3781e2478c048d69c8d93d9eccb2f2a",
       "version_major": 2,
       "version_minor": 0
      },
      "text/plain": [
       "Depth 5 sub-progress:   0%|          | 0/9 [00:00<?, ?it/s]"
      ]
     },
     "metadata": {},
     "output_type": "display_data"
    },
    {
     "data": {
      "application/vnd.jupyter.widget-view+json": {
       "model_id": "7bd91ff320da4df8820ace32506746e2",
       "version_major": 2,
       "version_minor": 0
      },
      "text/plain": [
       "Depth 5 sub-progress:   0%|          | 0/9 [00:00<?, ?it/s]"
      ]
     },
     "metadata": {},
     "output_type": "display_data"
    },
    {
     "data": {
      "application/vnd.jupyter.widget-view+json": {
       "model_id": "248a52a2670b4218a80160269215688a",
       "version_major": 2,
       "version_minor": 0
      },
      "text/plain": [
       "Depth 5 sub-progress:   0%|          | 0/9 [00:00<?, ?it/s]"
      ]
     },
     "metadata": {},
     "output_type": "display_data"
    },
    {
     "data": {
      "application/vnd.jupyter.widget-view+json": {
       "model_id": "8e521067bbbb43dab1e2794730dd3ef0",
       "version_major": 2,
       "version_minor": 0
      },
      "text/plain": [
       "Depth 5 sub-progress:   0%|          | 0/9 [00:00<?, ?it/s]"
      ]
     },
     "metadata": {},
     "output_type": "display_data"
    },
    {
     "data": {
      "application/vnd.jupyter.widget-view+json": {
       "model_id": "4ed6fcf9713a444e8dc3ca14a5506b36",
       "version_major": 2,
       "version_minor": 0
      },
      "text/plain": [
       "Depth 5 sub-progress:   0%|          | 0/9 [00:00<?, ?it/s]"
      ]
     },
     "metadata": {},
     "output_type": "display_data"
    },
    {
     "data": {
      "application/vnd.jupyter.widget-view+json": {
       "model_id": "4601678a8c2645c09a946f15b523f9a8",
       "version_major": 2,
       "version_minor": 0
      },
      "text/plain": [
       "Depth 5 sub-progress:   0%|          | 0/9 [00:00<?, ?it/s]"
      ]
     },
     "metadata": {},
     "output_type": "display_data"
    },
    {
     "data": {
      "application/vnd.jupyter.widget-view+json": {
       "model_id": "c098f49b13514faeac59b0e0ae39ec55",
       "version_major": 2,
       "version_minor": 0
      },
      "text/plain": [
       "Depth 5 sub-progress:   0%|          | 0/9 [00:00<?, ?it/s]"
      ]
     },
     "metadata": {},
     "output_type": "display_data"
    },
    {
     "data": {
      "application/vnd.jupyter.widget-view+json": {
       "model_id": "1dad6b93e7804eddb07609fe4fda5e38",
       "version_major": 2,
       "version_minor": 0
      },
      "text/plain": [
       "Depth 5 sub-progress:   0%|          | 0/9 [00:00<?, ?it/s]"
      ]
     },
     "metadata": {},
     "output_type": "display_data"
    },
    {
     "data": {
      "application/vnd.jupyter.widget-view+json": {
       "model_id": "a659e95fede04523aba559cfc477a81f",
       "version_major": 2,
       "version_minor": 0
      },
      "text/plain": [
       "Depth 5 sub-progress:   0%|          | 0/9 [00:00<?, ?it/s]"
      ]
     },
     "metadata": {},
     "output_type": "display_data"
    },
    {
     "data": {
      "application/vnd.jupyter.widget-view+json": {
       "model_id": "983ade5128034a8b889429746518f5a1",
       "version_major": 2,
       "version_minor": 0
      },
      "text/plain": [
       "Depth 5 sub-progress:   0%|          | 0/9 [00:00<?, ?it/s]"
      ]
     },
     "metadata": {},
     "output_type": "display_data"
    },
    {
     "data": {
      "application/vnd.jupyter.widget-view+json": {
       "model_id": "c112eeb1842f47628091aee25c687b8b",
       "version_major": 2,
       "version_minor": 0
      },
      "text/plain": [
       "Depth 5 sub-progress:   0%|          | 0/9 [00:00<?, ?it/s]"
      ]
     },
     "metadata": {},
     "output_type": "display_data"
    },
    {
     "data": {
      "application/vnd.jupyter.widget-view+json": {
       "model_id": "984c18e6f7354f098ea74a53b7e871d9",
       "version_major": 2,
       "version_minor": 0
      },
      "text/plain": [
       "Depth 5 sub-progress:   0%|          | 0/9 [00:00<?, ?it/s]"
      ]
     },
     "metadata": {},
     "output_type": "display_data"
    },
    {
     "data": {
      "application/vnd.jupyter.widget-view+json": {
       "model_id": "f67d85dbebf9400b81250fb53966a3dc",
       "version_major": 2,
       "version_minor": 0
      },
      "text/plain": [
       "Depth 5 sub-progress:   0%|          | 0/9 [00:00<?, ?it/s]"
      ]
     },
     "metadata": {},
     "output_type": "display_data"
    },
    {
     "data": {
      "application/vnd.jupyter.widget-view+json": {
       "model_id": "0eceab672097428e8621b82d5885c84e",
       "version_major": 2,
       "version_minor": 0
      },
      "text/plain": [
       "Depth 5 sub-progress:   0%|          | 0/9 [00:00<?, ?it/s]"
      ]
     },
     "metadata": {},
     "output_type": "display_data"
    },
    {
     "data": {
      "application/vnd.jupyter.widget-view+json": {
       "model_id": "78710551c3d8424c801dbd64fd9de7fd",
       "version_major": 2,
       "version_minor": 0
      },
      "text/plain": [
       "Depth 5 sub-progress:   0%|          | 0/9 [00:00<?, ?it/s]"
      ]
     },
     "metadata": {},
     "output_type": "display_data"
    },
    {
     "data": {
      "application/vnd.jupyter.widget-view+json": {
       "model_id": "38d12bd99d7f4d5096bd038e4664bcd9",
       "version_major": 2,
       "version_minor": 0
      },
      "text/plain": [
       "Depth 5 sub-progress:   0%|          | 0/9 [00:00<?, ?it/s]"
      ]
     },
     "metadata": {},
     "output_type": "display_data"
    },
    {
     "data": {
      "application/vnd.jupyter.widget-view+json": {
       "model_id": "36c935d9c35d4c7e93ccc7804ee0f671",
       "version_major": 2,
       "version_minor": 0
      },
      "text/plain": [
       "Depth 5 sub-progress:   0%|          | 0/9 [00:00<?, ?it/s]"
      ]
     },
     "metadata": {},
     "output_type": "display_data"
    },
    {
     "data": {
      "application/vnd.jupyter.widget-view+json": {
       "model_id": "ddbc9c8a439a4f2cb638ad1cf821c187",
       "version_major": 2,
       "version_minor": 0
      },
      "text/plain": [
       "Depth 5 sub-progress:   0%|          | 0/9 [00:00<?, ?it/s]"
      ]
     },
     "metadata": {},
     "output_type": "display_data"
    },
    {
     "data": {
      "application/vnd.jupyter.widget-view+json": {
       "model_id": "1c7f905cde6c4c9ea18a63236bfa88d1",
       "version_major": 2,
       "version_minor": 0
      },
      "text/plain": [
       "Depth 5 sub-progress:   0%|          | 0/9 [00:00<?, ?it/s]"
      ]
     },
     "metadata": {},
     "output_type": "display_data"
    },
    {
     "data": {
      "application/vnd.jupyter.widget-view+json": {
       "model_id": "a3d879c47ad1497eaca0bda39321f44b",
       "version_major": 2,
       "version_minor": 0
      },
      "text/plain": [
       "Depth 5 sub-progress:   0%|          | 0/9 [00:00<?, ?it/s]"
      ]
     },
     "metadata": {},
     "output_type": "display_data"
    },
    {
     "data": {
      "application/vnd.jupyter.widget-view+json": {
       "model_id": "fae9b929c8044edf8f2b91977dc08665",
       "version_major": 2,
       "version_minor": 0
      },
      "text/plain": [
       "Depth 5 sub-progress:   0%|          | 0/9 [00:00<?, ?it/s]"
      ]
     },
     "metadata": {},
     "output_type": "display_data"
    },
    {
     "data": {
      "application/vnd.jupyter.widget-view+json": {
       "model_id": "ef87b86a9c15414a9e986ca377fa253b",
       "version_major": 2,
       "version_minor": 0
      },
      "text/plain": [
       "Depth 5 sub-progress:   0%|          | 0/9 [00:00<?, ?it/s]"
      ]
     },
     "metadata": {},
     "output_type": "display_data"
    },
    {
     "data": {
      "application/vnd.jupyter.widget-view+json": {
       "model_id": "52d65a0329f0471db763c93eb49f3672",
       "version_major": 2,
       "version_minor": 0
      },
      "text/plain": [
       "Depth 5 sub-progress:   0%|          | 0/9 [00:00<?, ?it/s]"
      ]
     },
     "metadata": {},
     "output_type": "display_data"
    },
    {
     "data": {
      "application/vnd.jupyter.widget-view+json": {
       "model_id": "911b333ba217461985e513fbb3d0ee4f",
       "version_major": 2,
       "version_minor": 0
      },
      "text/plain": [
       "Depth 5 sub-progress:   0%|          | 0/9 [00:00<?, ?it/s]"
      ]
     },
     "metadata": {},
     "output_type": "display_data"
    },
    {
     "data": {
      "application/vnd.jupyter.widget-view+json": {
       "model_id": "8af8cb667a7e468f9bb972f3d0d9d5f9",
       "version_major": 2,
       "version_minor": 0
      },
      "text/plain": [
       "Depth 5 sub-progress:   0%|          | 0/9 [00:00<?, ?it/s]"
      ]
     },
     "metadata": {},
     "output_type": "display_data"
    },
    {
     "data": {
      "application/vnd.jupyter.widget-view+json": {
       "model_id": "08ce3c24660e454898a558f72afabc13",
       "version_major": 2,
       "version_minor": 0
      },
      "text/plain": [
       "Depth 5 sub-progress:   0%|          | 0/9 [00:00<?, ?it/s]"
      ]
     },
     "metadata": {},
     "output_type": "display_data"
    },
    {
     "data": {
      "application/vnd.jupyter.widget-view+json": {
       "model_id": "d493509ab20e4964a57e8f60bccd2e15",
       "version_major": 2,
       "version_minor": 0
      },
      "text/plain": [
       "Depth 5 sub-progress:   0%|          | 0/9 [00:00<?, ?it/s]"
      ]
     },
     "metadata": {},
     "output_type": "display_data"
    },
    {
     "data": {
      "application/vnd.jupyter.widget-view+json": {
       "model_id": "5c73313810464f1389a44521e59d00ec",
       "version_major": 2,
       "version_minor": 0
      },
      "text/plain": [
       "Depth 5 sub-progress:   0%|          | 0/9 [00:00<?, ?it/s]"
      ]
     },
     "metadata": {},
     "output_type": "display_data"
    },
    {
     "data": {
      "application/vnd.jupyter.widget-view+json": {
       "model_id": "40bde6546fc745a0ae23050ac7b230a8",
       "version_major": 2,
       "version_minor": 0
      },
      "text/plain": [
       "Depth 6:   0%|          | 0/60 [00:00<?, ?it/s]"
      ]
     },
     "metadata": {},
     "output_type": "display_data"
    },
    {
     "data": {
      "application/vnd.jupyter.widget-view+json": {
       "model_id": "91d8172b4d824bd696cd54657a466d5f",
       "version_major": 2,
       "version_minor": 0
      },
      "text/plain": [
       "Depth 6 sub-progress:   0%|          | 0/9 [00:00<?, ?it/s]"
      ]
     },
     "metadata": {},
     "output_type": "display_data"
    },
    {
     "data": {
      "application/vnd.jupyter.widget-view+json": {
       "model_id": "a13f878476b04d53970d8bdf0c85e353",
       "version_major": 2,
       "version_minor": 0
      },
      "text/plain": [
       "Depth 6 sub-progress:   0%|          | 0/9 [00:00<?, ?it/s]"
      ]
     },
     "metadata": {},
     "output_type": "display_data"
    },
    {
     "data": {
      "application/vnd.jupyter.widget-view+json": {
       "model_id": "0b104a8bcdb34dbb8cfe78cebfd29927",
       "version_major": 2,
       "version_minor": 0
      },
      "text/plain": [
       "Depth 6 sub-progress:   0%|          | 0/9 [00:00<?, ?it/s]"
      ]
     },
     "metadata": {},
     "output_type": "display_data"
    },
    {
     "data": {
      "application/vnd.jupyter.widget-view+json": {
       "model_id": "6f19194866844dd2973518e71b288377",
       "version_major": 2,
       "version_minor": 0
      },
      "text/plain": [
       "Depth 6 sub-progress:   0%|          | 0/9 [00:00<?, ?it/s]"
      ]
     },
     "metadata": {},
     "output_type": "display_data"
    },
    {
     "data": {
      "application/vnd.jupyter.widget-view+json": {
       "model_id": "4c4e076e10794a7a860bc78a86ad1d85",
       "version_major": 2,
       "version_minor": 0
      },
      "text/plain": [
       "Depth 6 sub-progress:   0%|          | 0/9 [00:00<?, ?it/s]"
      ]
     },
     "metadata": {},
     "output_type": "display_data"
    },
    {
     "data": {
      "application/vnd.jupyter.widget-view+json": {
       "model_id": "7bec18cc5661492e85d13c49d820f436",
       "version_major": 2,
       "version_minor": 0
      },
      "text/plain": [
       "Depth 6 sub-progress:   0%|          | 0/9 [00:00<?, ?it/s]"
      ]
     },
     "metadata": {},
     "output_type": "display_data"
    },
    {
     "data": {
      "application/vnd.jupyter.widget-view+json": {
       "model_id": "c672038b07d2470d9fa5411b9d3fdc93",
       "version_major": 2,
       "version_minor": 0
      },
      "text/plain": [
       "Depth 6 sub-progress:   0%|          | 0/9 [00:00<?, ?it/s]"
      ]
     },
     "metadata": {},
     "output_type": "display_data"
    },
    {
     "data": {
      "application/vnd.jupyter.widget-view+json": {
       "model_id": "e30ce3b6bb964091851eceb18e2d0a15",
       "version_major": 2,
       "version_minor": 0
      },
      "text/plain": [
       "Depth 6 sub-progress:   0%|          | 0/9 [00:00<?, ?it/s]"
      ]
     },
     "metadata": {},
     "output_type": "display_data"
    },
    {
     "data": {
      "application/vnd.jupyter.widget-view+json": {
       "model_id": "1b5a720691ad46fd9e4b81b3e393c330",
       "version_major": 2,
       "version_minor": 0
      },
      "text/plain": [
       "Depth 6 sub-progress:   0%|          | 0/9 [00:00<?, ?it/s]"
      ]
     },
     "metadata": {},
     "output_type": "display_data"
    },
    {
     "data": {
      "application/vnd.jupyter.widget-view+json": {
       "model_id": "8853f662a8c44528988fa7b0765f8158",
       "version_major": 2,
       "version_minor": 0
      },
      "text/plain": [
       "Depth 6 sub-progress:   0%|          | 0/9 [00:00<?, ?it/s]"
      ]
     },
     "metadata": {},
     "output_type": "display_data"
    },
    {
     "data": {
      "application/vnd.jupyter.widget-view+json": {
       "model_id": "418bd54edb6547508829ba0add76591f",
       "version_major": 2,
       "version_minor": 0
      },
      "text/plain": [
       "Depth 6 sub-progress:   0%|          | 0/9 [00:00<?, ?it/s]"
      ]
     },
     "metadata": {},
     "output_type": "display_data"
    },
    {
     "data": {
      "application/vnd.jupyter.widget-view+json": {
       "model_id": "825399218703473484a4fd9f897c87f2",
       "version_major": 2,
       "version_minor": 0
      },
      "text/plain": [
       "Depth 6 sub-progress:   0%|          | 0/9 [00:00<?, ?it/s]"
      ]
     },
     "metadata": {},
     "output_type": "display_data"
    },
    {
     "data": {
      "application/vnd.jupyter.widget-view+json": {
       "model_id": "c519d76b82084aa08cc70c6476b92410",
       "version_major": 2,
       "version_minor": 0
      },
      "text/plain": [
       "Depth 6 sub-progress:   0%|          | 0/9 [00:00<?, ?it/s]"
      ]
     },
     "metadata": {},
     "output_type": "display_data"
    },
    {
     "data": {
      "application/vnd.jupyter.widget-view+json": {
       "model_id": "57f03e829bf9471686f96f1e1cae509f",
       "version_major": 2,
       "version_minor": 0
      },
      "text/plain": [
       "Depth 6 sub-progress:   0%|          | 0/9 [00:00<?, ?it/s]"
      ]
     },
     "metadata": {},
     "output_type": "display_data"
    },
    {
     "data": {
      "application/vnd.jupyter.widget-view+json": {
       "model_id": "7b1002e584fc428bac4fcc28158a57de",
       "version_major": 2,
       "version_minor": 0
      },
      "text/plain": [
       "Depth 6 sub-progress:   0%|          | 0/9 [00:00<?, ?it/s]"
      ]
     },
     "metadata": {},
     "output_type": "display_data"
    },
    {
     "data": {
      "application/vnd.jupyter.widget-view+json": {
       "model_id": "4a545a5d08ef45c692f5f681a5c31ba9",
       "version_major": 2,
       "version_minor": 0
      },
      "text/plain": [
       "Depth 6 sub-progress:   0%|          | 0/9 [00:00<?, ?it/s]"
      ]
     },
     "metadata": {},
     "output_type": "display_data"
    },
    {
     "data": {
      "application/vnd.jupyter.widget-view+json": {
       "model_id": "07bbc4af51a5456a8ec1b8d9b41c7e62",
       "version_major": 2,
       "version_minor": 0
      },
      "text/plain": [
       "Depth 6 sub-progress:   0%|          | 0/9 [00:00<?, ?it/s]"
      ]
     },
     "metadata": {},
     "output_type": "display_data"
    },
    {
     "data": {
      "application/vnd.jupyter.widget-view+json": {
       "model_id": "d485595d6a9b413bb857e92a9a57542a",
       "version_major": 2,
       "version_minor": 0
      },
      "text/plain": [
       "Depth 6 sub-progress:   0%|          | 0/9 [00:00<?, ?it/s]"
      ]
     },
     "metadata": {},
     "output_type": "display_data"
    },
    {
     "data": {
      "application/vnd.jupyter.widget-view+json": {
       "model_id": "00d57f4c684647859818158fc0f71a53",
       "version_major": 2,
       "version_minor": 0
      },
      "text/plain": [
       "Depth 6 sub-progress:   0%|          | 0/9 [00:00<?, ?it/s]"
      ]
     },
     "metadata": {},
     "output_type": "display_data"
    },
    {
     "data": {
      "application/vnd.jupyter.widget-view+json": {
       "model_id": "895983975b374ec496619b4e76bee432",
       "version_major": 2,
       "version_minor": 0
      },
      "text/plain": [
       "Depth 6 sub-progress:   0%|          | 0/9 [00:00<?, ?it/s]"
      ]
     },
     "metadata": {},
     "output_type": "display_data"
    },
    {
     "data": {
      "application/vnd.jupyter.widget-view+json": {
       "model_id": "98dcc99156dd434fbafed0f36b3d8631",
       "version_major": 2,
       "version_minor": 0
      },
      "text/plain": [
       "Depth 6 sub-progress:   0%|          | 0/9 [00:00<?, ?it/s]"
      ]
     },
     "metadata": {},
     "output_type": "display_data"
    },
    {
     "data": {
      "application/vnd.jupyter.widget-view+json": {
       "model_id": "f76c34063f2a4e4cb648430b86c04423",
       "version_major": 2,
       "version_minor": 0
      },
      "text/plain": [
       "Depth 6 sub-progress:   0%|          | 0/9 [00:00<?, ?it/s]"
      ]
     },
     "metadata": {},
     "output_type": "display_data"
    },
    {
     "data": {
      "application/vnd.jupyter.widget-view+json": {
       "model_id": "59746133c89a47efbeed22e3442c3dd8",
       "version_major": 2,
       "version_minor": 0
      },
      "text/plain": [
       "Depth 6 sub-progress:   0%|          | 0/9 [00:00<?, ?it/s]"
      ]
     },
     "metadata": {},
     "output_type": "display_data"
    },
    {
     "data": {
      "application/vnd.jupyter.widget-view+json": {
       "model_id": "ad8e69e320c54ce9968701b1e831e32f",
       "version_major": 2,
       "version_minor": 0
      },
      "text/plain": [
       "Depth 6 sub-progress:   0%|          | 0/9 [00:00<?, ?it/s]"
      ]
     },
     "metadata": {},
     "output_type": "display_data"
    },
    {
     "data": {
      "application/vnd.jupyter.widget-view+json": {
       "model_id": "67d6579646d44a6897272f668e489a00",
       "version_major": 2,
       "version_minor": 0
      },
      "text/plain": [
       "Depth 6 sub-progress:   0%|          | 0/9 [00:00<?, ?it/s]"
      ]
     },
     "metadata": {},
     "output_type": "display_data"
    },
    {
     "data": {
      "application/vnd.jupyter.widget-view+json": {
       "model_id": "c6b020051e8a45bea533272b5bfdadd6",
       "version_major": 2,
       "version_minor": 0
      },
      "text/plain": [
       "Depth 6 sub-progress:   0%|          | 0/9 [00:00<?, ?it/s]"
      ]
     },
     "metadata": {},
     "output_type": "display_data"
    },
    {
     "data": {
      "application/vnd.jupyter.widget-view+json": {
       "model_id": "c8d108d936604ef696433660952709fd",
       "version_major": 2,
       "version_minor": 0
      },
      "text/plain": [
       "Depth 6 sub-progress:   0%|          | 0/9 [00:00<?, ?it/s]"
      ]
     },
     "metadata": {},
     "output_type": "display_data"
    },
    {
     "data": {
      "application/vnd.jupyter.widget-view+json": {
       "model_id": "9b7503255c4c417d995ec47a7a16da02",
       "version_major": 2,
       "version_minor": 0
      },
      "text/plain": [
       "Depth 6 sub-progress:   0%|          | 0/9 [00:00<?, ?it/s]"
      ]
     },
     "metadata": {},
     "output_type": "display_data"
    },
    {
     "data": {
      "application/vnd.jupyter.widget-view+json": {
       "model_id": "0794ac0acedf4879bbd1b41f8812bf33",
       "version_major": 2,
       "version_minor": 0
      },
      "text/plain": [
       "Depth 6 sub-progress:   0%|          | 0/9 [00:00<?, ?it/s]"
      ]
     },
     "metadata": {},
     "output_type": "display_data"
    },
    {
     "data": {
      "application/vnd.jupyter.widget-view+json": {
       "model_id": "64794af709ab46539c2bfa0c6eb5147a",
       "version_major": 2,
       "version_minor": 0
      },
      "text/plain": [
       "Depth 6 sub-progress:   0%|          | 0/9 [00:00<?, ?it/s]"
      ]
     },
     "metadata": {},
     "output_type": "display_data"
    },
    {
     "data": {
      "application/vnd.jupyter.widget-view+json": {
       "model_id": "963a5db885aa4f78bc8cf93414898f14",
       "version_major": 2,
       "version_minor": 0
      },
      "text/plain": [
       "Depth 6 sub-progress:   0%|          | 0/9 [00:00<?, ?it/s]"
      ]
     },
     "metadata": {},
     "output_type": "display_data"
    },
    {
     "data": {
      "application/vnd.jupyter.widget-view+json": {
       "model_id": "41dfb8c0b41f4a2987f364a61724b2e8",
       "version_major": 2,
       "version_minor": 0
      },
      "text/plain": [
       "Depth 6 sub-progress:   0%|          | 0/9 [00:00<?, ?it/s]"
      ]
     },
     "metadata": {},
     "output_type": "display_data"
    },
    {
     "data": {
      "application/vnd.jupyter.widget-view+json": {
       "model_id": "53be730724a840308b7078fccd11e84c",
       "version_major": 2,
       "version_minor": 0
      },
      "text/plain": [
       "Depth 6 sub-progress:   0%|          | 0/9 [00:00<?, ?it/s]"
      ]
     },
     "metadata": {},
     "output_type": "display_data"
    },
    {
     "data": {
      "application/vnd.jupyter.widget-view+json": {
       "model_id": "f3c5d393dfd5463a8a70a3d21721f64a",
       "version_major": 2,
       "version_minor": 0
      },
      "text/plain": [
       "Depth 6 sub-progress:   0%|          | 0/9 [00:00<?, ?it/s]"
      ]
     },
     "metadata": {},
     "output_type": "display_data"
    },
    {
     "data": {
      "application/vnd.jupyter.widget-view+json": {
       "model_id": "d97c2481f27f4d5eb669900925bb704e",
       "version_major": 2,
       "version_minor": 0
      },
      "text/plain": [
       "Depth 6 sub-progress:   0%|          | 0/9 [00:00<?, ?it/s]"
      ]
     },
     "metadata": {},
     "output_type": "display_data"
    },
    {
     "data": {
      "application/vnd.jupyter.widget-view+json": {
       "model_id": "c3c6174876e742b589dba76d0d48fa29",
       "version_major": 2,
       "version_minor": 0
      },
      "text/plain": [
       "Depth 6 sub-progress:   0%|          | 0/9 [00:00<?, ?it/s]"
      ]
     },
     "metadata": {},
     "output_type": "display_data"
    },
    {
     "data": {
      "application/vnd.jupyter.widget-view+json": {
       "model_id": "f37aa41d075d4c0a90eb6eaa8c95718a",
       "version_major": 2,
       "version_minor": 0
      },
      "text/plain": [
       "Depth 6 sub-progress:   0%|          | 0/9 [00:00<?, ?it/s]"
      ]
     },
     "metadata": {},
     "output_type": "display_data"
    },
    {
     "data": {
      "application/vnd.jupyter.widget-view+json": {
       "model_id": "ec8ec4bbb5c54c4fbb9f8340ad7ed482",
       "version_major": 2,
       "version_minor": 0
      },
      "text/plain": [
       "Depth 6 sub-progress:   0%|          | 0/9 [00:00<?, ?it/s]"
      ]
     },
     "metadata": {},
     "output_type": "display_data"
    },
    {
     "data": {
      "application/vnd.jupyter.widget-view+json": {
       "model_id": "4640d5d66bca4162b06fefac43c71daf",
       "version_major": 2,
       "version_minor": 0
      },
      "text/plain": [
       "Depth 6 sub-progress:   0%|          | 0/9 [00:00<?, ?it/s]"
      ]
     },
     "metadata": {},
     "output_type": "display_data"
    },
    {
     "data": {
      "application/vnd.jupyter.widget-view+json": {
       "model_id": "0bdb7410dde3419e813cb42351b77fb9",
       "version_major": 2,
       "version_minor": 0
      },
      "text/plain": [
       "Depth 6 sub-progress:   0%|          | 0/9 [00:00<?, ?it/s]"
      ]
     },
     "metadata": {},
     "output_type": "display_data"
    },
    {
     "data": {
      "application/vnd.jupyter.widget-view+json": {
       "model_id": "f9b019b83b2d448e8f5bbac7acd0b63f",
       "version_major": 2,
       "version_minor": 0
      },
      "text/plain": [
       "Depth 6 sub-progress:   0%|          | 0/9 [00:00<?, ?it/s]"
      ]
     },
     "metadata": {},
     "output_type": "display_data"
    },
    {
     "data": {
      "application/vnd.jupyter.widget-view+json": {
       "model_id": "1092954c2e7f47f6aab0cb8f05a3440d",
       "version_major": 2,
       "version_minor": 0
      },
      "text/plain": [
       "Depth 6 sub-progress:   0%|          | 0/9 [00:00<?, ?it/s]"
      ]
     },
     "metadata": {},
     "output_type": "display_data"
    },
    {
     "data": {
      "application/vnd.jupyter.widget-view+json": {
       "model_id": "9d4e731fdea245ed84ef0b47450b327d",
       "version_major": 2,
       "version_minor": 0
      },
      "text/plain": [
       "Depth 6 sub-progress:   0%|          | 0/9 [00:00<?, ?it/s]"
      ]
     },
     "metadata": {},
     "output_type": "display_data"
    },
    {
     "data": {
      "application/vnd.jupyter.widget-view+json": {
       "model_id": "93e03020be6047f6914ff1183d87f720",
       "version_major": 2,
       "version_minor": 0
      },
      "text/plain": [
       "Depth 6 sub-progress:   0%|          | 0/9 [00:00<?, ?it/s]"
      ]
     },
     "metadata": {},
     "output_type": "display_data"
    },
    {
     "data": {
      "application/vnd.jupyter.widget-view+json": {
       "model_id": "a0d7e6e28ed74d41a2e228a325c6ca01",
       "version_major": 2,
       "version_minor": 0
      },
      "text/plain": [
       "Depth 6 sub-progress:   0%|          | 0/9 [00:00<?, ?it/s]"
      ]
     },
     "metadata": {},
     "output_type": "display_data"
    },
    {
     "data": {
      "application/vnd.jupyter.widget-view+json": {
       "model_id": "21abd835a0e74d19baa6f3976b34b221",
       "version_major": 2,
       "version_minor": 0
      },
      "text/plain": [
       "Depth 6 sub-progress:   0%|          | 0/9 [00:00<?, ?it/s]"
      ]
     },
     "metadata": {},
     "output_type": "display_data"
    },
    {
     "data": {
      "application/vnd.jupyter.widget-view+json": {
       "model_id": "e6cd93f264154bd9b1287843156b8aaf",
       "version_major": 2,
       "version_minor": 0
      },
      "text/plain": [
       "Depth 6 sub-progress:   0%|          | 0/9 [00:00<?, ?it/s]"
      ]
     },
     "metadata": {},
     "output_type": "display_data"
    },
    {
     "data": {
      "application/vnd.jupyter.widget-view+json": {
       "model_id": "f0efb220957b4d2b825a8cd8dd92fbfd",
       "version_major": 2,
       "version_minor": 0
      },
      "text/plain": [
       "Depth 6 sub-progress:   0%|          | 0/9 [00:00<?, ?it/s]"
      ]
     },
     "metadata": {},
     "output_type": "display_data"
    },
    {
     "data": {
      "application/vnd.jupyter.widget-view+json": {
       "model_id": "c9032cc18c6245c6a768b60200aa892a",
       "version_major": 2,
       "version_minor": 0
      },
      "text/plain": [
       "Depth 6 sub-progress:   0%|          | 0/9 [00:00<?, ?it/s]"
      ]
     },
     "metadata": {},
     "output_type": "display_data"
    },
    {
     "data": {
      "application/vnd.jupyter.widget-view+json": {
       "model_id": "86a005f52bce4494add12464da7f2214",
       "version_major": 2,
       "version_minor": 0
      },
      "text/plain": [
       "Depth 6 sub-progress:   0%|          | 0/9 [00:00<?, ?it/s]"
      ]
     },
     "metadata": {},
     "output_type": "display_data"
    },
    {
     "data": {
      "application/vnd.jupyter.widget-view+json": {
       "model_id": "7088b3fbec914171a4d12f29fb1ee5bb",
       "version_major": 2,
       "version_minor": 0
      },
      "text/plain": [
       "Depth 6 sub-progress:   0%|          | 0/9 [00:00<?, ?it/s]"
      ]
     },
     "metadata": {},
     "output_type": "display_data"
    },
    {
     "data": {
      "application/vnd.jupyter.widget-view+json": {
       "model_id": "297775d377c24c3680babe4986f2cb00",
       "version_major": 2,
       "version_minor": 0
      },
      "text/plain": [
       "Depth 6 sub-progress:   0%|          | 0/9 [00:00<?, ?it/s]"
      ]
     },
     "metadata": {},
     "output_type": "display_data"
    },
    {
     "data": {
      "application/vnd.jupyter.widget-view+json": {
       "model_id": "8279f0fa948c4f94a855432227668adc",
       "version_major": 2,
       "version_minor": 0
      },
      "text/plain": [
       "Depth 6 sub-progress:   0%|          | 0/9 [00:00<?, ?it/s]"
      ]
     },
     "metadata": {},
     "output_type": "display_data"
    },
    {
     "data": {
      "application/vnd.jupyter.widget-view+json": {
       "model_id": "f84ca225cb1b4f94ae2e900061e2e170",
       "version_major": 2,
       "version_minor": 0
      },
      "text/plain": [
       "Depth 6 sub-progress:   0%|          | 0/9 [00:00<?, ?it/s]"
      ]
     },
     "metadata": {},
     "output_type": "display_data"
    },
    {
     "data": {
      "application/vnd.jupyter.widget-view+json": {
       "model_id": "97d8f24ea1454931b01bc77fa486e2f7",
       "version_major": 2,
       "version_minor": 0
      },
      "text/plain": [
       "Depth 6 sub-progress:   0%|          | 0/9 [00:00<?, ?it/s]"
      ]
     },
     "metadata": {},
     "output_type": "display_data"
    },
    {
     "data": {
      "application/vnd.jupyter.widget-view+json": {
       "model_id": "20e37eedda214db99bc73e15f81279b6",
       "version_major": 2,
       "version_minor": 0
      },
      "text/plain": [
       "Depth 6 sub-progress:   0%|          | 0/9 [00:00<?, ?it/s]"
      ]
     },
     "metadata": {},
     "output_type": "display_data"
    },
    {
     "data": {
      "application/vnd.jupyter.widget-view+json": {
       "model_id": "8a50b508e5a847d8a43f2bd295dd4dce",
       "version_major": 2,
       "version_minor": 0
      },
      "text/plain": [
       "Depth 6 sub-progress:   0%|          | 0/9 [00:00<?, ?it/s]"
      ]
     },
     "metadata": {},
     "output_type": "display_data"
    },
    {
     "data": {
      "application/vnd.jupyter.widget-view+json": {
       "model_id": "a0827bfb51ef416ebb7f471fca5f4606",
       "version_major": 2,
       "version_minor": 0
      },
      "text/plain": [
       "Depth 6 sub-progress:   0%|          | 0/9 [00:00<?, ?it/s]"
      ]
     },
     "metadata": {},
     "output_type": "display_data"
    },
    {
     "data": {
      "application/vnd.jupyter.widget-view+json": {
       "model_id": "74f00df8150f49aea1768e5a1ac5f844",
       "version_major": 2,
       "version_minor": 0
      },
      "text/plain": [
       "Depth 6 sub-progress:   0%|          | 0/9 [00:00<?, ?it/s]"
      ]
     },
     "metadata": {},
     "output_type": "display_data"
    },
    {
     "data": {
      "application/vnd.jupyter.widget-view+json": {
       "model_id": "eb2ec507334041afb77f86ed4e02145b",
       "version_major": 2,
       "version_minor": 0
      },
      "text/plain": [
       "Depth 6 sub-progress:   0%|          | 0/9 [00:00<?, ?it/s]"
      ]
     },
     "metadata": {},
     "output_type": "display_data"
    },
    {
     "data": {
      "application/vnd.jupyter.widget-view+json": {
       "model_id": "3d741403598d4b619db6c67dba3edac4",
       "version_major": 2,
       "version_minor": 0
      },
      "text/plain": [
       "Depth 7:   0%|          | 0/124 [00:00<?, ?it/s]"
      ]
     },
     "metadata": {},
     "output_type": "display_data"
    },
    {
     "data": {
      "application/vnd.jupyter.widget-view+json": {
       "model_id": "752d0866d31b40868da392b3fd79bce4",
       "version_major": 2,
       "version_minor": 0
      },
      "text/plain": [
       "Depth 7 sub-progress:   0%|          | 0/9 [00:00<?, ?it/s]"
      ]
     },
     "metadata": {},
     "output_type": "display_data"
    },
    {
     "data": {
      "application/vnd.jupyter.widget-view+json": {
       "model_id": "42c47a5929f3423da6a451758f2734a2",
       "version_major": 2,
       "version_minor": 0
      },
      "text/plain": [
       "Depth 7 sub-progress:   0%|          | 0/9 [00:00<?, ?it/s]"
      ]
     },
     "metadata": {},
     "output_type": "display_data"
    },
    {
     "data": {
      "application/vnd.jupyter.widget-view+json": {
       "model_id": "f7cce05d746b45a59a152290e6974b83",
       "version_major": 2,
       "version_minor": 0
      },
      "text/plain": [
       "Depth 7 sub-progress:   0%|          | 0/9 [00:00<?, ?it/s]"
      ]
     },
     "metadata": {},
     "output_type": "display_data"
    },
    {
     "data": {
      "application/vnd.jupyter.widget-view+json": {
       "model_id": "593187b0df974e6a861bf2af66ada68d",
       "version_major": 2,
       "version_minor": 0
      },
      "text/plain": [
       "Depth 7 sub-progress:   0%|          | 0/9 [00:00<?, ?it/s]"
      ]
     },
     "metadata": {},
     "output_type": "display_data"
    },
    {
     "data": {
      "application/vnd.jupyter.widget-view+json": {
       "model_id": "a58a9fa97bcc4a1bad6c36ba3204c79b",
       "version_major": 2,
       "version_minor": 0
      },
      "text/plain": [
       "Depth 7 sub-progress:   0%|          | 0/9 [00:00<?, ?it/s]"
      ]
     },
     "metadata": {},
     "output_type": "display_data"
    },
    {
     "data": {
      "application/vnd.jupyter.widget-view+json": {
       "model_id": "87c59e7ad12f4aab89da36b7ae91856b",
       "version_major": 2,
       "version_minor": 0
      },
      "text/plain": [
       "Depth 7 sub-progress:   0%|          | 0/9 [00:00<?, ?it/s]"
      ]
     },
     "metadata": {},
     "output_type": "display_data"
    },
    {
     "data": {
      "application/vnd.jupyter.widget-view+json": {
       "model_id": "4d586d2864fe402688cb27e8a95059a7",
       "version_major": 2,
       "version_minor": 0
      },
      "text/plain": [
       "Depth 7 sub-progress:   0%|          | 0/9 [00:00<?, ?it/s]"
      ]
     },
     "metadata": {},
     "output_type": "display_data"
    },
    {
     "data": {
      "application/vnd.jupyter.widget-view+json": {
       "model_id": "82d70308e4ed4449899ebebf6f079fe8",
       "version_major": 2,
       "version_minor": 0
      },
      "text/plain": [
       "Depth 7 sub-progress:   0%|          | 0/9 [00:00<?, ?it/s]"
      ]
     },
     "metadata": {},
     "output_type": "display_data"
    },
    {
     "data": {
      "application/vnd.jupyter.widget-view+json": {
       "model_id": "8d8f6e9b4b8142128bfa83584d69ddef",
       "version_major": 2,
       "version_minor": 0
      },
      "text/plain": [
       "Depth 7 sub-progress:   0%|          | 0/9 [00:00<?, ?it/s]"
      ]
     },
     "metadata": {},
     "output_type": "display_data"
    },
    {
     "data": {
      "application/vnd.jupyter.widget-view+json": {
       "model_id": "2e9fbba7bd28480fa0f83ce81c1470ed",
       "version_major": 2,
       "version_minor": 0
      },
      "text/plain": [
       "Depth 7 sub-progress:   0%|          | 0/9 [00:00<?, ?it/s]"
      ]
     },
     "metadata": {},
     "output_type": "display_data"
    },
    {
     "data": {
      "application/vnd.jupyter.widget-view+json": {
       "model_id": "17f0a101cdab4ee399d008fd8c82e1fd",
       "version_major": 2,
       "version_minor": 0
      },
      "text/plain": [
       "Depth 7 sub-progress:   0%|          | 0/9 [00:00<?, ?it/s]"
      ]
     },
     "metadata": {},
     "output_type": "display_data"
    },
    {
     "data": {
      "application/vnd.jupyter.widget-view+json": {
       "model_id": "4dbec100e76c445e9636e3ea584add98",
       "version_major": 2,
       "version_minor": 0
      },
      "text/plain": [
       "Depth 7 sub-progress:   0%|          | 0/9 [00:00<?, ?it/s]"
      ]
     },
     "metadata": {},
     "output_type": "display_data"
    },
    {
     "data": {
      "application/vnd.jupyter.widget-view+json": {
       "model_id": "bf5c0d4371254d64a9400cd057d09a24",
       "version_major": 2,
       "version_minor": 0
      },
      "text/plain": [
       "Depth 7 sub-progress:   0%|          | 0/9 [00:00<?, ?it/s]"
      ]
     },
     "metadata": {},
     "output_type": "display_data"
    },
    {
     "data": {
      "application/vnd.jupyter.widget-view+json": {
       "model_id": "c3cba5f0b55a42ca8b80b2f4d45c6ccf",
       "version_major": 2,
       "version_minor": 0
      },
      "text/plain": [
       "Depth 7 sub-progress:   0%|          | 0/9 [00:00<?, ?it/s]"
      ]
     },
     "metadata": {},
     "output_type": "display_data"
    },
    {
     "data": {
      "application/vnd.jupyter.widget-view+json": {
       "model_id": "62e87861f64b4991980c43b2b94c07b1",
       "version_major": 2,
       "version_minor": 0
      },
      "text/plain": [
       "Depth 7 sub-progress:   0%|          | 0/9 [00:00<?, ?it/s]"
      ]
     },
     "metadata": {},
     "output_type": "display_data"
    },
    {
     "data": {
      "application/vnd.jupyter.widget-view+json": {
       "model_id": "d8f13d5ab61345959c0020426227536b",
       "version_major": 2,
       "version_minor": 0
      },
      "text/plain": [
       "Depth 7 sub-progress:   0%|          | 0/9 [00:00<?, ?it/s]"
      ]
     },
     "metadata": {},
     "output_type": "display_data"
    },
    {
     "data": {
      "application/vnd.jupyter.widget-view+json": {
       "model_id": "18bb94b86e0d48afb607870e186031af",
       "version_major": 2,
       "version_minor": 0
      },
      "text/plain": [
       "Depth 7 sub-progress:   0%|          | 0/9 [00:00<?, ?it/s]"
      ]
     },
     "metadata": {},
     "output_type": "display_data"
    },
    {
     "data": {
      "application/vnd.jupyter.widget-view+json": {
       "model_id": "f31ee65e9be44a9f96f0252ec46a7559",
       "version_major": 2,
       "version_minor": 0
      },
      "text/plain": [
       "Depth 7 sub-progress:   0%|          | 0/9 [00:00<?, ?it/s]"
      ]
     },
     "metadata": {},
     "output_type": "display_data"
    },
    {
     "data": {
      "application/vnd.jupyter.widget-view+json": {
       "model_id": "26539918019c42d8a8072578c5d6079b",
       "version_major": 2,
       "version_minor": 0
      },
      "text/plain": [
       "Depth 7 sub-progress:   0%|          | 0/9 [00:00<?, ?it/s]"
      ]
     },
     "metadata": {},
     "output_type": "display_data"
    },
    {
     "data": {
      "application/vnd.jupyter.widget-view+json": {
       "model_id": "2ed7499bc5f04b7f821687c0ad580090",
       "version_major": 2,
       "version_minor": 0
      },
      "text/plain": [
       "Depth 7 sub-progress:   0%|          | 0/9 [00:00<?, ?it/s]"
      ]
     },
     "metadata": {},
     "output_type": "display_data"
    },
    {
     "data": {
      "application/vnd.jupyter.widget-view+json": {
       "model_id": "0f252be481e24132be4090d57622292f",
       "version_major": 2,
       "version_minor": 0
      },
      "text/plain": [
       "Depth 7 sub-progress:   0%|          | 0/9 [00:00<?, ?it/s]"
      ]
     },
     "metadata": {},
     "output_type": "display_data"
    },
    {
     "data": {
      "application/vnd.jupyter.widget-view+json": {
       "model_id": "333b199559ef4ce9ab41f6c07822980a",
       "version_major": 2,
       "version_minor": 0
      },
      "text/plain": [
       "Depth 7 sub-progress:   0%|          | 0/9 [00:00<?, ?it/s]"
      ]
     },
     "metadata": {},
     "output_type": "display_data"
    },
    {
     "data": {
      "application/vnd.jupyter.widget-view+json": {
       "model_id": "9e61902704f6481a88959e664405554c",
       "version_major": 2,
       "version_minor": 0
      },
      "text/plain": [
       "Depth 7 sub-progress:   0%|          | 0/9 [00:00<?, ?it/s]"
      ]
     },
     "metadata": {},
     "output_type": "display_data"
    },
    {
     "data": {
      "application/vnd.jupyter.widget-view+json": {
       "model_id": "5b384b4cbe2d48d4970b833ae41522fe",
       "version_major": 2,
       "version_minor": 0
      },
      "text/plain": [
       "Depth 7 sub-progress:   0%|          | 0/9 [00:00<?, ?it/s]"
      ]
     },
     "metadata": {},
     "output_type": "display_data"
    },
    {
     "data": {
      "application/vnd.jupyter.widget-view+json": {
       "model_id": "655a846630de4ecf8262b01554cb48aa",
       "version_major": 2,
       "version_minor": 0
      },
      "text/plain": [
       "Depth 7 sub-progress:   0%|          | 0/9 [00:00<?, ?it/s]"
      ]
     },
     "metadata": {},
     "output_type": "display_data"
    },
    {
     "data": {
      "application/vnd.jupyter.widget-view+json": {
       "model_id": "988b3daa018b47f78c2f556b72643231",
       "version_major": 2,
       "version_minor": 0
      },
      "text/plain": [
       "Depth 7 sub-progress:   0%|          | 0/9 [00:00<?, ?it/s]"
      ]
     },
     "metadata": {},
     "output_type": "display_data"
    },
    {
     "data": {
      "application/vnd.jupyter.widget-view+json": {
       "model_id": "236ae91baa47476b807dd34d7d57d2db",
       "version_major": 2,
       "version_minor": 0
      },
      "text/plain": [
       "Depth 7 sub-progress:   0%|          | 0/9 [00:00<?, ?it/s]"
      ]
     },
     "metadata": {},
     "output_type": "display_data"
    },
    {
     "data": {
      "application/vnd.jupyter.widget-view+json": {
       "model_id": "318e2ed31b4e4bd5a7ecd3cdb674a293",
       "version_major": 2,
       "version_minor": 0
      },
      "text/plain": [
       "Depth 7 sub-progress:   0%|          | 0/9 [00:00<?, ?it/s]"
      ]
     },
     "metadata": {},
     "output_type": "display_data"
    },
    {
     "data": {
      "application/vnd.jupyter.widget-view+json": {
       "model_id": "30ea904175ec4e37bffb12e6c8b70e42",
       "version_major": 2,
       "version_minor": 0
      },
      "text/plain": [
       "Depth 7 sub-progress:   0%|          | 0/9 [00:00<?, ?it/s]"
      ]
     },
     "metadata": {},
     "output_type": "display_data"
    },
    {
     "data": {
      "application/vnd.jupyter.widget-view+json": {
       "model_id": "79029e4e84304a458c99e84785fc08f8",
       "version_major": 2,
       "version_minor": 0
      },
      "text/plain": [
       "Depth 7 sub-progress:   0%|          | 0/9 [00:00<?, ?it/s]"
      ]
     },
     "metadata": {},
     "output_type": "display_data"
    },
    {
     "data": {
      "application/vnd.jupyter.widget-view+json": {
       "model_id": "5b969cee24794d78af4bb786eeaad61e",
       "version_major": 2,
       "version_minor": 0
      },
      "text/plain": [
       "Depth 7 sub-progress:   0%|          | 0/9 [00:00<?, ?it/s]"
      ]
     },
     "metadata": {},
     "output_type": "display_data"
    },
    {
     "data": {
      "application/vnd.jupyter.widget-view+json": {
       "model_id": "a55ad9f757fe4ff286bbf1658fed8607",
       "version_major": 2,
       "version_minor": 0
      },
      "text/plain": [
       "Depth 7 sub-progress:   0%|          | 0/9 [00:00<?, ?it/s]"
      ]
     },
     "metadata": {},
     "output_type": "display_data"
    },
    {
     "data": {
      "application/vnd.jupyter.widget-view+json": {
       "model_id": "9f70f064ddb1466581cad8734a37f3e0",
       "version_major": 2,
       "version_minor": 0
      },
      "text/plain": [
       "Depth 7 sub-progress:   0%|          | 0/9 [00:00<?, ?it/s]"
      ]
     },
     "metadata": {},
     "output_type": "display_data"
    },
    {
     "data": {
      "application/vnd.jupyter.widget-view+json": {
       "model_id": "7ffdfa7337d34581a3864cf455136087",
       "version_major": 2,
       "version_minor": 0
      },
      "text/plain": [
       "Depth 7 sub-progress:   0%|          | 0/9 [00:00<?, ?it/s]"
      ]
     },
     "metadata": {},
     "output_type": "display_data"
    },
    {
     "data": {
      "application/vnd.jupyter.widget-view+json": {
       "model_id": "8103cff46361404c89cdd0b1d3b6be33",
       "version_major": 2,
       "version_minor": 0
      },
      "text/plain": [
       "Depth 7 sub-progress:   0%|          | 0/9 [00:00<?, ?it/s]"
      ]
     },
     "metadata": {},
     "output_type": "display_data"
    },
    {
     "data": {
      "application/vnd.jupyter.widget-view+json": {
       "model_id": "b191ebdf9c20431cbd59904d03a510a7",
       "version_major": 2,
       "version_minor": 0
      },
      "text/plain": [
       "Depth 7 sub-progress:   0%|          | 0/9 [00:00<?, ?it/s]"
      ]
     },
     "metadata": {},
     "output_type": "display_data"
    },
    {
     "data": {
      "application/vnd.jupyter.widget-view+json": {
       "model_id": "cf8ad108c98b4691a55610f9199a3baa",
       "version_major": 2,
       "version_minor": 0
      },
      "text/plain": [
       "Depth 7 sub-progress:   0%|          | 0/9 [00:00<?, ?it/s]"
      ]
     },
     "metadata": {},
     "output_type": "display_data"
    },
    {
     "data": {
      "application/vnd.jupyter.widget-view+json": {
       "model_id": "bd41e8b5241142c4bf376b556ead6b7b",
       "version_major": 2,
       "version_minor": 0
      },
      "text/plain": [
       "Depth 7 sub-progress:   0%|          | 0/9 [00:00<?, ?it/s]"
      ]
     },
     "metadata": {},
     "output_type": "display_data"
    },
    {
     "data": {
      "application/vnd.jupyter.widget-view+json": {
       "model_id": "ad763c9edad74b93985250878990d373",
       "version_major": 2,
       "version_minor": 0
      },
      "text/plain": [
       "Depth 7 sub-progress:   0%|          | 0/9 [00:00<?, ?it/s]"
      ]
     },
     "metadata": {},
     "output_type": "display_data"
    },
    {
     "data": {
      "application/vnd.jupyter.widget-view+json": {
       "model_id": "cf34620feb2f4c229d4fdb867e95129a",
       "version_major": 2,
       "version_minor": 0
      },
      "text/plain": [
       "Depth 7 sub-progress:   0%|          | 0/9 [00:00<?, ?it/s]"
      ]
     },
     "metadata": {},
     "output_type": "display_data"
    },
    {
     "data": {
      "application/vnd.jupyter.widget-view+json": {
       "model_id": "25254442c739438d98b5989d6358b3fd",
       "version_major": 2,
       "version_minor": 0
      },
      "text/plain": [
       "Depth 7 sub-progress:   0%|          | 0/9 [00:00<?, ?it/s]"
      ]
     },
     "metadata": {},
     "output_type": "display_data"
    },
    {
     "data": {
      "application/vnd.jupyter.widget-view+json": {
       "model_id": "77d180e4f5fc417abdf6b31352eb5d8e",
       "version_major": 2,
       "version_minor": 0
      },
      "text/plain": [
       "Depth 7 sub-progress:   0%|          | 0/9 [00:00<?, ?it/s]"
      ]
     },
     "metadata": {},
     "output_type": "display_data"
    },
    {
     "data": {
      "application/vnd.jupyter.widget-view+json": {
       "model_id": "aecf6e87c0184d0988761ef07af07c92",
       "version_major": 2,
       "version_minor": 0
      },
      "text/plain": [
       "Depth 7 sub-progress:   0%|          | 0/9 [00:00<?, ?it/s]"
      ]
     },
     "metadata": {},
     "output_type": "display_data"
    },
    {
     "data": {
      "application/vnd.jupyter.widget-view+json": {
       "model_id": "6eba7246c0c149aba63d3a9b1088ac15",
       "version_major": 2,
       "version_minor": 0
      },
      "text/plain": [
       "Depth 7 sub-progress:   0%|          | 0/9 [00:00<?, ?it/s]"
      ]
     },
     "metadata": {},
     "output_type": "display_data"
    },
    {
     "data": {
      "application/vnd.jupyter.widget-view+json": {
       "model_id": "20ae5d5d5404486dab186307ff6a40c8",
       "version_major": 2,
       "version_minor": 0
      },
      "text/plain": [
       "Depth 7 sub-progress:   0%|          | 0/9 [00:00<?, ?it/s]"
      ]
     },
     "metadata": {},
     "output_type": "display_data"
    },
    {
     "data": {
      "application/vnd.jupyter.widget-view+json": {
       "model_id": "2ee8691be15e4d9f8ee453deb5d52834",
       "version_major": 2,
       "version_minor": 0
      },
      "text/plain": [
       "Depth 7 sub-progress:   0%|          | 0/9 [00:00<?, ?it/s]"
      ]
     },
     "metadata": {},
     "output_type": "display_data"
    },
    {
     "data": {
      "application/vnd.jupyter.widget-view+json": {
       "model_id": "b6c527058c6e454483a2c0ed284870b0",
       "version_major": 2,
       "version_minor": 0
      },
      "text/plain": [
       "Depth 7 sub-progress:   0%|          | 0/9 [00:00<?, ?it/s]"
      ]
     },
     "metadata": {},
     "output_type": "display_data"
    },
    {
     "data": {
      "application/vnd.jupyter.widget-view+json": {
       "model_id": "6d7672cfa36d412d8128baf84be0e596",
       "version_major": 2,
       "version_minor": 0
      },
      "text/plain": [
       "Depth 7 sub-progress:   0%|          | 0/9 [00:00<?, ?it/s]"
      ]
     },
     "metadata": {},
     "output_type": "display_data"
    },
    {
     "data": {
      "application/vnd.jupyter.widget-view+json": {
       "model_id": "e66a747c1c4043cd81e6f889ee214d5f",
       "version_major": 2,
       "version_minor": 0
      },
      "text/plain": [
       "Depth 7 sub-progress:   0%|          | 0/9 [00:00<?, ?it/s]"
      ]
     },
     "metadata": {},
     "output_type": "display_data"
    },
    {
     "data": {
      "application/vnd.jupyter.widget-view+json": {
       "model_id": "c075274c233d424ab70b794e1a921636",
       "version_major": 2,
       "version_minor": 0
      },
      "text/plain": [
       "Depth 7 sub-progress:   0%|          | 0/9 [00:00<?, ?it/s]"
      ]
     },
     "metadata": {},
     "output_type": "display_data"
    },
    {
     "data": {
      "application/vnd.jupyter.widget-view+json": {
       "model_id": "6c79bd8b3fde469da75091808a5242c9",
       "version_major": 2,
       "version_minor": 0
      },
      "text/plain": [
       "Depth 7 sub-progress:   0%|          | 0/9 [00:00<?, ?it/s]"
      ]
     },
     "metadata": {},
     "output_type": "display_data"
    },
    {
     "data": {
      "application/vnd.jupyter.widget-view+json": {
       "model_id": "2b1a7e86a4cf49b5bc665d0a1aa6a866",
       "version_major": 2,
       "version_minor": 0
      },
      "text/plain": [
       "Depth 7 sub-progress:   0%|          | 0/9 [00:00<?, ?it/s]"
      ]
     },
     "metadata": {},
     "output_type": "display_data"
    },
    {
     "data": {
      "application/vnd.jupyter.widget-view+json": {
       "model_id": "b3fb7f0037a8413b81a90bd4f1dbb309",
       "version_major": 2,
       "version_minor": 0
      },
      "text/plain": [
       "Depth 7 sub-progress:   0%|          | 0/9 [00:00<?, ?it/s]"
      ]
     },
     "metadata": {},
     "output_type": "display_data"
    },
    {
     "data": {
      "application/vnd.jupyter.widget-view+json": {
       "model_id": "1fc5beaee1e94538b7afaa29a399db63",
       "version_major": 2,
       "version_minor": 0
      },
      "text/plain": [
       "Depth 7 sub-progress:   0%|          | 0/9 [00:00<?, ?it/s]"
      ]
     },
     "metadata": {},
     "output_type": "display_data"
    },
    {
     "data": {
      "application/vnd.jupyter.widget-view+json": {
       "model_id": "fd821f76c7924ef08b0aa5c857cbabf4",
       "version_major": 2,
       "version_minor": 0
      },
      "text/plain": [
       "Depth 7 sub-progress:   0%|          | 0/9 [00:00<?, ?it/s]"
      ]
     },
     "metadata": {},
     "output_type": "display_data"
    },
    {
     "data": {
      "application/vnd.jupyter.widget-view+json": {
       "model_id": "284e3210eb9a498e91c9dabb67f8abb6",
       "version_major": 2,
       "version_minor": 0
      },
      "text/plain": [
       "Depth 7 sub-progress:   0%|          | 0/9 [00:00<?, ?it/s]"
      ]
     },
     "metadata": {},
     "output_type": "display_data"
    },
    {
     "data": {
      "application/vnd.jupyter.widget-view+json": {
       "model_id": "36600f2e0e994e7698c37be6c341a0f1",
       "version_major": 2,
       "version_minor": 0
      },
      "text/plain": [
       "Depth 7 sub-progress:   0%|          | 0/9 [00:00<?, ?it/s]"
      ]
     },
     "metadata": {},
     "output_type": "display_data"
    },
    {
     "data": {
      "application/vnd.jupyter.widget-view+json": {
       "model_id": "2e1ef71b942c41acaea3da9745eeb404",
       "version_major": 2,
       "version_minor": 0
      },
      "text/plain": [
       "Depth 7 sub-progress:   0%|          | 0/9 [00:00<?, ?it/s]"
      ]
     },
     "metadata": {},
     "output_type": "display_data"
    },
    {
     "data": {
      "application/vnd.jupyter.widget-view+json": {
       "model_id": "c8a322dc0abf44c09ac683a4198d9089",
       "version_major": 2,
       "version_minor": 0
      },
      "text/plain": [
       "Depth 7 sub-progress:   0%|          | 0/9 [00:00<?, ?it/s]"
      ]
     },
     "metadata": {},
     "output_type": "display_data"
    },
    {
     "data": {
      "application/vnd.jupyter.widget-view+json": {
       "model_id": "5a39bd6397054cc6be82800e5efc40ce",
       "version_major": 2,
       "version_minor": 0
      },
      "text/plain": [
       "Depth 7 sub-progress:   0%|          | 0/9 [00:00<?, ?it/s]"
      ]
     },
     "metadata": {},
     "output_type": "display_data"
    },
    {
     "data": {
      "application/vnd.jupyter.widget-view+json": {
       "model_id": "664ad203242c4cf1882bc938ebd69f2f",
       "version_major": 2,
       "version_minor": 0
      },
      "text/plain": [
       "Depth 7 sub-progress:   0%|          | 0/9 [00:00<?, ?it/s]"
      ]
     },
     "metadata": {},
     "output_type": "display_data"
    },
    {
     "data": {
      "application/vnd.jupyter.widget-view+json": {
       "model_id": "ce656baf77904bf5a3ead303fb1e8475",
       "version_major": 2,
       "version_minor": 0
      },
      "text/plain": [
       "Depth 7 sub-progress:   0%|          | 0/9 [00:00<?, ?it/s]"
      ]
     },
     "metadata": {},
     "output_type": "display_data"
    },
    {
     "data": {
      "application/vnd.jupyter.widget-view+json": {
       "model_id": "e1ee30f6daf54db39cfd92af8a8a4025",
       "version_major": 2,
       "version_minor": 0
      },
      "text/plain": [
       "Depth 7 sub-progress:   0%|          | 0/9 [00:00<?, ?it/s]"
      ]
     },
     "metadata": {},
     "output_type": "display_data"
    },
    {
     "data": {
      "application/vnd.jupyter.widget-view+json": {
       "model_id": "4aaad46efe6c484dad4bbc409f4635e6",
       "version_major": 2,
       "version_minor": 0
      },
      "text/plain": [
       "Depth 7 sub-progress:   0%|          | 0/9 [00:00<?, ?it/s]"
      ]
     },
     "metadata": {},
     "output_type": "display_data"
    },
    {
     "data": {
      "application/vnd.jupyter.widget-view+json": {
       "model_id": "931372efeb034927aa76f481346ab275",
       "version_major": 2,
       "version_minor": 0
      },
      "text/plain": [
       "Depth 7 sub-progress:   0%|          | 0/9 [00:00<?, ?it/s]"
      ]
     },
     "metadata": {},
     "output_type": "display_data"
    },
    {
     "data": {
      "application/vnd.jupyter.widget-view+json": {
       "model_id": "988dbe4e87da426dbed798fe6d47c78e",
       "version_major": 2,
       "version_minor": 0
      },
      "text/plain": [
       "Depth 7 sub-progress:   0%|          | 0/9 [00:00<?, ?it/s]"
      ]
     },
     "metadata": {},
     "output_type": "display_data"
    },
    {
     "data": {
      "application/vnd.jupyter.widget-view+json": {
       "model_id": "ceade5ba486c4437a8b1a0e81853a650",
       "version_major": 2,
       "version_minor": 0
      },
      "text/plain": [
       "Depth 7 sub-progress:   0%|          | 0/9 [00:00<?, ?it/s]"
      ]
     },
     "metadata": {},
     "output_type": "display_data"
    },
    {
     "data": {
      "application/vnd.jupyter.widget-view+json": {
       "model_id": "2e5507adcf7f4a7f83f7b4a09d4abc05",
       "version_major": 2,
       "version_minor": 0
      },
      "text/plain": [
       "Depth 7 sub-progress:   0%|          | 0/9 [00:00<?, ?it/s]"
      ]
     },
     "metadata": {},
     "output_type": "display_data"
    },
    {
     "data": {
      "application/vnd.jupyter.widget-view+json": {
       "model_id": "e1cb4fdead1946d8a1004b224ddfa88f",
       "version_major": 2,
       "version_minor": 0
      },
      "text/plain": [
       "Depth 7 sub-progress:   0%|          | 0/9 [00:00<?, ?it/s]"
      ]
     },
     "metadata": {},
     "output_type": "display_data"
    },
    {
     "data": {
      "application/vnd.jupyter.widget-view+json": {
       "model_id": "46eab238288a4f5eb49b3a48f26f93d3",
       "version_major": 2,
       "version_minor": 0
      },
      "text/plain": [
       "Depth 7 sub-progress:   0%|          | 0/9 [00:00<?, ?it/s]"
      ]
     },
     "metadata": {},
     "output_type": "display_data"
    },
    {
     "data": {
      "application/vnd.jupyter.widget-view+json": {
       "model_id": "4be1d0355bb84d638ef6c86b237b1c5c",
       "version_major": 2,
       "version_minor": 0
      },
      "text/plain": [
       "Depth 7 sub-progress:   0%|          | 0/9 [00:00<?, ?it/s]"
      ]
     },
     "metadata": {},
     "output_type": "display_data"
    },
    {
     "data": {
      "application/vnd.jupyter.widget-view+json": {
       "model_id": "90471c9f22e0414a8a0a98db3ee03c5a",
       "version_major": 2,
       "version_minor": 0
      },
      "text/plain": [
       "Depth 7 sub-progress:   0%|          | 0/9 [00:00<?, ?it/s]"
      ]
     },
     "metadata": {},
     "output_type": "display_data"
    },
    {
     "data": {
      "application/vnd.jupyter.widget-view+json": {
       "model_id": "a685c6e0d72b43c6a626a9a04662a011",
       "version_major": 2,
       "version_minor": 0
      },
      "text/plain": [
       "Depth 7 sub-progress:   0%|          | 0/9 [00:00<?, ?it/s]"
      ]
     },
     "metadata": {},
     "output_type": "display_data"
    },
    {
     "data": {
      "application/vnd.jupyter.widget-view+json": {
       "model_id": "386346ffa4c54a1bb7cba83a874c9e57",
       "version_major": 2,
       "version_minor": 0
      },
      "text/plain": [
       "Depth 7 sub-progress:   0%|          | 0/9 [00:00<?, ?it/s]"
      ]
     },
     "metadata": {},
     "output_type": "display_data"
    },
    {
     "data": {
      "application/vnd.jupyter.widget-view+json": {
       "model_id": "f3c52a9b13af4c9fbc4a065677f27aeb",
       "version_major": 2,
       "version_minor": 0
      },
      "text/plain": [
       "Depth 7 sub-progress:   0%|          | 0/9 [00:00<?, ?it/s]"
      ]
     },
     "metadata": {},
     "output_type": "display_data"
    },
    {
     "data": {
      "application/vnd.jupyter.widget-view+json": {
       "model_id": "74961f20ac224c0989b916f631615659",
       "version_major": 2,
       "version_minor": 0
      },
      "text/plain": [
       "Depth 7 sub-progress:   0%|          | 0/9 [00:00<?, ?it/s]"
      ]
     },
     "metadata": {},
     "output_type": "display_data"
    },
    {
     "data": {
      "application/vnd.jupyter.widget-view+json": {
       "model_id": "e56ae978212f48e7935ef3a48ea615ce",
       "version_major": 2,
       "version_minor": 0
      },
      "text/plain": [
       "Depth 7 sub-progress:   0%|          | 0/9 [00:00<?, ?it/s]"
      ]
     },
     "metadata": {},
     "output_type": "display_data"
    },
    {
     "data": {
      "application/vnd.jupyter.widget-view+json": {
       "model_id": "e62b4b0034ce4f9f83bd1a3bf15eb9df",
       "version_major": 2,
       "version_minor": 0
      },
      "text/plain": [
       "Depth 7 sub-progress:   0%|          | 0/9 [00:00<?, ?it/s]"
      ]
     },
     "metadata": {},
     "output_type": "display_data"
    },
    {
     "data": {
      "application/vnd.jupyter.widget-view+json": {
       "model_id": "baefb0124da24a619126d13ab7089079",
       "version_major": 2,
       "version_minor": 0
      },
      "text/plain": [
       "Depth 7 sub-progress:   0%|          | 0/9 [00:00<?, ?it/s]"
      ]
     },
     "metadata": {},
     "output_type": "display_data"
    },
    {
     "data": {
      "application/vnd.jupyter.widget-view+json": {
       "model_id": "9d5a5b87136244c88d5408562aba972c",
       "version_major": 2,
       "version_minor": 0
      },
      "text/plain": [
       "Depth 7 sub-progress:   0%|          | 0/9 [00:00<?, ?it/s]"
      ]
     },
     "metadata": {},
     "output_type": "display_data"
    },
    {
     "data": {
      "application/vnd.jupyter.widget-view+json": {
       "model_id": "ce0e8c2d6aa748b58f91ad17741dea7a",
       "version_major": 2,
       "version_minor": 0
      },
      "text/plain": [
       "Depth 7 sub-progress:   0%|          | 0/9 [00:00<?, ?it/s]"
      ]
     },
     "metadata": {},
     "output_type": "display_data"
    },
    {
     "data": {
      "application/vnd.jupyter.widget-view+json": {
       "model_id": "20281cf3716f4339b8f75f399434638c",
       "version_major": 2,
       "version_minor": 0
      },
      "text/plain": [
       "Depth 7 sub-progress:   0%|          | 0/9 [00:00<?, ?it/s]"
      ]
     },
     "metadata": {},
     "output_type": "display_data"
    },
    {
     "data": {
      "application/vnd.jupyter.widget-view+json": {
       "model_id": "1dc435a913d5402cbfb3467a60f44590",
       "version_major": 2,
       "version_minor": 0
      },
      "text/plain": [
       "Depth 7 sub-progress:   0%|          | 0/9 [00:00<?, ?it/s]"
      ]
     },
     "metadata": {},
     "output_type": "display_data"
    },
    {
     "data": {
      "application/vnd.jupyter.widget-view+json": {
       "model_id": "162c94590463493eacafbb9298b4b2b5",
       "version_major": 2,
       "version_minor": 0
      },
      "text/plain": [
       "Depth 7 sub-progress:   0%|          | 0/9 [00:00<?, ?it/s]"
      ]
     },
     "metadata": {},
     "output_type": "display_data"
    },
    {
     "data": {
      "application/vnd.jupyter.widget-view+json": {
       "model_id": "e509bc89007549c4a585c6a15204f91b",
       "version_major": 2,
       "version_minor": 0
      },
      "text/plain": [
       "Depth 7 sub-progress:   0%|          | 0/9 [00:00<?, ?it/s]"
      ]
     },
     "metadata": {},
     "output_type": "display_data"
    },
    {
     "data": {
      "application/vnd.jupyter.widget-view+json": {
       "model_id": "a7100c20c06246cf81e2d636f7878693",
       "version_major": 2,
       "version_minor": 0
      },
      "text/plain": [
       "Depth 7 sub-progress:   0%|          | 0/9 [00:00<?, ?it/s]"
      ]
     },
     "metadata": {},
     "output_type": "display_data"
    },
    {
     "data": {
      "application/vnd.jupyter.widget-view+json": {
       "model_id": "3638157a4b164e1692b9e833dd00b670",
       "version_major": 2,
       "version_minor": 0
      },
      "text/plain": [
       "Depth 7 sub-progress:   0%|          | 0/9 [00:00<?, ?it/s]"
      ]
     },
     "metadata": {},
     "output_type": "display_data"
    },
    {
     "data": {
      "application/vnd.jupyter.widget-view+json": {
       "model_id": "c2e2642515e24167b8c30051b544f003",
       "version_major": 2,
       "version_minor": 0
      },
      "text/plain": [
       "Depth 7 sub-progress:   0%|          | 0/9 [00:00<?, ?it/s]"
      ]
     },
     "metadata": {},
     "output_type": "display_data"
    },
    {
     "data": {
      "application/vnd.jupyter.widget-view+json": {
       "model_id": "8726717263a9448e8f4b6d8bcc664a8e",
       "version_major": 2,
       "version_minor": 0
      },
      "text/plain": [
       "Depth 7 sub-progress:   0%|          | 0/9 [00:00<?, ?it/s]"
      ]
     },
     "metadata": {},
     "output_type": "display_data"
    },
    {
     "data": {
      "application/vnd.jupyter.widget-view+json": {
       "model_id": "072936adfa5f47f890d4761451b2af25",
       "version_major": 2,
       "version_minor": 0
      },
      "text/plain": [
       "Depth 7 sub-progress:   0%|          | 0/9 [00:00<?, ?it/s]"
      ]
     },
     "metadata": {},
     "output_type": "display_data"
    },
    {
     "data": {
      "application/vnd.jupyter.widget-view+json": {
       "model_id": "b2db144ce698479f875fd453c2826fe6",
       "version_major": 2,
       "version_minor": 0
      },
      "text/plain": [
       "Depth 7 sub-progress:   0%|          | 0/9 [00:00<?, ?it/s]"
      ]
     },
     "metadata": {},
     "output_type": "display_data"
    },
    {
     "data": {
      "application/vnd.jupyter.widget-view+json": {
       "model_id": "dd42aa0dfd86455d9ec404cc1ae1c527",
       "version_major": 2,
       "version_minor": 0
      },
      "text/plain": [
       "Depth 7 sub-progress:   0%|          | 0/9 [00:00<?, ?it/s]"
      ]
     },
     "metadata": {},
     "output_type": "display_data"
    },
    {
     "data": {
      "application/vnd.jupyter.widget-view+json": {
       "model_id": "f7b3b6fca02d4957b898686ee07058d9",
       "version_major": 2,
       "version_minor": 0
      },
      "text/plain": [
       "Depth 7 sub-progress:   0%|          | 0/9 [00:00<?, ?it/s]"
      ]
     },
     "metadata": {},
     "output_type": "display_data"
    },
    {
     "data": {
      "application/vnd.jupyter.widget-view+json": {
       "model_id": "3d1fcb4c3260452bb6d619f5dd1433f3",
       "version_major": 2,
       "version_minor": 0
      },
      "text/plain": [
       "Depth 7 sub-progress:   0%|          | 0/9 [00:00<?, ?it/s]"
      ]
     },
     "metadata": {},
     "output_type": "display_data"
    },
    {
     "data": {
      "application/vnd.jupyter.widget-view+json": {
       "model_id": "3beaa1a320e946038297bf91466758ca",
       "version_major": 2,
       "version_minor": 0
      },
      "text/plain": [
       "Depth 7 sub-progress:   0%|          | 0/9 [00:00<?, ?it/s]"
      ]
     },
     "metadata": {},
     "output_type": "display_data"
    },
    {
     "data": {
      "application/vnd.jupyter.widget-view+json": {
       "model_id": "0287d8ac69c54b989262f4fcfa119ccc",
       "version_major": 2,
       "version_minor": 0
      },
      "text/plain": [
       "Depth 7 sub-progress:   0%|          | 0/9 [00:00<?, ?it/s]"
      ]
     },
     "metadata": {},
     "output_type": "display_data"
    },
    {
     "data": {
      "application/vnd.jupyter.widget-view+json": {
       "model_id": "59b4a7dc29b740bebfe279970be8c96c",
       "version_major": 2,
       "version_minor": 0
      },
      "text/plain": [
       "Depth 7 sub-progress:   0%|          | 0/9 [00:00<?, ?it/s]"
      ]
     },
     "metadata": {},
     "output_type": "display_data"
    },
    {
     "data": {
      "application/vnd.jupyter.widget-view+json": {
       "model_id": "d587e7b1ff604c29b4ede9c221bf8ee4",
       "version_major": 2,
       "version_minor": 0
      },
      "text/plain": [
       "Depth 7 sub-progress:   0%|          | 0/9 [00:00<?, ?it/s]"
      ]
     },
     "metadata": {},
     "output_type": "display_data"
    },
    {
     "data": {
      "application/vnd.jupyter.widget-view+json": {
       "model_id": "4ee71deb007046f78c07758e0aec54f8",
       "version_major": 2,
       "version_minor": 0
      },
      "text/plain": [
       "Depth 7 sub-progress:   0%|          | 0/9 [00:00<?, ?it/s]"
      ]
     },
     "metadata": {},
     "output_type": "display_data"
    },
    {
     "data": {
      "application/vnd.jupyter.widget-view+json": {
       "model_id": "57e2961ef8d24adcbc19f13df6a25c32",
       "version_major": 2,
       "version_minor": 0
      },
      "text/plain": [
       "Depth 7 sub-progress:   0%|          | 0/9 [00:00<?, ?it/s]"
      ]
     },
     "metadata": {},
     "output_type": "display_data"
    },
    {
     "data": {
      "application/vnd.jupyter.widget-view+json": {
       "model_id": "91cdfd154eed47eb8f335e50bba9effd",
       "version_major": 2,
       "version_minor": 0
      },
      "text/plain": [
       "Depth 7 sub-progress:   0%|          | 0/9 [00:00<?, ?it/s]"
      ]
     },
     "metadata": {},
     "output_type": "display_data"
    },
    {
     "data": {
      "application/vnd.jupyter.widget-view+json": {
       "model_id": "10a57e03d0c240298dade5c5af00666d",
       "version_major": 2,
       "version_minor": 0
      },
      "text/plain": [
       "Depth 7 sub-progress:   0%|          | 0/9 [00:00<?, ?it/s]"
      ]
     },
     "metadata": {},
     "output_type": "display_data"
    },
    {
     "data": {
      "application/vnd.jupyter.widget-view+json": {
       "model_id": "ecea36db961d49e7b5c5f96cb576b8a6",
       "version_major": 2,
       "version_minor": 0
      },
      "text/plain": [
       "Depth 7 sub-progress:   0%|          | 0/9 [00:00<?, ?it/s]"
      ]
     },
     "metadata": {},
     "output_type": "display_data"
    },
    {
     "data": {
      "application/vnd.jupyter.widget-view+json": {
       "model_id": "054ad3f6e00e4bb1952bca523a3f69fd",
       "version_major": 2,
       "version_minor": 0
      },
      "text/plain": [
       "Depth 7 sub-progress:   0%|          | 0/9 [00:00<?, ?it/s]"
      ]
     },
     "metadata": {},
     "output_type": "display_data"
    },
    {
     "data": {
      "application/vnd.jupyter.widget-view+json": {
       "model_id": "a50446ccccac4081a75c4f8eec5359a7",
       "version_major": 2,
       "version_minor": 0
      },
      "text/plain": [
       "Depth 7 sub-progress:   0%|          | 0/9 [00:00<?, ?it/s]"
      ]
     },
     "metadata": {},
     "output_type": "display_data"
    },
    {
     "data": {
      "application/vnd.jupyter.widget-view+json": {
       "model_id": "9734b7a3c40f4539bac6cd5818607663",
       "version_major": 2,
       "version_minor": 0
      },
      "text/plain": [
       "Depth 7 sub-progress:   0%|          | 0/9 [00:00<?, ?it/s]"
      ]
     },
     "metadata": {},
     "output_type": "display_data"
    },
    {
     "data": {
      "application/vnd.jupyter.widget-view+json": {
       "model_id": "d545df4028ae48c8ad1e6368ed641ba9",
       "version_major": 2,
       "version_minor": 0
      },
      "text/plain": [
       "Depth 7 sub-progress:   0%|          | 0/9 [00:00<?, ?it/s]"
      ]
     },
     "metadata": {},
     "output_type": "display_data"
    },
    {
     "data": {
      "application/vnd.jupyter.widget-view+json": {
       "model_id": "313c128c3e414f82b4f64fcb99a32b72",
       "version_major": 2,
       "version_minor": 0
      },
      "text/plain": [
       "Depth 7 sub-progress:   0%|          | 0/9 [00:00<?, ?it/s]"
      ]
     },
     "metadata": {},
     "output_type": "display_data"
    },
    {
     "data": {
      "application/vnd.jupyter.widget-view+json": {
       "model_id": "56c5faf30deb46f8b05d540f08563a89",
       "version_major": 2,
       "version_minor": 0
      },
      "text/plain": [
       "Depth 7 sub-progress:   0%|          | 0/9 [00:00<?, ?it/s]"
      ]
     },
     "metadata": {},
     "output_type": "display_data"
    },
    {
     "data": {
      "application/vnd.jupyter.widget-view+json": {
       "model_id": "6415f26a87094f339200d8610c677dfe",
       "version_major": 2,
       "version_minor": 0
      },
      "text/plain": [
       "Depth 7 sub-progress:   0%|          | 0/9 [00:00<?, ?it/s]"
      ]
     },
     "metadata": {},
     "output_type": "display_data"
    },
    {
     "data": {
      "application/vnd.jupyter.widget-view+json": {
       "model_id": "dcd3d8f336694bd095498ff96507a76a",
       "version_major": 2,
       "version_minor": 0
      },
      "text/plain": [
       "Depth 7 sub-progress:   0%|          | 0/9 [00:00<?, ?it/s]"
      ]
     },
     "metadata": {},
     "output_type": "display_data"
    },
    {
     "data": {
      "application/vnd.jupyter.widget-view+json": {
       "model_id": "72e83d7a74034d8395540d1fb0dccf11",
       "version_major": 2,
       "version_minor": 0
      },
      "text/plain": [
       "Depth 7 sub-progress:   0%|          | 0/9 [00:00<?, ?it/s]"
      ]
     },
     "metadata": {},
     "output_type": "display_data"
    },
    {
     "data": {
      "application/vnd.jupyter.widget-view+json": {
       "model_id": "ad9c81eef7fd4d8d9df27f2c0e1e2e5f",
       "version_major": 2,
       "version_minor": 0
      },
      "text/plain": [
       "Depth 7 sub-progress:   0%|          | 0/9 [00:00<?, ?it/s]"
      ]
     },
     "metadata": {},
     "output_type": "display_data"
    },
    {
     "data": {
      "application/vnd.jupyter.widget-view+json": {
       "model_id": "ff449aee3d134966a7730933e6dbe7db",
       "version_major": 2,
       "version_minor": 0
      },
      "text/plain": [
       "Depth 7 sub-progress:   0%|          | 0/9 [00:00<?, ?it/s]"
      ]
     },
     "metadata": {},
     "output_type": "display_data"
    },
    {
     "data": {
      "application/vnd.jupyter.widget-view+json": {
       "model_id": "7a788ab1d9d0427aa60da3678e9322f8",
       "version_major": 2,
       "version_minor": 0
      },
      "text/plain": [
       "Depth 7 sub-progress:   0%|          | 0/9 [00:00<?, ?it/s]"
      ]
     },
     "metadata": {},
     "output_type": "display_data"
    },
    {
     "data": {
      "application/vnd.jupyter.widget-view+json": {
       "model_id": "4dec0182f97349c6a8a27dd1be1b3970",
       "version_major": 2,
       "version_minor": 0
      },
      "text/plain": [
       "Depth 7 sub-progress:   0%|          | 0/9 [00:00<?, ?it/s]"
      ]
     },
     "metadata": {},
     "output_type": "display_data"
    },
    {
     "data": {
      "application/vnd.jupyter.widget-view+json": {
       "model_id": "56620b74e30347a3b63204b949f156f9",
       "version_major": 2,
       "version_minor": 0
      },
      "text/plain": [
       "Depth 7 sub-progress:   0%|          | 0/9 [00:00<?, ?it/s]"
      ]
     },
     "metadata": {},
     "output_type": "display_data"
    },
    {
     "data": {
      "application/vnd.jupyter.widget-view+json": {
       "model_id": "ec5f36aa0567481a921c274d94ae745d",
       "version_major": 2,
       "version_minor": 0
      },
      "text/plain": [
       "Depth 7 sub-progress:   0%|          | 0/9 [00:00<?, ?it/s]"
      ]
     },
     "metadata": {},
     "output_type": "display_data"
    },
    {
     "data": {
      "application/vnd.jupyter.widget-view+json": {
       "model_id": "5163926025444588bbb120b3afe80f25",
       "version_major": 2,
       "version_minor": 0
      },
      "text/plain": [
       "Depth 7 sub-progress:   0%|          | 0/9 [00:00<?, ?it/s]"
      ]
     },
     "metadata": {},
     "output_type": "display_data"
    },
    {
     "data": {
      "application/vnd.jupyter.widget-view+json": {
       "model_id": "007c0d17570b49df9c2d12ac47f7b23f",
       "version_major": 2,
       "version_minor": 0
      },
      "text/plain": [
       "Depth 7 sub-progress:   0%|          | 0/9 [00:00<?, ?it/s]"
      ]
     },
     "metadata": {},
     "output_type": "display_data"
    },
    {
     "data": {
      "application/vnd.jupyter.widget-view+json": {
       "model_id": "0b3985b4ab8d40e88c8b4f985c55abb2",
       "version_major": 2,
       "version_minor": 0
      },
      "text/plain": [
       "Depth 7 sub-progress:   0%|          | 0/9 [00:00<?, ?it/s]"
      ]
     },
     "metadata": {},
     "output_type": "display_data"
    },
    {
     "data": {
      "application/vnd.jupyter.widget-view+json": {
       "model_id": "415a6d4715304255bab5832763f239fd",
       "version_major": 2,
       "version_minor": 0
      },
      "text/plain": [
       "Depth 7 sub-progress:   0%|          | 0/9 [00:00<?, ?it/s]"
      ]
     },
     "metadata": {},
     "output_type": "display_data"
    },
    {
     "data": {
      "application/vnd.jupyter.widget-view+json": {
       "model_id": "5159fd092cd340c080dee1ef1e9890f0",
       "version_major": 2,
       "version_minor": 0
      },
      "text/plain": [
       "Depth 7 sub-progress:   0%|          | 0/9 [00:00<?, ?it/s]"
      ]
     },
     "metadata": {},
     "output_type": "display_data"
    },
    {
     "data": {
      "application/vnd.jupyter.widget-view+json": {
       "model_id": "b1ec55d194694b88bad710f85ea2dd83",
       "version_major": 2,
       "version_minor": 0
      },
      "text/plain": [
       "Depth 7 sub-progress:   0%|          | 0/9 [00:00<?, ?it/s]"
      ]
     },
     "metadata": {},
     "output_type": "display_data"
    },
    {
     "data": {
      "application/vnd.jupyter.widget-view+json": {
       "model_id": "ffc437bf5569407f88532f41fe599fc8",
       "version_major": 2,
       "version_minor": 0
      },
      "text/plain": [
       "Depth 8:   0%|          | 0/252 [00:00<?, ?it/s]"
      ]
     },
     "metadata": {},
     "output_type": "display_data"
    },
    {
     "data": {
      "application/vnd.jupyter.widget-view+json": {
       "model_id": "18da41b0e93047309b2f033c09f0e498",
       "version_major": 2,
       "version_minor": 0
      },
      "text/plain": [
       "Depth 8 sub-progress:   0%|          | 0/9 [00:00<?, ?it/s]"
      ]
     },
     "metadata": {},
     "output_type": "display_data"
    },
    {
     "data": {
      "application/vnd.jupyter.widget-view+json": {
       "model_id": "db61d3c294d74dd0aea72d4271267dc6",
       "version_major": 2,
       "version_minor": 0
      },
      "text/plain": [
       "Depth 8 sub-progress:   0%|          | 0/9 [00:00<?, ?it/s]"
      ]
     },
     "metadata": {},
     "output_type": "display_data"
    },
    {
     "data": {
      "application/vnd.jupyter.widget-view+json": {
       "model_id": "9ce7be569f1040f29860af54a1a2439b",
       "version_major": 2,
       "version_minor": 0
      },
      "text/plain": [
       "Depth 8 sub-progress:   0%|          | 0/9 [00:00<?, ?it/s]"
      ]
     },
     "metadata": {},
     "output_type": "display_data"
    },
    {
     "data": {
      "application/vnd.jupyter.widget-view+json": {
       "model_id": "3da24804e61c4dc5a53fdb47273a2f71",
       "version_major": 2,
       "version_minor": 0
      },
      "text/plain": [
       "Depth 8 sub-progress:   0%|          | 0/9 [00:00<?, ?it/s]"
      ]
     },
     "metadata": {},
     "output_type": "display_data"
    },
    {
     "data": {
      "application/vnd.jupyter.widget-view+json": {
       "model_id": "e99e8fc501864b829bf8b5fd4c55616a",
       "version_major": 2,
       "version_minor": 0
      },
      "text/plain": [
       "Depth 8 sub-progress:   0%|          | 0/9 [00:00<?, ?it/s]"
      ]
     },
     "metadata": {},
     "output_type": "display_data"
    },
    {
     "data": {
      "application/vnd.jupyter.widget-view+json": {
       "model_id": "aa433368049c4f7e87f474b0f8a0bdac",
       "version_major": 2,
       "version_minor": 0
      },
      "text/plain": [
       "Depth 8 sub-progress:   0%|          | 0/9 [00:00<?, ?it/s]"
      ]
     },
     "metadata": {},
     "output_type": "display_data"
    },
    {
     "data": {
      "application/vnd.jupyter.widget-view+json": {
       "model_id": "0cf97015c74a4d29a596113be265f5dc",
       "version_major": 2,
       "version_minor": 0
      },
      "text/plain": [
       "Depth 8 sub-progress:   0%|          | 0/9 [00:00<?, ?it/s]"
      ]
     },
     "metadata": {},
     "output_type": "display_data"
    },
    {
     "data": {
      "application/vnd.jupyter.widget-view+json": {
       "model_id": "4e66162b13014610bf68a1b7fe130a13",
       "version_major": 2,
       "version_minor": 0
      },
      "text/plain": [
       "Depth 8 sub-progress:   0%|          | 0/9 [00:00<?, ?it/s]"
      ]
     },
     "metadata": {},
     "output_type": "display_data"
    },
    {
     "data": {
      "application/vnd.jupyter.widget-view+json": {
       "model_id": "dcef3d342c664075ad32a28837d0e217",
       "version_major": 2,
       "version_minor": 0
      },
      "text/plain": [
       "Depth 8 sub-progress:   0%|          | 0/9 [00:00<?, ?it/s]"
      ]
     },
     "metadata": {},
     "output_type": "display_data"
    },
    {
     "data": {
      "application/vnd.jupyter.widget-view+json": {
       "model_id": "d944767d6cbe4bf68a7380e921a3cb0c",
       "version_major": 2,
       "version_minor": 0
      },
      "text/plain": [
       "Depth 8 sub-progress:   0%|          | 0/9 [00:00<?, ?it/s]"
      ]
     },
     "metadata": {},
     "output_type": "display_data"
    },
    {
     "data": {
      "application/vnd.jupyter.widget-view+json": {
       "model_id": "740f6786200a457daada8d0c5c5793f5",
       "version_major": 2,
       "version_minor": 0
      },
      "text/plain": [
       "Depth 8 sub-progress:   0%|          | 0/9 [00:00<?, ?it/s]"
      ]
     },
     "metadata": {},
     "output_type": "display_data"
    },
    {
     "data": {
      "application/vnd.jupyter.widget-view+json": {
       "model_id": "8a84b0ed403b44bdbba49b211ee824bb",
       "version_major": 2,
       "version_minor": 0
      },
      "text/plain": [
       "Depth 8 sub-progress:   0%|          | 0/9 [00:00<?, ?it/s]"
      ]
     },
     "metadata": {},
     "output_type": "display_data"
    },
    {
     "data": {
      "application/vnd.jupyter.widget-view+json": {
       "model_id": "e0eec5a98cfa437c8208d39794049a4d",
       "version_major": 2,
       "version_minor": 0
      },
      "text/plain": [
       "Depth 8 sub-progress:   0%|          | 0/9 [00:00<?, ?it/s]"
      ]
     },
     "metadata": {},
     "output_type": "display_data"
    },
    {
     "data": {
      "application/vnd.jupyter.widget-view+json": {
       "model_id": "2c41926b2aca49efa0c2f31883b3ae4c",
       "version_major": 2,
       "version_minor": 0
      },
      "text/plain": [
       "Depth 8 sub-progress:   0%|          | 0/9 [00:00<?, ?it/s]"
      ]
     },
     "metadata": {},
     "output_type": "display_data"
    },
    {
     "data": {
      "application/vnd.jupyter.widget-view+json": {
       "model_id": "eb3881619e1b45b58ddc524c13ccabff",
       "version_major": 2,
       "version_minor": 0
      },
      "text/plain": [
       "Depth 8 sub-progress:   0%|          | 0/9 [00:00<?, ?it/s]"
      ]
     },
     "metadata": {},
     "output_type": "display_data"
    },
    {
     "data": {
      "application/vnd.jupyter.widget-view+json": {
       "model_id": "fcfcb45beed34b92a2240cdbea4b3038",
       "version_major": 2,
       "version_minor": 0
      },
      "text/plain": [
       "Depth 8 sub-progress:   0%|          | 0/9 [00:00<?, ?it/s]"
      ]
     },
     "metadata": {},
     "output_type": "display_data"
    },
    {
     "data": {
      "application/vnd.jupyter.widget-view+json": {
       "model_id": "c49f8841ab43402d9ba3022f2ddbbdab",
       "version_major": 2,
       "version_minor": 0
      },
      "text/plain": [
       "Depth 8 sub-progress:   0%|          | 0/9 [00:00<?, ?it/s]"
      ]
     },
     "metadata": {},
     "output_type": "display_data"
    },
    {
     "data": {
      "application/vnd.jupyter.widget-view+json": {
       "model_id": "55610f416c174bb898416463467ba0bf",
       "version_major": 2,
       "version_minor": 0
      },
      "text/plain": [
       "Depth 8 sub-progress:   0%|          | 0/9 [00:00<?, ?it/s]"
      ]
     },
     "metadata": {},
     "output_type": "display_data"
    },
    {
     "data": {
      "application/vnd.jupyter.widget-view+json": {
       "model_id": "7eb02f9df0f6429986601e3e838b366d",
       "version_major": 2,
       "version_minor": 0
      },
      "text/plain": [
       "Depth 8 sub-progress:   0%|          | 0/9 [00:00<?, ?it/s]"
      ]
     },
     "metadata": {},
     "output_type": "display_data"
    },
    {
     "data": {
      "application/vnd.jupyter.widget-view+json": {
       "model_id": "868e838810fe4d058a7ef0fb68468b30",
       "version_major": 2,
       "version_minor": 0
      },
      "text/plain": [
       "Depth 8 sub-progress:   0%|          | 0/9 [00:00<?, ?it/s]"
      ]
     },
     "metadata": {},
     "output_type": "display_data"
    },
    {
     "data": {
      "application/vnd.jupyter.widget-view+json": {
       "model_id": "4693b9eedf39409fb53939492c420690",
       "version_major": 2,
       "version_minor": 0
      },
      "text/plain": [
       "Depth 8 sub-progress:   0%|          | 0/9 [00:00<?, ?it/s]"
      ]
     },
     "metadata": {},
     "output_type": "display_data"
    },
    {
     "data": {
      "application/vnd.jupyter.widget-view+json": {
       "model_id": "adc39c608ef547ebb68569df2b46ddf1",
       "version_major": 2,
       "version_minor": 0
      },
      "text/plain": [
       "Depth 8 sub-progress:   0%|          | 0/9 [00:00<?, ?it/s]"
      ]
     },
     "metadata": {},
     "output_type": "display_data"
    },
    {
     "data": {
      "application/vnd.jupyter.widget-view+json": {
       "model_id": "e66bd6e5909b4d48b8d8608933dd67a2",
       "version_major": 2,
       "version_minor": 0
      },
      "text/plain": [
       "Depth 8 sub-progress:   0%|          | 0/9 [00:00<?, ?it/s]"
      ]
     },
     "metadata": {},
     "output_type": "display_data"
    },
    {
     "data": {
      "application/vnd.jupyter.widget-view+json": {
       "model_id": "4b09abd50598453887429604c72ad681",
       "version_major": 2,
       "version_minor": 0
      },
      "text/plain": [
       "Depth 8 sub-progress:   0%|          | 0/9 [00:00<?, ?it/s]"
      ]
     },
     "metadata": {},
     "output_type": "display_data"
    },
    {
     "data": {
      "application/vnd.jupyter.widget-view+json": {
       "model_id": "4d0c2386d9fe45d6bc82757b06dbe767",
       "version_major": 2,
       "version_minor": 0
      },
      "text/plain": [
       "Depth 8 sub-progress:   0%|          | 0/9 [00:00<?, ?it/s]"
      ]
     },
     "metadata": {},
     "output_type": "display_data"
    },
    {
     "data": {
      "application/vnd.jupyter.widget-view+json": {
       "model_id": "860424a9cdea4c539b395dfbb7907a83",
       "version_major": 2,
       "version_minor": 0
      },
      "text/plain": [
       "Depth 8 sub-progress:   0%|          | 0/9 [00:00<?, ?it/s]"
      ]
     },
     "metadata": {},
     "output_type": "display_data"
    },
    {
     "data": {
      "application/vnd.jupyter.widget-view+json": {
       "model_id": "ff5f983e229a42dcbfe27c6d154e64f2",
       "version_major": 2,
       "version_minor": 0
      },
      "text/plain": [
       "Depth 8 sub-progress:   0%|          | 0/9 [00:00<?, ?it/s]"
      ]
     },
     "metadata": {},
     "output_type": "display_data"
    },
    {
     "data": {
      "application/vnd.jupyter.widget-view+json": {
       "model_id": "c3636d2b2fd64152a56f5939be39548a",
       "version_major": 2,
       "version_minor": 0
      },
      "text/plain": [
       "Depth 8 sub-progress:   0%|          | 0/9 [00:00<?, ?it/s]"
      ]
     },
     "metadata": {},
     "output_type": "display_data"
    },
    {
     "data": {
      "application/vnd.jupyter.widget-view+json": {
       "model_id": "a72d2f00a07048b2b67901ca0364523a",
       "version_major": 2,
       "version_minor": 0
      },
      "text/plain": [
       "Depth 8 sub-progress:   0%|          | 0/9 [00:00<?, ?it/s]"
      ]
     },
     "metadata": {},
     "output_type": "display_data"
    },
    {
     "data": {
      "application/vnd.jupyter.widget-view+json": {
       "model_id": "c067e242cd604f1f993b5890524fe60f",
       "version_major": 2,
       "version_minor": 0
      },
      "text/plain": [
       "Depth 8 sub-progress:   0%|          | 0/9 [00:00<?, ?it/s]"
      ]
     },
     "metadata": {},
     "output_type": "display_data"
    },
    {
     "data": {
      "application/vnd.jupyter.widget-view+json": {
       "model_id": "a4d0847cfc9143a096bc524accde9cb5",
       "version_major": 2,
       "version_minor": 0
      },
      "text/plain": [
       "Depth 8 sub-progress:   0%|          | 0/9 [00:00<?, ?it/s]"
      ]
     },
     "metadata": {},
     "output_type": "display_data"
    },
    {
     "data": {
      "application/vnd.jupyter.widget-view+json": {
       "model_id": "5801295968dd4ac386b82f94974af701",
       "version_major": 2,
       "version_minor": 0
      },
      "text/plain": [
       "Depth 8 sub-progress:   0%|          | 0/9 [00:00<?, ?it/s]"
      ]
     },
     "metadata": {},
     "output_type": "display_data"
    },
    {
     "data": {
      "application/vnd.jupyter.widget-view+json": {
       "model_id": "e2532729390d47619d8a6d378d45a881",
       "version_major": 2,
       "version_minor": 0
      },
      "text/plain": [
       "Depth 8 sub-progress:   0%|          | 0/9 [00:00<?, ?it/s]"
      ]
     },
     "metadata": {},
     "output_type": "display_data"
    },
    {
     "data": {
      "application/vnd.jupyter.widget-view+json": {
       "model_id": "e51eca6721f2428a83bfb6b580e0a2fe",
       "version_major": 2,
       "version_minor": 0
      },
      "text/plain": [
       "Depth 8 sub-progress:   0%|          | 0/9 [00:00<?, ?it/s]"
      ]
     },
     "metadata": {},
     "output_type": "display_data"
    },
    {
     "data": {
      "application/vnd.jupyter.widget-view+json": {
       "model_id": "af2b4844a8de431194ecc7ceef222026",
       "version_major": 2,
       "version_minor": 0
      },
      "text/plain": [
       "Depth 8 sub-progress:   0%|          | 0/9 [00:00<?, ?it/s]"
      ]
     },
     "metadata": {},
     "output_type": "display_data"
    },
    {
     "data": {
      "application/vnd.jupyter.widget-view+json": {
       "model_id": "4d033944d2ce41b3a21854f6dbdb3373",
       "version_major": 2,
       "version_minor": 0
      },
      "text/plain": [
       "Depth 8 sub-progress:   0%|          | 0/9 [00:00<?, ?it/s]"
      ]
     },
     "metadata": {},
     "output_type": "display_data"
    },
    {
     "data": {
      "application/vnd.jupyter.widget-view+json": {
       "model_id": "ef91f33c7fd1469b80f7c1d9d518596b",
       "version_major": 2,
       "version_minor": 0
      },
      "text/plain": [
       "Depth 8 sub-progress:   0%|          | 0/9 [00:00<?, ?it/s]"
      ]
     },
     "metadata": {},
     "output_type": "display_data"
    },
    {
     "data": {
      "application/vnd.jupyter.widget-view+json": {
       "model_id": "41aded0601494f31b6e73acd2c59f4fb",
       "version_major": 2,
       "version_minor": 0
      },
      "text/plain": [
       "Depth 8 sub-progress:   0%|          | 0/9 [00:00<?, ?it/s]"
      ]
     },
     "metadata": {},
     "output_type": "display_data"
    },
    {
     "data": {
      "application/vnd.jupyter.widget-view+json": {
       "model_id": "9eead7ed294148868b0263cd31ccf522",
       "version_major": 2,
       "version_minor": 0
      },
      "text/plain": [
       "Depth 8 sub-progress:   0%|          | 0/9 [00:00<?, ?it/s]"
      ]
     },
     "metadata": {},
     "output_type": "display_data"
    },
    {
     "data": {
      "application/vnd.jupyter.widget-view+json": {
       "model_id": "a3419a36517c4775ba2c4333c1dd5a24",
       "version_major": 2,
       "version_minor": 0
      },
      "text/plain": [
       "Depth 8 sub-progress:   0%|          | 0/9 [00:00<?, ?it/s]"
      ]
     },
     "metadata": {},
     "output_type": "display_data"
    },
    {
     "data": {
      "application/vnd.jupyter.widget-view+json": {
       "model_id": "87eac0c6efbc4e3c9d7534c9a40fb646",
       "version_major": 2,
       "version_minor": 0
      },
      "text/plain": [
       "Depth 8 sub-progress:   0%|          | 0/9 [00:00<?, ?it/s]"
      ]
     },
     "metadata": {},
     "output_type": "display_data"
    },
    {
     "data": {
      "application/vnd.jupyter.widget-view+json": {
       "model_id": "36b15d9c08654979a8869a02c9e7b6bd",
       "version_major": 2,
       "version_minor": 0
      },
      "text/plain": [
       "Depth 8 sub-progress:   0%|          | 0/9 [00:00<?, ?it/s]"
      ]
     },
     "metadata": {},
     "output_type": "display_data"
    },
    {
     "data": {
      "application/vnd.jupyter.widget-view+json": {
       "model_id": "2292cb0262b74618b89d5bcd74705431",
       "version_major": 2,
       "version_minor": 0
      },
      "text/plain": [
       "Depth 8 sub-progress:   0%|          | 0/9 [00:00<?, ?it/s]"
      ]
     },
     "metadata": {},
     "output_type": "display_data"
    },
    {
     "data": {
      "application/vnd.jupyter.widget-view+json": {
       "model_id": "17cc98c5dc694c9cbffc589af688c8d3",
       "version_major": 2,
       "version_minor": 0
      },
      "text/plain": [
       "Depth 8 sub-progress:   0%|          | 0/9 [00:00<?, ?it/s]"
      ]
     },
     "metadata": {},
     "output_type": "display_data"
    },
    {
     "data": {
      "application/vnd.jupyter.widget-view+json": {
       "model_id": "ade56a91b1604c848286fe3eb9ce26b1",
       "version_major": 2,
       "version_minor": 0
      },
      "text/plain": [
       "Depth 8 sub-progress:   0%|          | 0/9 [00:00<?, ?it/s]"
      ]
     },
     "metadata": {},
     "output_type": "display_data"
    },
    {
     "data": {
      "application/vnd.jupyter.widget-view+json": {
       "model_id": "9380300c02b9429a8e7d1dcd14bbe970",
       "version_major": 2,
       "version_minor": 0
      },
      "text/plain": [
       "Depth 8 sub-progress:   0%|          | 0/9 [00:00<?, ?it/s]"
      ]
     },
     "metadata": {},
     "output_type": "display_data"
    },
    {
     "data": {
      "application/vnd.jupyter.widget-view+json": {
       "model_id": "ed12a01e78a44ae5b5eddf798710d020",
       "version_major": 2,
       "version_minor": 0
      },
      "text/plain": [
       "Depth 8 sub-progress:   0%|          | 0/9 [00:00<?, ?it/s]"
      ]
     },
     "metadata": {},
     "output_type": "display_data"
    },
    {
     "data": {
      "application/vnd.jupyter.widget-view+json": {
       "model_id": "f5713aaca3034f42bc1b330ff129cb98",
       "version_major": 2,
       "version_minor": 0
      },
      "text/plain": [
       "Depth 8 sub-progress:   0%|          | 0/9 [00:00<?, ?it/s]"
      ]
     },
     "metadata": {},
     "output_type": "display_data"
    },
    {
     "data": {
      "application/vnd.jupyter.widget-view+json": {
       "model_id": "7f44450283ec42969c8c0fe28127859a",
       "version_major": 2,
       "version_minor": 0
      },
      "text/plain": [
       "Depth 8 sub-progress:   0%|          | 0/9 [00:00<?, ?it/s]"
      ]
     },
     "metadata": {},
     "output_type": "display_data"
    },
    {
     "data": {
      "application/vnd.jupyter.widget-view+json": {
       "model_id": "ffa32d6b996c4dfcb4f86850a3ee50eb",
       "version_major": 2,
       "version_minor": 0
      },
      "text/plain": [
       "Depth 8 sub-progress:   0%|          | 0/9 [00:00<?, ?it/s]"
      ]
     },
     "metadata": {},
     "output_type": "display_data"
    },
    {
     "data": {
      "application/vnd.jupyter.widget-view+json": {
       "model_id": "b56149a8a6054a6284ed7c0cf90922d4",
       "version_major": 2,
       "version_minor": 0
      },
      "text/plain": [
       "Depth 8 sub-progress:   0%|          | 0/9 [00:00<?, ?it/s]"
      ]
     },
     "metadata": {},
     "output_type": "display_data"
    },
    {
     "data": {
      "application/vnd.jupyter.widget-view+json": {
       "model_id": "6617ede877e7468582ae0e10cd06255e",
       "version_major": 2,
       "version_minor": 0
      },
      "text/plain": [
       "Depth 8 sub-progress:   0%|          | 0/9 [00:00<?, ?it/s]"
      ]
     },
     "metadata": {},
     "output_type": "display_data"
    },
    {
     "data": {
      "application/vnd.jupyter.widget-view+json": {
       "model_id": "dd7975250fec445e91fdc8d67e5fd42b",
       "version_major": 2,
       "version_minor": 0
      },
      "text/plain": [
       "Depth 8 sub-progress:   0%|          | 0/9 [00:00<?, ?it/s]"
      ]
     },
     "metadata": {},
     "output_type": "display_data"
    },
    {
     "data": {
      "application/vnd.jupyter.widget-view+json": {
       "model_id": "04dc4954d97d462e8092de70b7458566",
       "version_major": 2,
       "version_minor": 0
      },
      "text/plain": [
       "Depth 8 sub-progress:   0%|          | 0/9 [00:00<?, ?it/s]"
      ]
     },
     "metadata": {},
     "output_type": "display_data"
    },
    {
     "data": {
      "application/vnd.jupyter.widget-view+json": {
       "model_id": "03393713a11943ef83d28dbd3f187daf",
       "version_major": 2,
       "version_minor": 0
      },
      "text/plain": [
       "Depth 8 sub-progress:   0%|          | 0/9 [00:00<?, ?it/s]"
      ]
     },
     "metadata": {},
     "output_type": "display_data"
    },
    {
     "data": {
      "application/vnd.jupyter.widget-view+json": {
       "model_id": "00899124862445b797cc6638edf20495",
       "version_major": 2,
       "version_minor": 0
      },
      "text/plain": [
       "Depth 8 sub-progress:   0%|          | 0/9 [00:00<?, ?it/s]"
      ]
     },
     "metadata": {},
     "output_type": "display_data"
    },
    {
     "data": {
      "application/vnd.jupyter.widget-view+json": {
       "model_id": "8fec44aebaf24886996be9ada2a34682",
       "version_major": 2,
       "version_minor": 0
      },
      "text/plain": [
       "Depth 8 sub-progress:   0%|          | 0/9 [00:00<?, ?it/s]"
      ]
     },
     "metadata": {},
     "output_type": "display_data"
    },
    {
     "data": {
      "application/vnd.jupyter.widget-view+json": {
       "model_id": "a80badc3dd234b61a4f8ff05f4ac08c7",
       "version_major": 2,
       "version_minor": 0
      },
      "text/plain": [
       "Depth 8 sub-progress:   0%|          | 0/9 [00:00<?, ?it/s]"
      ]
     },
     "metadata": {},
     "output_type": "display_data"
    },
    {
     "data": {
      "application/vnd.jupyter.widget-view+json": {
       "model_id": "6121115d112d431b81b59ecc458ac999",
       "version_major": 2,
       "version_minor": 0
      },
      "text/plain": [
       "Depth 8 sub-progress:   0%|          | 0/9 [00:00<?, ?it/s]"
      ]
     },
     "metadata": {},
     "output_type": "display_data"
    },
    {
     "data": {
      "application/vnd.jupyter.widget-view+json": {
       "model_id": "ffa6d93b187b4d7cbdff41032c78d9cc",
       "version_major": 2,
       "version_minor": 0
      },
      "text/plain": [
       "Depth 8 sub-progress:   0%|          | 0/9 [00:00<?, ?it/s]"
      ]
     },
     "metadata": {},
     "output_type": "display_data"
    },
    {
     "data": {
      "application/vnd.jupyter.widget-view+json": {
       "model_id": "22ec9c8d4d1a48289f26fc000ea8e495",
       "version_major": 2,
       "version_minor": 0
      },
      "text/plain": [
       "Depth 8 sub-progress:   0%|          | 0/9 [00:00<?, ?it/s]"
      ]
     },
     "metadata": {},
     "output_type": "display_data"
    },
    {
     "data": {
      "application/vnd.jupyter.widget-view+json": {
       "model_id": "3a9f7238eefc46168687f9d11607c798",
       "version_major": 2,
       "version_minor": 0
      },
      "text/plain": [
       "Depth 8 sub-progress:   0%|          | 0/9 [00:00<?, ?it/s]"
      ]
     },
     "metadata": {},
     "output_type": "display_data"
    },
    {
     "data": {
      "application/vnd.jupyter.widget-view+json": {
       "model_id": "18648dc2c7514e85abc7e265e13add9c",
       "version_major": 2,
       "version_minor": 0
      },
      "text/plain": [
       "Depth 8 sub-progress:   0%|          | 0/9 [00:00<?, ?it/s]"
      ]
     },
     "metadata": {},
     "output_type": "display_data"
    },
    {
     "data": {
      "application/vnd.jupyter.widget-view+json": {
       "model_id": "feaa60a22a454e82abce83237af02e37",
       "version_major": 2,
       "version_minor": 0
      },
      "text/plain": [
       "Depth 8 sub-progress:   0%|          | 0/9 [00:00<?, ?it/s]"
      ]
     },
     "metadata": {},
     "output_type": "display_data"
    },
    {
     "data": {
      "application/vnd.jupyter.widget-view+json": {
       "model_id": "d14f0525e34d448586652bbf63282201",
       "version_major": 2,
       "version_minor": 0
      },
      "text/plain": [
       "Depth 8 sub-progress:   0%|          | 0/9 [00:00<?, ?it/s]"
      ]
     },
     "metadata": {},
     "output_type": "display_data"
    },
    {
     "data": {
      "application/vnd.jupyter.widget-view+json": {
       "model_id": "6289dc0b00594b37bdbb6b5a51154f30",
       "version_major": 2,
       "version_minor": 0
      },
      "text/plain": [
       "Depth 8 sub-progress:   0%|          | 0/9 [00:00<?, ?it/s]"
      ]
     },
     "metadata": {},
     "output_type": "display_data"
    },
    {
     "data": {
      "application/vnd.jupyter.widget-view+json": {
       "model_id": "571888e3f62b415fb5e8018f27ddfe5a",
       "version_major": 2,
       "version_minor": 0
      },
      "text/plain": [
       "Depth 8 sub-progress:   0%|          | 0/9 [00:00<?, ?it/s]"
      ]
     },
     "metadata": {},
     "output_type": "display_data"
    },
    {
     "data": {
      "application/vnd.jupyter.widget-view+json": {
       "model_id": "fe3d43a3c5a446b5997089756320190f",
       "version_major": 2,
       "version_minor": 0
      },
      "text/plain": [
       "Depth 8 sub-progress:   0%|          | 0/9 [00:00<?, ?it/s]"
      ]
     },
     "metadata": {},
     "output_type": "display_data"
    },
    {
     "data": {
      "application/vnd.jupyter.widget-view+json": {
       "model_id": "9f98bf0b6b8e4998811a7c2dd3314ca0",
       "version_major": 2,
       "version_minor": 0
      },
      "text/plain": [
       "Depth 8 sub-progress:   0%|          | 0/9 [00:00<?, ?it/s]"
      ]
     },
     "metadata": {},
     "output_type": "display_data"
    },
    {
     "data": {
      "application/vnd.jupyter.widget-view+json": {
       "model_id": "3b061015ac0b4bc6a13cf640e94b1447",
       "version_major": 2,
       "version_minor": 0
      },
      "text/plain": [
       "Depth 8 sub-progress:   0%|          | 0/9 [00:00<?, ?it/s]"
      ]
     },
     "metadata": {},
     "output_type": "display_data"
    },
    {
     "data": {
      "application/vnd.jupyter.widget-view+json": {
       "model_id": "259fe85c1d384af7b7afa631aa8b5a9b",
       "version_major": 2,
       "version_minor": 0
      },
      "text/plain": [
       "Depth 8 sub-progress:   0%|          | 0/9 [00:00<?, ?it/s]"
      ]
     },
     "metadata": {},
     "output_type": "display_data"
    },
    {
     "data": {
      "application/vnd.jupyter.widget-view+json": {
       "model_id": "5bc93d711ee24190b9d70a6d9c133cad",
       "version_major": 2,
       "version_minor": 0
      },
      "text/plain": [
       "Depth 8 sub-progress:   0%|          | 0/9 [00:00<?, ?it/s]"
      ]
     },
     "metadata": {},
     "output_type": "display_data"
    },
    {
     "data": {
      "application/vnd.jupyter.widget-view+json": {
       "model_id": "2ed0feff17744e58bb4cff9234617d1e",
       "version_major": 2,
       "version_minor": 0
      },
      "text/plain": [
       "Depth 8 sub-progress:   0%|          | 0/9 [00:00<?, ?it/s]"
      ]
     },
     "metadata": {},
     "output_type": "display_data"
    },
    {
     "data": {
      "application/vnd.jupyter.widget-view+json": {
       "model_id": "ec8f108723894656963d1f3d0798cf6f",
       "version_major": 2,
       "version_minor": 0
      },
      "text/plain": [
       "Depth 8 sub-progress:   0%|          | 0/9 [00:00<?, ?it/s]"
      ]
     },
     "metadata": {},
     "output_type": "display_data"
    },
    {
     "data": {
      "application/vnd.jupyter.widget-view+json": {
       "model_id": "e7486eace86f42628042859dcf8a0541",
       "version_major": 2,
       "version_minor": 0
      },
      "text/plain": [
       "Depth 8 sub-progress:   0%|          | 0/9 [00:00<?, ?it/s]"
      ]
     },
     "metadata": {},
     "output_type": "display_data"
    },
    {
     "data": {
      "application/vnd.jupyter.widget-view+json": {
       "model_id": "8435042dcf90484db1ace92ccfd15d76",
       "version_major": 2,
       "version_minor": 0
      },
      "text/plain": [
       "Depth 8 sub-progress:   0%|          | 0/9 [00:00<?, ?it/s]"
      ]
     },
     "metadata": {},
     "output_type": "display_data"
    },
    {
     "data": {
      "application/vnd.jupyter.widget-view+json": {
       "model_id": "8561e9fd64c94ac0ac604a703403aca1",
       "version_major": 2,
       "version_minor": 0
      },
      "text/plain": [
       "Depth 8 sub-progress:   0%|          | 0/9 [00:00<?, ?it/s]"
      ]
     },
     "metadata": {},
     "output_type": "display_data"
    },
    {
     "data": {
      "application/vnd.jupyter.widget-view+json": {
       "model_id": "e23d803592884acbbdcb2fc9ee39809f",
       "version_major": 2,
       "version_minor": 0
      },
      "text/plain": [
       "Depth 8 sub-progress:   0%|          | 0/9 [00:00<?, ?it/s]"
      ]
     },
     "metadata": {},
     "output_type": "display_data"
    },
    {
     "data": {
      "application/vnd.jupyter.widget-view+json": {
       "model_id": "3ae28d6bf148495195239b8f8fb1e6f4",
       "version_major": 2,
       "version_minor": 0
      },
      "text/plain": [
       "Depth 8 sub-progress:   0%|          | 0/9 [00:00<?, ?it/s]"
      ]
     },
     "metadata": {},
     "output_type": "display_data"
    },
    {
     "data": {
      "application/vnd.jupyter.widget-view+json": {
       "model_id": "16871a48e3bf467b87c70198c2b6acfd",
       "version_major": 2,
       "version_minor": 0
      },
      "text/plain": [
       "Depth 8 sub-progress:   0%|          | 0/9 [00:00<?, ?it/s]"
      ]
     },
     "metadata": {},
     "output_type": "display_data"
    },
    {
     "data": {
      "application/vnd.jupyter.widget-view+json": {
       "model_id": "ca98c586af31428dac8a89ebabff569a",
       "version_major": 2,
       "version_minor": 0
      },
      "text/plain": [
       "Depth 8 sub-progress:   0%|          | 0/9 [00:00<?, ?it/s]"
      ]
     },
     "metadata": {},
     "output_type": "display_data"
    },
    {
     "data": {
      "application/vnd.jupyter.widget-view+json": {
       "model_id": "fee4e23d03424f8b974cbd5a8f5b8fdd",
       "version_major": 2,
       "version_minor": 0
      },
      "text/plain": [
       "Depth 8 sub-progress:   0%|          | 0/9 [00:00<?, ?it/s]"
      ]
     },
     "metadata": {},
     "output_type": "display_data"
    },
    {
     "data": {
      "application/vnd.jupyter.widget-view+json": {
       "model_id": "778cb6b1a41941b1b1c69e16a3571a67",
       "version_major": 2,
       "version_minor": 0
      },
      "text/plain": [
       "Depth 8 sub-progress:   0%|          | 0/9 [00:00<?, ?it/s]"
      ]
     },
     "metadata": {},
     "output_type": "display_data"
    },
    {
     "data": {
      "application/vnd.jupyter.widget-view+json": {
       "model_id": "994c60fda972489ba1515b475f641fc9",
       "version_major": 2,
       "version_minor": 0
      },
      "text/plain": [
       "Depth 8 sub-progress:   0%|          | 0/9 [00:00<?, ?it/s]"
      ]
     },
     "metadata": {},
     "output_type": "display_data"
    },
    {
     "data": {
      "application/vnd.jupyter.widget-view+json": {
       "model_id": "9fbcbae27e7d468180d86b43e035522d",
       "version_major": 2,
       "version_minor": 0
      },
      "text/plain": [
       "Depth 8 sub-progress:   0%|          | 0/9 [00:00<?, ?it/s]"
      ]
     },
     "metadata": {},
     "output_type": "display_data"
    },
    {
     "data": {
      "application/vnd.jupyter.widget-view+json": {
       "model_id": "3bcfce4a45d74663a1b7e10457d5259b",
       "version_major": 2,
       "version_minor": 0
      },
      "text/plain": [
       "Depth 8 sub-progress:   0%|          | 0/9 [00:00<?, ?it/s]"
      ]
     },
     "metadata": {},
     "output_type": "display_data"
    },
    {
     "data": {
      "application/vnd.jupyter.widget-view+json": {
       "model_id": "f89112fcaaae4d48af7b7df1e4681ea9",
       "version_major": 2,
       "version_minor": 0
      },
      "text/plain": [
       "Depth 8 sub-progress:   0%|          | 0/9 [00:00<?, ?it/s]"
      ]
     },
     "metadata": {},
     "output_type": "display_data"
    },
    {
     "data": {
      "application/vnd.jupyter.widget-view+json": {
       "model_id": "d05e064ef2684bddb2753da886306533",
       "version_major": 2,
       "version_minor": 0
      },
      "text/plain": [
       "Depth 8 sub-progress:   0%|          | 0/9 [00:00<?, ?it/s]"
      ]
     },
     "metadata": {},
     "output_type": "display_data"
    },
    {
     "data": {
      "application/vnd.jupyter.widget-view+json": {
       "model_id": "f6a83049fc9243aba3f78092756bf0d4",
       "version_major": 2,
       "version_minor": 0
      },
      "text/plain": [
       "Depth 8 sub-progress:   0%|          | 0/9 [00:00<?, ?it/s]"
      ]
     },
     "metadata": {},
     "output_type": "display_data"
    },
    {
     "data": {
      "application/vnd.jupyter.widget-view+json": {
       "model_id": "4081d73da0d945d7a15a6299eb656efa",
       "version_major": 2,
       "version_minor": 0
      },
      "text/plain": [
       "Depth 8 sub-progress:   0%|          | 0/9 [00:00<?, ?it/s]"
      ]
     },
     "metadata": {},
     "output_type": "display_data"
    },
    {
     "data": {
      "application/vnd.jupyter.widget-view+json": {
       "model_id": "9bf941b0547b475ea8b93a4346351d9d",
       "version_major": 2,
       "version_minor": 0
      },
      "text/plain": [
       "Depth 8 sub-progress:   0%|          | 0/9 [00:00<?, ?it/s]"
      ]
     },
     "metadata": {},
     "output_type": "display_data"
    },
    {
     "data": {
      "application/vnd.jupyter.widget-view+json": {
       "model_id": "4ec029af28794aedb0245580a1ede07e",
       "version_major": 2,
       "version_minor": 0
      },
      "text/plain": [
       "Depth 8 sub-progress:   0%|          | 0/9 [00:00<?, ?it/s]"
      ]
     },
     "metadata": {},
     "output_type": "display_data"
    },
    {
     "data": {
      "application/vnd.jupyter.widget-view+json": {
       "model_id": "0dc9f67f2bbe4edbb83d45e64d9b700c",
       "version_major": 2,
       "version_minor": 0
      },
      "text/plain": [
       "Depth 8 sub-progress:   0%|          | 0/9 [00:00<?, ?it/s]"
      ]
     },
     "metadata": {},
     "output_type": "display_data"
    },
    {
     "data": {
      "application/vnd.jupyter.widget-view+json": {
       "model_id": "ba6dcaaab00144e9bed3f05870969ce4",
       "version_major": 2,
       "version_minor": 0
      },
      "text/plain": [
       "Depth 8 sub-progress:   0%|          | 0/9 [00:00<?, ?it/s]"
      ]
     },
     "metadata": {},
     "output_type": "display_data"
    },
    {
     "data": {
      "application/vnd.jupyter.widget-view+json": {
       "model_id": "683453f6972f4d94a21fe4d376208539",
       "version_major": 2,
       "version_minor": 0
      },
      "text/plain": [
       "Depth 8 sub-progress:   0%|          | 0/9 [00:00<?, ?it/s]"
      ]
     },
     "metadata": {},
     "output_type": "display_data"
    },
    {
     "data": {
      "application/vnd.jupyter.widget-view+json": {
       "model_id": "3dd16e025b904035a46766997c7190ea",
       "version_major": 2,
       "version_minor": 0
      },
      "text/plain": [
       "Depth 8 sub-progress:   0%|          | 0/9 [00:00<?, ?it/s]"
      ]
     },
     "metadata": {},
     "output_type": "display_data"
    },
    {
     "data": {
      "application/vnd.jupyter.widget-view+json": {
       "model_id": "7e09cba9cd94406db0e0d0ba73075d65",
       "version_major": 2,
       "version_minor": 0
      },
      "text/plain": [
       "Depth 8 sub-progress:   0%|          | 0/9 [00:00<?, ?it/s]"
      ]
     },
     "metadata": {},
     "output_type": "display_data"
    },
    {
     "data": {
      "application/vnd.jupyter.widget-view+json": {
       "model_id": "5e0de6bafb744331bd96abaa991f18ad",
       "version_major": 2,
       "version_minor": 0
      },
      "text/plain": [
       "Depth 8 sub-progress:   0%|          | 0/9 [00:00<?, ?it/s]"
      ]
     },
     "metadata": {},
     "output_type": "display_data"
    },
    {
     "data": {
      "application/vnd.jupyter.widget-view+json": {
       "model_id": "401068bb03ff4325af07415b5b3c3549",
       "version_major": 2,
       "version_minor": 0
      },
      "text/plain": [
       "Depth 8 sub-progress:   0%|          | 0/9 [00:00<?, ?it/s]"
      ]
     },
     "metadata": {},
     "output_type": "display_data"
    },
    {
     "data": {
      "application/vnd.jupyter.widget-view+json": {
       "model_id": "bfcc53c5af194259a54bdf4d5d67e19a",
       "version_major": 2,
       "version_minor": 0
      },
      "text/plain": [
       "Depth 8 sub-progress:   0%|          | 0/9 [00:00<?, ?it/s]"
      ]
     },
     "metadata": {},
     "output_type": "display_data"
    },
    {
     "data": {
      "application/vnd.jupyter.widget-view+json": {
       "model_id": "222b4f8ec6eb40d89bd521b826465993",
       "version_major": 2,
       "version_minor": 0
      },
      "text/plain": [
       "Depth 8 sub-progress:   0%|          | 0/9 [00:00<?, ?it/s]"
      ]
     },
     "metadata": {},
     "output_type": "display_data"
    },
    {
     "data": {
      "application/vnd.jupyter.widget-view+json": {
       "model_id": "6b28b2768db046728f56f938d7c459d6",
       "version_major": 2,
       "version_minor": 0
      },
      "text/plain": [
       "Depth 8 sub-progress:   0%|          | 0/9 [00:00<?, ?it/s]"
      ]
     },
     "metadata": {},
     "output_type": "display_data"
    },
    {
     "data": {
      "application/vnd.jupyter.widget-view+json": {
       "model_id": "148c023eb60a4bd7a31bc5e7af73d84f",
       "version_major": 2,
       "version_minor": 0
      },
      "text/plain": [
       "Depth 8 sub-progress:   0%|          | 0/9 [00:00<?, ?it/s]"
      ]
     },
     "metadata": {},
     "output_type": "display_data"
    },
    {
     "data": {
      "application/vnd.jupyter.widget-view+json": {
       "model_id": "ca1b5a5918924a6c96176564b7a3ffd3",
       "version_major": 2,
       "version_minor": 0
      },
      "text/plain": [
       "Depth 8 sub-progress:   0%|          | 0/9 [00:00<?, ?it/s]"
      ]
     },
     "metadata": {},
     "output_type": "display_data"
    },
    {
     "data": {
      "application/vnd.jupyter.widget-view+json": {
       "model_id": "c17eb432069e4df687eb5300ce76d0f3",
       "version_major": 2,
       "version_minor": 0
      },
      "text/plain": [
       "Depth 8 sub-progress:   0%|          | 0/9 [00:00<?, ?it/s]"
      ]
     },
     "metadata": {},
     "output_type": "display_data"
    },
    {
     "data": {
      "application/vnd.jupyter.widget-view+json": {
       "model_id": "936fc2a5ae8946a198936a74c5afd87d",
       "version_major": 2,
       "version_minor": 0
      },
      "text/plain": [
       "Depth 8 sub-progress:   0%|          | 0/9 [00:00<?, ?it/s]"
      ]
     },
     "metadata": {},
     "output_type": "display_data"
    },
    {
     "data": {
      "application/vnd.jupyter.widget-view+json": {
       "model_id": "d24652ef7e9f4f12829969be1f643cd9",
       "version_major": 2,
       "version_minor": 0
      },
      "text/plain": [
       "Depth 8 sub-progress:   0%|          | 0/9 [00:00<?, ?it/s]"
      ]
     },
     "metadata": {},
     "output_type": "display_data"
    },
    {
     "data": {
      "application/vnd.jupyter.widget-view+json": {
       "model_id": "582e196bcb6b40d889d84f2303fae75f",
       "version_major": 2,
       "version_minor": 0
      },
      "text/plain": [
       "Depth 8 sub-progress:   0%|          | 0/9 [00:00<?, ?it/s]"
      ]
     },
     "metadata": {},
     "output_type": "display_data"
    },
    {
     "data": {
      "application/vnd.jupyter.widget-view+json": {
       "model_id": "ab83d73df52d4c048d63dce09997d00a",
       "version_major": 2,
       "version_minor": 0
      },
      "text/plain": [
       "Depth 8 sub-progress:   0%|          | 0/9 [00:00<?, ?it/s]"
      ]
     },
     "metadata": {},
     "output_type": "display_data"
    },
    {
     "data": {
      "application/vnd.jupyter.widget-view+json": {
       "model_id": "56ae161577e74dada43a2f458d82d784",
       "version_major": 2,
       "version_minor": 0
      },
      "text/plain": [
       "Depth 8 sub-progress:   0%|          | 0/9 [00:00<?, ?it/s]"
      ]
     },
     "metadata": {},
     "output_type": "display_data"
    },
    {
     "data": {
      "application/vnd.jupyter.widget-view+json": {
       "model_id": "27e413b4aec140208197b8747942880c",
       "version_major": 2,
       "version_minor": 0
      },
      "text/plain": [
       "Depth 8 sub-progress:   0%|          | 0/9 [00:00<?, ?it/s]"
      ]
     },
     "metadata": {},
     "output_type": "display_data"
    },
    {
     "data": {
      "application/vnd.jupyter.widget-view+json": {
       "model_id": "25a8b67f4da448a19aeb530ba070c5d0",
       "version_major": 2,
       "version_minor": 0
      },
      "text/plain": [
       "Depth 8 sub-progress:   0%|          | 0/9 [00:00<?, ?it/s]"
      ]
     },
     "metadata": {},
     "output_type": "display_data"
    },
    {
     "data": {
      "application/vnd.jupyter.widget-view+json": {
       "model_id": "b432a66be4604f8689538bf9a7a0cd21",
       "version_major": 2,
       "version_minor": 0
      },
      "text/plain": [
       "Depth 8 sub-progress:   0%|          | 0/9 [00:00<?, ?it/s]"
      ]
     },
     "metadata": {},
     "output_type": "display_data"
    },
    {
     "data": {
      "application/vnd.jupyter.widget-view+json": {
       "model_id": "ba65d8d3e8504bb0a40db0e7af210a78",
       "version_major": 2,
       "version_minor": 0
      },
      "text/plain": [
       "Depth 8 sub-progress:   0%|          | 0/9 [00:00<?, ?it/s]"
      ]
     },
     "metadata": {},
     "output_type": "display_data"
    },
    {
     "data": {
      "application/vnd.jupyter.widget-view+json": {
       "model_id": "18629f488ca643aaa6402ff740633657",
       "version_major": 2,
       "version_minor": 0
      },
      "text/plain": [
       "Depth 8 sub-progress:   0%|          | 0/9 [00:00<?, ?it/s]"
      ]
     },
     "metadata": {},
     "output_type": "display_data"
    },
    {
     "data": {
      "application/vnd.jupyter.widget-view+json": {
       "model_id": "6761c164a7b54f7b86963b9871cbfa6f",
       "version_major": 2,
       "version_minor": 0
      },
      "text/plain": [
       "Depth 8 sub-progress:   0%|          | 0/9 [00:00<?, ?it/s]"
      ]
     },
     "metadata": {},
     "output_type": "display_data"
    },
    {
     "data": {
      "application/vnd.jupyter.widget-view+json": {
       "model_id": "ae076fe0e273421295630edafd4ce5e3",
       "version_major": 2,
       "version_minor": 0
      },
      "text/plain": [
       "Depth 8 sub-progress:   0%|          | 0/9 [00:00<?, ?it/s]"
      ]
     },
     "metadata": {},
     "output_type": "display_data"
    },
    {
     "data": {
      "application/vnd.jupyter.widget-view+json": {
       "model_id": "112fede77e284048a07adcd5ea6e56b6",
       "version_major": 2,
       "version_minor": 0
      },
      "text/plain": [
       "Depth 8 sub-progress:   0%|          | 0/9 [00:00<?, ?it/s]"
      ]
     },
     "metadata": {},
     "output_type": "display_data"
    },
    {
     "data": {
      "application/vnd.jupyter.widget-view+json": {
       "model_id": "d1641c51096744459549601af38e0771",
       "version_major": 2,
       "version_minor": 0
      },
      "text/plain": [
       "Depth 8 sub-progress:   0%|          | 0/9 [00:00<?, ?it/s]"
      ]
     },
     "metadata": {},
     "output_type": "display_data"
    },
    {
     "data": {
      "application/vnd.jupyter.widget-view+json": {
       "model_id": "ca4fb051d7be49c79af93949ab8296fd",
       "version_major": 2,
       "version_minor": 0
      },
      "text/plain": [
       "Depth 8 sub-progress:   0%|          | 0/9 [00:00<?, ?it/s]"
      ]
     },
     "metadata": {},
     "output_type": "display_data"
    },
    {
     "data": {
      "application/vnd.jupyter.widget-view+json": {
       "model_id": "5b6961b54c914462ac921fd07e78f2ad",
       "version_major": 2,
       "version_minor": 0
      },
      "text/plain": [
       "Depth 8 sub-progress:   0%|          | 0/9 [00:00<?, ?it/s]"
      ]
     },
     "metadata": {},
     "output_type": "display_data"
    },
    {
     "data": {
      "application/vnd.jupyter.widget-view+json": {
       "model_id": "9a31df9e90a54b6e914d36bf5773e8c6",
       "version_major": 2,
       "version_minor": 0
      },
      "text/plain": [
       "Depth 8 sub-progress:   0%|          | 0/9 [00:00<?, ?it/s]"
      ]
     },
     "metadata": {},
     "output_type": "display_data"
    },
    {
     "data": {
      "application/vnd.jupyter.widget-view+json": {
       "model_id": "7686a8a58d9e4f7f869524192940cd1c",
       "version_major": 2,
       "version_minor": 0
      },
      "text/plain": [
       "Depth 8 sub-progress:   0%|          | 0/9 [00:00<?, ?it/s]"
      ]
     },
     "metadata": {},
     "output_type": "display_data"
    },
    {
     "data": {
      "application/vnd.jupyter.widget-view+json": {
       "model_id": "4fc767dfc98d432d99b6cbf764deb511",
       "version_major": 2,
       "version_minor": 0
      },
      "text/plain": [
       "Depth 8 sub-progress:   0%|          | 0/9 [00:00<?, ?it/s]"
      ]
     },
     "metadata": {},
     "output_type": "display_data"
    },
    {
     "data": {
      "application/vnd.jupyter.widget-view+json": {
       "model_id": "19d6d822164048cfaab481a279f6f612",
       "version_major": 2,
       "version_minor": 0
      },
      "text/plain": [
       "Depth 8 sub-progress:   0%|          | 0/9 [00:00<?, ?it/s]"
      ]
     },
     "metadata": {},
     "output_type": "display_data"
    },
    {
     "data": {
      "application/vnd.jupyter.widget-view+json": {
       "model_id": "c2651fd0563d412db0f3151d30f4283a",
       "version_major": 2,
       "version_minor": 0
      },
      "text/plain": [
       "Depth 8 sub-progress:   0%|          | 0/9 [00:00<?, ?it/s]"
      ]
     },
     "metadata": {},
     "output_type": "display_data"
    },
    {
     "data": {
      "application/vnd.jupyter.widget-view+json": {
       "model_id": "dbe5181e0f254f849bbbce7e91cda006",
       "version_major": 2,
       "version_minor": 0
      },
      "text/plain": [
       "Depth 8 sub-progress:   0%|          | 0/9 [00:00<?, ?it/s]"
      ]
     },
     "metadata": {},
     "output_type": "display_data"
    },
    {
     "data": {
      "application/vnd.jupyter.widget-view+json": {
       "model_id": "966f911c7e074347a7eaa641210a7a9a",
       "version_major": 2,
       "version_minor": 0
      },
      "text/plain": [
       "Depth 8 sub-progress:   0%|          | 0/9 [00:00<?, ?it/s]"
      ]
     },
     "metadata": {},
     "output_type": "display_data"
    },
    {
     "data": {
      "application/vnd.jupyter.widget-view+json": {
       "model_id": "d07b62e6ced04dd794f95334361bdd14",
       "version_major": 2,
       "version_minor": 0
      },
      "text/plain": [
       "Depth 8 sub-progress:   0%|          | 0/9 [00:00<?, ?it/s]"
      ]
     },
     "metadata": {},
     "output_type": "display_data"
    },
    {
     "data": {
      "application/vnd.jupyter.widget-view+json": {
       "model_id": "a17bdd2384a04a20b0cbab066fd62e99",
       "version_major": 2,
       "version_minor": 0
      },
      "text/plain": [
       "Depth 8 sub-progress:   0%|          | 0/9 [00:00<?, ?it/s]"
      ]
     },
     "metadata": {},
     "output_type": "display_data"
    },
    {
     "data": {
      "application/vnd.jupyter.widget-view+json": {
       "model_id": "8bf5185883f8421eb5234d224cdac306",
       "version_major": 2,
       "version_minor": 0
      },
      "text/plain": [
       "Depth 8 sub-progress:   0%|          | 0/9 [00:00<?, ?it/s]"
      ]
     },
     "metadata": {},
     "output_type": "display_data"
    },
    {
     "data": {
      "application/vnd.jupyter.widget-view+json": {
       "model_id": "b508b6919c9b4751a662d8c6a0fb66f6",
       "version_major": 2,
       "version_minor": 0
      },
      "text/plain": [
       "Depth 8 sub-progress:   0%|          | 0/9 [00:00<?, ?it/s]"
      ]
     },
     "metadata": {},
     "output_type": "display_data"
    },
    {
     "data": {
      "application/vnd.jupyter.widget-view+json": {
       "model_id": "2c2c1311be884ad283634308133ee3db",
       "version_major": 2,
       "version_minor": 0
      },
      "text/plain": [
       "Depth 8 sub-progress:   0%|          | 0/9 [00:00<?, ?it/s]"
      ]
     },
     "metadata": {},
     "output_type": "display_data"
    },
    {
     "data": {
      "application/vnd.jupyter.widget-view+json": {
       "model_id": "dda988a71ab5457097b9cfd1b7bd5daa",
       "version_major": 2,
       "version_minor": 0
      },
      "text/plain": [
       "Depth 8 sub-progress:   0%|          | 0/9 [00:00<?, ?it/s]"
      ]
     },
     "metadata": {},
     "output_type": "display_data"
    },
    {
     "data": {
      "application/vnd.jupyter.widget-view+json": {
       "model_id": "67a3a4c97a45420584db9630dbd8b24e",
       "version_major": 2,
       "version_minor": 0
      },
      "text/plain": [
       "Depth 8 sub-progress:   0%|          | 0/9 [00:00<?, ?it/s]"
      ]
     },
     "metadata": {},
     "output_type": "display_data"
    },
    {
     "data": {
      "application/vnd.jupyter.widget-view+json": {
       "model_id": "4026f368033c496da85ca62b889ca445",
       "version_major": 2,
       "version_minor": 0
      },
      "text/plain": [
       "Depth 8 sub-progress:   0%|          | 0/9 [00:00<?, ?it/s]"
      ]
     },
     "metadata": {},
     "output_type": "display_data"
    },
    {
     "data": {
      "application/vnd.jupyter.widget-view+json": {
       "model_id": "cc7188006105496faf364e506aa0e21a",
       "version_major": 2,
       "version_minor": 0
      },
      "text/plain": [
       "Depth 8 sub-progress:   0%|          | 0/9 [00:00<?, ?it/s]"
      ]
     },
     "metadata": {},
     "output_type": "display_data"
    },
    {
     "data": {
      "application/vnd.jupyter.widget-view+json": {
       "model_id": "6295d691f3b845c1b00bf697f9d7c290",
       "version_major": 2,
       "version_minor": 0
      },
      "text/plain": [
       "Depth 8 sub-progress:   0%|          | 0/9 [00:00<?, ?it/s]"
      ]
     },
     "metadata": {},
     "output_type": "display_data"
    },
    {
     "data": {
      "application/vnd.jupyter.widget-view+json": {
       "model_id": "3cdc105109284eccbc86c64c22f33dcd",
       "version_major": 2,
       "version_minor": 0
      },
      "text/plain": [
       "Depth 8 sub-progress:   0%|          | 0/9 [00:00<?, ?it/s]"
      ]
     },
     "metadata": {},
     "output_type": "display_data"
    },
    {
     "data": {
      "application/vnd.jupyter.widget-view+json": {
       "model_id": "78a5ce082da547b186f142ff0dd362eb",
       "version_major": 2,
       "version_minor": 0
      },
      "text/plain": [
       "Depth 8 sub-progress:   0%|          | 0/9 [00:00<?, ?it/s]"
      ]
     },
     "metadata": {},
     "output_type": "display_data"
    },
    {
     "data": {
      "application/vnd.jupyter.widget-view+json": {
       "model_id": "9ae99b14e68c4f569fc71827360f6a96",
       "version_major": 2,
       "version_minor": 0
      },
      "text/plain": [
       "Depth 8 sub-progress:   0%|          | 0/9 [00:00<?, ?it/s]"
      ]
     },
     "metadata": {},
     "output_type": "display_data"
    },
    {
     "data": {
      "application/vnd.jupyter.widget-view+json": {
       "model_id": "ae57bb0a421a45ffa0c5b12c595ff2bd",
       "version_major": 2,
       "version_minor": 0
      },
      "text/plain": [
       "Depth 8 sub-progress:   0%|          | 0/9 [00:00<?, ?it/s]"
      ]
     },
     "metadata": {},
     "output_type": "display_data"
    },
    {
     "data": {
      "application/vnd.jupyter.widget-view+json": {
       "model_id": "f2c83496bc4245a1b3bc5e2f11402898",
       "version_major": 2,
       "version_minor": 0
      },
      "text/plain": [
       "Depth 8 sub-progress:   0%|          | 0/9 [00:00<?, ?it/s]"
      ]
     },
     "metadata": {},
     "output_type": "display_data"
    },
    {
     "data": {
      "application/vnd.jupyter.widget-view+json": {
       "model_id": "bd02b9c0166d45fea06983a0bc1a8884",
       "version_major": 2,
       "version_minor": 0
      },
      "text/plain": [
       "Depth 8 sub-progress:   0%|          | 0/9 [00:00<?, ?it/s]"
      ]
     },
     "metadata": {},
     "output_type": "display_data"
    },
    {
     "data": {
      "application/vnd.jupyter.widget-view+json": {
       "model_id": "5a74d7940ead4b42bef1d815d64a4498",
       "version_major": 2,
       "version_minor": 0
      },
      "text/plain": [
       "Depth 8 sub-progress:   0%|          | 0/9 [00:00<?, ?it/s]"
      ]
     },
     "metadata": {},
     "output_type": "display_data"
    },
    {
     "data": {
      "application/vnd.jupyter.widget-view+json": {
       "model_id": "a197cf0c860a4c02832bdd57707fab27",
       "version_major": 2,
       "version_minor": 0
      },
      "text/plain": [
       "Depth 8 sub-progress:   0%|          | 0/9 [00:00<?, ?it/s]"
      ]
     },
     "metadata": {},
     "output_type": "display_data"
    },
    {
     "data": {
      "application/vnd.jupyter.widget-view+json": {
       "model_id": "9b5e63ee65af49c28f17f2508fdc3004",
       "version_major": 2,
       "version_minor": 0
      },
      "text/plain": [
       "Depth 8 sub-progress:   0%|          | 0/9 [00:00<?, ?it/s]"
      ]
     },
     "metadata": {},
     "output_type": "display_data"
    },
    {
     "data": {
      "application/vnd.jupyter.widget-view+json": {
       "model_id": "4b06153393ee43249002c0864befadfa",
       "version_major": 2,
       "version_minor": 0
      },
      "text/plain": [
       "Depth 8 sub-progress:   0%|          | 0/9 [00:00<?, ?it/s]"
      ]
     },
     "metadata": {},
     "output_type": "display_data"
    },
    {
     "data": {
      "application/vnd.jupyter.widget-view+json": {
       "model_id": "6c702c43fac44b628617b6b8b0236c17",
       "version_major": 2,
       "version_minor": 0
      },
      "text/plain": [
       "Depth 8 sub-progress:   0%|          | 0/9 [00:00<?, ?it/s]"
      ]
     },
     "metadata": {},
     "output_type": "display_data"
    },
    {
     "data": {
      "application/vnd.jupyter.widget-view+json": {
       "model_id": "47b6036dbb0947eebc22f11524b683d2",
       "version_major": 2,
       "version_minor": 0
      },
      "text/plain": [
       "Depth 8 sub-progress:   0%|          | 0/9 [00:00<?, ?it/s]"
      ]
     },
     "metadata": {},
     "output_type": "display_data"
    },
    {
     "data": {
      "application/vnd.jupyter.widget-view+json": {
       "model_id": "884af07203f54542975231617e78a20f",
       "version_major": 2,
       "version_minor": 0
      },
      "text/plain": [
       "Depth 8 sub-progress:   0%|          | 0/9 [00:00<?, ?it/s]"
      ]
     },
     "metadata": {},
     "output_type": "display_data"
    },
    {
     "data": {
      "application/vnd.jupyter.widget-view+json": {
       "model_id": "5fffb3e6ecd94706a98a639aae28da6a",
       "version_major": 2,
       "version_minor": 0
      },
      "text/plain": [
       "Depth 8 sub-progress:   0%|          | 0/9 [00:00<?, ?it/s]"
      ]
     },
     "metadata": {},
     "output_type": "display_data"
    },
    {
     "data": {
      "application/vnd.jupyter.widget-view+json": {
       "model_id": "dc59b092a54a48e98057659eb157131b",
       "version_major": 2,
       "version_minor": 0
      },
      "text/plain": [
       "Depth 8 sub-progress:   0%|          | 0/9 [00:00<?, ?it/s]"
      ]
     },
     "metadata": {},
     "output_type": "display_data"
    },
    {
     "data": {
      "application/vnd.jupyter.widget-view+json": {
       "model_id": "194c02bba6c44d86b782baadc1200c56",
       "version_major": 2,
       "version_minor": 0
      },
      "text/plain": [
       "Depth 8 sub-progress:   0%|          | 0/9 [00:00<?, ?it/s]"
      ]
     },
     "metadata": {},
     "output_type": "display_data"
    },
    {
     "data": {
      "application/vnd.jupyter.widget-view+json": {
       "model_id": "c698235d1db54b96b0bb8bf674ec1617",
       "version_major": 2,
       "version_minor": 0
      },
      "text/plain": [
       "Depth 8 sub-progress:   0%|          | 0/9 [00:00<?, ?it/s]"
      ]
     },
     "metadata": {},
     "output_type": "display_data"
    },
    {
     "data": {
      "application/vnd.jupyter.widget-view+json": {
       "model_id": "864b5739a7e343cb83a0d239dd53a8e3",
       "version_major": 2,
       "version_minor": 0
      },
      "text/plain": [
       "Depth 8 sub-progress:   0%|          | 0/9 [00:00<?, ?it/s]"
      ]
     },
     "metadata": {},
     "output_type": "display_data"
    },
    {
     "data": {
      "application/vnd.jupyter.widget-view+json": {
       "model_id": "b6cebff423bf42d2b8beadd565bb5d1a",
       "version_major": 2,
       "version_minor": 0
      },
      "text/plain": [
       "Depth 8 sub-progress:   0%|          | 0/9 [00:00<?, ?it/s]"
      ]
     },
     "metadata": {},
     "output_type": "display_data"
    },
    {
     "data": {
      "application/vnd.jupyter.widget-view+json": {
       "model_id": "346c437a325644ca9383c2aa74afa842",
       "version_major": 2,
       "version_minor": 0
      },
      "text/plain": [
       "Depth 8 sub-progress:   0%|          | 0/9 [00:00<?, ?it/s]"
      ]
     },
     "metadata": {},
     "output_type": "display_data"
    },
    {
     "data": {
      "application/vnd.jupyter.widget-view+json": {
       "model_id": "632893241bb6413a98f60d9b6ceef2d9",
       "version_major": 2,
       "version_minor": 0
      },
      "text/plain": [
       "Depth 8 sub-progress:   0%|          | 0/9 [00:00<?, ?it/s]"
      ]
     },
     "metadata": {},
     "output_type": "display_data"
    },
    {
     "data": {
      "application/vnd.jupyter.widget-view+json": {
       "model_id": "f4172c931e1241e2b669181e9717aafd",
       "version_major": 2,
       "version_minor": 0
      },
      "text/plain": [
       "Depth 8 sub-progress:   0%|          | 0/9 [00:00<?, ?it/s]"
      ]
     },
     "metadata": {},
     "output_type": "display_data"
    },
    {
     "data": {
      "application/vnd.jupyter.widget-view+json": {
       "model_id": "3555056c61594e67a00e995e449168a1",
       "version_major": 2,
       "version_minor": 0
      },
      "text/plain": [
       "Depth 8 sub-progress:   0%|          | 0/9 [00:00<?, ?it/s]"
      ]
     },
     "metadata": {},
     "output_type": "display_data"
    },
    {
     "data": {
      "application/vnd.jupyter.widget-view+json": {
       "model_id": "4a5f23ed8c56431b9ea19516d1a21d0b",
       "version_major": 2,
       "version_minor": 0
      },
      "text/plain": [
       "Depth 8 sub-progress:   0%|          | 0/9 [00:00<?, ?it/s]"
      ]
     },
     "metadata": {},
     "output_type": "display_data"
    },
    {
     "data": {
      "application/vnd.jupyter.widget-view+json": {
       "model_id": "9fab410da0c94c379454f068beaa9dc4",
       "version_major": 2,
       "version_minor": 0
      },
      "text/plain": [
       "Depth 8 sub-progress:   0%|          | 0/9 [00:00<?, ?it/s]"
      ]
     },
     "metadata": {},
     "output_type": "display_data"
    },
    {
     "data": {
      "application/vnd.jupyter.widget-view+json": {
       "model_id": "238df1f6cc0643c0a29a9cbc8a691cd7",
       "version_major": 2,
       "version_minor": 0
      },
      "text/plain": [
       "Depth 8 sub-progress:   0%|          | 0/9 [00:00<?, ?it/s]"
      ]
     },
     "metadata": {},
     "output_type": "display_data"
    },
    {
     "data": {
      "application/vnd.jupyter.widget-view+json": {
       "model_id": "d0796423fb4543efa23a46eaf1d54f28",
       "version_major": 2,
       "version_minor": 0
      },
      "text/plain": [
       "Depth 8 sub-progress:   0%|          | 0/9 [00:00<?, ?it/s]"
      ]
     },
     "metadata": {},
     "output_type": "display_data"
    },
    {
     "data": {
      "application/vnd.jupyter.widget-view+json": {
       "model_id": "4335ed42d02b4bc8b14dfc8af55dc14b",
       "version_major": 2,
       "version_minor": 0
      },
      "text/plain": [
       "Depth 8 sub-progress:   0%|          | 0/9 [00:00<?, ?it/s]"
      ]
     },
     "metadata": {},
     "output_type": "display_data"
    },
    {
     "data": {
      "application/vnd.jupyter.widget-view+json": {
       "model_id": "eb7d093b94394a79a1abc7931820ede2",
       "version_major": 2,
       "version_minor": 0
      },
      "text/plain": [
       "Depth 8 sub-progress:   0%|          | 0/9 [00:00<?, ?it/s]"
      ]
     },
     "metadata": {},
     "output_type": "display_data"
    },
    {
     "data": {
      "application/vnd.jupyter.widget-view+json": {
       "model_id": "dbe8b72daee548b18ff0aff1598441a9",
       "version_major": 2,
       "version_minor": 0
      },
      "text/plain": [
       "Depth 8 sub-progress:   0%|          | 0/9 [00:00<?, ?it/s]"
      ]
     },
     "metadata": {},
     "output_type": "display_data"
    },
    {
     "data": {
      "application/vnd.jupyter.widget-view+json": {
       "model_id": "80463f9f4eed4a2693b4bab95d667b86",
       "version_major": 2,
       "version_minor": 0
      },
      "text/plain": [
       "Depth 8 sub-progress:   0%|          | 0/9 [00:00<?, ?it/s]"
      ]
     },
     "metadata": {},
     "output_type": "display_data"
    },
    {
     "data": {
      "application/vnd.jupyter.widget-view+json": {
       "model_id": "e7224b46f4714a62a8590edd82bfe88d",
       "version_major": 2,
       "version_minor": 0
      },
      "text/plain": [
       "Depth 8 sub-progress:   0%|          | 0/9 [00:00<?, ?it/s]"
      ]
     },
     "metadata": {},
     "output_type": "display_data"
    },
    {
     "data": {
      "application/vnd.jupyter.widget-view+json": {
       "model_id": "c4a0c9abd7ef4458ad749c2a7e9454bc",
       "version_major": 2,
       "version_minor": 0
      },
      "text/plain": [
       "Depth 8 sub-progress:   0%|          | 0/9 [00:00<?, ?it/s]"
      ]
     },
     "metadata": {},
     "output_type": "display_data"
    },
    {
     "data": {
      "application/vnd.jupyter.widget-view+json": {
       "model_id": "3e80bd6f6a224766a86b270c8041ee60",
       "version_major": 2,
       "version_minor": 0
      },
      "text/plain": [
       "Depth 8 sub-progress:   0%|          | 0/9 [00:00<?, ?it/s]"
      ]
     },
     "metadata": {},
     "output_type": "display_data"
    },
    {
     "data": {
      "application/vnd.jupyter.widget-view+json": {
       "model_id": "7f552a52848f4e2986c0c6c71812070d",
       "version_major": 2,
       "version_minor": 0
      },
      "text/plain": [
       "Depth 8 sub-progress:   0%|          | 0/9 [00:00<?, ?it/s]"
      ]
     },
     "metadata": {},
     "output_type": "display_data"
    },
    {
     "data": {
      "application/vnd.jupyter.widget-view+json": {
       "model_id": "221103744dfc406f91ea4f471b6c5979",
       "version_major": 2,
       "version_minor": 0
      },
      "text/plain": [
       "Depth 8 sub-progress:   0%|          | 0/9 [00:00<?, ?it/s]"
      ]
     },
     "metadata": {},
     "output_type": "display_data"
    },
    {
     "data": {
      "application/vnd.jupyter.widget-view+json": {
       "model_id": "0cc78ca19cef42cca68c322a04d833d5",
       "version_major": 2,
       "version_minor": 0
      },
      "text/plain": [
       "Depth 8 sub-progress:   0%|          | 0/9 [00:00<?, ?it/s]"
      ]
     },
     "metadata": {},
     "output_type": "display_data"
    },
    {
     "data": {
      "application/vnd.jupyter.widget-view+json": {
       "model_id": "947b239b197b4adea7e36d0f2b600939",
       "version_major": 2,
       "version_minor": 0
      },
      "text/plain": [
       "Depth 8 sub-progress:   0%|          | 0/9 [00:00<?, ?it/s]"
      ]
     },
     "metadata": {},
     "output_type": "display_data"
    },
    {
     "data": {
      "application/vnd.jupyter.widget-view+json": {
       "model_id": "dbf9b46b890c4863a050c5e9de3d618b",
       "version_major": 2,
       "version_minor": 0
      },
      "text/plain": [
       "Depth 8 sub-progress:   0%|          | 0/9 [00:00<?, ?it/s]"
      ]
     },
     "metadata": {},
     "output_type": "display_data"
    },
    {
     "data": {
      "application/vnd.jupyter.widget-view+json": {
       "model_id": "db9cebc56077477f9980f57e7360d1f9",
       "version_major": 2,
       "version_minor": 0
      },
      "text/plain": [
       "Depth 8 sub-progress:   0%|          | 0/9 [00:00<?, ?it/s]"
      ]
     },
     "metadata": {},
     "output_type": "display_data"
    },
    {
     "data": {
      "application/vnd.jupyter.widget-view+json": {
       "model_id": "47905a94efe94046951b3f394b277377",
       "version_major": 2,
       "version_minor": 0
      },
      "text/plain": [
       "Depth 8 sub-progress:   0%|          | 0/9 [00:00<?, ?it/s]"
      ]
     },
     "metadata": {},
     "output_type": "display_data"
    },
    {
     "data": {
      "application/vnd.jupyter.widget-view+json": {
       "model_id": "75f2e47b652040b1a892241d36e434e7",
       "version_major": 2,
       "version_minor": 0
      },
      "text/plain": [
       "Depth 8 sub-progress:   0%|          | 0/9 [00:00<?, ?it/s]"
      ]
     },
     "metadata": {},
     "output_type": "display_data"
    },
    {
     "data": {
      "application/vnd.jupyter.widget-view+json": {
       "model_id": "d1730f00d4fb4eda8fe2452937b025d4",
       "version_major": 2,
       "version_minor": 0
      },
      "text/plain": [
       "Depth 8 sub-progress:   0%|          | 0/9 [00:00<?, ?it/s]"
      ]
     },
     "metadata": {},
     "output_type": "display_data"
    },
    {
     "data": {
      "application/vnd.jupyter.widget-view+json": {
       "model_id": "da628c31a39e4cc0b1c3a6e7f448fad7",
       "version_major": 2,
       "version_minor": 0
      },
      "text/plain": [
       "Depth 8 sub-progress:   0%|          | 0/9 [00:00<?, ?it/s]"
      ]
     },
     "metadata": {},
     "output_type": "display_data"
    },
    {
     "data": {
      "application/vnd.jupyter.widget-view+json": {
       "model_id": "ad1a25e666cf49efa53ac7295d96d4b0",
       "version_major": 2,
       "version_minor": 0
      },
      "text/plain": [
       "Depth 8 sub-progress:   0%|          | 0/9 [00:00<?, ?it/s]"
      ]
     },
     "metadata": {},
     "output_type": "display_data"
    },
    {
     "data": {
      "application/vnd.jupyter.widget-view+json": {
       "model_id": "73201d16617c4e52aa1a6aecea8fbc5a",
       "version_major": 2,
       "version_minor": 0
      },
      "text/plain": [
       "Depth 8 sub-progress:   0%|          | 0/9 [00:00<?, ?it/s]"
      ]
     },
     "metadata": {},
     "output_type": "display_data"
    },
    {
     "data": {
      "application/vnd.jupyter.widget-view+json": {
       "model_id": "34cd2d6060b54719be49dc8949a1637a",
       "version_major": 2,
       "version_minor": 0
      },
      "text/plain": [
       "Depth 8 sub-progress:   0%|          | 0/9 [00:00<?, ?it/s]"
      ]
     },
     "metadata": {},
     "output_type": "display_data"
    },
    {
     "data": {
      "application/vnd.jupyter.widget-view+json": {
       "model_id": "7d2fb5d6708f44c0a48306a17702efda",
       "version_major": 2,
       "version_minor": 0
      },
      "text/plain": [
       "Depth 8 sub-progress:   0%|          | 0/9 [00:00<?, ?it/s]"
      ]
     },
     "metadata": {},
     "output_type": "display_data"
    },
    {
     "data": {
      "application/vnd.jupyter.widget-view+json": {
       "model_id": "120f7135250445579191ac343c58d118",
       "version_major": 2,
       "version_minor": 0
      },
      "text/plain": [
       "Depth 8 sub-progress:   0%|          | 0/9 [00:00<?, ?it/s]"
      ]
     },
     "metadata": {},
     "output_type": "display_data"
    },
    {
     "data": {
      "application/vnd.jupyter.widget-view+json": {
       "model_id": "6126ff1002894dcf9f2056147747b17f",
       "version_major": 2,
       "version_minor": 0
      },
      "text/plain": [
       "Depth 8 sub-progress:   0%|          | 0/9 [00:00<?, ?it/s]"
      ]
     },
     "metadata": {},
     "output_type": "display_data"
    },
    {
     "data": {
      "application/vnd.jupyter.widget-view+json": {
       "model_id": "26e0d0e701e547a69571388396789715",
       "version_major": 2,
       "version_minor": 0
      },
      "text/plain": [
       "Depth 8 sub-progress:   0%|          | 0/9 [00:00<?, ?it/s]"
      ]
     },
     "metadata": {},
     "output_type": "display_data"
    },
    {
     "data": {
      "application/vnd.jupyter.widget-view+json": {
       "model_id": "087b7505061544f7bfd19b01b8caf050",
       "version_major": 2,
       "version_minor": 0
      },
      "text/plain": [
       "Depth 8 sub-progress:   0%|          | 0/9 [00:00<?, ?it/s]"
      ]
     },
     "metadata": {},
     "output_type": "display_data"
    },
    {
     "data": {
      "application/vnd.jupyter.widget-view+json": {
       "model_id": "2cb1cb38882848b7aae392dab709047a",
       "version_major": 2,
       "version_minor": 0
      },
      "text/plain": [
       "Depth 8 sub-progress:   0%|          | 0/9 [00:00<?, ?it/s]"
      ]
     },
     "metadata": {},
     "output_type": "display_data"
    },
    {
     "data": {
      "application/vnd.jupyter.widget-view+json": {
       "model_id": "578b42c35c6b425db140757daa194743",
       "version_major": 2,
       "version_minor": 0
      },
      "text/plain": [
       "Depth 8 sub-progress:   0%|          | 0/9 [00:00<?, ?it/s]"
      ]
     },
     "metadata": {},
     "output_type": "display_data"
    },
    {
     "data": {
      "application/vnd.jupyter.widget-view+json": {
       "model_id": "fe7fa580564d47268b3f972c3ee01c23",
       "version_major": 2,
       "version_minor": 0
      },
      "text/plain": [
       "Depth 8 sub-progress:   0%|          | 0/9 [00:00<?, ?it/s]"
      ]
     },
     "metadata": {},
     "output_type": "display_data"
    },
    {
     "data": {
      "application/vnd.jupyter.widget-view+json": {
       "model_id": "6fcd271d49b94f63aa9743aa0b1128e8",
       "version_major": 2,
       "version_minor": 0
      },
      "text/plain": [
       "Depth 8 sub-progress:   0%|          | 0/9 [00:00<?, ?it/s]"
      ]
     },
     "metadata": {},
     "output_type": "display_data"
    },
    {
     "data": {
      "application/vnd.jupyter.widget-view+json": {
       "model_id": "9cd2923b523a43b0ba3b5e24c96dd3d1",
       "version_major": 2,
       "version_minor": 0
      },
      "text/plain": [
       "Depth 8 sub-progress:   0%|          | 0/9 [00:00<?, ?it/s]"
      ]
     },
     "metadata": {},
     "output_type": "display_data"
    },
    {
     "data": {
      "application/vnd.jupyter.widget-view+json": {
       "model_id": "97c1b6bd57cf4bf9bf738b023a14fd01",
       "version_major": 2,
       "version_minor": 0
      },
      "text/plain": [
       "Depth 8 sub-progress:   0%|          | 0/9 [00:00<?, ?it/s]"
      ]
     },
     "metadata": {},
     "output_type": "display_data"
    },
    {
     "data": {
      "application/vnd.jupyter.widget-view+json": {
       "model_id": "af5a474881e84e06896c20238ad8e440",
       "version_major": 2,
       "version_minor": 0
      },
      "text/plain": [
       "Depth 8 sub-progress:   0%|          | 0/9 [00:00<?, ?it/s]"
      ]
     },
     "metadata": {},
     "output_type": "display_data"
    },
    {
     "data": {
      "application/vnd.jupyter.widget-view+json": {
       "model_id": "6d09ab5ba3924ff095a284a3cc0d309d",
       "version_major": 2,
       "version_minor": 0
      },
      "text/plain": [
       "Depth 8 sub-progress:   0%|          | 0/9 [00:00<?, ?it/s]"
      ]
     },
     "metadata": {},
     "output_type": "display_data"
    },
    {
     "data": {
      "application/vnd.jupyter.widget-view+json": {
       "model_id": "7a85cc6e48dc487b8483c1ba40e162a6",
       "version_major": 2,
       "version_minor": 0
      },
      "text/plain": [
       "Depth 8 sub-progress:   0%|          | 0/9 [00:00<?, ?it/s]"
      ]
     },
     "metadata": {},
     "output_type": "display_data"
    },
    {
     "data": {
      "application/vnd.jupyter.widget-view+json": {
       "model_id": "0133d58e91d64e81847de9cc32858c61",
       "version_major": 2,
       "version_minor": 0
      },
      "text/plain": [
       "Depth 8 sub-progress:   0%|          | 0/9 [00:00<?, ?it/s]"
      ]
     },
     "metadata": {},
     "output_type": "display_data"
    },
    {
     "data": {
      "application/vnd.jupyter.widget-view+json": {
       "model_id": "4f82ab7b3ed8408c9f650f2e9ca68df9",
       "version_major": 2,
       "version_minor": 0
      },
      "text/plain": [
       "Depth 8 sub-progress:   0%|          | 0/9 [00:00<?, ?it/s]"
      ]
     },
     "metadata": {},
     "output_type": "display_data"
    },
    {
     "data": {
      "application/vnd.jupyter.widget-view+json": {
       "model_id": "2cdb7fdba0a44aa589116bbc31ac0f74",
       "version_major": 2,
       "version_minor": 0
      },
      "text/plain": [
       "Depth 8 sub-progress:   0%|          | 0/9 [00:00<?, ?it/s]"
      ]
     },
     "metadata": {},
     "output_type": "display_data"
    },
    {
     "data": {
      "application/vnd.jupyter.widget-view+json": {
       "model_id": "be6315b45c314c578a902a9d3c7f81dd",
       "version_major": 2,
       "version_minor": 0
      },
      "text/plain": [
       "Depth 8 sub-progress:   0%|          | 0/9 [00:00<?, ?it/s]"
      ]
     },
     "metadata": {},
     "output_type": "display_data"
    },
    {
     "data": {
      "application/vnd.jupyter.widget-view+json": {
       "model_id": "c998f66cd7a942a2a9ad85dabac80288",
       "version_major": 2,
       "version_minor": 0
      },
      "text/plain": [
       "Depth 8 sub-progress:   0%|          | 0/9 [00:00<?, ?it/s]"
      ]
     },
     "metadata": {},
     "output_type": "display_data"
    },
    {
     "data": {
      "application/vnd.jupyter.widget-view+json": {
       "model_id": "aff8ab86dc0249769e6ac094a4aac693",
       "version_major": 2,
       "version_minor": 0
      },
      "text/plain": [
       "Depth 8 sub-progress:   0%|          | 0/9 [00:00<?, ?it/s]"
      ]
     },
     "metadata": {},
     "output_type": "display_data"
    },
    {
     "data": {
      "application/vnd.jupyter.widget-view+json": {
       "model_id": "bd1ebc99c7264e2d9e3fdc3fc460a3c8",
       "version_major": 2,
       "version_minor": 0
      },
      "text/plain": [
       "Depth 8 sub-progress:   0%|          | 0/9 [00:00<?, ?it/s]"
      ]
     },
     "metadata": {},
     "output_type": "display_data"
    },
    {
     "data": {
      "application/vnd.jupyter.widget-view+json": {
       "model_id": "6ae8f019d3e445b3bca482fb048ae0dc",
       "version_major": 2,
       "version_minor": 0
      },
      "text/plain": [
       "Depth 8 sub-progress:   0%|          | 0/9 [00:00<?, ?it/s]"
      ]
     },
     "metadata": {},
     "output_type": "display_data"
    },
    {
     "data": {
      "application/vnd.jupyter.widget-view+json": {
       "model_id": "2592ea2d82a0461fadc35561a84bc0ff",
       "version_major": 2,
       "version_minor": 0
      },
      "text/plain": [
       "Depth 8 sub-progress:   0%|          | 0/9 [00:00<?, ?it/s]"
      ]
     },
     "metadata": {},
     "output_type": "display_data"
    },
    {
     "data": {
      "application/vnd.jupyter.widget-view+json": {
       "model_id": "68288e471e124107b5e111cfed867e16",
       "version_major": 2,
       "version_minor": 0
      },
      "text/plain": [
       "Depth 8 sub-progress:   0%|          | 0/9 [00:00<?, ?it/s]"
      ]
     },
     "metadata": {},
     "output_type": "display_data"
    },
    {
     "data": {
      "application/vnd.jupyter.widget-view+json": {
       "model_id": "7755a50dafb848c5beee19ee0522ff37",
       "version_major": 2,
       "version_minor": 0
      },
      "text/plain": [
       "Depth 8 sub-progress:   0%|          | 0/9 [00:00<?, ?it/s]"
      ]
     },
     "metadata": {},
     "output_type": "display_data"
    },
    {
     "data": {
      "application/vnd.jupyter.widget-view+json": {
       "model_id": "5c8c92b75cab49d999928fb3898273c5",
       "version_major": 2,
       "version_minor": 0
      },
      "text/plain": [
       "Depth 8 sub-progress:   0%|          | 0/9 [00:00<?, ?it/s]"
      ]
     },
     "metadata": {},
     "output_type": "display_data"
    },
    {
     "data": {
      "application/vnd.jupyter.widget-view+json": {
       "model_id": "51567339916a418896d2ff77cc2b4682",
       "version_major": 2,
       "version_minor": 0
      },
      "text/plain": [
       "Depth 8 sub-progress:   0%|          | 0/9 [00:00<?, ?it/s]"
      ]
     },
     "metadata": {},
     "output_type": "display_data"
    },
    {
     "data": {
      "application/vnd.jupyter.widget-view+json": {
       "model_id": "dfed22d18fba48bc8f9cfb4e142747ae",
       "version_major": 2,
       "version_minor": 0
      },
      "text/plain": [
       "Depth 8 sub-progress:   0%|          | 0/9 [00:00<?, ?it/s]"
      ]
     },
     "metadata": {},
     "output_type": "display_data"
    },
    {
     "data": {
      "application/vnd.jupyter.widget-view+json": {
       "model_id": "c756d7dfe3114bb59f35a928442319ac",
       "version_major": 2,
       "version_minor": 0
      },
      "text/plain": [
       "Depth 8 sub-progress:   0%|          | 0/9 [00:00<?, ?it/s]"
      ]
     },
     "metadata": {},
     "output_type": "display_data"
    },
    {
     "data": {
      "application/vnd.jupyter.widget-view+json": {
       "model_id": "207c45d71eaf45ae926bba0d16e1b69f",
       "version_major": 2,
       "version_minor": 0
      },
      "text/plain": [
       "Depth 8 sub-progress:   0%|          | 0/9 [00:00<?, ?it/s]"
      ]
     },
     "metadata": {},
     "output_type": "display_data"
    },
    {
     "data": {
      "application/vnd.jupyter.widget-view+json": {
       "model_id": "22939bf15d5b49cfbff7f9522de57957",
       "version_major": 2,
       "version_minor": 0
      },
      "text/plain": [
       "Depth 8 sub-progress:   0%|          | 0/9 [00:00<?, ?it/s]"
      ]
     },
     "metadata": {},
     "output_type": "display_data"
    },
    {
     "data": {
      "application/vnd.jupyter.widget-view+json": {
       "model_id": "4a25c62c79174ee694ce9cf23c2dae33",
       "version_major": 2,
       "version_minor": 0
      },
      "text/plain": [
       "Depth 8 sub-progress:   0%|          | 0/9 [00:00<?, ?it/s]"
      ]
     },
     "metadata": {},
     "output_type": "display_data"
    },
    {
     "data": {
      "application/vnd.jupyter.widget-view+json": {
       "model_id": "27846d80f1ae4d189d6a593116e8efd8",
       "version_major": 2,
       "version_minor": 0
      },
      "text/plain": [
       "Depth 8 sub-progress:   0%|          | 0/9 [00:00<?, ?it/s]"
      ]
     },
     "metadata": {},
     "output_type": "display_data"
    },
    {
     "data": {
      "application/vnd.jupyter.widget-view+json": {
       "model_id": "8dd9718fd0bd4adea7949b198c945993",
       "version_major": 2,
       "version_minor": 0
      },
      "text/plain": [
       "Depth 8 sub-progress:   0%|          | 0/9 [00:00<?, ?it/s]"
      ]
     },
     "metadata": {},
     "output_type": "display_data"
    },
    {
     "data": {
      "application/vnd.jupyter.widget-view+json": {
       "model_id": "5b41b025e70045b4b0749e7ad6b341b0",
       "version_major": 2,
       "version_minor": 0
      },
      "text/plain": [
       "Depth 8 sub-progress:   0%|          | 0/9 [00:00<?, ?it/s]"
      ]
     },
     "metadata": {},
     "output_type": "display_data"
    },
    {
     "data": {
      "application/vnd.jupyter.widget-view+json": {
       "model_id": "7e1393028ab44d2895390a72561064a9",
       "version_major": 2,
       "version_minor": 0
      },
      "text/plain": [
       "Depth 8 sub-progress:   0%|          | 0/9 [00:00<?, ?it/s]"
      ]
     },
     "metadata": {},
     "output_type": "display_data"
    },
    {
     "data": {
      "application/vnd.jupyter.widget-view+json": {
       "model_id": "a8cad7b9c8324512bc649e306e29ded2",
       "version_major": 2,
       "version_minor": 0
      },
      "text/plain": [
       "Depth 8 sub-progress:   0%|          | 0/9 [00:00<?, ?it/s]"
      ]
     },
     "metadata": {},
     "output_type": "display_data"
    },
    {
     "data": {
      "application/vnd.jupyter.widget-view+json": {
       "model_id": "a99d366c6e3d41dea06ef41cf402c610",
       "version_major": 2,
       "version_minor": 0
      },
      "text/plain": [
       "Depth 8 sub-progress:   0%|          | 0/9 [00:00<?, ?it/s]"
      ]
     },
     "metadata": {},
     "output_type": "display_data"
    },
    {
     "data": {
      "application/vnd.jupyter.widget-view+json": {
       "model_id": "6993208cebe647c892a75ba06706b5c2",
       "version_major": 2,
       "version_minor": 0
      },
      "text/plain": [
       "Depth 8 sub-progress:   0%|          | 0/9 [00:00<?, ?it/s]"
      ]
     },
     "metadata": {},
     "output_type": "display_data"
    },
    {
     "data": {
      "application/vnd.jupyter.widget-view+json": {
       "model_id": "0becf6343f00454bac3fe6f2b3af17db",
       "version_major": 2,
       "version_minor": 0
      },
      "text/plain": [
       "Depth 8 sub-progress:   0%|          | 0/9 [00:00<?, ?it/s]"
      ]
     },
     "metadata": {},
     "output_type": "display_data"
    },
    {
     "data": {
      "application/vnd.jupyter.widget-view+json": {
       "model_id": "0b3042e3f5f94defa43c3f35ebef2cd2",
       "version_major": 2,
       "version_minor": 0
      },
      "text/plain": [
       "Depth 8 sub-progress:   0%|          | 0/9 [00:00<?, ?it/s]"
      ]
     },
     "metadata": {},
     "output_type": "display_data"
    },
    {
     "data": {
      "application/vnd.jupyter.widget-view+json": {
       "model_id": "6b69f41709004f75a3675cd0bb421890",
       "version_major": 2,
       "version_minor": 0
      },
      "text/plain": [
       "Depth 8 sub-progress:   0%|          | 0/9 [00:00<?, ?it/s]"
      ]
     },
     "metadata": {},
     "output_type": "display_data"
    },
    {
     "data": {
      "application/vnd.jupyter.widget-view+json": {
       "model_id": "9dd24fcb95004514af98cddda3e1110a",
       "version_major": 2,
       "version_minor": 0
      },
      "text/plain": [
       "Depth 8 sub-progress:   0%|          | 0/9 [00:00<?, ?it/s]"
      ]
     },
     "metadata": {},
     "output_type": "display_data"
    },
    {
     "data": {
      "application/vnd.jupyter.widget-view+json": {
       "model_id": "f006fe3075254c7293f10cdeeea4995a",
       "version_major": 2,
       "version_minor": 0
      },
      "text/plain": [
       "Depth 8 sub-progress:   0%|          | 0/9 [00:00<?, ?it/s]"
      ]
     },
     "metadata": {},
     "output_type": "display_data"
    },
    {
     "data": {
      "application/vnd.jupyter.widget-view+json": {
       "model_id": "4c26022ef3a349918c7a076443b84f1f",
       "version_major": 2,
       "version_minor": 0
      },
      "text/plain": [
       "Depth 8 sub-progress:   0%|          | 0/9 [00:00<?, ?it/s]"
      ]
     },
     "metadata": {},
     "output_type": "display_data"
    },
    {
     "data": {
      "application/vnd.jupyter.widget-view+json": {
       "model_id": "230dafc07445499eb6bed92fd7f6df36",
       "version_major": 2,
       "version_minor": 0
      },
      "text/plain": [
       "Depth 8 sub-progress:   0%|          | 0/9 [00:00<?, ?it/s]"
      ]
     },
     "metadata": {},
     "output_type": "display_data"
    },
    {
     "data": {
      "application/vnd.jupyter.widget-view+json": {
       "model_id": "c7a15ffe58ff4b5faf152cc3cb3e182b",
       "version_major": 2,
       "version_minor": 0
      },
      "text/plain": [
       "Depth 8 sub-progress:   0%|          | 0/9 [00:00<?, ?it/s]"
      ]
     },
     "metadata": {},
     "output_type": "display_data"
    },
    {
     "data": {
      "application/vnd.jupyter.widget-view+json": {
       "model_id": "abdd8e66aea242499207cc437cfb1deb",
       "version_major": 2,
       "version_minor": 0
      },
      "text/plain": [
       "Depth 8 sub-progress:   0%|          | 0/9 [00:00<?, ?it/s]"
      ]
     },
     "metadata": {},
     "output_type": "display_data"
    },
    {
     "data": {
      "application/vnd.jupyter.widget-view+json": {
       "model_id": "d6780561728e4f75b692edac13838a8a",
       "version_major": 2,
       "version_minor": 0
      },
      "text/plain": [
       "Depth 8 sub-progress:   0%|          | 0/9 [00:00<?, ?it/s]"
      ]
     },
     "metadata": {},
     "output_type": "display_data"
    },
    {
     "data": {
      "application/vnd.jupyter.widget-view+json": {
       "model_id": "7607a98173ad4d30955cbbc302d2d11e",
       "version_major": 2,
       "version_minor": 0
      },
      "text/plain": [
       "Depth 8 sub-progress:   0%|          | 0/9 [00:00<?, ?it/s]"
      ]
     },
     "metadata": {},
     "output_type": "display_data"
    },
    {
     "data": {
      "application/vnd.jupyter.widget-view+json": {
       "model_id": "dbec0279800649f5a6db73cddfdbd8b0",
       "version_major": 2,
       "version_minor": 0
      },
      "text/plain": [
       "Depth 8 sub-progress:   0%|          | 0/9 [00:00<?, ?it/s]"
      ]
     },
     "metadata": {},
     "output_type": "display_data"
    },
    {
     "data": {
      "application/vnd.jupyter.widget-view+json": {
       "model_id": "aef785e008884b719f709f697b5f75e4",
       "version_major": 2,
       "version_minor": 0
      },
      "text/plain": [
       "Depth 8 sub-progress:   0%|          | 0/9 [00:00<?, ?it/s]"
      ]
     },
     "metadata": {},
     "output_type": "display_data"
    },
    {
     "data": {
      "application/vnd.jupyter.widget-view+json": {
       "model_id": "4a4b35de3648484e98b1bdb73caa2ba9",
       "version_major": 2,
       "version_minor": 0
      },
      "text/plain": [
       "Depth 8 sub-progress:   0%|          | 0/9 [00:00<?, ?it/s]"
      ]
     },
     "metadata": {},
     "output_type": "display_data"
    },
    {
     "data": {
      "application/vnd.jupyter.widget-view+json": {
       "model_id": "e19901fdf5f14e888fcafced89159d43",
       "version_major": 2,
       "version_minor": 0
      },
      "text/plain": [
       "Depth 8 sub-progress:   0%|          | 0/9 [00:00<?, ?it/s]"
      ]
     },
     "metadata": {},
     "output_type": "display_data"
    },
    {
     "data": {
      "application/vnd.jupyter.widget-view+json": {
       "model_id": "de00326a6f6c47ab86e5a963bfe2d934",
       "version_major": 2,
       "version_minor": 0
      },
      "text/plain": [
       "Depth 8 sub-progress:   0%|          | 0/9 [00:00<?, ?it/s]"
      ]
     },
     "metadata": {},
     "output_type": "display_data"
    },
    {
     "data": {
      "application/vnd.jupyter.widget-view+json": {
       "model_id": "67f2e974e6fb4281a4a4bbaab6934798",
       "version_major": 2,
       "version_minor": 0
      },
      "text/plain": [
       "Depth 8 sub-progress:   0%|          | 0/9 [00:00<?, ?it/s]"
      ]
     },
     "metadata": {},
     "output_type": "display_data"
    },
    {
     "data": {
      "application/vnd.jupyter.widget-view+json": {
       "model_id": "e59dbe9ab7a04dbe8a9e704553fe872e",
       "version_major": 2,
       "version_minor": 0
      },
      "text/plain": [
       "Depth 8 sub-progress:   0%|          | 0/9 [00:00<?, ?it/s]"
      ]
     },
     "metadata": {},
     "output_type": "display_data"
    },
    {
     "data": {
      "application/vnd.jupyter.widget-view+json": {
       "model_id": "d8c1cee31d3746658d8e8ec84c4065a5",
       "version_major": 2,
       "version_minor": 0
      },
      "text/plain": [
       "Depth 8 sub-progress:   0%|          | 0/9 [00:00<?, ?it/s]"
      ]
     },
     "metadata": {},
     "output_type": "display_data"
    },
    {
     "data": {
      "application/vnd.jupyter.widget-view+json": {
       "model_id": "b40f2fd2aec74b20aeb17ed58e10997d",
       "version_major": 2,
       "version_minor": 0
      },
      "text/plain": [
       "Depth 8 sub-progress:   0%|          | 0/9 [00:00<?, ?it/s]"
      ]
     },
     "metadata": {},
     "output_type": "display_data"
    },
    {
     "data": {
      "application/vnd.jupyter.widget-view+json": {
       "model_id": "f99fbc6b929043d38c2fd249c8073837",
       "version_major": 2,
       "version_minor": 0
      },
      "text/plain": [
       "Depth 8 sub-progress:   0%|          | 0/9 [00:00<?, ?it/s]"
      ]
     },
     "metadata": {},
     "output_type": "display_data"
    },
    {
     "data": {
      "application/vnd.jupyter.widget-view+json": {
       "model_id": "370f69c326994984a633fd829d78100b",
       "version_major": 2,
       "version_minor": 0
      },
      "text/plain": [
       "Depth 8 sub-progress:   0%|          | 0/9 [00:00<?, ?it/s]"
      ]
     },
     "metadata": {},
     "output_type": "display_data"
    },
    {
     "data": {
      "application/vnd.jupyter.widget-view+json": {
       "model_id": "f00d031034274582904599c4ed9ce8fb",
       "version_major": 2,
       "version_minor": 0
      },
      "text/plain": [
       "Depth 8 sub-progress:   0%|          | 0/9 [00:00<?, ?it/s]"
      ]
     },
     "metadata": {},
     "output_type": "display_data"
    },
    {
     "data": {
      "application/vnd.jupyter.widget-view+json": {
       "model_id": "ad4aa13f81dd4ac79d04ef1a2594783a",
       "version_major": 2,
       "version_minor": 0
      },
      "text/plain": [
       "Depth 8 sub-progress:   0%|          | 0/9 [00:00<?, ?it/s]"
      ]
     },
     "metadata": {},
     "output_type": "display_data"
    },
    {
     "data": {
      "application/vnd.jupyter.widget-view+json": {
       "model_id": "df908a5cd987450c9acaae4cc82a7827",
       "version_major": 2,
       "version_minor": 0
      },
      "text/plain": [
       "Depth 8 sub-progress:   0%|          | 0/9 [00:00<?, ?it/s]"
      ]
     },
     "metadata": {},
     "output_type": "display_data"
    },
    {
     "data": {
      "application/vnd.jupyter.widget-view+json": {
       "model_id": "8b7ccc9a23724544b94926ff02b60525",
       "version_major": 2,
       "version_minor": 0
      },
      "text/plain": [
       "Depth 8 sub-progress:   0%|          | 0/9 [00:00<?, ?it/s]"
      ]
     },
     "metadata": {},
     "output_type": "display_data"
    },
    {
     "data": {
      "application/vnd.jupyter.widget-view+json": {
       "model_id": "73dea84fa12944cd99659319d2ee5168",
       "version_major": 2,
       "version_minor": 0
      },
      "text/plain": [
       "Depth 8 sub-progress:   0%|          | 0/9 [00:00<?, ?it/s]"
      ]
     },
     "metadata": {},
     "output_type": "display_data"
    },
    {
     "data": {
      "application/vnd.jupyter.widget-view+json": {
       "model_id": "b75e674e4c0a4deda1c2f4488f373953",
       "version_major": 2,
       "version_minor": 0
      },
      "text/plain": [
       "Depth 8 sub-progress:   0%|          | 0/9 [00:00<?, ?it/s]"
      ]
     },
     "metadata": {},
     "output_type": "display_data"
    },
    {
     "data": {
      "application/vnd.jupyter.widget-view+json": {
       "model_id": "78c2951e0edd463ebfebc5aa570302d4",
       "version_major": 2,
       "version_minor": 0
      },
      "text/plain": [
       "Depth 9:   0%|          | 0/508 [00:00<?, ?it/s]"
      ]
     },
     "metadata": {},
     "output_type": "display_data"
    },
    {
     "data": {
      "application/vnd.jupyter.widget-view+json": {
       "model_id": "8536ecfed9f54d8d800dcdb3d981dd70",
       "version_major": 2,
       "version_minor": 0
      },
      "text/plain": [
       "Depth 9 sub-progress:   0%|          | 0/9 [00:00<?, ?it/s]"
      ]
     },
     "metadata": {},
     "output_type": "display_data"
    },
    {
     "data": {
      "application/vnd.jupyter.widget-view+json": {
       "model_id": "f81b02223a264c218a800e839709a085",
       "version_major": 2,
       "version_minor": 0
      },
      "text/plain": [
       "Depth 9 sub-progress:   0%|          | 0/9 [00:00<?, ?it/s]"
      ]
     },
     "metadata": {},
     "output_type": "display_data"
    },
    {
     "data": {
      "application/vnd.jupyter.widget-view+json": {
       "model_id": "ba580578e60e4b0eae5c9f77da4d5207",
       "version_major": 2,
       "version_minor": 0
      },
      "text/plain": [
       "Depth 9 sub-progress:   0%|          | 0/9 [00:00<?, ?it/s]"
      ]
     },
     "metadata": {},
     "output_type": "display_data"
    },
    {
     "data": {
      "application/vnd.jupyter.widget-view+json": {
       "model_id": "073bdaefbcef41e68af7ae738d083bf0",
       "version_major": 2,
       "version_minor": 0
      },
      "text/plain": [
       "Depth 9 sub-progress:   0%|          | 0/9 [00:00<?, ?it/s]"
      ]
     },
     "metadata": {},
     "output_type": "display_data"
    },
    {
     "data": {
      "application/vnd.jupyter.widget-view+json": {
       "model_id": "bb57b3675c2c4914bf586e7324e25095",
       "version_major": 2,
       "version_minor": 0
      },
      "text/plain": [
       "Depth 9 sub-progress:   0%|          | 0/9 [00:00<?, ?it/s]"
      ]
     },
     "metadata": {},
     "output_type": "display_data"
    },
    {
     "data": {
      "application/vnd.jupyter.widget-view+json": {
       "model_id": "8739a875a939454ba5bf31820e21735e",
       "version_major": 2,
       "version_minor": 0
      },
      "text/plain": [
       "Depth 9 sub-progress:   0%|          | 0/9 [00:00<?, ?it/s]"
      ]
     },
     "metadata": {},
     "output_type": "display_data"
    },
    {
     "data": {
      "application/vnd.jupyter.widget-view+json": {
       "model_id": "b207ba5c6dcb4c6aa845c9a0472b3aa2",
       "version_major": 2,
       "version_minor": 0
      },
      "text/plain": [
       "Depth 9 sub-progress:   0%|          | 0/9 [00:00<?, ?it/s]"
      ]
     },
     "metadata": {},
     "output_type": "display_data"
    },
    {
     "data": {
      "application/vnd.jupyter.widget-view+json": {
       "model_id": "4c3a9d959dd04b47aed51cc8605de07f",
       "version_major": 2,
       "version_minor": 0
      },
      "text/plain": [
       "Depth 9 sub-progress:   0%|          | 0/9 [00:00<?, ?it/s]"
      ]
     },
     "metadata": {},
     "output_type": "display_data"
    },
    {
     "data": {
      "application/vnd.jupyter.widget-view+json": {
       "model_id": "33f2f026301d40c69feef699c1f9952a",
       "version_major": 2,
       "version_minor": 0
      },
      "text/plain": [
       "Depth 9 sub-progress:   0%|          | 0/9 [00:00<?, ?it/s]"
      ]
     },
     "metadata": {},
     "output_type": "display_data"
    },
    {
     "data": {
      "application/vnd.jupyter.widget-view+json": {
       "model_id": "52d25eac637f47288a7eb68a42d10e9c",
       "version_major": 2,
       "version_minor": 0
      },
      "text/plain": [
       "Depth 9 sub-progress:   0%|          | 0/9 [00:00<?, ?it/s]"
      ]
     },
     "metadata": {},
     "output_type": "display_data"
    },
    {
     "data": {
      "application/vnd.jupyter.widget-view+json": {
       "model_id": "1c6ed20cbeea471197bd1382747f09c3",
       "version_major": 2,
       "version_minor": 0
      },
      "text/plain": [
       "Depth 9 sub-progress:   0%|          | 0/9 [00:00<?, ?it/s]"
      ]
     },
     "metadata": {},
     "output_type": "display_data"
    },
    {
     "data": {
      "application/vnd.jupyter.widget-view+json": {
       "model_id": "1aca5ac9f83e481dbab03f1c99fc10ac",
       "version_major": 2,
       "version_minor": 0
      },
      "text/plain": [
       "Depth 9 sub-progress:   0%|          | 0/9 [00:00<?, ?it/s]"
      ]
     },
     "metadata": {},
     "output_type": "display_data"
    },
    {
     "data": {
      "application/vnd.jupyter.widget-view+json": {
       "model_id": "b231eda4f5f742a1ada69ca828e67820",
       "version_major": 2,
       "version_minor": 0
      },
      "text/plain": [
       "Depth 9 sub-progress:   0%|          | 0/9 [00:00<?, ?it/s]"
      ]
     },
     "metadata": {},
     "output_type": "display_data"
    },
    {
     "data": {
      "application/vnd.jupyter.widget-view+json": {
       "model_id": "0658138a7c314bdc80a6bdd950496a8d",
       "version_major": 2,
       "version_minor": 0
      },
      "text/plain": [
       "Depth 9 sub-progress:   0%|          | 0/9 [00:00<?, ?it/s]"
      ]
     },
     "metadata": {},
     "output_type": "display_data"
    },
    {
     "data": {
      "application/vnd.jupyter.widget-view+json": {
       "model_id": "ab86218ea425445aa0528a941378704f",
       "version_major": 2,
       "version_minor": 0
      },
      "text/plain": [
       "Depth 9 sub-progress:   0%|          | 0/9 [00:00<?, ?it/s]"
      ]
     },
     "metadata": {},
     "output_type": "display_data"
    },
    {
     "data": {
      "application/vnd.jupyter.widget-view+json": {
       "model_id": "47cdfb152c1c4baca3aa3bb6976a7518",
       "version_major": 2,
       "version_minor": 0
      },
      "text/plain": [
       "Depth 9 sub-progress:   0%|          | 0/9 [00:00<?, ?it/s]"
      ]
     },
     "metadata": {},
     "output_type": "display_data"
    },
    {
     "data": {
      "application/vnd.jupyter.widget-view+json": {
       "model_id": "4038360963464d73bc4e807a62435577",
       "version_major": 2,
       "version_minor": 0
      },
      "text/plain": [
       "Depth 9 sub-progress:   0%|          | 0/9 [00:00<?, ?it/s]"
      ]
     },
     "metadata": {},
     "output_type": "display_data"
    },
    {
     "data": {
      "application/vnd.jupyter.widget-view+json": {
       "model_id": "9c49e3fd3b2b4288b587fc2e28937d6c",
       "version_major": 2,
       "version_minor": 0
      },
      "text/plain": [
       "Depth 9 sub-progress:   0%|          | 0/9 [00:00<?, ?it/s]"
      ]
     },
     "metadata": {},
     "output_type": "display_data"
    },
    {
     "data": {
      "application/vnd.jupyter.widget-view+json": {
       "model_id": "04f2aec59fe249d78234cca76cc02c30",
       "version_major": 2,
       "version_minor": 0
      },
      "text/plain": [
       "Depth 9 sub-progress:   0%|          | 0/9 [00:00<?, ?it/s]"
      ]
     },
     "metadata": {},
     "output_type": "display_data"
    },
    {
     "data": {
      "application/vnd.jupyter.widget-view+json": {
       "model_id": "b0cbca58c6b64ded9f2db280253d9bf6",
       "version_major": 2,
       "version_minor": 0
      },
      "text/plain": [
       "Depth 9 sub-progress:   0%|          | 0/9 [00:00<?, ?it/s]"
      ]
     },
     "metadata": {},
     "output_type": "display_data"
    },
    {
     "data": {
      "application/vnd.jupyter.widget-view+json": {
       "model_id": "82abd869beed40baa105774fa6cf7169",
       "version_major": 2,
       "version_minor": 0
      },
      "text/plain": [
       "Depth 9 sub-progress:   0%|          | 0/9 [00:00<?, ?it/s]"
      ]
     },
     "metadata": {},
     "output_type": "display_data"
    },
    {
     "data": {
      "application/vnd.jupyter.widget-view+json": {
       "model_id": "43007a67fdf14037816e6197ba3236c8",
       "version_major": 2,
       "version_minor": 0
      },
      "text/plain": [
       "Depth 9 sub-progress:   0%|          | 0/9 [00:00<?, ?it/s]"
      ]
     },
     "metadata": {},
     "output_type": "display_data"
    },
    {
     "data": {
      "application/vnd.jupyter.widget-view+json": {
       "model_id": "dd2476a646c943d2820ef647cc6087d3",
       "version_major": 2,
       "version_minor": 0
      },
      "text/plain": [
       "Depth 9 sub-progress:   0%|          | 0/9 [00:00<?, ?it/s]"
      ]
     },
     "metadata": {},
     "output_type": "display_data"
    },
    {
     "data": {
      "application/vnd.jupyter.widget-view+json": {
       "model_id": "4a03937c5dcc4345937c6f86bcef6892",
       "version_major": 2,
       "version_minor": 0
      },
      "text/plain": [
       "Depth 9 sub-progress:   0%|          | 0/9 [00:00<?, ?it/s]"
      ]
     },
     "metadata": {},
     "output_type": "display_data"
    },
    {
     "data": {
      "application/vnd.jupyter.widget-view+json": {
       "model_id": "0665e96178dc4ae99fc4c48cc46391df",
       "version_major": 2,
       "version_minor": 0
      },
      "text/plain": [
       "Depth 9 sub-progress:   0%|          | 0/9 [00:00<?, ?it/s]"
      ]
     },
     "metadata": {},
     "output_type": "display_data"
    },
    {
     "data": {
      "application/vnd.jupyter.widget-view+json": {
       "model_id": "aad7154d3b0f4c2b990146c488201743",
       "version_major": 2,
       "version_minor": 0
      },
      "text/plain": [
       "Depth 9 sub-progress:   0%|          | 0/9 [00:00<?, ?it/s]"
      ]
     },
     "metadata": {},
     "output_type": "display_data"
    },
    {
     "data": {
      "application/vnd.jupyter.widget-view+json": {
       "model_id": "9b77b9349745449aafe0809299d8cae1",
       "version_major": 2,
       "version_minor": 0
      },
      "text/plain": [
       "Depth 9 sub-progress:   0%|          | 0/9 [00:00<?, ?it/s]"
      ]
     },
     "metadata": {},
     "output_type": "display_data"
    },
    {
     "data": {
      "application/vnd.jupyter.widget-view+json": {
       "model_id": "71672cdd2628414a9dbcd0cb3450d519",
       "version_major": 2,
       "version_minor": 0
      },
      "text/plain": [
       "Depth 9 sub-progress:   0%|          | 0/9 [00:00<?, ?it/s]"
      ]
     },
     "metadata": {},
     "output_type": "display_data"
    },
    {
     "data": {
      "application/vnd.jupyter.widget-view+json": {
       "model_id": "d48a5b18b74047bf88e11207f8f46de0",
       "version_major": 2,
       "version_minor": 0
      },
      "text/plain": [
       "Depth 9 sub-progress:   0%|          | 0/9 [00:00<?, ?it/s]"
      ]
     },
     "metadata": {},
     "output_type": "display_data"
    },
    {
     "data": {
      "application/vnd.jupyter.widget-view+json": {
       "model_id": "a975494cfddf4370870e1edc40fb695b",
       "version_major": 2,
       "version_minor": 0
      },
      "text/plain": [
       "Depth 9 sub-progress:   0%|          | 0/9 [00:00<?, ?it/s]"
      ]
     },
     "metadata": {},
     "output_type": "display_data"
    },
    {
     "data": {
      "application/vnd.jupyter.widget-view+json": {
       "model_id": "5cb7903e4ae54a01881810d54d45ebde",
       "version_major": 2,
       "version_minor": 0
      },
      "text/plain": [
       "Depth 9 sub-progress:   0%|          | 0/9 [00:00<?, ?it/s]"
      ]
     },
     "metadata": {},
     "output_type": "display_data"
    },
    {
     "data": {
      "application/vnd.jupyter.widget-view+json": {
       "model_id": "e27ebf5a89ad42399d66488155c4fc8c",
       "version_major": 2,
       "version_minor": 0
      },
      "text/plain": [
       "Depth 9 sub-progress:   0%|          | 0/9 [00:00<?, ?it/s]"
      ]
     },
     "metadata": {},
     "output_type": "display_data"
    },
    {
     "data": {
      "application/vnd.jupyter.widget-view+json": {
       "model_id": "0a9b9d21fba4495ca1f4e7759393bed1",
       "version_major": 2,
       "version_minor": 0
      },
      "text/plain": [
       "Depth 9 sub-progress:   0%|          | 0/9 [00:00<?, ?it/s]"
      ]
     },
     "metadata": {},
     "output_type": "display_data"
    },
    {
     "data": {
      "application/vnd.jupyter.widget-view+json": {
       "model_id": "e6b6d5be48e94f9db0f51c00c7f360bf",
       "version_major": 2,
       "version_minor": 0
      },
      "text/plain": [
       "Depth 9 sub-progress:   0%|          | 0/9 [00:00<?, ?it/s]"
      ]
     },
     "metadata": {},
     "output_type": "display_data"
    },
    {
     "data": {
      "application/vnd.jupyter.widget-view+json": {
       "model_id": "e3f6a5a771704f06a763538456af4073",
       "version_major": 2,
       "version_minor": 0
      },
      "text/plain": [
       "Depth 9 sub-progress:   0%|          | 0/9 [00:00<?, ?it/s]"
      ]
     },
     "metadata": {},
     "output_type": "display_data"
    },
    {
     "data": {
      "application/vnd.jupyter.widget-view+json": {
       "model_id": "9fc54be5e021451aa3ed4a57dda0459c",
       "version_major": 2,
       "version_minor": 0
      },
      "text/plain": [
       "Depth 9 sub-progress:   0%|          | 0/9 [00:00<?, ?it/s]"
      ]
     },
     "metadata": {},
     "output_type": "display_data"
    },
    {
     "data": {
      "application/vnd.jupyter.widget-view+json": {
       "model_id": "503fb9f4f91e458e98a6c6c946d44a4d",
       "version_major": 2,
       "version_minor": 0
      },
      "text/plain": [
       "Depth 9 sub-progress:   0%|          | 0/9 [00:00<?, ?it/s]"
      ]
     },
     "metadata": {},
     "output_type": "display_data"
    },
    {
     "data": {
      "application/vnd.jupyter.widget-view+json": {
       "model_id": "e914d1b860e2453db6211255ff92b403",
       "version_major": 2,
       "version_minor": 0
      },
      "text/plain": [
       "Depth 9 sub-progress:   0%|          | 0/9 [00:00<?, ?it/s]"
      ]
     },
     "metadata": {},
     "output_type": "display_data"
    },
    {
     "data": {
      "application/vnd.jupyter.widget-view+json": {
       "model_id": "1084e28b077943adb9f399eccf475b45",
       "version_major": 2,
       "version_minor": 0
      },
      "text/plain": [
       "Depth 9 sub-progress:   0%|          | 0/9 [00:00<?, ?it/s]"
      ]
     },
     "metadata": {},
     "output_type": "display_data"
    },
    {
     "data": {
      "application/vnd.jupyter.widget-view+json": {
       "model_id": "11700f556e09469899e49089623a4449",
       "version_major": 2,
       "version_minor": 0
      },
      "text/plain": [
       "Depth 9 sub-progress:   0%|          | 0/9 [00:00<?, ?it/s]"
      ]
     },
     "metadata": {},
     "output_type": "display_data"
    },
    {
     "data": {
      "application/vnd.jupyter.widget-view+json": {
       "model_id": "c53bcfd9776e49359003b960250d8d03",
       "version_major": 2,
       "version_minor": 0
      },
      "text/plain": [
       "Depth 9 sub-progress:   0%|          | 0/9 [00:00<?, ?it/s]"
      ]
     },
     "metadata": {},
     "output_type": "display_data"
    },
    {
     "data": {
      "application/vnd.jupyter.widget-view+json": {
       "model_id": "eb89d4b5b2b44d5e80329102166e50ea",
       "version_major": 2,
       "version_minor": 0
      },
      "text/plain": [
       "Depth 9 sub-progress:   0%|          | 0/9 [00:00<?, ?it/s]"
      ]
     },
     "metadata": {},
     "output_type": "display_data"
    },
    {
     "data": {
      "application/vnd.jupyter.widget-view+json": {
       "model_id": "64e55949da0141a2a94c256e03f47d0a",
       "version_major": 2,
       "version_minor": 0
      },
      "text/plain": [
       "Depth 9 sub-progress:   0%|          | 0/9 [00:00<?, ?it/s]"
      ]
     },
     "metadata": {},
     "output_type": "display_data"
    },
    {
     "data": {
      "application/vnd.jupyter.widget-view+json": {
       "model_id": "92b6272a6f6d4b46ac5fd63983ea9e8b",
       "version_major": 2,
       "version_minor": 0
      },
      "text/plain": [
       "Depth 9 sub-progress:   0%|          | 0/9 [00:00<?, ?it/s]"
      ]
     },
     "metadata": {},
     "output_type": "display_data"
    },
    {
     "data": {
      "application/vnd.jupyter.widget-view+json": {
       "model_id": "a89726a7b10c44469c14236a1d53dca2",
       "version_major": 2,
       "version_minor": 0
      },
      "text/plain": [
       "Depth 9 sub-progress:   0%|          | 0/9 [00:00<?, ?it/s]"
      ]
     },
     "metadata": {},
     "output_type": "display_data"
    },
    {
     "data": {
      "application/vnd.jupyter.widget-view+json": {
       "model_id": "f00ce26370e3464e86aba6cee8588520",
       "version_major": 2,
       "version_minor": 0
      },
      "text/plain": [
       "Depth 9 sub-progress:   0%|          | 0/9 [00:00<?, ?it/s]"
      ]
     },
     "metadata": {},
     "output_type": "display_data"
    },
    {
     "data": {
      "application/vnd.jupyter.widget-view+json": {
       "model_id": "7c7e54180c7d499e8287091d4cfecbb2",
       "version_major": 2,
       "version_minor": 0
      },
      "text/plain": [
       "Depth 9 sub-progress:   0%|          | 0/9 [00:00<?, ?it/s]"
      ]
     },
     "metadata": {},
     "output_type": "display_data"
    },
    {
     "data": {
      "application/vnd.jupyter.widget-view+json": {
       "model_id": "3def391dd0bc4f32b0ffc2f9f1b7e094",
       "version_major": 2,
       "version_minor": 0
      },
      "text/plain": [
       "Depth 9 sub-progress:   0%|          | 0/9 [00:00<?, ?it/s]"
      ]
     },
     "metadata": {},
     "output_type": "display_data"
    },
    {
     "data": {
      "application/vnd.jupyter.widget-view+json": {
       "model_id": "ee7b8053778d479eb913cc314fe20569",
       "version_major": 2,
       "version_minor": 0
      },
      "text/plain": [
       "Depth 9 sub-progress:   0%|          | 0/9 [00:00<?, ?it/s]"
      ]
     },
     "metadata": {},
     "output_type": "display_data"
    },
    {
     "data": {
      "application/vnd.jupyter.widget-view+json": {
       "model_id": "e30a9097d41241c18b05f0670832b89a",
       "version_major": 2,
       "version_minor": 0
      },
      "text/plain": [
       "Depth 9 sub-progress:   0%|          | 0/9 [00:00<?, ?it/s]"
      ]
     },
     "metadata": {},
     "output_type": "display_data"
    },
    {
     "data": {
      "application/vnd.jupyter.widget-view+json": {
       "model_id": "f2afd4358f87498f828e43f6bd3a793d",
       "version_major": 2,
       "version_minor": 0
      },
      "text/plain": [
       "Depth 9 sub-progress:   0%|          | 0/9 [00:00<?, ?it/s]"
      ]
     },
     "metadata": {},
     "output_type": "display_data"
    },
    {
     "data": {
      "application/vnd.jupyter.widget-view+json": {
       "model_id": "749a1c93a79b4d51812de009c9f99d32",
       "version_major": 2,
       "version_minor": 0
      },
      "text/plain": [
       "Depth 9 sub-progress:   0%|          | 0/9 [00:00<?, ?it/s]"
      ]
     },
     "metadata": {},
     "output_type": "display_data"
    },
    {
     "data": {
      "application/vnd.jupyter.widget-view+json": {
       "model_id": "dabf2b8c188f4ae1869646667b193300",
       "version_major": 2,
       "version_minor": 0
      },
      "text/plain": [
       "Depth 9 sub-progress:   0%|          | 0/9 [00:00<?, ?it/s]"
      ]
     },
     "metadata": {},
     "output_type": "display_data"
    },
    {
     "data": {
      "application/vnd.jupyter.widget-view+json": {
       "model_id": "49fec824d6704326a47b5443bfc0b21a",
       "version_major": 2,
       "version_minor": 0
      },
      "text/plain": [
       "Depth 9 sub-progress:   0%|          | 0/9 [00:00<?, ?it/s]"
      ]
     },
     "metadata": {},
     "output_type": "display_data"
    },
    {
     "data": {
      "application/vnd.jupyter.widget-view+json": {
       "model_id": "5403e81d93b446798e22953f1a215dee",
       "version_major": 2,
       "version_minor": 0
      },
      "text/plain": [
       "Depth 9 sub-progress:   0%|          | 0/9 [00:00<?, ?it/s]"
      ]
     },
     "metadata": {},
     "output_type": "display_data"
    },
    {
     "data": {
      "application/vnd.jupyter.widget-view+json": {
       "model_id": "c985b128f0ef46fd8886f86837d37fc1",
       "version_major": 2,
       "version_minor": 0
      },
      "text/plain": [
       "Depth 9 sub-progress:   0%|          | 0/9 [00:00<?, ?it/s]"
      ]
     },
     "metadata": {},
     "output_type": "display_data"
    },
    {
     "data": {
      "application/vnd.jupyter.widget-view+json": {
       "model_id": "8820fc5fc2024aa9a506cf47458ed23e",
       "version_major": 2,
       "version_minor": 0
      },
      "text/plain": [
       "Depth 9 sub-progress:   0%|          | 0/9 [00:00<?, ?it/s]"
      ]
     },
     "metadata": {},
     "output_type": "display_data"
    },
    {
     "data": {
      "application/vnd.jupyter.widget-view+json": {
       "model_id": "948e76b494ba404297a7f836a04383fd",
       "version_major": 2,
       "version_minor": 0
      },
      "text/plain": [
       "Depth 9 sub-progress:   0%|          | 0/9 [00:00<?, ?it/s]"
      ]
     },
     "metadata": {},
     "output_type": "display_data"
    },
    {
     "data": {
      "application/vnd.jupyter.widget-view+json": {
       "model_id": "813600a1fe6f4fce8ed17951adcd145f",
       "version_major": 2,
       "version_minor": 0
      },
      "text/plain": [
       "Depth 9 sub-progress:   0%|          | 0/9 [00:00<?, ?it/s]"
      ]
     },
     "metadata": {},
     "output_type": "display_data"
    },
    {
     "data": {
      "application/vnd.jupyter.widget-view+json": {
       "model_id": "f141a20066be41058a710e444aa20715",
       "version_major": 2,
       "version_minor": 0
      },
      "text/plain": [
       "Depth 9 sub-progress:   0%|          | 0/9 [00:00<?, ?it/s]"
      ]
     },
     "metadata": {},
     "output_type": "display_data"
    },
    {
     "data": {
      "application/vnd.jupyter.widget-view+json": {
       "model_id": "5a3016906f0541a9aab251b7085c9bd9",
       "version_major": 2,
       "version_minor": 0
      },
      "text/plain": [
       "Depth 9 sub-progress:   0%|          | 0/9 [00:00<?, ?it/s]"
      ]
     },
     "metadata": {},
     "output_type": "display_data"
    },
    {
     "data": {
      "application/vnd.jupyter.widget-view+json": {
       "model_id": "bfacb56ff6a3453086429c601df7bbe6",
       "version_major": 2,
       "version_minor": 0
      },
      "text/plain": [
       "Depth 9 sub-progress:   0%|          | 0/9 [00:00<?, ?it/s]"
      ]
     },
     "metadata": {},
     "output_type": "display_data"
    },
    {
     "data": {
      "application/vnd.jupyter.widget-view+json": {
       "model_id": "9787fa60f7bf4f32884724d0f322e4fd",
       "version_major": 2,
       "version_minor": 0
      },
      "text/plain": [
       "Depth 9 sub-progress:   0%|          | 0/9 [00:00<?, ?it/s]"
      ]
     },
     "metadata": {},
     "output_type": "display_data"
    },
    {
     "data": {
      "application/vnd.jupyter.widget-view+json": {
       "model_id": "869f4e7c83d44f01a67e7a0888339239",
       "version_major": 2,
       "version_minor": 0
      },
      "text/plain": [
       "Depth 9 sub-progress:   0%|          | 0/9 [00:00<?, ?it/s]"
      ]
     },
     "metadata": {},
     "output_type": "display_data"
    },
    {
     "data": {
      "application/vnd.jupyter.widget-view+json": {
       "model_id": "7da27b1b2d8e4cf48139f2b8513207f1",
       "version_major": 2,
       "version_minor": 0
      },
      "text/plain": [
       "Depth 9 sub-progress:   0%|          | 0/9 [00:00<?, ?it/s]"
      ]
     },
     "metadata": {},
     "output_type": "display_data"
    },
    {
     "data": {
      "application/vnd.jupyter.widget-view+json": {
       "model_id": "93bcce648794499ba74d9bd645e5a143",
       "version_major": 2,
       "version_minor": 0
      },
      "text/plain": [
       "Depth 9 sub-progress:   0%|          | 0/9 [00:00<?, ?it/s]"
      ]
     },
     "metadata": {},
     "output_type": "display_data"
    },
    {
     "data": {
      "application/vnd.jupyter.widget-view+json": {
       "model_id": "15b3a823ae9c4cba93db761a7960633d",
       "version_major": 2,
       "version_minor": 0
      },
      "text/plain": [
       "Depth 9 sub-progress:   0%|          | 0/9 [00:00<?, ?it/s]"
      ]
     },
     "metadata": {},
     "output_type": "display_data"
    },
    {
     "data": {
      "application/vnd.jupyter.widget-view+json": {
       "model_id": "1beab2711b6d4c5a95ed6557ba82d9b7",
       "version_major": 2,
       "version_minor": 0
      },
      "text/plain": [
       "Depth 9 sub-progress:   0%|          | 0/9 [00:00<?, ?it/s]"
      ]
     },
     "metadata": {},
     "output_type": "display_data"
    },
    {
     "data": {
      "application/vnd.jupyter.widget-view+json": {
       "model_id": "ae547ca373974a9b801139bf213a1e4e",
       "version_major": 2,
       "version_minor": 0
      },
      "text/plain": [
       "Depth 9 sub-progress:   0%|          | 0/9 [00:00<?, ?it/s]"
      ]
     },
     "metadata": {},
     "output_type": "display_data"
    },
    {
     "data": {
      "application/vnd.jupyter.widget-view+json": {
       "model_id": "642677e5097d400a9ba3e53da0666f0f",
       "version_major": 2,
       "version_minor": 0
      },
      "text/plain": [
       "Depth 9 sub-progress:   0%|          | 0/9 [00:00<?, ?it/s]"
      ]
     },
     "metadata": {},
     "output_type": "display_data"
    },
    {
     "data": {
      "application/vnd.jupyter.widget-view+json": {
       "model_id": "2e7ee472f4ab4d558de79a6e78c311d9",
       "version_major": 2,
       "version_minor": 0
      },
      "text/plain": [
       "Depth 9 sub-progress:   0%|          | 0/9 [00:00<?, ?it/s]"
      ]
     },
     "metadata": {},
     "output_type": "display_data"
    },
    {
     "data": {
      "application/vnd.jupyter.widget-view+json": {
       "model_id": "83ceaa2a730f4437ac06ea315914f61d",
       "version_major": 2,
       "version_minor": 0
      },
      "text/plain": [
       "Depth 9 sub-progress:   0%|          | 0/9 [00:00<?, ?it/s]"
      ]
     },
     "metadata": {},
     "output_type": "display_data"
    },
    {
     "data": {
      "application/vnd.jupyter.widget-view+json": {
       "model_id": "11f8a7a7138d484eb7e714de926c0a6c",
       "version_major": 2,
       "version_minor": 0
      },
      "text/plain": [
       "Depth 9 sub-progress:   0%|          | 0/9 [00:00<?, ?it/s]"
      ]
     },
     "metadata": {},
     "output_type": "display_data"
    },
    {
     "data": {
      "application/vnd.jupyter.widget-view+json": {
       "model_id": "a4861cfe19414a8aaa466a6e86f85a6b",
       "version_major": 2,
       "version_minor": 0
      },
      "text/plain": [
       "Depth 9 sub-progress:   0%|          | 0/9 [00:00<?, ?it/s]"
      ]
     },
     "metadata": {},
     "output_type": "display_data"
    },
    {
     "data": {
      "application/vnd.jupyter.widget-view+json": {
       "model_id": "02ffd2dd84f741dbb7d89b81d074ebfa",
       "version_major": 2,
       "version_minor": 0
      },
      "text/plain": [
       "Depth 9 sub-progress:   0%|          | 0/9 [00:00<?, ?it/s]"
      ]
     },
     "metadata": {},
     "output_type": "display_data"
    },
    {
     "data": {
      "application/vnd.jupyter.widget-view+json": {
       "model_id": "96e3745332b94ac19d0d2bddf4b5c72b",
       "version_major": 2,
       "version_minor": 0
      },
      "text/plain": [
       "Depth 9 sub-progress:   0%|          | 0/9 [00:00<?, ?it/s]"
      ]
     },
     "metadata": {},
     "output_type": "display_data"
    },
    {
     "data": {
      "application/vnd.jupyter.widget-view+json": {
       "model_id": "9ed5eba110e044ab952b3d48c3e2610d",
       "version_major": 2,
       "version_minor": 0
      },
      "text/plain": [
       "Depth 9 sub-progress:   0%|          | 0/9 [00:00<?, ?it/s]"
      ]
     },
     "metadata": {},
     "output_type": "display_data"
    },
    {
     "data": {
      "application/vnd.jupyter.widget-view+json": {
       "model_id": "f71ecd76959142d7bdcb97b3fdaad8bc",
       "version_major": 2,
       "version_minor": 0
      },
      "text/plain": [
       "Depth 9 sub-progress:   0%|          | 0/9 [00:00<?, ?it/s]"
      ]
     },
     "metadata": {},
     "output_type": "display_data"
    },
    {
     "data": {
      "application/vnd.jupyter.widget-view+json": {
       "model_id": "19bfb320c89a4324936e138baf48dd70",
       "version_major": 2,
       "version_minor": 0
      },
      "text/plain": [
       "Depth 9 sub-progress:   0%|          | 0/9 [00:00<?, ?it/s]"
      ]
     },
     "metadata": {},
     "output_type": "display_data"
    },
    {
     "data": {
      "application/vnd.jupyter.widget-view+json": {
       "model_id": "b9dd08dc5777433aac9e2d75c4d1ae03",
       "version_major": 2,
       "version_minor": 0
      },
      "text/plain": [
       "Depth 9 sub-progress:   0%|          | 0/9 [00:00<?, ?it/s]"
      ]
     },
     "metadata": {},
     "output_type": "display_data"
    },
    {
     "data": {
      "application/vnd.jupyter.widget-view+json": {
       "model_id": "8ad5b867183f4ad282d62370ce908154",
       "version_major": 2,
       "version_minor": 0
      },
      "text/plain": [
       "Depth 9 sub-progress:   0%|          | 0/9 [00:00<?, ?it/s]"
      ]
     },
     "metadata": {},
     "output_type": "display_data"
    },
    {
     "data": {
      "application/vnd.jupyter.widget-view+json": {
       "model_id": "be785448c25c435eb6aa1981e8b8192c",
       "version_major": 2,
       "version_minor": 0
      },
      "text/plain": [
       "Depth 9 sub-progress:   0%|          | 0/9 [00:00<?, ?it/s]"
      ]
     },
     "metadata": {},
     "output_type": "display_data"
    },
    {
     "data": {
      "application/vnd.jupyter.widget-view+json": {
       "model_id": "0ba8ce63939c4b428224e913bb46b703",
       "version_major": 2,
       "version_minor": 0
      },
      "text/plain": [
       "Depth 9 sub-progress:   0%|          | 0/9 [00:00<?, ?it/s]"
      ]
     },
     "metadata": {},
     "output_type": "display_data"
    },
    {
     "data": {
      "application/vnd.jupyter.widget-view+json": {
       "model_id": "4dbd2bcc242540bca6c7414d0ed98e43",
       "version_major": 2,
       "version_minor": 0
      },
      "text/plain": [
       "Depth 9 sub-progress:   0%|          | 0/9 [00:00<?, ?it/s]"
      ]
     },
     "metadata": {},
     "output_type": "display_data"
    },
    {
     "data": {
      "application/vnd.jupyter.widget-view+json": {
       "model_id": "34a33d89a35f4908a1c8cbbd829acb6f",
       "version_major": 2,
       "version_minor": 0
      },
      "text/plain": [
       "Depth 9 sub-progress:   0%|          | 0/9 [00:00<?, ?it/s]"
      ]
     },
     "metadata": {},
     "output_type": "display_data"
    },
    {
     "data": {
      "application/vnd.jupyter.widget-view+json": {
       "model_id": "14f221eb84c24bf89b61a297ee63ad3d",
       "version_major": 2,
       "version_minor": 0
      },
      "text/plain": [
       "Depth 9 sub-progress:   0%|          | 0/9 [00:00<?, ?it/s]"
      ]
     },
     "metadata": {},
     "output_type": "display_data"
    },
    {
     "data": {
      "application/vnd.jupyter.widget-view+json": {
       "model_id": "0c15b07418d64511b8e309b90b92efea",
       "version_major": 2,
       "version_minor": 0
      },
      "text/plain": [
       "Depth 9 sub-progress:   0%|          | 0/9 [00:00<?, ?it/s]"
      ]
     },
     "metadata": {},
     "output_type": "display_data"
    },
    {
     "data": {
      "application/vnd.jupyter.widget-view+json": {
       "model_id": "c94bfb69dca7475085de2defeec1a3ed",
       "version_major": 2,
       "version_minor": 0
      },
      "text/plain": [
       "Depth 9 sub-progress:   0%|          | 0/9 [00:00<?, ?it/s]"
      ]
     },
     "metadata": {},
     "output_type": "display_data"
    },
    {
     "data": {
      "application/vnd.jupyter.widget-view+json": {
       "model_id": "364012b6b82146ff93cafcd5648322fa",
       "version_major": 2,
       "version_minor": 0
      },
      "text/plain": [
       "Depth 9 sub-progress:   0%|          | 0/9 [00:00<?, ?it/s]"
      ]
     },
     "metadata": {},
     "output_type": "display_data"
    },
    {
     "data": {
      "application/vnd.jupyter.widget-view+json": {
       "model_id": "fd18f761ade341c1b1e9728e48d3a085",
       "version_major": 2,
       "version_minor": 0
      },
      "text/plain": [
       "Depth 9 sub-progress:   0%|          | 0/9 [00:00<?, ?it/s]"
      ]
     },
     "metadata": {},
     "output_type": "display_data"
    },
    {
     "data": {
      "application/vnd.jupyter.widget-view+json": {
       "model_id": "55b24c1ea90b4a25bd1ecf01307f28f6",
       "version_major": 2,
       "version_minor": 0
      },
      "text/plain": [
       "Depth 9 sub-progress:   0%|          | 0/9 [00:00<?, ?it/s]"
      ]
     },
     "metadata": {},
     "output_type": "display_data"
    },
    {
     "data": {
      "application/vnd.jupyter.widget-view+json": {
       "model_id": "d2c2aca7516745d9adb60931cecbcdf5",
       "version_major": 2,
       "version_minor": 0
      },
      "text/plain": [
       "Depth 9 sub-progress:   0%|          | 0/9 [00:00<?, ?it/s]"
      ]
     },
     "metadata": {},
     "output_type": "display_data"
    },
    {
     "data": {
      "application/vnd.jupyter.widget-view+json": {
       "model_id": "c067b7db335f41f5b85b2613f9a98893",
       "version_major": 2,
       "version_minor": 0
      },
      "text/plain": [
       "Depth 9 sub-progress:   0%|          | 0/9 [00:00<?, ?it/s]"
      ]
     },
     "metadata": {},
     "output_type": "display_data"
    },
    {
     "data": {
      "application/vnd.jupyter.widget-view+json": {
       "model_id": "962f732514b1495aaff8e81c7e1e4f65",
       "version_major": 2,
       "version_minor": 0
      },
      "text/plain": [
       "Depth 9 sub-progress:   0%|          | 0/9 [00:00<?, ?it/s]"
      ]
     },
     "metadata": {},
     "output_type": "display_data"
    },
    {
     "data": {
      "application/vnd.jupyter.widget-view+json": {
       "model_id": "032d0ed1a8424096b8cfeb66d07b433d",
       "version_major": 2,
       "version_minor": 0
      },
      "text/plain": [
       "Depth 9 sub-progress:   0%|          | 0/9 [00:00<?, ?it/s]"
      ]
     },
     "metadata": {},
     "output_type": "display_data"
    },
    {
     "data": {
      "application/vnd.jupyter.widget-view+json": {
       "model_id": "009d619cbbe548aeb92f69186ce12ec1",
       "version_major": 2,
       "version_minor": 0
      },
      "text/plain": [
       "Depth 9 sub-progress:   0%|          | 0/9 [00:00<?, ?it/s]"
      ]
     },
     "metadata": {},
     "output_type": "display_data"
    },
    {
     "data": {
      "application/vnd.jupyter.widget-view+json": {
       "model_id": "f95874db0fda4e9ba0807d685ef8f77b",
       "version_major": 2,
       "version_minor": 0
      },
      "text/plain": [
       "Depth 9 sub-progress:   0%|          | 0/9 [00:00<?, ?it/s]"
      ]
     },
     "metadata": {},
     "output_type": "display_data"
    },
    {
     "data": {
      "application/vnd.jupyter.widget-view+json": {
       "model_id": "85e805c5a44a4f8597083fda38f6ac28",
       "version_major": 2,
       "version_minor": 0
      },
      "text/plain": [
       "Depth 9 sub-progress:   0%|          | 0/9 [00:00<?, ?it/s]"
      ]
     },
     "metadata": {},
     "output_type": "display_data"
    },
    {
     "data": {
      "application/vnd.jupyter.widget-view+json": {
       "model_id": "1d07bd1bd5c94866a24da4c5cfd9410c",
       "version_major": 2,
       "version_minor": 0
      },
      "text/plain": [
       "Depth 9 sub-progress:   0%|          | 0/9 [00:00<?, ?it/s]"
      ]
     },
     "metadata": {},
     "output_type": "display_data"
    },
    {
     "data": {
      "application/vnd.jupyter.widget-view+json": {
       "model_id": "0b6c40e2e2014750abaa7a8b95821c5f",
       "version_major": 2,
       "version_minor": 0
      },
      "text/plain": [
       "Depth 9 sub-progress:   0%|          | 0/9 [00:00<?, ?it/s]"
      ]
     },
     "metadata": {},
     "output_type": "display_data"
    },
    {
     "data": {
      "application/vnd.jupyter.widget-view+json": {
       "model_id": "2b40ebaad5b04475bd9fea7df5007d6c",
       "version_major": 2,
       "version_minor": 0
      },
      "text/plain": [
       "Depth 9 sub-progress:   0%|          | 0/9 [00:00<?, ?it/s]"
      ]
     },
     "metadata": {},
     "output_type": "display_data"
    },
    {
     "data": {
      "application/vnd.jupyter.widget-view+json": {
       "model_id": "25c43d484e8441c6a26ec8fc5f1e728e",
       "version_major": 2,
       "version_minor": 0
      },
      "text/plain": [
       "Depth 9 sub-progress:   0%|          | 0/9 [00:00<?, ?it/s]"
      ]
     },
     "metadata": {},
     "output_type": "display_data"
    },
    {
     "data": {
      "application/vnd.jupyter.widget-view+json": {
       "model_id": "3caa36c913a5482aa6363535e639b5c9",
       "version_major": 2,
       "version_minor": 0
      },
      "text/plain": [
       "Depth 9 sub-progress:   0%|          | 0/9 [00:00<?, ?it/s]"
      ]
     },
     "metadata": {},
     "output_type": "display_data"
    },
    {
     "data": {
      "application/vnd.jupyter.widget-view+json": {
       "model_id": "08ec4ffacbf34a5f98791acbcc187c87",
       "version_major": 2,
       "version_minor": 0
      },
      "text/plain": [
       "Depth 9 sub-progress:   0%|          | 0/9 [00:00<?, ?it/s]"
      ]
     },
     "metadata": {},
     "output_type": "display_data"
    },
    {
     "data": {
      "application/vnd.jupyter.widget-view+json": {
       "model_id": "0a4f3f4711ac41b69b2d1a6362e38c37",
       "version_major": 2,
       "version_minor": 0
      },
      "text/plain": [
       "Depth 9 sub-progress:   0%|          | 0/9 [00:00<?, ?it/s]"
      ]
     },
     "metadata": {},
     "output_type": "display_data"
    },
    {
     "data": {
      "application/vnd.jupyter.widget-view+json": {
       "model_id": "31b095dd2f234b37a679363fdfd874f3",
       "version_major": 2,
       "version_minor": 0
      },
      "text/plain": [
       "Depth 9 sub-progress:   0%|          | 0/9 [00:00<?, ?it/s]"
      ]
     },
     "metadata": {},
     "output_type": "display_data"
    },
    {
     "data": {
      "application/vnd.jupyter.widget-view+json": {
       "model_id": "43d9982391b042e79dda03c595e79783",
       "version_major": 2,
       "version_minor": 0
      },
      "text/plain": [
       "Depth 9 sub-progress:   0%|          | 0/9 [00:00<?, ?it/s]"
      ]
     },
     "metadata": {},
     "output_type": "display_data"
    },
    {
     "data": {
      "application/vnd.jupyter.widget-view+json": {
       "model_id": "540b62751f884474a51c682a9fd20fea",
       "version_major": 2,
       "version_minor": 0
      },
      "text/plain": [
       "Depth 9 sub-progress:   0%|          | 0/9 [00:00<?, ?it/s]"
      ]
     },
     "metadata": {},
     "output_type": "display_data"
    },
    {
     "data": {
      "application/vnd.jupyter.widget-view+json": {
       "model_id": "3dabfc5bbe92405c94042019d2d81b82",
       "version_major": 2,
       "version_minor": 0
      },
      "text/plain": [
       "Depth 9 sub-progress:   0%|          | 0/9 [00:00<?, ?it/s]"
      ]
     },
     "metadata": {},
     "output_type": "display_data"
    },
    {
     "data": {
      "application/vnd.jupyter.widget-view+json": {
       "model_id": "833c015520c94af79dedcdf4ace9e6a5",
       "version_major": 2,
       "version_minor": 0
      },
      "text/plain": [
       "Depth 9 sub-progress:   0%|          | 0/9 [00:00<?, ?it/s]"
      ]
     },
     "metadata": {},
     "output_type": "display_data"
    },
    {
     "data": {
      "application/vnd.jupyter.widget-view+json": {
       "model_id": "6c07d2dbdc3843d9a03fc6871dba7da1",
       "version_major": 2,
       "version_minor": 0
      },
      "text/plain": [
       "Depth 9 sub-progress:   0%|          | 0/9 [00:00<?, ?it/s]"
      ]
     },
     "metadata": {},
     "output_type": "display_data"
    },
    {
     "data": {
      "application/vnd.jupyter.widget-view+json": {
       "model_id": "85b589f2e9aa4433b207db39905a22d3",
       "version_major": 2,
       "version_minor": 0
      },
      "text/plain": [
       "Depth 9 sub-progress:   0%|          | 0/9 [00:00<?, ?it/s]"
      ]
     },
     "metadata": {},
     "output_type": "display_data"
    },
    {
     "data": {
      "application/vnd.jupyter.widget-view+json": {
       "model_id": "4d5f4df35319417dbf9ec2902df45662",
       "version_major": 2,
       "version_minor": 0
      },
      "text/plain": [
       "Depth 9 sub-progress:   0%|          | 0/9 [00:00<?, ?it/s]"
      ]
     },
     "metadata": {},
     "output_type": "display_data"
    },
    {
     "data": {
      "application/vnd.jupyter.widget-view+json": {
       "model_id": "a2d75dea0a9a4c5f8c883dff6f58ab3d",
       "version_major": 2,
       "version_minor": 0
      },
      "text/plain": [
       "Depth 9 sub-progress:   0%|          | 0/9 [00:00<?, ?it/s]"
      ]
     },
     "metadata": {},
     "output_type": "display_data"
    },
    {
     "data": {
      "application/vnd.jupyter.widget-view+json": {
       "model_id": "7f5e5eff422e450a8618e69017a2ce28",
       "version_major": 2,
       "version_minor": 0
      },
      "text/plain": [
       "Depth 9 sub-progress:   0%|          | 0/9 [00:00<?, ?it/s]"
      ]
     },
     "metadata": {},
     "output_type": "display_data"
    },
    {
     "data": {
      "application/vnd.jupyter.widget-view+json": {
       "model_id": "0d60f4aaab894d0cbd8fd837bdb6318a",
       "version_major": 2,
       "version_minor": 0
      },
      "text/plain": [
       "Depth 9 sub-progress:   0%|          | 0/9 [00:00<?, ?it/s]"
      ]
     },
     "metadata": {},
     "output_type": "display_data"
    },
    {
     "data": {
      "application/vnd.jupyter.widget-view+json": {
       "model_id": "99ec23047edf4b0d8343362db898ffb7",
       "version_major": 2,
       "version_minor": 0
      },
      "text/plain": [
       "Depth 9 sub-progress:   0%|          | 0/9 [00:00<?, ?it/s]"
      ]
     },
     "metadata": {},
     "output_type": "display_data"
    },
    {
     "data": {
      "application/vnd.jupyter.widget-view+json": {
       "model_id": "cedfd4814f0b4ae8b8b79f6728ded4cd",
       "version_major": 2,
       "version_minor": 0
      },
      "text/plain": [
       "Depth 9 sub-progress:   0%|          | 0/9 [00:00<?, ?it/s]"
      ]
     },
     "metadata": {},
     "output_type": "display_data"
    },
    {
     "data": {
      "application/vnd.jupyter.widget-view+json": {
       "model_id": "75a1316afcb5466ba5eb754938aee9b7",
       "version_major": 2,
       "version_minor": 0
      },
      "text/plain": [
       "Depth 9 sub-progress:   0%|          | 0/9 [00:00<?, ?it/s]"
      ]
     },
     "metadata": {},
     "output_type": "display_data"
    },
    {
     "data": {
      "application/vnd.jupyter.widget-view+json": {
       "model_id": "2cbe2c907b0a4755a97dc9e63ac3a383",
       "version_major": 2,
       "version_minor": 0
      },
      "text/plain": [
       "Depth 9 sub-progress:   0%|          | 0/9 [00:00<?, ?it/s]"
      ]
     },
     "metadata": {},
     "output_type": "display_data"
    },
    {
     "data": {
      "application/vnd.jupyter.widget-view+json": {
       "model_id": "09fe630b1d68411ea5061fb547daeac6",
       "version_major": 2,
       "version_minor": 0
      },
      "text/plain": [
       "Depth 9 sub-progress:   0%|          | 0/9 [00:00<?, ?it/s]"
      ]
     },
     "metadata": {},
     "output_type": "display_data"
    },
    {
     "data": {
      "application/vnd.jupyter.widget-view+json": {
       "model_id": "7e5979cdcb6844e198df6efe2b8cc7da",
       "version_major": 2,
       "version_minor": 0
      },
      "text/plain": [
       "Depth 9 sub-progress:   0%|          | 0/9 [00:00<?, ?it/s]"
      ]
     },
     "metadata": {},
     "output_type": "display_data"
    },
    {
     "data": {
      "application/vnd.jupyter.widget-view+json": {
       "model_id": "8953bb1d2070470bb4a2d924d671f9f5",
       "version_major": 2,
       "version_minor": 0
      },
      "text/plain": [
       "Depth 9 sub-progress:   0%|          | 0/9 [00:00<?, ?it/s]"
      ]
     },
     "metadata": {},
     "output_type": "display_data"
    },
    {
     "data": {
      "application/vnd.jupyter.widget-view+json": {
       "model_id": "ae956d300f5e469e922aa5fbb00778c2",
       "version_major": 2,
       "version_minor": 0
      },
      "text/plain": [
       "Depth 9 sub-progress:   0%|          | 0/9 [00:00<?, ?it/s]"
      ]
     },
     "metadata": {},
     "output_type": "display_data"
    },
    {
     "data": {
      "application/vnd.jupyter.widget-view+json": {
       "model_id": "f32171967c4f429faac0c7b887666053",
       "version_major": 2,
       "version_minor": 0
      },
      "text/plain": [
       "Depth 9 sub-progress:   0%|          | 0/9 [00:00<?, ?it/s]"
      ]
     },
     "metadata": {},
     "output_type": "display_data"
    },
    {
     "data": {
      "application/vnd.jupyter.widget-view+json": {
       "model_id": "7d51ecadbd074aea8f12b7d912dd6401",
       "version_major": 2,
       "version_minor": 0
      },
      "text/plain": [
       "Depth 9 sub-progress:   0%|          | 0/9 [00:00<?, ?it/s]"
      ]
     },
     "metadata": {},
     "output_type": "display_data"
    },
    {
     "data": {
      "application/vnd.jupyter.widget-view+json": {
       "model_id": "f619c9345a6845898967e6e3899b6fe3",
       "version_major": 2,
       "version_minor": 0
      },
      "text/plain": [
       "Depth 9 sub-progress:   0%|          | 0/9 [00:00<?, ?it/s]"
      ]
     },
     "metadata": {},
     "output_type": "display_data"
    },
    {
     "data": {
      "application/vnd.jupyter.widget-view+json": {
       "model_id": "c38c8773a7e94cba815c1e7b099834ea",
       "version_major": 2,
       "version_minor": 0
      },
      "text/plain": [
       "Depth 9 sub-progress:   0%|          | 0/9 [00:00<?, ?it/s]"
      ]
     },
     "metadata": {},
     "output_type": "display_data"
    },
    {
     "data": {
      "application/vnd.jupyter.widget-view+json": {
       "model_id": "d88dcc11a2ab49a289ebe26b7c715230",
       "version_major": 2,
       "version_minor": 0
      },
      "text/plain": [
       "Depth 9 sub-progress:   0%|          | 0/9 [00:00<?, ?it/s]"
      ]
     },
     "metadata": {},
     "output_type": "display_data"
    },
    {
     "data": {
      "application/vnd.jupyter.widget-view+json": {
       "model_id": "93afbd7ca6cf4e29b51766da6c3cbd16",
       "version_major": 2,
       "version_minor": 0
      },
      "text/plain": [
       "Depth 9 sub-progress:   0%|          | 0/9 [00:00<?, ?it/s]"
      ]
     },
     "metadata": {},
     "output_type": "display_data"
    },
    {
     "data": {
      "application/vnd.jupyter.widget-view+json": {
       "model_id": "979cc6398e8f4375a611b0ecb4d3aa49",
       "version_major": 2,
       "version_minor": 0
      },
      "text/plain": [
       "Depth 9 sub-progress:   0%|          | 0/9 [00:00<?, ?it/s]"
      ]
     },
     "metadata": {},
     "output_type": "display_data"
    },
    {
     "data": {
      "application/vnd.jupyter.widget-view+json": {
       "model_id": "d45fc197194548d4ad8340834dddc8ee",
       "version_major": 2,
       "version_minor": 0
      },
      "text/plain": [
       "Depth 9 sub-progress:   0%|          | 0/9 [00:00<?, ?it/s]"
      ]
     },
     "metadata": {},
     "output_type": "display_data"
    },
    {
     "data": {
      "application/vnd.jupyter.widget-view+json": {
       "model_id": "90a591cd7c204705908b8fe8e1442df7",
       "version_major": 2,
       "version_minor": 0
      },
      "text/plain": [
       "Depth 9 sub-progress:   0%|          | 0/9 [00:00<?, ?it/s]"
      ]
     },
     "metadata": {},
     "output_type": "display_data"
    },
    {
     "data": {
      "application/vnd.jupyter.widget-view+json": {
       "model_id": "092051ff0daa4f74970fd1571391cbb0",
       "version_major": 2,
       "version_minor": 0
      },
      "text/plain": [
       "Depth 9 sub-progress:   0%|          | 0/9 [00:00<?, ?it/s]"
      ]
     },
     "metadata": {},
     "output_type": "display_data"
    },
    {
     "data": {
      "application/vnd.jupyter.widget-view+json": {
       "model_id": "40c5b809ef0e4e988bb05829b0fb48e1",
       "version_major": 2,
       "version_minor": 0
      },
      "text/plain": [
       "Depth 9 sub-progress:   0%|          | 0/9 [00:00<?, ?it/s]"
      ]
     },
     "metadata": {},
     "output_type": "display_data"
    },
    {
     "data": {
      "application/vnd.jupyter.widget-view+json": {
       "model_id": "bb1dd98c9c8b4ff98ba18dc2f46a85e3",
       "version_major": 2,
       "version_minor": 0
      },
      "text/plain": [
       "Depth 9 sub-progress:   0%|          | 0/9 [00:00<?, ?it/s]"
      ]
     },
     "metadata": {},
     "output_type": "display_data"
    },
    {
     "data": {
      "application/vnd.jupyter.widget-view+json": {
       "model_id": "3cc61e8f8351407788c1b05e4a26d10e",
       "version_major": 2,
       "version_minor": 0
      },
      "text/plain": [
       "Depth 9 sub-progress:   0%|          | 0/9 [00:00<?, ?it/s]"
      ]
     },
     "metadata": {},
     "output_type": "display_data"
    },
    {
     "data": {
      "application/vnd.jupyter.widget-view+json": {
       "model_id": "a37e2187433640279969922a8a052e15",
       "version_major": 2,
       "version_minor": 0
      },
      "text/plain": [
       "Depth 9 sub-progress:   0%|          | 0/9 [00:00<?, ?it/s]"
      ]
     },
     "metadata": {},
     "output_type": "display_data"
    },
    {
     "data": {
      "application/vnd.jupyter.widget-view+json": {
       "model_id": "158d8a5670c2464cb1bc92033562b49b",
       "version_major": 2,
       "version_minor": 0
      },
      "text/plain": [
       "Depth 9 sub-progress:   0%|          | 0/9 [00:00<?, ?it/s]"
      ]
     },
     "metadata": {},
     "output_type": "display_data"
    },
    {
     "data": {
      "application/vnd.jupyter.widget-view+json": {
       "model_id": "5074c9d24dad4c2ab08ccb1563662ff3",
       "version_major": 2,
       "version_minor": 0
      },
      "text/plain": [
       "Depth 9 sub-progress:   0%|          | 0/9 [00:00<?, ?it/s]"
      ]
     },
     "metadata": {},
     "output_type": "display_data"
    },
    {
     "data": {
      "application/vnd.jupyter.widget-view+json": {
       "model_id": "35859051fda24233a946ddd0950cde3c",
       "version_major": 2,
       "version_minor": 0
      },
      "text/plain": [
       "Depth 9 sub-progress:   0%|          | 0/9 [00:00<?, ?it/s]"
      ]
     },
     "metadata": {},
     "output_type": "display_data"
    },
    {
     "data": {
      "application/vnd.jupyter.widget-view+json": {
       "model_id": "3fa4919af4904760aa09e0b30f10cccf",
       "version_major": 2,
       "version_minor": 0
      },
      "text/plain": [
       "Depth 9 sub-progress:   0%|          | 0/9 [00:00<?, ?it/s]"
      ]
     },
     "metadata": {},
     "output_type": "display_data"
    },
    {
     "data": {
      "application/vnd.jupyter.widget-view+json": {
       "model_id": "9ba011e1f75f4d96adb5108c9b385566",
       "version_major": 2,
       "version_minor": 0
      },
      "text/plain": [
       "Depth 9 sub-progress:   0%|          | 0/9 [00:00<?, ?it/s]"
      ]
     },
     "metadata": {},
     "output_type": "display_data"
    },
    {
     "data": {
      "application/vnd.jupyter.widget-view+json": {
       "model_id": "79e32b5d2a2c4a49a762270d49a73b8f",
       "version_major": 2,
       "version_minor": 0
      },
      "text/plain": [
       "Depth 9 sub-progress:   0%|          | 0/9 [00:00<?, ?it/s]"
      ]
     },
     "metadata": {},
     "output_type": "display_data"
    },
    {
     "data": {
      "application/vnd.jupyter.widget-view+json": {
       "model_id": "d66fef7d140e47f28c1fa626924775aa",
       "version_major": 2,
       "version_minor": 0
      },
      "text/plain": [
       "Depth 9 sub-progress:   0%|          | 0/9 [00:00<?, ?it/s]"
      ]
     },
     "metadata": {},
     "output_type": "display_data"
    },
    {
     "data": {
      "application/vnd.jupyter.widget-view+json": {
       "model_id": "26210e9b417f4909b164cb988ca36baa",
       "version_major": 2,
       "version_minor": 0
      },
      "text/plain": [
       "Depth 9 sub-progress:   0%|          | 0/9 [00:00<?, ?it/s]"
      ]
     },
     "metadata": {},
     "output_type": "display_data"
    },
    {
     "data": {
      "application/vnd.jupyter.widget-view+json": {
       "model_id": "5c7e2d5d678a49339390b2225053774e",
       "version_major": 2,
       "version_minor": 0
      },
      "text/plain": [
       "Depth 9 sub-progress:   0%|          | 0/9 [00:00<?, ?it/s]"
      ]
     },
     "metadata": {},
     "output_type": "display_data"
    },
    {
     "data": {
      "application/vnd.jupyter.widget-view+json": {
       "model_id": "8fc3cb4a56044ea38182ecc30ef811c0",
       "version_major": 2,
       "version_minor": 0
      },
      "text/plain": [
       "Depth 9 sub-progress:   0%|          | 0/9 [00:00<?, ?it/s]"
      ]
     },
     "metadata": {},
     "output_type": "display_data"
    },
    {
     "data": {
      "application/vnd.jupyter.widget-view+json": {
       "model_id": "7c1186e86a204c498126ad9585f3058d",
       "version_major": 2,
       "version_minor": 0
      },
      "text/plain": [
       "Depth 9 sub-progress:   0%|          | 0/9 [00:00<?, ?it/s]"
      ]
     },
     "metadata": {},
     "output_type": "display_data"
    },
    {
     "data": {
      "application/vnd.jupyter.widget-view+json": {
       "model_id": "c37b0ec678784417be6cd397c5cfb169",
       "version_major": 2,
       "version_minor": 0
      },
      "text/plain": [
       "Depth 9 sub-progress:   0%|          | 0/9 [00:00<?, ?it/s]"
      ]
     },
     "metadata": {},
     "output_type": "display_data"
    },
    {
     "data": {
      "application/vnd.jupyter.widget-view+json": {
       "model_id": "89a39a7f712544d68352eab254551f69",
       "version_major": 2,
       "version_minor": 0
      },
      "text/plain": [
       "Depth 9 sub-progress:   0%|          | 0/9 [00:00<?, ?it/s]"
      ]
     },
     "metadata": {},
     "output_type": "display_data"
    },
    {
     "data": {
      "application/vnd.jupyter.widget-view+json": {
       "model_id": "8965b99109f942728eebf67b04455663",
       "version_major": 2,
       "version_minor": 0
      },
      "text/plain": [
       "Depth 9 sub-progress:   0%|          | 0/9 [00:00<?, ?it/s]"
      ]
     },
     "metadata": {},
     "output_type": "display_data"
    },
    {
     "data": {
      "application/vnd.jupyter.widget-view+json": {
       "model_id": "faa2be470ef248c0877966b19614c7cb",
       "version_major": 2,
       "version_minor": 0
      },
      "text/plain": [
       "Depth 9 sub-progress:   0%|          | 0/9 [00:00<?, ?it/s]"
      ]
     },
     "metadata": {},
     "output_type": "display_data"
    },
    {
     "data": {
      "application/vnd.jupyter.widget-view+json": {
       "model_id": "680f42d6d776451082cba098e7b23d7f",
       "version_major": 2,
       "version_minor": 0
      },
      "text/plain": [
       "Depth 9 sub-progress:   0%|          | 0/9 [00:00<?, ?it/s]"
      ]
     },
     "metadata": {},
     "output_type": "display_data"
    },
    {
     "data": {
      "application/vnd.jupyter.widget-view+json": {
       "model_id": "98c3b4c5a439422886caabe57c9b8855",
       "version_major": 2,
       "version_minor": 0
      },
      "text/plain": [
       "Depth 9 sub-progress:   0%|          | 0/9 [00:00<?, ?it/s]"
      ]
     },
     "metadata": {},
     "output_type": "display_data"
    },
    {
     "data": {
      "application/vnd.jupyter.widget-view+json": {
       "model_id": "6866b84f14b744b0a5e4b200bd48b4d6",
       "version_major": 2,
       "version_minor": 0
      },
      "text/plain": [
       "Depth 9 sub-progress:   0%|          | 0/9 [00:00<?, ?it/s]"
      ]
     },
     "metadata": {},
     "output_type": "display_data"
    },
    {
     "data": {
      "application/vnd.jupyter.widget-view+json": {
       "model_id": "5bda185515f6449fa81d2716f4c82669",
       "version_major": 2,
       "version_minor": 0
      },
      "text/plain": [
       "Depth 9 sub-progress:   0%|          | 0/9 [00:00<?, ?it/s]"
      ]
     },
     "metadata": {},
     "output_type": "display_data"
    },
    {
     "data": {
      "application/vnd.jupyter.widget-view+json": {
       "model_id": "0350a1a8638b46d1a8a925c32b55c1f9",
       "version_major": 2,
       "version_minor": 0
      },
      "text/plain": [
       "Depth 9 sub-progress:   0%|          | 0/9 [00:00<?, ?it/s]"
      ]
     },
     "metadata": {},
     "output_type": "display_data"
    },
    {
     "data": {
      "application/vnd.jupyter.widget-view+json": {
       "model_id": "4d0ba3115b4b47ed94b0d427243dacd1",
       "version_major": 2,
       "version_minor": 0
      },
      "text/plain": [
       "Depth 9 sub-progress:   0%|          | 0/9 [00:00<?, ?it/s]"
      ]
     },
     "metadata": {},
     "output_type": "display_data"
    },
    {
     "data": {
      "application/vnd.jupyter.widget-view+json": {
       "model_id": "fd6bb914eb1546be83ab798ba27146c4",
       "version_major": 2,
       "version_minor": 0
      },
      "text/plain": [
       "Depth 9 sub-progress:   0%|          | 0/9 [00:00<?, ?it/s]"
      ]
     },
     "metadata": {},
     "output_type": "display_data"
    },
    {
     "data": {
      "application/vnd.jupyter.widget-view+json": {
       "model_id": "5f820eb1436e400f829b1bc4a8cc3bbf",
       "version_major": 2,
       "version_minor": 0
      },
      "text/plain": [
       "Depth 9 sub-progress:   0%|          | 0/9 [00:00<?, ?it/s]"
      ]
     },
     "metadata": {},
     "output_type": "display_data"
    },
    {
     "data": {
      "application/vnd.jupyter.widget-view+json": {
       "model_id": "3b7643804cfb40c88dd0a526cc7752a9",
       "version_major": 2,
       "version_minor": 0
      },
      "text/plain": [
       "Depth 9 sub-progress:   0%|          | 0/9 [00:00<?, ?it/s]"
      ]
     },
     "metadata": {},
     "output_type": "display_data"
    },
    {
     "data": {
      "application/vnd.jupyter.widget-view+json": {
       "model_id": "4d705955f00a402ba4aaf684ce6bd8a5",
       "version_major": 2,
       "version_minor": 0
      },
      "text/plain": [
       "Depth 9 sub-progress:   0%|          | 0/9 [00:00<?, ?it/s]"
      ]
     },
     "metadata": {},
     "output_type": "display_data"
    },
    {
     "data": {
      "application/vnd.jupyter.widget-view+json": {
       "model_id": "7cb27331252b4862b5dd56a1d7fa0438",
       "version_major": 2,
       "version_minor": 0
      },
      "text/plain": [
       "Depth 9 sub-progress:   0%|          | 0/9 [00:00<?, ?it/s]"
      ]
     },
     "metadata": {},
     "output_type": "display_data"
    },
    {
     "data": {
      "application/vnd.jupyter.widget-view+json": {
       "model_id": "cc37eaba513149279fa494820ae7989a",
       "version_major": 2,
       "version_minor": 0
      },
      "text/plain": [
       "Depth 9 sub-progress:   0%|          | 0/9 [00:00<?, ?it/s]"
      ]
     },
     "metadata": {},
     "output_type": "display_data"
    },
    {
     "data": {
      "application/vnd.jupyter.widget-view+json": {
       "model_id": "d79f0f3afee34eb8a75aa4dc48d41acf",
       "version_major": 2,
       "version_minor": 0
      },
      "text/plain": [
       "Depth 9 sub-progress:   0%|          | 0/9 [00:00<?, ?it/s]"
      ]
     },
     "metadata": {},
     "output_type": "display_data"
    },
    {
     "data": {
      "application/vnd.jupyter.widget-view+json": {
       "model_id": "a0077b7918ad431483da08e1463b56d1",
       "version_major": 2,
       "version_minor": 0
      },
      "text/plain": [
       "Depth 9 sub-progress:   0%|          | 0/9 [00:00<?, ?it/s]"
      ]
     },
     "metadata": {},
     "output_type": "display_data"
    },
    {
     "data": {
      "application/vnd.jupyter.widget-view+json": {
       "model_id": "3c7ec15d161d419799ef613aa3104d2d",
       "version_major": 2,
       "version_minor": 0
      },
      "text/plain": [
       "Depth 9 sub-progress:   0%|          | 0/9 [00:00<?, ?it/s]"
      ]
     },
     "metadata": {},
     "output_type": "display_data"
    },
    {
     "data": {
      "application/vnd.jupyter.widget-view+json": {
       "model_id": "248dbaef25c14478a594ddd62a366674",
       "version_major": 2,
       "version_minor": 0
      },
      "text/plain": [
       "Depth 9 sub-progress:   0%|          | 0/9 [00:00<?, ?it/s]"
      ]
     },
     "metadata": {},
     "output_type": "display_data"
    },
    {
     "data": {
      "application/vnd.jupyter.widget-view+json": {
       "model_id": "38d4a1cbe6dc422fb98685d37519afd5",
       "version_major": 2,
       "version_minor": 0
      },
      "text/plain": [
       "Depth 9 sub-progress:   0%|          | 0/9 [00:00<?, ?it/s]"
      ]
     },
     "metadata": {},
     "output_type": "display_data"
    },
    {
     "data": {
      "application/vnd.jupyter.widget-view+json": {
       "model_id": "d4845b1846be4cb18e2a79d902de91db",
       "version_major": 2,
       "version_minor": 0
      },
      "text/plain": [
       "Depth 9 sub-progress:   0%|          | 0/9 [00:00<?, ?it/s]"
      ]
     },
     "metadata": {},
     "output_type": "display_data"
    },
    {
     "data": {
      "application/vnd.jupyter.widget-view+json": {
       "model_id": "9a379d4b7a204776a76174da999895fb",
       "version_major": 2,
       "version_minor": 0
      },
      "text/plain": [
       "Depth 9 sub-progress:   0%|          | 0/9 [00:00<?, ?it/s]"
      ]
     },
     "metadata": {},
     "output_type": "display_data"
    },
    {
     "data": {
      "application/vnd.jupyter.widget-view+json": {
       "model_id": "86b7459274554a4a8b9149f77917892c",
       "version_major": 2,
       "version_minor": 0
      },
      "text/plain": [
       "Depth 9 sub-progress:   0%|          | 0/9 [00:00<?, ?it/s]"
      ]
     },
     "metadata": {},
     "output_type": "display_data"
    },
    {
     "data": {
      "application/vnd.jupyter.widget-view+json": {
       "model_id": "6c57aa5a42fa4dd0b9b23b8cc2bf69a6",
       "version_major": 2,
       "version_minor": 0
      },
      "text/plain": [
       "Depth 9 sub-progress:   0%|          | 0/9 [00:00<?, ?it/s]"
      ]
     },
     "metadata": {},
     "output_type": "display_data"
    },
    {
     "data": {
      "application/vnd.jupyter.widget-view+json": {
       "model_id": "32fb1f7325c94789b93227f6c9c025f0",
       "version_major": 2,
       "version_minor": 0
      },
      "text/plain": [
       "Depth 9 sub-progress:   0%|          | 0/9 [00:00<?, ?it/s]"
      ]
     },
     "metadata": {},
     "output_type": "display_data"
    },
    {
     "data": {
      "application/vnd.jupyter.widget-view+json": {
       "model_id": "26f2d5d591ba40ddab6097bdeb20ce0f",
       "version_major": 2,
       "version_minor": 0
      },
      "text/plain": [
       "Depth 9 sub-progress:   0%|          | 0/9 [00:00<?, ?it/s]"
      ]
     },
     "metadata": {},
     "output_type": "display_data"
    },
    {
     "data": {
      "application/vnd.jupyter.widget-view+json": {
       "model_id": "4ece83dfb1e34708beaedd65923fe94e",
       "version_major": 2,
       "version_minor": 0
      },
      "text/plain": [
       "Depth 9 sub-progress:   0%|          | 0/9 [00:00<?, ?it/s]"
      ]
     },
     "metadata": {},
     "output_type": "display_data"
    },
    {
     "data": {
      "application/vnd.jupyter.widget-view+json": {
       "model_id": "351cec844f864669b752a753984096cd",
       "version_major": 2,
       "version_minor": 0
      },
      "text/plain": [
       "Depth 9 sub-progress:   0%|          | 0/9 [00:00<?, ?it/s]"
      ]
     },
     "metadata": {},
     "output_type": "display_data"
    },
    {
     "data": {
      "application/vnd.jupyter.widget-view+json": {
       "model_id": "777ba8083d224565bb3595c0c0b81aaa",
       "version_major": 2,
       "version_minor": 0
      },
      "text/plain": [
       "Depth 9 sub-progress:   0%|          | 0/9 [00:00<?, ?it/s]"
      ]
     },
     "metadata": {},
     "output_type": "display_data"
    },
    {
     "data": {
      "application/vnd.jupyter.widget-view+json": {
       "model_id": "c08805efee5d4cf592b260da00121456",
       "version_major": 2,
       "version_minor": 0
      },
      "text/plain": [
       "Depth 9 sub-progress:   0%|          | 0/9 [00:00<?, ?it/s]"
      ]
     },
     "metadata": {},
     "output_type": "display_data"
    },
    {
     "data": {
      "application/vnd.jupyter.widget-view+json": {
       "model_id": "3fb17d64a3cc4bd9997f0d782c65fde5",
       "version_major": 2,
       "version_minor": 0
      },
      "text/plain": [
       "Depth 9 sub-progress:   0%|          | 0/9 [00:00<?, ?it/s]"
      ]
     },
     "metadata": {},
     "output_type": "display_data"
    },
    {
     "data": {
      "application/vnd.jupyter.widget-view+json": {
       "model_id": "3a83fede6a28480ba7ad1c01d96d7181",
       "version_major": 2,
       "version_minor": 0
      },
      "text/plain": [
       "Depth 9 sub-progress:   0%|          | 0/9 [00:00<?, ?it/s]"
      ]
     },
     "metadata": {},
     "output_type": "display_data"
    },
    {
     "data": {
      "application/vnd.jupyter.widget-view+json": {
       "model_id": "f654bcad85f84819826aa7a85a1c5462",
       "version_major": 2,
       "version_minor": 0
      },
      "text/plain": [
       "Depth 9 sub-progress:   0%|          | 0/9 [00:00<?, ?it/s]"
      ]
     },
     "metadata": {},
     "output_type": "display_data"
    },
    {
     "data": {
      "application/vnd.jupyter.widget-view+json": {
       "model_id": "a1446e3a22f94ec7a8b352d60d31b019",
       "version_major": 2,
       "version_minor": 0
      },
      "text/plain": [
       "Depth 9 sub-progress:   0%|          | 0/9 [00:00<?, ?it/s]"
      ]
     },
     "metadata": {},
     "output_type": "display_data"
    },
    {
     "data": {
      "application/vnd.jupyter.widget-view+json": {
       "model_id": "52879f3a8b254ec6b3fd4753b4c9d8f2",
       "version_major": 2,
       "version_minor": 0
      },
      "text/plain": [
       "Depth 9 sub-progress:   0%|          | 0/9 [00:00<?, ?it/s]"
      ]
     },
     "metadata": {},
     "output_type": "display_data"
    },
    {
     "data": {
      "application/vnd.jupyter.widget-view+json": {
       "model_id": "9f2d612fdf31457daac88668801ed6e3",
       "version_major": 2,
       "version_minor": 0
      },
      "text/plain": [
       "Depth 9 sub-progress:   0%|          | 0/9 [00:00<?, ?it/s]"
      ]
     },
     "metadata": {},
     "output_type": "display_data"
    },
    {
     "data": {
      "application/vnd.jupyter.widget-view+json": {
       "model_id": "8c3147fc218243c8b4f0a598be1351d1",
       "version_major": 2,
       "version_minor": 0
      },
      "text/plain": [
       "Depth 9 sub-progress:   0%|          | 0/9 [00:00<?, ?it/s]"
      ]
     },
     "metadata": {},
     "output_type": "display_data"
    },
    {
     "data": {
      "application/vnd.jupyter.widget-view+json": {
       "model_id": "990c0556631d4cbeb05831d5fbe4117c",
       "version_major": 2,
       "version_minor": 0
      },
      "text/plain": [
       "Depth 9 sub-progress:   0%|          | 0/9 [00:00<?, ?it/s]"
      ]
     },
     "metadata": {},
     "output_type": "display_data"
    },
    {
     "data": {
      "application/vnd.jupyter.widget-view+json": {
       "model_id": "0ea431f7f541435391da952baf3c167f",
       "version_major": 2,
       "version_minor": 0
      },
      "text/plain": [
       "Depth 9 sub-progress:   0%|          | 0/9 [00:00<?, ?it/s]"
      ]
     },
     "metadata": {},
     "output_type": "display_data"
    },
    {
     "data": {
      "application/vnd.jupyter.widget-view+json": {
       "model_id": "41c946fcaa684e29be2826bdab30c169",
       "version_major": 2,
       "version_minor": 0
      },
      "text/plain": [
       "Depth 9 sub-progress:   0%|          | 0/9 [00:00<?, ?it/s]"
      ]
     },
     "metadata": {},
     "output_type": "display_data"
    },
    {
     "data": {
      "application/vnd.jupyter.widget-view+json": {
       "model_id": "d420b63b485f48b19d2888812bfb85dc",
       "version_major": 2,
       "version_minor": 0
      },
      "text/plain": [
       "Depth 9 sub-progress:   0%|          | 0/9 [00:00<?, ?it/s]"
      ]
     },
     "metadata": {},
     "output_type": "display_data"
    },
    {
     "data": {
      "application/vnd.jupyter.widget-view+json": {
       "model_id": "3709fad44bbc461aaba0575e96f5c47c",
       "version_major": 2,
       "version_minor": 0
      },
      "text/plain": [
       "Depth 9 sub-progress:   0%|          | 0/9 [00:00<?, ?it/s]"
      ]
     },
     "metadata": {},
     "output_type": "display_data"
    },
    {
     "data": {
      "application/vnd.jupyter.widget-view+json": {
       "model_id": "5b05207ead1b4788a21770b6000acb36",
       "version_major": 2,
       "version_minor": 0
      },
      "text/plain": [
       "Depth 9 sub-progress:   0%|          | 0/9 [00:00<?, ?it/s]"
      ]
     },
     "metadata": {},
     "output_type": "display_data"
    },
    {
     "data": {
      "application/vnd.jupyter.widget-view+json": {
       "model_id": "a74cbc19446f4e9abbe804c0d8051433",
       "version_major": 2,
       "version_minor": 0
      },
      "text/plain": [
       "Depth 9 sub-progress:   0%|          | 0/9 [00:00<?, ?it/s]"
      ]
     },
     "metadata": {},
     "output_type": "display_data"
    },
    {
     "data": {
      "application/vnd.jupyter.widget-view+json": {
       "model_id": "6a939a0d69b2430e9da36a0e8a1cf22a",
       "version_major": 2,
       "version_minor": 0
      },
      "text/plain": [
       "Depth 9 sub-progress:   0%|          | 0/9 [00:00<?, ?it/s]"
      ]
     },
     "metadata": {},
     "output_type": "display_data"
    },
    {
     "data": {
      "application/vnd.jupyter.widget-view+json": {
       "model_id": "57cc4fcbd7214065af2f8c7f69f6f0c5",
       "version_major": 2,
       "version_minor": 0
      },
      "text/plain": [
       "Depth 9 sub-progress:   0%|          | 0/9 [00:00<?, ?it/s]"
      ]
     },
     "metadata": {},
     "output_type": "display_data"
    },
    {
     "data": {
      "application/vnd.jupyter.widget-view+json": {
       "model_id": "9616410866284a11920d51407627bf3f",
       "version_major": 2,
       "version_minor": 0
      },
      "text/plain": [
       "Depth 9 sub-progress:   0%|          | 0/9 [00:00<?, ?it/s]"
      ]
     },
     "metadata": {},
     "output_type": "display_data"
    },
    {
     "data": {
      "application/vnd.jupyter.widget-view+json": {
       "model_id": "2d205a0c38804da0a53e44ec1a1d7dc9",
       "version_major": 2,
       "version_minor": 0
      },
      "text/plain": [
       "Depth 9 sub-progress:   0%|          | 0/9 [00:00<?, ?it/s]"
      ]
     },
     "metadata": {},
     "output_type": "display_data"
    },
    {
     "data": {
      "application/vnd.jupyter.widget-view+json": {
       "model_id": "be98985ba97e4eb2b5fd21100838f339",
       "version_major": 2,
       "version_minor": 0
      },
      "text/plain": [
       "Depth 9 sub-progress:   0%|          | 0/9 [00:00<?, ?it/s]"
      ]
     },
     "metadata": {},
     "output_type": "display_data"
    },
    {
     "data": {
      "application/vnd.jupyter.widget-view+json": {
       "model_id": "9c39449188be48c9ab784103f6fb21d1",
       "version_major": 2,
       "version_minor": 0
      },
      "text/plain": [
       "Depth 9 sub-progress:   0%|          | 0/9 [00:00<?, ?it/s]"
      ]
     },
     "metadata": {},
     "output_type": "display_data"
    },
    {
     "data": {
      "application/vnd.jupyter.widget-view+json": {
       "model_id": "56f22c9301b44b2385fe419b216587c9",
       "version_major": 2,
       "version_minor": 0
      },
      "text/plain": [
       "Depth 9 sub-progress:   0%|          | 0/9 [00:00<?, ?it/s]"
      ]
     },
     "metadata": {},
     "output_type": "display_data"
    },
    {
     "data": {
      "application/vnd.jupyter.widget-view+json": {
       "model_id": "716fdd2354ce4b288bf246991ef1ac72",
       "version_major": 2,
       "version_minor": 0
      },
      "text/plain": [
       "Depth 9 sub-progress:   0%|          | 0/9 [00:00<?, ?it/s]"
      ]
     },
     "metadata": {},
     "output_type": "display_data"
    },
    {
     "data": {
      "application/vnd.jupyter.widget-view+json": {
       "model_id": "9360d2fea2eb401c946ba05c978984c3",
       "version_major": 2,
       "version_minor": 0
      },
      "text/plain": [
       "Depth 9 sub-progress:   0%|          | 0/9 [00:00<?, ?it/s]"
      ]
     },
     "metadata": {},
     "output_type": "display_data"
    },
    {
     "data": {
      "application/vnd.jupyter.widget-view+json": {
       "model_id": "496c1a41f6bb4e80a5bd2eb847c5fc05",
       "version_major": 2,
       "version_minor": 0
      },
      "text/plain": [
       "Depth 9 sub-progress:   0%|          | 0/9 [00:00<?, ?it/s]"
      ]
     },
     "metadata": {},
     "output_type": "display_data"
    },
    {
     "data": {
      "application/vnd.jupyter.widget-view+json": {
       "model_id": "5ff21daa2e6046e9bee2a2d7134c8616",
       "version_major": 2,
       "version_minor": 0
      },
      "text/plain": [
       "Depth 9 sub-progress:   0%|          | 0/9 [00:00<?, ?it/s]"
      ]
     },
     "metadata": {},
     "output_type": "display_data"
    },
    {
     "data": {
      "application/vnd.jupyter.widget-view+json": {
       "model_id": "e3f43a211d204eae8a586c4425c822cc",
       "version_major": 2,
       "version_minor": 0
      },
      "text/plain": [
       "Depth 9 sub-progress:   0%|          | 0/9 [00:00<?, ?it/s]"
      ]
     },
     "metadata": {},
     "output_type": "display_data"
    },
    {
     "data": {
      "application/vnd.jupyter.widget-view+json": {
       "model_id": "6abc9c83f053405e976b3480cb806427",
       "version_major": 2,
       "version_minor": 0
      },
      "text/plain": [
       "Depth 9 sub-progress:   0%|          | 0/9 [00:00<?, ?it/s]"
      ]
     },
     "metadata": {},
     "output_type": "display_data"
    },
    {
     "data": {
      "application/vnd.jupyter.widget-view+json": {
       "model_id": "7ef70fb0b7ce416d9b8ab7e30efc139f",
       "version_major": 2,
       "version_minor": 0
      },
      "text/plain": [
       "Depth 9 sub-progress:   0%|          | 0/9 [00:00<?, ?it/s]"
      ]
     },
     "metadata": {},
     "output_type": "display_data"
    },
    {
     "data": {
      "application/vnd.jupyter.widget-view+json": {
       "model_id": "707d16c002ad42d986a9908a5c14698e",
       "version_major": 2,
       "version_minor": 0
      },
      "text/plain": [
       "Depth 9 sub-progress:   0%|          | 0/9 [00:00<?, ?it/s]"
      ]
     },
     "metadata": {},
     "output_type": "display_data"
    },
    {
     "data": {
      "application/vnd.jupyter.widget-view+json": {
       "model_id": "1de61e3ad20945e4bb4545f046c44475",
       "version_major": 2,
       "version_minor": 0
      },
      "text/plain": [
       "Depth 9 sub-progress:   0%|          | 0/9 [00:00<?, ?it/s]"
      ]
     },
     "metadata": {},
     "output_type": "display_data"
    },
    {
     "data": {
      "application/vnd.jupyter.widget-view+json": {
       "model_id": "1add12993efe4bc6851c06aca5df6155",
       "version_major": 2,
       "version_minor": 0
      },
      "text/plain": [
       "Depth 9 sub-progress:   0%|          | 0/9 [00:00<?, ?it/s]"
      ]
     },
     "metadata": {},
     "output_type": "display_data"
    },
    {
     "data": {
      "application/vnd.jupyter.widget-view+json": {
       "model_id": "3fa34efbb7a1482cb8950b1840099a32",
       "version_major": 2,
       "version_minor": 0
      },
      "text/plain": [
       "Depth 9 sub-progress:   0%|          | 0/9 [00:00<?, ?it/s]"
      ]
     },
     "metadata": {},
     "output_type": "display_data"
    },
    {
     "data": {
      "application/vnd.jupyter.widget-view+json": {
       "model_id": "8db47afdf1354ed6a3ca8bbb73dbed08",
       "version_major": 2,
       "version_minor": 0
      },
      "text/plain": [
       "Depth 9 sub-progress:   0%|          | 0/9 [00:00<?, ?it/s]"
      ]
     },
     "metadata": {},
     "output_type": "display_data"
    },
    {
     "data": {
      "application/vnd.jupyter.widget-view+json": {
       "model_id": "8c9c9432344d4c7c81b295a7299dc041",
       "version_major": 2,
       "version_minor": 0
      },
      "text/plain": [
       "Depth 9 sub-progress:   0%|          | 0/9 [00:00<?, ?it/s]"
      ]
     },
     "metadata": {},
     "output_type": "display_data"
    },
    {
     "data": {
      "application/vnd.jupyter.widget-view+json": {
       "model_id": "2e7d6ceebb094dceb3b08e1e8e93fb4e",
       "version_major": 2,
       "version_minor": 0
      },
      "text/plain": [
       "Depth 9 sub-progress:   0%|          | 0/9 [00:00<?, ?it/s]"
      ]
     },
     "metadata": {},
     "output_type": "display_data"
    },
    {
     "data": {
      "application/vnd.jupyter.widget-view+json": {
       "model_id": "9ac6d980a85e45ddb30007c30a9eac1b",
       "version_major": 2,
       "version_minor": 0
      },
      "text/plain": [
       "Depth 9 sub-progress:   0%|          | 0/9 [00:00<?, ?it/s]"
      ]
     },
     "metadata": {},
     "output_type": "display_data"
    },
    {
     "data": {
      "application/vnd.jupyter.widget-view+json": {
       "model_id": "92d1bf7c8dc540a389a92c76dd2c86db",
       "version_major": 2,
       "version_minor": 0
      },
      "text/plain": [
       "Depth 9 sub-progress:   0%|          | 0/9 [00:00<?, ?it/s]"
      ]
     },
     "metadata": {},
     "output_type": "display_data"
    },
    {
     "data": {
      "application/vnd.jupyter.widget-view+json": {
       "model_id": "b7a46f03e48340d59eb7d0ef90549101",
       "version_major": 2,
       "version_minor": 0
      },
      "text/plain": [
       "Depth 9 sub-progress:   0%|          | 0/9 [00:00<?, ?it/s]"
      ]
     },
     "metadata": {},
     "output_type": "display_data"
    },
    {
     "data": {
      "application/vnd.jupyter.widget-view+json": {
       "model_id": "0f226de4b35e43a6ad31c12a0c1cf0af",
       "version_major": 2,
       "version_minor": 0
      },
      "text/plain": [
       "Depth 9 sub-progress:   0%|          | 0/9 [00:00<?, ?it/s]"
      ]
     },
     "metadata": {},
     "output_type": "display_data"
    },
    {
     "data": {
      "application/vnd.jupyter.widget-view+json": {
       "model_id": "e561968f438a4e39b1208df4941f554f",
       "version_major": 2,
       "version_minor": 0
      },
      "text/plain": [
       "Depth 9 sub-progress:   0%|          | 0/9 [00:00<?, ?it/s]"
      ]
     },
     "metadata": {},
     "output_type": "display_data"
    },
    {
     "data": {
      "application/vnd.jupyter.widget-view+json": {
       "model_id": "a162eb7a682c460795817472ba872662",
       "version_major": 2,
       "version_minor": 0
      },
      "text/plain": [
       "Depth 9 sub-progress:   0%|          | 0/9 [00:00<?, ?it/s]"
      ]
     },
     "metadata": {},
     "output_type": "display_data"
    },
    {
     "data": {
      "application/vnd.jupyter.widget-view+json": {
       "model_id": "a7c954bbca434a7dad62f5b29a9e47f1",
       "version_major": 2,
       "version_minor": 0
      },
      "text/plain": [
       "Depth 9 sub-progress:   0%|          | 0/9 [00:00<?, ?it/s]"
      ]
     },
     "metadata": {},
     "output_type": "display_data"
    },
    {
     "data": {
      "application/vnd.jupyter.widget-view+json": {
       "model_id": "c4553e79b79447d7b0bfa46af125420b",
       "version_major": 2,
       "version_minor": 0
      },
      "text/plain": [
       "Depth 9 sub-progress:   0%|          | 0/9 [00:00<?, ?it/s]"
      ]
     },
     "metadata": {},
     "output_type": "display_data"
    },
    {
     "data": {
      "application/vnd.jupyter.widget-view+json": {
       "model_id": "daa9001f69f94a20ac1a595e998db9dd",
       "version_major": 2,
       "version_minor": 0
      },
      "text/plain": [
       "Depth 9 sub-progress:   0%|          | 0/9 [00:00<?, ?it/s]"
      ]
     },
     "metadata": {},
     "output_type": "display_data"
    },
    {
     "data": {
      "application/vnd.jupyter.widget-view+json": {
       "model_id": "0fa95cef70644f47817c9b135e67e3ed",
       "version_major": 2,
       "version_minor": 0
      },
      "text/plain": [
       "Depth 9 sub-progress:   0%|          | 0/9 [00:00<?, ?it/s]"
      ]
     },
     "metadata": {},
     "output_type": "display_data"
    },
    {
     "data": {
      "application/vnd.jupyter.widget-view+json": {
       "model_id": "a883de3993a24e48986f24d1068c410f",
       "version_major": 2,
       "version_minor": 0
      },
      "text/plain": [
       "Depth 9 sub-progress:   0%|          | 0/9 [00:00<?, ?it/s]"
      ]
     },
     "metadata": {},
     "output_type": "display_data"
    },
    {
     "data": {
      "application/vnd.jupyter.widget-view+json": {
       "model_id": "c4bae6a5740c413abed3dc434598565a",
       "version_major": 2,
       "version_minor": 0
      },
      "text/plain": [
       "Depth 9 sub-progress:   0%|          | 0/9 [00:00<?, ?it/s]"
      ]
     },
     "metadata": {},
     "output_type": "display_data"
    },
    {
     "data": {
      "application/vnd.jupyter.widget-view+json": {
       "model_id": "38cc247c190b433980f8c3120a4d9bd3",
       "version_major": 2,
       "version_minor": 0
      },
      "text/plain": [
       "Depth 9 sub-progress:   0%|          | 0/9 [00:00<?, ?it/s]"
      ]
     },
     "metadata": {},
     "output_type": "display_data"
    },
    {
     "data": {
      "application/vnd.jupyter.widget-view+json": {
       "model_id": "decd7c8be851427295277941d9c49d16",
       "version_major": 2,
       "version_minor": 0
      },
      "text/plain": [
       "Depth 9 sub-progress:   0%|          | 0/9 [00:00<?, ?it/s]"
      ]
     },
     "metadata": {},
     "output_type": "display_data"
    },
    {
     "data": {
      "application/vnd.jupyter.widget-view+json": {
       "model_id": "2f6da22e8760435eb959bc1d4099aa3a",
       "version_major": 2,
       "version_minor": 0
      },
      "text/plain": [
       "Depth 9 sub-progress:   0%|          | 0/9 [00:00<?, ?it/s]"
      ]
     },
     "metadata": {},
     "output_type": "display_data"
    },
    {
     "data": {
      "application/vnd.jupyter.widget-view+json": {
       "model_id": "e87693b684fa478cac6c45064f3f4ffb",
       "version_major": 2,
       "version_minor": 0
      },
      "text/plain": [
       "Depth 9 sub-progress:   0%|          | 0/9 [00:00<?, ?it/s]"
      ]
     },
     "metadata": {},
     "output_type": "display_data"
    },
    {
     "data": {
      "application/vnd.jupyter.widget-view+json": {
       "model_id": "ccaebc4dcbf64b45bebf54fdaa052aa3",
       "version_major": 2,
       "version_minor": 0
      },
      "text/plain": [
       "Depth 9 sub-progress:   0%|          | 0/9 [00:00<?, ?it/s]"
      ]
     },
     "metadata": {},
     "output_type": "display_data"
    },
    {
     "data": {
      "application/vnd.jupyter.widget-view+json": {
       "model_id": "21e772a409cd4d9e8c5381a3367a3f1a",
       "version_major": 2,
       "version_minor": 0
      },
      "text/plain": [
       "Depth 9 sub-progress:   0%|          | 0/9 [00:00<?, ?it/s]"
      ]
     },
     "metadata": {},
     "output_type": "display_data"
    },
    {
     "data": {
      "application/vnd.jupyter.widget-view+json": {
       "model_id": "a1cbe084e2a843bc99028270a5186900",
       "version_major": 2,
       "version_minor": 0
      },
      "text/plain": [
       "Depth 9 sub-progress:   0%|          | 0/9 [00:00<?, ?it/s]"
      ]
     },
     "metadata": {},
     "output_type": "display_data"
    },
    {
     "data": {
      "application/vnd.jupyter.widget-view+json": {
       "model_id": "7fd8c729eec647d28084c2978ca24950",
       "version_major": 2,
       "version_minor": 0
      },
      "text/plain": [
       "Depth 9 sub-progress:   0%|          | 0/9 [00:00<?, ?it/s]"
      ]
     },
     "metadata": {},
     "output_type": "display_data"
    },
    {
     "data": {
      "application/vnd.jupyter.widget-view+json": {
       "model_id": "6cf97f7cff6b418bb2241933480b0eb6",
       "version_major": 2,
       "version_minor": 0
      },
      "text/plain": [
       "Depth 9 sub-progress:   0%|          | 0/9 [00:00<?, ?it/s]"
      ]
     },
     "metadata": {},
     "output_type": "display_data"
    },
    {
     "data": {
      "application/vnd.jupyter.widget-view+json": {
       "model_id": "adb528f716aa4d788089973ed42a53f3",
       "version_major": 2,
       "version_minor": 0
      },
      "text/plain": [
       "Depth 9 sub-progress:   0%|          | 0/9 [00:00<?, ?it/s]"
      ]
     },
     "metadata": {},
     "output_type": "display_data"
    },
    {
     "data": {
      "application/vnd.jupyter.widget-view+json": {
       "model_id": "d47ed5111ff24eb9b5afd2e77fa02d53",
       "version_major": 2,
       "version_minor": 0
      },
      "text/plain": [
       "Depth 9 sub-progress:   0%|          | 0/9 [00:00<?, ?it/s]"
      ]
     },
     "metadata": {},
     "output_type": "display_data"
    },
    {
     "data": {
      "application/vnd.jupyter.widget-view+json": {
       "model_id": "792f03f83299436db3d22bc05f383c6f",
       "version_major": 2,
       "version_minor": 0
      },
      "text/plain": [
       "Depth 9 sub-progress:   0%|          | 0/9 [00:00<?, ?it/s]"
      ]
     },
     "metadata": {},
     "output_type": "display_data"
    },
    {
     "data": {
      "application/vnd.jupyter.widget-view+json": {
       "model_id": "1d2d0c11978e4755b4247849dcccf927",
       "version_major": 2,
       "version_minor": 0
      },
      "text/plain": [
       "Depth 9 sub-progress:   0%|          | 0/9 [00:00<?, ?it/s]"
      ]
     },
     "metadata": {},
     "output_type": "display_data"
    },
    {
     "data": {
      "application/vnd.jupyter.widget-view+json": {
       "model_id": "70d37a5f744a4d61b49d99b82bb6bf8b",
       "version_major": 2,
       "version_minor": 0
      },
      "text/plain": [
       "Depth 9 sub-progress:   0%|          | 0/9 [00:00<?, ?it/s]"
      ]
     },
     "metadata": {},
     "output_type": "display_data"
    },
    {
     "data": {
      "application/vnd.jupyter.widget-view+json": {
       "model_id": "77a4905073914b30ab84b1ad79974eca",
       "version_major": 2,
       "version_minor": 0
      },
      "text/plain": [
       "Depth 9 sub-progress:   0%|          | 0/9 [00:00<?, ?it/s]"
      ]
     },
     "metadata": {},
     "output_type": "display_data"
    },
    {
     "data": {
      "application/vnd.jupyter.widget-view+json": {
       "model_id": "2c3c418a7d4c461fab59027d05a52da8",
       "version_major": 2,
       "version_minor": 0
      },
      "text/plain": [
       "Depth 9 sub-progress:   0%|          | 0/9 [00:00<?, ?it/s]"
      ]
     },
     "metadata": {},
     "output_type": "display_data"
    },
    {
     "data": {
      "application/vnd.jupyter.widget-view+json": {
       "model_id": "26eb77b607284d1cb6d6e49b1f47be32",
       "version_major": 2,
       "version_minor": 0
      },
      "text/plain": [
       "Depth 9 sub-progress:   0%|          | 0/9 [00:00<?, ?it/s]"
      ]
     },
     "metadata": {},
     "output_type": "display_data"
    },
    {
     "data": {
      "application/vnd.jupyter.widget-view+json": {
       "model_id": "69dd5adf1d734d6b9b0d9554f59890a7",
       "version_major": 2,
       "version_minor": 0
      },
      "text/plain": [
       "Depth 9 sub-progress:   0%|          | 0/9 [00:00<?, ?it/s]"
      ]
     },
     "metadata": {},
     "output_type": "display_data"
    },
    {
     "data": {
      "application/vnd.jupyter.widget-view+json": {
       "model_id": "267e3484caab47ebb46f0400d3f42dee",
       "version_major": 2,
       "version_minor": 0
      },
      "text/plain": [
       "Depth 9 sub-progress:   0%|          | 0/9 [00:00<?, ?it/s]"
      ]
     },
     "metadata": {},
     "output_type": "display_data"
    },
    {
     "data": {
      "application/vnd.jupyter.widget-view+json": {
       "model_id": "a9e5d37363144541a3d108298967ade7",
       "version_major": 2,
       "version_minor": 0
      },
      "text/plain": [
       "Depth 9 sub-progress:   0%|          | 0/9 [00:00<?, ?it/s]"
      ]
     },
     "metadata": {},
     "output_type": "display_data"
    },
    {
     "data": {
      "application/vnd.jupyter.widget-view+json": {
       "model_id": "01ea91c21af44cd6a467e6255b74f1f7",
       "version_major": 2,
       "version_minor": 0
      },
      "text/plain": [
       "Depth 9 sub-progress:   0%|          | 0/9 [00:00<?, ?it/s]"
      ]
     },
     "metadata": {},
     "output_type": "display_data"
    },
    {
     "data": {
      "application/vnd.jupyter.widget-view+json": {
       "model_id": "e959e66333e24052ac6d6994835f84b9",
       "version_major": 2,
       "version_minor": 0
      },
      "text/plain": [
       "Depth 9 sub-progress:   0%|          | 0/9 [00:00<?, ?it/s]"
      ]
     },
     "metadata": {},
     "output_type": "display_data"
    },
    {
     "data": {
      "application/vnd.jupyter.widget-view+json": {
       "model_id": "f24c240f0c0d4b14bcd54bf7095df33a",
       "version_major": 2,
       "version_minor": 0
      },
      "text/plain": [
       "Depth 9 sub-progress:   0%|          | 0/9 [00:00<?, ?it/s]"
      ]
     },
     "metadata": {},
     "output_type": "display_data"
    },
    {
     "data": {
      "application/vnd.jupyter.widget-view+json": {
       "model_id": "deac3d2d4577424794d94d9a8aa61b7f",
       "version_major": 2,
       "version_minor": 0
      },
      "text/plain": [
       "Depth 9 sub-progress:   0%|          | 0/9 [00:00<?, ?it/s]"
      ]
     },
     "metadata": {},
     "output_type": "display_data"
    },
    {
     "data": {
      "application/vnd.jupyter.widget-view+json": {
       "model_id": "5ba8058d7d59417cb5cc401cbcbf9868",
       "version_major": 2,
       "version_minor": 0
      },
      "text/plain": [
       "Depth 9 sub-progress:   0%|          | 0/9 [00:00<?, ?it/s]"
      ]
     },
     "metadata": {},
     "output_type": "display_data"
    },
    {
     "data": {
      "application/vnd.jupyter.widget-view+json": {
       "model_id": "092cae67bb7c4881b64acbf2938d371b",
       "version_major": 2,
       "version_minor": 0
      },
      "text/plain": [
       "Depth 9 sub-progress:   0%|          | 0/9 [00:00<?, ?it/s]"
      ]
     },
     "metadata": {},
     "output_type": "display_data"
    },
    {
     "data": {
      "application/vnd.jupyter.widget-view+json": {
       "model_id": "c6b97ac28ada480f8d6ca8bd25156c81",
       "version_major": 2,
       "version_minor": 0
      },
      "text/plain": [
       "Depth 9 sub-progress:   0%|          | 0/9 [00:00<?, ?it/s]"
      ]
     },
     "metadata": {},
     "output_type": "display_data"
    },
    {
     "data": {
      "application/vnd.jupyter.widget-view+json": {
       "model_id": "d82cba0a38a84245a5ed705d810051b8",
       "version_major": 2,
       "version_minor": 0
      },
      "text/plain": [
       "Depth 9 sub-progress:   0%|          | 0/9 [00:00<?, ?it/s]"
      ]
     },
     "metadata": {},
     "output_type": "display_data"
    },
    {
     "data": {
      "application/vnd.jupyter.widget-view+json": {
       "model_id": "444238c9780f475387ba92b41b91761d",
       "version_major": 2,
       "version_minor": 0
      },
      "text/plain": [
       "Depth 9 sub-progress:   0%|          | 0/9 [00:00<?, ?it/s]"
      ]
     },
     "metadata": {},
     "output_type": "display_data"
    },
    {
     "data": {
      "application/vnd.jupyter.widget-view+json": {
       "model_id": "8cf203f6c9e1476da2ac12de8d67af76",
       "version_major": 2,
       "version_minor": 0
      },
      "text/plain": [
       "Depth 9 sub-progress:   0%|          | 0/9 [00:00<?, ?it/s]"
      ]
     },
     "metadata": {},
     "output_type": "display_data"
    },
    {
     "data": {
      "application/vnd.jupyter.widget-view+json": {
       "model_id": "2c4fc05f02714caea111e2c3c35a284c",
       "version_major": 2,
       "version_minor": 0
      },
      "text/plain": [
       "Depth 9 sub-progress:   0%|          | 0/9 [00:00<?, ?it/s]"
      ]
     },
     "metadata": {},
     "output_type": "display_data"
    },
    {
     "data": {
      "application/vnd.jupyter.widget-view+json": {
       "model_id": "7ed6be0431a842cb96167ee6af462526",
       "version_major": 2,
       "version_minor": 0
      },
      "text/plain": [
       "Depth 9 sub-progress:   0%|          | 0/9 [00:00<?, ?it/s]"
      ]
     },
     "metadata": {},
     "output_type": "display_data"
    },
    {
     "data": {
      "application/vnd.jupyter.widget-view+json": {
       "model_id": "df84f9c7ee4748d8ae75f1a3b62dd534",
       "version_major": 2,
       "version_minor": 0
      },
      "text/plain": [
       "Depth 9 sub-progress:   0%|          | 0/9 [00:00<?, ?it/s]"
      ]
     },
     "metadata": {},
     "output_type": "display_data"
    },
    {
     "data": {
      "application/vnd.jupyter.widget-view+json": {
       "model_id": "89edb8678c0b4590957fd9eb33bd18bf",
       "version_major": 2,
       "version_minor": 0
      },
      "text/plain": [
       "Depth 9 sub-progress:   0%|          | 0/9 [00:00<?, ?it/s]"
      ]
     },
     "metadata": {},
     "output_type": "display_data"
    },
    {
     "data": {
      "application/vnd.jupyter.widget-view+json": {
       "model_id": "a361b4b6728b4e3f94d60f80f1d36feb",
       "version_major": 2,
       "version_minor": 0
      },
      "text/plain": [
       "Depth 9 sub-progress:   0%|          | 0/9 [00:00<?, ?it/s]"
      ]
     },
     "metadata": {},
     "output_type": "display_data"
    },
    {
     "data": {
      "application/vnd.jupyter.widget-view+json": {
       "model_id": "3fef048b38a04ad9b846e59fc33a4291",
       "version_major": 2,
       "version_minor": 0
      },
      "text/plain": [
       "Depth 9 sub-progress:   0%|          | 0/9 [00:00<?, ?it/s]"
      ]
     },
     "metadata": {},
     "output_type": "display_data"
    },
    {
     "data": {
      "application/vnd.jupyter.widget-view+json": {
       "model_id": "688ac52888c241f9bf7fecd483467b85",
       "version_major": 2,
       "version_minor": 0
      },
      "text/plain": [
       "Depth 9 sub-progress:   0%|          | 0/9 [00:00<?, ?it/s]"
      ]
     },
     "metadata": {},
     "output_type": "display_data"
    },
    {
     "data": {
      "application/vnd.jupyter.widget-view+json": {
       "model_id": "92132814b2e3481fb52b81a885013df5",
       "version_major": 2,
       "version_minor": 0
      },
      "text/plain": [
       "Depth 9 sub-progress:   0%|          | 0/9 [00:00<?, ?it/s]"
      ]
     },
     "metadata": {},
     "output_type": "display_data"
    },
    {
     "data": {
      "application/vnd.jupyter.widget-view+json": {
       "model_id": "111f5b7383714513adb055116417dcc8",
       "version_major": 2,
       "version_minor": 0
      },
      "text/plain": [
       "Depth 9 sub-progress:   0%|          | 0/9 [00:00<?, ?it/s]"
      ]
     },
     "metadata": {},
     "output_type": "display_data"
    },
    {
     "data": {
      "application/vnd.jupyter.widget-view+json": {
       "model_id": "1568a00505ef46a19f6fb1749f115967",
       "version_major": 2,
       "version_minor": 0
      },
      "text/plain": [
       "Depth 9 sub-progress:   0%|          | 0/9 [00:00<?, ?it/s]"
      ]
     },
     "metadata": {},
     "output_type": "display_data"
    },
    {
     "data": {
      "application/vnd.jupyter.widget-view+json": {
       "model_id": "e196920430e9493b90b3f031c5d0b6e8",
       "version_major": 2,
       "version_minor": 0
      },
      "text/plain": [
       "Depth 9 sub-progress:   0%|          | 0/9 [00:00<?, ?it/s]"
      ]
     },
     "metadata": {},
     "output_type": "display_data"
    },
    {
     "data": {
      "application/vnd.jupyter.widget-view+json": {
       "model_id": "45f1a8f20bcb4b64b16dba049b2ca244",
       "version_major": 2,
       "version_minor": 0
      },
      "text/plain": [
       "Depth 9 sub-progress:   0%|          | 0/9 [00:00<?, ?it/s]"
      ]
     },
     "metadata": {},
     "output_type": "display_data"
    },
    {
     "data": {
      "application/vnd.jupyter.widget-view+json": {
       "model_id": "7126ef6c5504448a9416eb2dfc8ef282",
       "version_major": 2,
       "version_minor": 0
      },
      "text/plain": [
       "Depth 9 sub-progress:   0%|          | 0/9 [00:00<?, ?it/s]"
      ]
     },
     "metadata": {},
     "output_type": "display_data"
    },
    {
     "data": {
      "application/vnd.jupyter.widget-view+json": {
       "model_id": "93b400b57839476982f17b38a2566b6e",
       "version_major": 2,
       "version_minor": 0
      },
      "text/plain": [
       "Depth 9 sub-progress:   0%|          | 0/9 [00:00<?, ?it/s]"
      ]
     },
     "metadata": {},
     "output_type": "display_data"
    },
    {
     "data": {
      "application/vnd.jupyter.widget-view+json": {
       "model_id": "63409dee03f149b096665d006f32d591",
       "version_major": 2,
       "version_minor": 0
      },
      "text/plain": [
       "Depth 9 sub-progress:   0%|          | 0/9 [00:00<?, ?it/s]"
      ]
     },
     "metadata": {},
     "output_type": "display_data"
    },
    {
     "data": {
      "application/vnd.jupyter.widget-view+json": {
       "model_id": "387e6ab889704daea064415f42feb448",
       "version_major": 2,
       "version_minor": 0
      },
      "text/plain": [
       "Depth 9 sub-progress:   0%|          | 0/9 [00:00<?, ?it/s]"
      ]
     },
     "metadata": {},
     "output_type": "display_data"
    },
    {
     "data": {
      "application/vnd.jupyter.widget-view+json": {
       "model_id": "a61cbf87bf124a0c969df02842c925bc",
       "version_major": 2,
       "version_minor": 0
      },
      "text/plain": [
       "Depth 9 sub-progress:   0%|          | 0/9 [00:00<?, ?it/s]"
      ]
     },
     "metadata": {},
     "output_type": "display_data"
    },
    {
     "data": {
      "application/vnd.jupyter.widget-view+json": {
       "model_id": "71849de37157463f975588f6b9dfa830",
       "version_major": 2,
       "version_minor": 0
      },
      "text/plain": [
       "Depth 9 sub-progress:   0%|          | 0/9 [00:00<?, ?it/s]"
      ]
     },
     "metadata": {},
     "output_type": "display_data"
    },
    {
     "data": {
      "application/vnd.jupyter.widget-view+json": {
       "model_id": "e7b9a3d88ceb440fac5fec265badbabc",
       "version_major": 2,
       "version_minor": 0
      },
      "text/plain": [
       "Depth 9 sub-progress:   0%|          | 0/9 [00:00<?, ?it/s]"
      ]
     },
     "metadata": {},
     "output_type": "display_data"
    },
    {
     "data": {
      "application/vnd.jupyter.widget-view+json": {
       "model_id": "24fc5b0bd0e84c62bf456798d6c3a435",
       "version_major": 2,
       "version_minor": 0
      },
      "text/plain": [
       "Depth 9 sub-progress:   0%|          | 0/9 [00:00<?, ?it/s]"
      ]
     },
     "metadata": {},
     "output_type": "display_data"
    },
    {
     "data": {
      "application/vnd.jupyter.widget-view+json": {
       "model_id": "c50c2a51350c4e829bc9126bd0f901eb",
       "version_major": 2,
       "version_minor": 0
      },
      "text/plain": [
       "Depth 9 sub-progress:   0%|          | 0/9 [00:00<?, ?it/s]"
      ]
     },
     "metadata": {},
     "output_type": "display_data"
    },
    {
     "data": {
      "application/vnd.jupyter.widget-view+json": {
       "model_id": "7a64c3d19f8e4eb3837cc0cfcf21c3f2",
       "version_major": 2,
       "version_minor": 0
      },
      "text/plain": [
       "Depth 9 sub-progress:   0%|          | 0/9 [00:00<?, ?it/s]"
      ]
     },
     "metadata": {},
     "output_type": "display_data"
    },
    {
     "data": {
      "application/vnd.jupyter.widget-view+json": {
       "model_id": "0708190ff5d94b6db95b9abc63a03fcc",
       "version_major": 2,
       "version_minor": 0
      },
      "text/plain": [
       "Depth 9 sub-progress:   0%|          | 0/9 [00:00<?, ?it/s]"
      ]
     },
     "metadata": {},
     "output_type": "display_data"
    },
    {
     "data": {
      "application/vnd.jupyter.widget-view+json": {
       "model_id": "0844d519c18f46f1bc06076dddedcd50",
       "version_major": 2,
       "version_minor": 0
      },
      "text/plain": [
       "Depth 9 sub-progress:   0%|          | 0/9 [00:00<?, ?it/s]"
      ]
     },
     "metadata": {},
     "output_type": "display_data"
    },
    {
     "data": {
      "application/vnd.jupyter.widget-view+json": {
       "model_id": "6f84364ac05a4d248214d9e6f246e369",
       "version_major": 2,
       "version_minor": 0
      },
      "text/plain": [
       "Depth 9 sub-progress:   0%|          | 0/9 [00:00<?, ?it/s]"
      ]
     },
     "metadata": {},
     "output_type": "display_data"
    },
    {
     "data": {
      "application/vnd.jupyter.widget-view+json": {
       "model_id": "c69795b7d1214d6baed929454a126215",
       "version_major": 2,
       "version_minor": 0
      },
      "text/plain": [
       "Depth 9 sub-progress:   0%|          | 0/9 [00:00<?, ?it/s]"
      ]
     },
     "metadata": {},
     "output_type": "display_data"
    },
    {
     "data": {
      "application/vnd.jupyter.widget-view+json": {
       "model_id": "bcad9090758b475a96ea3f24f422cc42",
       "version_major": 2,
       "version_minor": 0
      },
      "text/plain": [
       "Depth 9 sub-progress:   0%|          | 0/9 [00:00<?, ?it/s]"
      ]
     },
     "metadata": {},
     "output_type": "display_data"
    },
    {
     "data": {
      "application/vnd.jupyter.widget-view+json": {
       "model_id": "d86c9bda3b5d4899b26384a3f9602653",
       "version_major": 2,
       "version_minor": 0
      },
      "text/plain": [
       "Depth 9 sub-progress:   0%|          | 0/9 [00:00<?, ?it/s]"
      ]
     },
     "metadata": {},
     "output_type": "display_data"
    },
    {
     "data": {
      "application/vnd.jupyter.widget-view+json": {
       "model_id": "9ced5590a6e14289a5bb9a1d1bcecf17",
       "version_major": 2,
       "version_minor": 0
      },
      "text/plain": [
       "Depth 9 sub-progress:   0%|          | 0/9 [00:00<?, ?it/s]"
      ]
     },
     "metadata": {},
     "output_type": "display_data"
    },
    {
     "data": {
      "application/vnd.jupyter.widget-view+json": {
       "model_id": "ec83b5ab95194b608ae928f7667ae823",
       "version_major": 2,
       "version_minor": 0
      },
      "text/plain": [
       "Depth 9 sub-progress:   0%|          | 0/9 [00:00<?, ?it/s]"
      ]
     },
     "metadata": {},
     "output_type": "display_data"
    },
    {
     "data": {
      "application/vnd.jupyter.widget-view+json": {
       "model_id": "61e29a98e8e4418fbee5eade1d4cb520",
       "version_major": 2,
       "version_minor": 0
      },
      "text/plain": [
       "Depth 9 sub-progress:   0%|          | 0/9 [00:00<?, ?it/s]"
      ]
     },
     "metadata": {},
     "output_type": "display_data"
    },
    {
     "data": {
      "application/vnd.jupyter.widget-view+json": {
       "model_id": "e3791b25eced4cf7b94bb0948b01ea29",
       "version_major": 2,
       "version_minor": 0
      },
      "text/plain": [
       "Depth 9 sub-progress:   0%|          | 0/9 [00:00<?, ?it/s]"
      ]
     },
     "metadata": {},
     "output_type": "display_data"
    },
    {
     "data": {
      "application/vnd.jupyter.widget-view+json": {
       "model_id": "85248dc5938b4645b86a054105044f51",
       "version_major": 2,
       "version_minor": 0
      },
      "text/plain": [
       "Depth 9 sub-progress:   0%|          | 0/9 [00:00<?, ?it/s]"
      ]
     },
     "metadata": {},
     "output_type": "display_data"
    },
    {
     "data": {
      "application/vnd.jupyter.widget-view+json": {
       "model_id": "809ef3d0900b4e57b200223c8b5f279b",
       "version_major": 2,
       "version_minor": 0
      },
      "text/plain": [
       "Depth 9 sub-progress:   0%|          | 0/9 [00:00<?, ?it/s]"
      ]
     },
     "metadata": {},
     "output_type": "display_data"
    },
    {
     "data": {
      "application/vnd.jupyter.widget-view+json": {
       "model_id": "f1f41bc2f2274164bf0bff5f43b16a0b",
       "version_major": 2,
       "version_minor": 0
      },
      "text/plain": [
       "Depth 9 sub-progress:   0%|          | 0/9 [00:00<?, ?it/s]"
      ]
     },
     "metadata": {},
     "output_type": "display_data"
    },
    {
     "data": {
      "application/vnd.jupyter.widget-view+json": {
       "model_id": "ceae8da3b8b14bafb3b2ab8bb206ddaf",
       "version_major": 2,
       "version_minor": 0
      },
      "text/plain": [
       "Depth 9 sub-progress:   0%|          | 0/9 [00:00<?, ?it/s]"
      ]
     },
     "metadata": {},
     "output_type": "display_data"
    },
    {
     "data": {
      "application/vnd.jupyter.widget-view+json": {
       "model_id": "161662260ea84efc98b62e27e82e9032",
       "version_major": 2,
       "version_minor": 0
      },
      "text/plain": [
       "Depth 9 sub-progress:   0%|          | 0/9 [00:00<?, ?it/s]"
      ]
     },
     "metadata": {},
     "output_type": "display_data"
    },
    {
     "data": {
      "application/vnd.jupyter.widget-view+json": {
       "model_id": "95961ca0444f4b9bb2bea3eb2db2f715",
       "version_major": 2,
       "version_minor": 0
      },
      "text/plain": [
       "Depth 9 sub-progress:   0%|          | 0/9 [00:00<?, ?it/s]"
      ]
     },
     "metadata": {},
     "output_type": "display_data"
    },
    {
     "data": {
      "application/vnd.jupyter.widget-view+json": {
       "model_id": "1cd5bdf8bf6546aa9572138e560776c5",
       "version_major": 2,
       "version_minor": 0
      },
      "text/plain": [
       "Depth 9 sub-progress:   0%|          | 0/9 [00:00<?, ?it/s]"
      ]
     },
     "metadata": {},
     "output_type": "display_data"
    },
    {
     "data": {
      "application/vnd.jupyter.widget-view+json": {
       "model_id": "98121a9646984c1689ef9b0018d18e3b",
       "version_major": 2,
       "version_minor": 0
      },
      "text/plain": [
       "Depth 9 sub-progress:   0%|          | 0/9 [00:00<?, ?it/s]"
      ]
     },
     "metadata": {},
     "output_type": "display_data"
    },
    {
     "data": {
      "application/vnd.jupyter.widget-view+json": {
       "model_id": "7745830793864330b6d39f2f49877959",
       "version_major": 2,
       "version_minor": 0
      },
      "text/plain": [
       "Depth 9 sub-progress:   0%|          | 0/9 [00:00<?, ?it/s]"
      ]
     },
     "metadata": {},
     "output_type": "display_data"
    },
    {
     "data": {
      "application/vnd.jupyter.widget-view+json": {
       "model_id": "10fd7170af25486d9ddf7b7c273b6802",
       "version_major": 2,
       "version_minor": 0
      },
      "text/plain": [
       "Depth 9 sub-progress:   0%|          | 0/9 [00:00<?, ?it/s]"
      ]
     },
     "metadata": {},
     "output_type": "display_data"
    },
    {
     "data": {
      "application/vnd.jupyter.widget-view+json": {
       "model_id": "1b4925ec8d3142d8ad161b4a667ed638",
       "version_major": 2,
       "version_minor": 0
      },
      "text/plain": [
       "Depth 9 sub-progress:   0%|          | 0/9 [00:00<?, ?it/s]"
      ]
     },
     "metadata": {},
     "output_type": "display_data"
    },
    {
     "data": {
      "application/vnd.jupyter.widget-view+json": {
       "model_id": "330d80577f994ae79feb155052dda936",
       "version_major": 2,
       "version_minor": 0
      },
      "text/plain": [
       "Depth 9 sub-progress:   0%|          | 0/9 [00:00<?, ?it/s]"
      ]
     },
     "metadata": {},
     "output_type": "display_data"
    },
    {
     "data": {
      "application/vnd.jupyter.widget-view+json": {
       "model_id": "b411c2ba08a847bc9c11ade4b0c6d6db",
       "version_major": 2,
       "version_minor": 0
      },
      "text/plain": [
       "Depth 9 sub-progress:   0%|          | 0/9 [00:00<?, ?it/s]"
      ]
     },
     "metadata": {},
     "output_type": "display_data"
    },
    {
     "data": {
      "application/vnd.jupyter.widget-view+json": {
       "model_id": "0fec1e9272f744e8b17a7740deaf8f8d",
       "version_major": 2,
       "version_minor": 0
      },
      "text/plain": [
       "Depth 9 sub-progress:   0%|          | 0/9 [00:00<?, ?it/s]"
      ]
     },
     "metadata": {},
     "output_type": "display_data"
    },
    {
     "data": {
      "application/vnd.jupyter.widget-view+json": {
       "model_id": "5f9767c6406f4b529bcea330789f9181",
       "version_major": 2,
       "version_minor": 0
      },
      "text/plain": [
       "Depth 9 sub-progress:   0%|          | 0/9 [00:00<?, ?it/s]"
      ]
     },
     "metadata": {},
     "output_type": "display_data"
    },
    {
     "data": {
      "application/vnd.jupyter.widget-view+json": {
       "model_id": "3af527e988cb4bef89d19d923ce4b9e9",
       "version_major": 2,
       "version_minor": 0
      },
      "text/plain": [
       "Depth 9 sub-progress:   0%|          | 0/9 [00:00<?, ?it/s]"
      ]
     },
     "metadata": {},
     "output_type": "display_data"
    },
    {
     "data": {
      "application/vnd.jupyter.widget-view+json": {
       "model_id": "fe8af1edf5d34592b43d51859c9629bb",
       "version_major": 2,
       "version_minor": 0
      },
      "text/plain": [
       "Depth 9 sub-progress:   0%|          | 0/9 [00:00<?, ?it/s]"
      ]
     },
     "metadata": {},
     "output_type": "display_data"
    },
    {
     "data": {
      "application/vnd.jupyter.widget-view+json": {
       "model_id": "cef6d9f514a34176b200d739388b7137",
       "version_major": 2,
       "version_minor": 0
      },
      "text/plain": [
       "Depth 9 sub-progress:   0%|          | 0/9 [00:00<?, ?it/s]"
      ]
     },
     "metadata": {},
     "output_type": "display_data"
    },
    {
     "data": {
      "application/vnd.jupyter.widget-view+json": {
       "model_id": "ad15e90cadd646acabe328fd441498e4",
       "version_major": 2,
       "version_minor": 0
      },
      "text/plain": [
       "Depth 9 sub-progress:   0%|          | 0/9 [00:00<?, ?it/s]"
      ]
     },
     "metadata": {},
     "output_type": "display_data"
    },
    {
     "data": {
      "application/vnd.jupyter.widget-view+json": {
       "model_id": "3e47445641f245e88fff83b3f9e96c02",
       "version_major": 2,
       "version_minor": 0
      },
      "text/plain": [
       "Depth 9 sub-progress:   0%|          | 0/9 [00:00<?, ?it/s]"
      ]
     },
     "metadata": {},
     "output_type": "display_data"
    },
    {
     "data": {
      "application/vnd.jupyter.widget-view+json": {
       "model_id": "a040813e68be49438132c2da5840a3db",
       "version_major": 2,
       "version_minor": 0
      },
      "text/plain": [
       "Depth 9 sub-progress:   0%|          | 0/9 [00:00<?, ?it/s]"
      ]
     },
     "metadata": {},
     "output_type": "display_data"
    },
    {
     "data": {
      "application/vnd.jupyter.widget-view+json": {
       "model_id": "1d726e9df47943b9a4a990dc94340a23",
       "version_major": 2,
       "version_minor": 0
      },
      "text/plain": [
       "Depth 9 sub-progress:   0%|          | 0/9 [00:00<?, ?it/s]"
      ]
     },
     "metadata": {},
     "output_type": "display_data"
    },
    {
     "data": {
      "application/vnd.jupyter.widget-view+json": {
       "model_id": "816d72fd535d4e7ebd113effb589e19d",
       "version_major": 2,
       "version_minor": 0
      },
      "text/plain": [
       "Depth 9 sub-progress:   0%|          | 0/9 [00:00<?, ?it/s]"
      ]
     },
     "metadata": {},
     "output_type": "display_data"
    },
    {
     "data": {
      "application/vnd.jupyter.widget-view+json": {
       "model_id": "291dab4ba5454472ab777d2ceaa08180",
       "version_major": 2,
       "version_minor": 0
      },
      "text/plain": [
       "Depth 9 sub-progress:   0%|          | 0/9 [00:00<?, ?it/s]"
      ]
     },
     "metadata": {},
     "output_type": "display_data"
    },
    {
     "data": {
      "application/vnd.jupyter.widget-view+json": {
       "model_id": "11f3dd0145c044529ff396b110ce90a4",
       "version_major": 2,
       "version_minor": 0
      },
      "text/plain": [
       "Depth 9 sub-progress:   0%|          | 0/9 [00:00<?, ?it/s]"
      ]
     },
     "metadata": {},
     "output_type": "display_data"
    },
    {
     "data": {
      "application/vnd.jupyter.widget-view+json": {
       "model_id": "57ac88ed455241e39c1fa0e34fbedc60",
       "version_major": 2,
       "version_minor": 0
      },
      "text/plain": [
       "Depth 9 sub-progress:   0%|          | 0/9 [00:00<?, ?it/s]"
      ]
     },
     "metadata": {},
     "output_type": "display_data"
    },
    {
     "data": {
      "application/vnd.jupyter.widget-view+json": {
       "model_id": "a0df1023c1364806899302ed25bba4ea",
       "version_major": 2,
       "version_minor": 0
      },
      "text/plain": [
       "Depth 9 sub-progress:   0%|          | 0/9 [00:00<?, ?it/s]"
      ]
     },
     "metadata": {},
     "output_type": "display_data"
    },
    {
     "data": {
      "application/vnd.jupyter.widget-view+json": {
       "model_id": "ef749c8ec3f34c9e92aa8e6eb85c65b9",
       "version_major": 2,
       "version_minor": 0
      },
      "text/plain": [
       "Depth 9 sub-progress:   0%|          | 0/9 [00:00<?, ?it/s]"
      ]
     },
     "metadata": {},
     "output_type": "display_data"
    },
    {
     "data": {
      "application/vnd.jupyter.widget-view+json": {
       "model_id": "4640c85cd6584683817450447def3c32",
       "version_major": 2,
       "version_minor": 0
      },
      "text/plain": [
       "Depth 9 sub-progress:   0%|          | 0/9 [00:00<?, ?it/s]"
      ]
     },
     "metadata": {},
     "output_type": "display_data"
    },
    {
     "data": {
      "application/vnd.jupyter.widget-view+json": {
       "model_id": "568de00449ea4dad83dc6b36adc3962d",
       "version_major": 2,
       "version_minor": 0
      },
      "text/plain": [
       "Depth 9 sub-progress:   0%|          | 0/9 [00:00<?, ?it/s]"
      ]
     },
     "metadata": {},
     "output_type": "display_data"
    },
    {
     "data": {
      "application/vnd.jupyter.widget-view+json": {
       "model_id": "ea315180096e4503a0f39ca0978634eb",
       "version_major": 2,
       "version_minor": 0
      },
      "text/plain": [
       "Depth 9 sub-progress:   0%|          | 0/9 [00:00<?, ?it/s]"
      ]
     },
     "metadata": {},
     "output_type": "display_data"
    },
    {
     "data": {
      "application/vnd.jupyter.widget-view+json": {
       "model_id": "fd39b6db94004532b3d7ee09d032e9ac",
       "version_major": 2,
       "version_minor": 0
      },
      "text/plain": [
       "Depth 9 sub-progress:   0%|          | 0/9 [00:00<?, ?it/s]"
      ]
     },
     "metadata": {},
     "output_type": "display_data"
    },
    {
     "data": {
      "application/vnd.jupyter.widget-view+json": {
       "model_id": "9027a44ae8e84814ae1b596d0f706476",
       "version_major": 2,
       "version_minor": 0
      },
      "text/plain": [
       "Depth 9 sub-progress:   0%|          | 0/9 [00:00<?, ?it/s]"
      ]
     },
     "metadata": {},
     "output_type": "display_data"
    },
    {
     "data": {
      "application/vnd.jupyter.widget-view+json": {
       "model_id": "14cab7b9e17c4e53826fa0c2433a4c93",
       "version_major": 2,
       "version_minor": 0
      },
      "text/plain": [
       "Depth 9 sub-progress:   0%|          | 0/9 [00:00<?, ?it/s]"
      ]
     },
     "metadata": {},
     "output_type": "display_data"
    },
    {
     "data": {
      "application/vnd.jupyter.widget-view+json": {
       "model_id": "aba1d6364da0433f972a74bc08174f43",
       "version_major": 2,
       "version_minor": 0
      },
      "text/plain": [
       "Depth 9 sub-progress:   0%|          | 0/9 [00:00<?, ?it/s]"
      ]
     },
     "metadata": {},
     "output_type": "display_data"
    },
    {
     "data": {
      "application/vnd.jupyter.widget-view+json": {
       "model_id": "8e6cb63325904823baf220555766bf27",
       "version_major": 2,
       "version_minor": 0
      },
      "text/plain": [
       "Depth 9 sub-progress:   0%|          | 0/9 [00:00<?, ?it/s]"
      ]
     },
     "metadata": {},
     "output_type": "display_data"
    },
    {
     "data": {
      "application/vnd.jupyter.widget-view+json": {
       "model_id": "9265999b9bbb48c8abb85a204244a18a",
       "version_major": 2,
       "version_minor": 0
      },
      "text/plain": [
       "Depth 9 sub-progress:   0%|          | 0/9 [00:00<?, ?it/s]"
      ]
     },
     "metadata": {},
     "output_type": "display_data"
    },
    {
     "data": {
      "application/vnd.jupyter.widget-view+json": {
       "model_id": "c906b7a84ce3471d9312fafd5f724ec0",
       "version_major": 2,
       "version_minor": 0
      },
      "text/plain": [
       "Depth 9 sub-progress:   0%|          | 0/9 [00:00<?, ?it/s]"
      ]
     },
     "metadata": {},
     "output_type": "display_data"
    },
    {
     "data": {
      "application/vnd.jupyter.widget-view+json": {
       "model_id": "2df50d5bcf744d08bb9ba57a857202ea",
       "version_major": 2,
       "version_minor": 0
      },
      "text/plain": [
       "Depth 9 sub-progress:   0%|          | 0/9 [00:00<?, ?it/s]"
      ]
     },
     "metadata": {},
     "output_type": "display_data"
    },
    {
     "data": {
      "application/vnd.jupyter.widget-view+json": {
       "model_id": "8f967a5992e04b2b8c73ac9e43e6e204",
       "version_major": 2,
       "version_minor": 0
      },
      "text/plain": [
       "Depth 9 sub-progress:   0%|          | 0/9 [00:00<?, ?it/s]"
      ]
     },
     "metadata": {},
     "output_type": "display_data"
    },
    {
     "data": {
      "application/vnd.jupyter.widget-view+json": {
       "model_id": "8600c990bb704373a359a7fec1e09c95",
       "version_major": 2,
       "version_minor": 0
      },
      "text/plain": [
       "Depth 9 sub-progress:   0%|          | 0/9 [00:00<?, ?it/s]"
      ]
     },
     "metadata": {},
     "output_type": "display_data"
    },
    {
     "data": {
      "application/vnd.jupyter.widget-view+json": {
       "model_id": "2bbc29c4ab8f42238099c7d63e2bb866",
       "version_major": 2,
       "version_minor": 0
      },
      "text/plain": [
       "Depth 9 sub-progress:   0%|          | 0/9 [00:00<?, ?it/s]"
      ]
     },
     "metadata": {},
     "output_type": "display_data"
    },
    {
     "data": {
      "application/vnd.jupyter.widget-view+json": {
       "model_id": "21c853cce45245f8b0c9fa15f9f841af",
       "version_major": 2,
       "version_minor": 0
      },
      "text/plain": [
       "Depth 9 sub-progress:   0%|          | 0/9 [00:00<?, ?it/s]"
      ]
     },
     "metadata": {},
     "output_type": "display_data"
    },
    {
     "data": {
      "application/vnd.jupyter.widget-view+json": {
       "model_id": "17956b58f833463d94a00ce6e9c12adf",
       "version_major": 2,
       "version_minor": 0
      },
      "text/plain": [
       "Depth 9 sub-progress:   0%|          | 0/9 [00:00<?, ?it/s]"
      ]
     },
     "metadata": {},
     "output_type": "display_data"
    },
    {
     "data": {
      "application/vnd.jupyter.widget-view+json": {
       "model_id": "26e0a47c80a441938a31568003a726f8",
       "version_major": 2,
       "version_minor": 0
      },
      "text/plain": [
       "Depth 9 sub-progress:   0%|          | 0/9 [00:00<?, ?it/s]"
      ]
     },
     "metadata": {},
     "output_type": "display_data"
    },
    {
     "data": {
      "application/vnd.jupyter.widget-view+json": {
       "model_id": "54813120ce1a4d20b65ce83c25ef1ea4",
       "version_major": 2,
       "version_minor": 0
      },
      "text/plain": [
       "Depth 9 sub-progress:   0%|          | 0/9 [00:00<?, ?it/s]"
      ]
     },
     "metadata": {},
     "output_type": "display_data"
    },
    {
     "data": {
      "application/vnd.jupyter.widget-view+json": {
       "model_id": "528ef222e49540e28ec11a9ab4bafabb",
       "version_major": 2,
       "version_minor": 0
      },
      "text/plain": [
       "Depth 9 sub-progress:   0%|          | 0/9 [00:00<?, ?it/s]"
      ]
     },
     "metadata": {},
     "output_type": "display_data"
    },
    {
     "data": {
      "application/vnd.jupyter.widget-view+json": {
       "model_id": "ab67fb56bafe4b8985aa21fd1165fa0b",
       "version_major": 2,
       "version_minor": 0
      },
      "text/plain": [
       "Depth 9 sub-progress:   0%|          | 0/9 [00:00<?, ?it/s]"
      ]
     },
     "metadata": {},
     "output_type": "display_data"
    },
    {
     "data": {
      "application/vnd.jupyter.widget-view+json": {
       "model_id": "4bacaa6b937e4a0497d1b95994404e0e",
       "version_major": 2,
       "version_minor": 0
      },
      "text/plain": [
       "Depth 9 sub-progress:   0%|          | 0/9 [00:00<?, ?it/s]"
      ]
     },
     "metadata": {},
     "output_type": "display_data"
    },
    {
     "data": {
      "application/vnd.jupyter.widget-view+json": {
       "model_id": "f05789cf0f204c17a6d36a93020746d4",
       "version_major": 2,
       "version_minor": 0
      },
      "text/plain": [
       "Depth 9 sub-progress:   0%|          | 0/9 [00:00<?, ?it/s]"
      ]
     },
     "metadata": {},
     "output_type": "display_data"
    },
    {
     "data": {
      "application/vnd.jupyter.widget-view+json": {
       "model_id": "8c933e8489294872874e8490068239d9",
       "version_major": 2,
       "version_minor": 0
      },
      "text/plain": [
       "Depth 9 sub-progress:   0%|          | 0/9 [00:00<?, ?it/s]"
      ]
     },
     "metadata": {},
     "output_type": "display_data"
    },
    {
     "data": {
      "application/vnd.jupyter.widget-view+json": {
       "model_id": "b4129597feff4b5e94005c2050373c25",
       "version_major": 2,
       "version_minor": 0
      },
      "text/plain": [
       "Depth 9 sub-progress:   0%|          | 0/9 [00:00<?, ?it/s]"
      ]
     },
     "metadata": {},
     "output_type": "display_data"
    },
    {
     "data": {
      "application/vnd.jupyter.widget-view+json": {
       "model_id": "c1e4bf13a0114a758a874064b8594274",
       "version_major": 2,
       "version_minor": 0
      },
      "text/plain": [
       "Depth 9 sub-progress:   0%|          | 0/9 [00:00<?, ?it/s]"
      ]
     },
     "metadata": {},
     "output_type": "display_data"
    },
    {
     "data": {
      "application/vnd.jupyter.widget-view+json": {
       "model_id": "7d3e5e34de274858bcc5d6ca6a848709",
       "version_major": 2,
       "version_minor": 0
      },
      "text/plain": [
       "Depth 9 sub-progress:   0%|          | 0/9 [00:00<?, ?it/s]"
      ]
     },
     "metadata": {},
     "output_type": "display_data"
    },
    {
     "data": {
      "application/vnd.jupyter.widget-view+json": {
       "model_id": "c96cdbddb3e446b6b08dba7e3248bfab",
       "version_major": 2,
       "version_minor": 0
      },
      "text/plain": [
       "Depth 9 sub-progress:   0%|          | 0/9 [00:00<?, ?it/s]"
      ]
     },
     "metadata": {},
     "output_type": "display_data"
    },
    {
     "data": {
      "application/vnd.jupyter.widget-view+json": {
       "model_id": "63cd253c63874a19a2f96f940eb5f925",
       "version_major": 2,
       "version_minor": 0
      },
      "text/plain": [
       "Depth 9 sub-progress:   0%|          | 0/9 [00:00<?, ?it/s]"
      ]
     },
     "metadata": {},
     "output_type": "display_data"
    },
    {
     "data": {
      "application/vnd.jupyter.widget-view+json": {
       "model_id": "fca4434769bc4c00aff7b50eb6580e07",
       "version_major": 2,
       "version_minor": 0
      },
      "text/plain": [
       "Depth 9 sub-progress:   0%|          | 0/9 [00:00<?, ?it/s]"
      ]
     },
     "metadata": {},
     "output_type": "display_data"
    },
    {
     "data": {
      "application/vnd.jupyter.widget-view+json": {
       "model_id": "0606e24d91f04058ad36899c349ab590",
       "version_major": 2,
       "version_minor": 0
      },
      "text/plain": [
       "Depth 9 sub-progress:   0%|          | 0/9 [00:00<?, ?it/s]"
      ]
     },
     "metadata": {},
     "output_type": "display_data"
    },
    {
     "data": {
      "application/vnd.jupyter.widget-view+json": {
       "model_id": "90352cb9f1864fd7ae83c196c1d6d564",
       "version_major": 2,
       "version_minor": 0
      },
      "text/plain": [
       "Depth 9 sub-progress:   0%|          | 0/9 [00:00<?, ?it/s]"
      ]
     },
     "metadata": {},
     "output_type": "display_data"
    },
    {
     "data": {
      "application/vnd.jupyter.widget-view+json": {
       "model_id": "56d93421df5d495eb3aeced531adbd01",
       "version_major": 2,
       "version_minor": 0
      },
      "text/plain": [
       "Depth 9 sub-progress:   0%|          | 0/9 [00:00<?, ?it/s]"
      ]
     },
     "metadata": {},
     "output_type": "display_data"
    },
    {
     "data": {
      "application/vnd.jupyter.widget-view+json": {
       "model_id": "2bc42279c4bf4393b1eba5091aaeef72",
       "version_major": 2,
       "version_minor": 0
      },
      "text/plain": [
       "Depth 9 sub-progress:   0%|          | 0/9 [00:00<?, ?it/s]"
      ]
     },
     "metadata": {},
     "output_type": "display_data"
    },
    {
     "data": {
      "application/vnd.jupyter.widget-view+json": {
       "model_id": "8239de43c4e04c4792b5f4185d2d7278",
       "version_major": 2,
       "version_minor": 0
      },
      "text/plain": [
       "Depth 9 sub-progress:   0%|          | 0/9 [00:00<?, ?it/s]"
      ]
     },
     "metadata": {},
     "output_type": "display_data"
    },
    {
     "data": {
      "application/vnd.jupyter.widget-view+json": {
       "model_id": "8e56d82771224b14b17aa1f5bc195842",
       "version_major": 2,
       "version_minor": 0
      },
      "text/plain": [
       "Depth 9 sub-progress:   0%|          | 0/9 [00:00<?, ?it/s]"
      ]
     },
     "metadata": {},
     "output_type": "display_data"
    },
    {
     "data": {
      "application/vnd.jupyter.widget-view+json": {
       "model_id": "bda7c069d4a64353af566ce20afd48c5",
       "version_major": 2,
       "version_minor": 0
      },
      "text/plain": [
       "Depth 9 sub-progress:   0%|          | 0/9 [00:00<?, ?it/s]"
      ]
     },
     "metadata": {},
     "output_type": "display_data"
    },
    {
     "data": {
      "application/vnd.jupyter.widget-view+json": {
       "model_id": "a9718ba51476418e984e724ae7e99a02",
       "version_major": 2,
       "version_minor": 0
      },
      "text/plain": [
       "Depth 9 sub-progress:   0%|          | 0/9 [00:00<?, ?it/s]"
      ]
     },
     "metadata": {},
     "output_type": "display_data"
    },
    {
     "data": {
      "application/vnd.jupyter.widget-view+json": {
       "model_id": "689c871b62b5482cbd149160923fcd5c",
       "version_major": 2,
       "version_minor": 0
      },
      "text/plain": [
       "Depth 9 sub-progress:   0%|          | 0/9 [00:00<?, ?it/s]"
      ]
     },
     "metadata": {},
     "output_type": "display_data"
    },
    {
     "data": {
      "application/vnd.jupyter.widget-view+json": {
       "model_id": "4871def09c9945dc98e425d5a67b131f",
       "version_major": 2,
       "version_minor": 0
      },
      "text/plain": [
       "Depth 9 sub-progress:   0%|          | 0/9 [00:00<?, ?it/s]"
      ]
     },
     "metadata": {},
     "output_type": "display_data"
    },
    {
     "data": {
      "application/vnd.jupyter.widget-view+json": {
       "model_id": "bc00a4aa6d9348649ece122f59d50e06",
       "version_major": 2,
       "version_minor": 0
      },
      "text/plain": [
       "Depth 9 sub-progress:   0%|          | 0/9 [00:00<?, ?it/s]"
      ]
     },
     "metadata": {},
     "output_type": "display_data"
    },
    {
     "data": {
      "application/vnd.jupyter.widget-view+json": {
       "model_id": "4bc427fec932470a88970622e96918e2",
       "version_major": 2,
       "version_minor": 0
      },
      "text/plain": [
       "Depth 9 sub-progress:   0%|          | 0/9 [00:00<?, ?it/s]"
      ]
     },
     "metadata": {},
     "output_type": "display_data"
    },
    {
     "data": {
      "application/vnd.jupyter.widget-view+json": {
       "model_id": "0f3b64befc6143088badfbe89f11e226",
       "version_major": 2,
       "version_minor": 0
      },
      "text/plain": [
       "Depth 9 sub-progress:   0%|          | 0/9 [00:00<?, ?it/s]"
      ]
     },
     "metadata": {},
     "output_type": "display_data"
    },
    {
     "data": {
      "application/vnd.jupyter.widget-view+json": {
       "model_id": "8e1b6d92869c4580b39eb098b2971e76",
       "version_major": 2,
       "version_minor": 0
      },
      "text/plain": [
       "Depth 9 sub-progress:   0%|          | 0/9 [00:00<?, ?it/s]"
      ]
     },
     "metadata": {},
     "output_type": "display_data"
    },
    {
     "data": {
      "application/vnd.jupyter.widget-view+json": {
       "model_id": "96866d059bb747fdabc38687bf120df3",
       "version_major": 2,
       "version_minor": 0
      },
      "text/plain": [
       "Depth 9 sub-progress:   0%|          | 0/9 [00:00<?, ?it/s]"
      ]
     },
     "metadata": {},
     "output_type": "display_data"
    },
    {
     "data": {
      "application/vnd.jupyter.widget-view+json": {
       "model_id": "a90ed9ce54374bd4a245c4031bab8146",
       "version_major": 2,
       "version_minor": 0
      },
      "text/plain": [
       "Depth 9 sub-progress:   0%|          | 0/9 [00:00<?, ?it/s]"
      ]
     },
     "metadata": {},
     "output_type": "display_data"
    },
    {
     "data": {
      "application/vnd.jupyter.widget-view+json": {
       "model_id": "9e256b7e423443e7b92ecfd8d5a06984",
       "version_major": 2,
       "version_minor": 0
      },
      "text/plain": [
       "Depth 9 sub-progress:   0%|          | 0/9 [00:00<?, ?it/s]"
      ]
     },
     "metadata": {},
     "output_type": "display_data"
    },
    {
     "data": {
      "application/vnd.jupyter.widget-view+json": {
       "model_id": "05eaca11da8a4c57af0fc0e392a7e3c4",
       "version_major": 2,
       "version_minor": 0
      },
      "text/plain": [
       "Depth 9 sub-progress:   0%|          | 0/9 [00:00<?, ?it/s]"
      ]
     },
     "metadata": {},
     "output_type": "display_data"
    },
    {
     "data": {
      "application/vnd.jupyter.widget-view+json": {
       "model_id": "4144922c874a447b962ade8a472a94b7",
       "version_major": 2,
       "version_minor": 0
      },
      "text/plain": [
       "Depth 9 sub-progress:   0%|          | 0/9 [00:00<?, ?it/s]"
      ]
     },
     "metadata": {},
     "output_type": "display_data"
    },
    {
     "data": {
      "application/vnd.jupyter.widget-view+json": {
       "model_id": "4627427233134e068b3021646a08d923",
       "version_major": 2,
       "version_minor": 0
      },
      "text/plain": [
       "Depth 9 sub-progress:   0%|          | 0/9 [00:00<?, ?it/s]"
      ]
     },
     "metadata": {},
     "output_type": "display_data"
    },
    {
     "data": {
      "application/vnd.jupyter.widget-view+json": {
       "model_id": "0519087cf9da4353b1a17ded286d0e6e",
       "version_major": 2,
       "version_minor": 0
      },
      "text/plain": [
       "Depth 9 sub-progress:   0%|          | 0/9 [00:00<?, ?it/s]"
      ]
     },
     "metadata": {},
     "output_type": "display_data"
    },
    {
     "data": {
      "application/vnd.jupyter.widget-view+json": {
       "model_id": "fb1253dd47e444c58a900cbfd3a4ad33",
       "version_major": 2,
       "version_minor": 0
      },
      "text/plain": [
       "Depth 9 sub-progress:   0%|          | 0/9 [00:00<?, ?it/s]"
      ]
     },
     "metadata": {},
     "output_type": "display_data"
    },
    {
     "data": {
      "application/vnd.jupyter.widget-view+json": {
       "model_id": "0ebedaec14ff41edaa893e3fd508a3be",
       "version_major": 2,
       "version_minor": 0
      },
      "text/plain": [
       "Depth 9 sub-progress:   0%|          | 0/9 [00:00<?, ?it/s]"
      ]
     },
     "metadata": {},
     "output_type": "display_data"
    },
    {
     "data": {
      "application/vnd.jupyter.widget-view+json": {
       "model_id": "5b421705e4774fbd8113f6eed8b8ec42",
       "version_major": 2,
       "version_minor": 0
      },
      "text/plain": [
       "Depth 9 sub-progress:   0%|          | 0/9 [00:00<?, ?it/s]"
      ]
     },
     "metadata": {},
     "output_type": "display_data"
    },
    {
     "data": {
      "application/vnd.jupyter.widget-view+json": {
       "model_id": "2125438ff0494ea2abbe2ae98156ff00",
       "version_major": 2,
       "version_minor": 0
      },
      "text/plain": [
       "Depth 9 sub-progress:   0%|          | 0/9 [00:00<?, ?it/s]"
      ]
     },
     "metadata": {},
     "output_type": "display_data"
    },
    {
     "data": {
      "application/vnd.jupyter.widget-view+json": {
       "model_id": "3731f40ea201476597db0ed78b26cfac",
       "version_major": 2,
       "version_minor": 0
      },
      "text/plain": [
       "Depth 9 sub-progress:   0%|          | 0/9 [00:00<?, ?it/s]"
      ]
     },
     "metadata": {},
     "output_type": "display_data"
    },
    {
     "data": {
      "application/vnd.jupyter.widget-view+json": {
       "model_id": "3a5464ba386842368c45a122ac44b8e9",
       "version_major": 2,
       "version_minor": 0
      },
      "text/plain": [
       "Depth 9 sub-progress:   0%|          | 0/9 [00:00<?, ?it/s]"
      ]
     },
     "metadata": {},
     "output_type": "display_data"
    },
    {
     "data": {
      "application/vnd.jupyter.widget-view+json": {
       "model_id": "2706d1705e2f41a4986053a3d93b4342",
       "version_major": 2,
       "version_minor": 0
      },
      "text/plain": [
       "Depth 9 sub-progress:   0%|          | 0/9 [00:00<?, ?it/s]"
      ]
     },
     "metadata": {},
     "output_type": "display_data"
    },
    {
     "data": {
      "application/vnd.jupyter.widget-view+json": {
       "model_id": "08611283ef1a47579acf8085dddeff9a",
       "version_major": 2,
       "version_minor": 0
      },
      "text/plain": [
       "Depth 9 sub-progress:   0%|          | 0/9 [00:00<?, ?it/s]"
      ]
     },
     "metadata": {},
     "output_type": "display_data"
    },
    {
     "data": {
      "application/vnd.jupyter.widget-view+json": {
       "model_id": "c3529fe65a3d4610afc199ddf8a40564",
       "version_major": 2,
       "version_minor": 0
      },
      "text/plain": [
       "Depth 9 sub-progress:   0%|          | 0/9 [00:00<?, ?it/s]"
      ]
     },
     "metadata": {},
     "output_type": "display_data"
    },
    {
     "data": {
      "application/vnd.jupyter.widget-view+json": {
       "model_id": "cee9ef0773d94abb96fda246fbfec3bc",
       "version_major": 2,
       "version_minor": 0
      },
      "text/plain": [
       "Depth 9 sub-progress:   0%|          | 0/9 [00:00<?, ?it/s]"
      ]
     },
     "metadata": {},
     "output_type": "display_data"
    },
    {
     "data": {
      "application/vnd.jupyter.widget-view+json": {
       "model_id": "5452fa207c154b66af0fcd4eaa9c8cdb",
       "version_major": 2,
       "version_minor": 0
      },
      "text/plain": [
       "Depth 9 sub-progress:   0%|          | 0/9 [00:00<?, ?it/s]"
      ]
     },
     "metadata": {},
     "output_type": "display_data"
    },
    {
     "data": {
      "application/vnd.jupyter.widget-view+json": {
       "model_id": "b34c1aefebf9404dba45dfc68494828e",
       "version_major": 2,
       "version_minor": 0
      },
      "text/plain": [
       "Depth 9 sub-progress:   0%|          | 0/9 [00:00<?, ?it/s]"
      ]
     },
     "metadata": {},
     "output_type": "display_data"
    },
    {
     "data": {
      "application/vnd.jupyter.widget-view+json": {
       "model_id": "8059849b8f4c43c4bd9275a240d14d07",
       "version_major": 2,
       "version_minor": 0
      },
      "text/plain": [
       "Depth 9 sub-progress:   0%|          | 0/9 [00:00<?, ?it/s]"
      ]
     },
     "metadata": {},
     "output_type": "display_data"
    },
    {
     "data": {
      "application/vnd.jupyter.widget-view+json": {
       "model_id": "ef0306003b1e4d4fa7a46967c09d58f0",
       "version_major": 2,
       "version_minor": 0
      },
      "text/plain": [
       "Depth 9 sub-progress:   0%|          | 0/9 [00:00<?, ?it/s]"
      ]
     },
     "metadata": {},
     "output_type": "display_data"
    },
    {
     "data": {
      "application/vnd.jupyter.widget-view+json": {
       "model_id": "5f67d185d73b4bdb8b2698b776de1d6d",
       "version_major": 2,
       "version_minor": 0
      },
      "text/plain": [
       "Depth 9 sub-progress:   0%|          | 0/9 [00:00<?, ?it/s]"
      ]
     },
     "metadata": {},
     "output_type": "display_data"
    },
    {
     "data": {
      "application/vnd.jupyter.widget-view+json": {
       "model_id": "4af629599ead4b8c8e5d5299e6211d39",
       "version_major": 2,
       "version_minor": 0
      },
      "text/plain": [
       "Depth 9 sub-progress:   0%|          | 0/9 [00:00<?, ?it/s]"
      ]
     },
     "metadata": {},
     "output_type": "display_data"
    },
    {
     "data": {
      "application/vnd.jupyter.widget-view+json": {
       "model_id": "5591628c27794cefb3b54b3b6ecb6c64",
       "version_major": 2,
       "version_minor": 0
      },
      "text/plain": [
       "Depth 9 sub-progress:   0%|          | 0/9 [00:00<?, ?it/s]"
      ]
     },
     "metadata": {},
     "output_type": "display_data"
    },
    {
     "data": {
      "application/vnd.jupyter.widget-view+json": {
       "model_id": "3e681d8e975b408f91e70c784865696d",
       "version_major": 2,
       "version_minor": 0
      },
      "text/plain": [
       "Depth 9 sub-progress:   0%|          | 0/9 [00:00<?, ?it/s]"
      ]
     },
     "metadata": {},
     "output_type": "display_data"
    },
    {
     "data": {
      "application/vnd.jupyter.widget-view+json": {
       "model_id": "34a29624f2624abb80c52c055f21729d",
       "version_major": 2,
       "version_minor": 0
      },
      "text/plain": [
       "Depth 9 sub-progress:   0%|          | 0/9 [00:00<?, ?it/s]"
      ]
     },
     "metadata": {},
     "output_type": "display_data"
    },
    {
     "data": {
      "application/vnd.jupyter.widget-view+json": {
       "model_id": "e39e962651504bf6ac225d5a2a8c8afa",
       "version_major": 2,
       "version_minor": 0
      },
      "text/plain": [
       "Depth 9 sub-progress:   0%|          | 0/9 [00:00<?, ?it/s]"
      ]
     },
     "metadata": {},
     "output_type": "display_data"
    },
    {
     "data": {
      "application/vnd.jupyter.widget-view+json": {
       "model_id": "554b72756e1c40d783a35ff314b054a8",
       "version_major": 2,
       "version_minor": 0
      },
      "text/plain": [
       "Depth 9 sub-progress:   0%|          | 0/9 [00:00<?, ?it/s]"
      ]
     },
     "metadata": {},
     "output_type": "display_data"
    },
    {
     "data": {
      "application/vnd.jupyter.widget-view+json": {
       "model_id": "020c86e60c864193b8fd90b4fb319c05",
       "version_major": 2,
       "version_minor": 0
      },
      "text/plain": [
       "Depth 9 sub-progress:   0%|          | 0/9 [00:00<?, ?it/s]"
      ]
     },
     "metadata": {},
     "output_type": "display_data"
    },
    {
     "data": {
      "application/vnd.jupyter.widget-view+json": {
       "model_id": "d1a4200bd4be4993bef42f6f0937e140",
       "version_major": 2,
       "version_minor": 0
      },
      "text/plain": [
       "Depth 9 sub-progress:   0%|          | 0/9 [00:00<?, ?it/s]"
      ]
     },
     "metadata": {},
     "output_type": "display_data"
    },
    {
     "data": {
      "application/vnd.jupyter.widget-view+json": {
       "model_id": "1a4c56d250af44f68ac2eaeeb0099728",
       "version_major": 2,
       "version_minor": 0
      },
      "text/plain": [
       "Depth 9 sub-progress:   0%|          | 0/9 [00:00<?, ?it/s]"
      ]
     },
     "metadata": {},
     "output_type": "display_data"
    },
    {
     "data": {
      "application/vnd.jupyter.widget-view+json": {
       "model_id": "040c99b930a24be7967c412ca636aa98",
       "version_major": 2,
       "version_minor": 0
      },
      "text/plain": [
       "Depth 9 sub-progress:   0%|          | 0/9 [00:00<?, ?it/s]"
      ]
     },
     "metadata": {},
     "output_type": "display_data"
    },
    {
     "data": {
      "application/vnd.jupyter.widget-view+json": {
       "model_id": "602368d839a44a539b361a16266267bb",
       "version_major": 2,
       "version_minor": 0
      },
      "text/plain": [
       "Depth 9 sub-progress:   0%|          | 0/9 [00:00<?, ?it/s]"
      ]
     },
     "metadata": {},
     "output_type": "display_data"
    },
    {
     "data": {
      "application/vnd.jupyter.widget-view+json": {
       "model_id": "1035dc6b209a491c83d97e03c121a3f1",
       "version_major": 2,
       "version_minor": 0
      },
      "text/plain": [
       "Depth 9 sub-progress:   0%|          | 0/9 [00:00<?, ?it/s]"
      ]
     },
     "metadata": {},
     "output_type": "display_data"
    },
    {
     "data": {
      "application/vnd.jupyter.widget-view+json": {
       "model_id": "49075523aacd49bdb9129c3aa6e5b238",
       "version_major": 2,
       "version_minor": 0
      },
      "text/plain": [
       "Depth 9 sub-progress:   0%|          | 0/9 [00:00<?, ?it/s]"
      ]
     },
     "metadata": {},
     "output_type": "display_data"
    },
    {
     "data": {
      "application/vnd.jupyter.widget-view+json": {
       "model_id": "7a652bb4c6264ab3be8a3eff085ac42b",
       "version_major": 2,
       "version_minor": 0
      },
      "text/plain": [
       "Depth 9 sub-progress:   0%|          | 0/9 [00:00<?, ?it/s]"
      ]
     },
     "metadata": {},
     "output_type": "display_data"
    },
    {
     "data": {
      "application/vnd.jupyter.widget-view+json": {
       "model_id": "a0c41961fff14e03acd82764a90ae946",
       "version_major": 2,
       "version_minor": 0
      },
      "text/plain": [
       "Depth 9 sub-progress:   0%|          | 0/9 [00:00<?, ?it/s]"
      ]
     },
     "metadata": {},
     "output_type": "display_data"
    },
    {
     "data": {
      "application/vnd.jupyter.widget-view+json": {
       "model_id": "7153ea52557b4cfb95f01010809c1bdf",
       "version_major": 2,
       "version_minor": 0
      },
      "text/plain": [
       "Depth 9 sub-progress:   0%|          | 0/9 [00:00<?, ?it/s]"
      ]
     },
     "metadata": {},
     "output_type": "display_data"
    },
    {
     "data": {
      "application/vnd.jupyter.widget-view+json": {
       "model_id": "9d21b0d2e2fa4c54b3af8504df6b04fb",
       "version_major": 2,
       "version_minor": 0
      },
      "text/plain": [
       "Depth 9 sub-progress:   0%|          | 0/9 [00:00<?, ?it/s]"
      ]
     },
     "metadata": {},
     "output_type": "display_data"
    },
    {
     "data": {
      "application/vnd.jupyter.widget-view+json": {
       "model_id": "b49d086d5ccc464fbf256e8dcaacac0e",
       "version_major": 2,
       "version_minor": 0
      },
      "text/plain": [
       "Depth 9 sub-progress:   0%|          | 0/9 [00:00<?, ?it/s]"
      ]
     },
     "metadata": {},
     "output_type": "display_data"
    },
    {
     "data": {
      "application/vnd.jupyter.widget-view+json": {
       "model_id": "1f25f01528ea4bfeaa91f1b431ac2e4d",
       "version_major": 2,
       "version_minor": 0
      },
      "text/plain": [
       "Depth 9 sub-progress:   0%|          | 0/9 [00:00<?, ?it/s]"
      ]
     },
     "metadata": {},
     "output_type": "display_data"
    },
    {
     "data": {
      "application/vnd.jupyter.widget-view+json": {
       "model_id": "e825a9fa47cc467daa13c5930560c24a",
       "version_major": 2,
       "version_minor": 0
      },
      "text/plain": [
       "Depth 9 sub-progress:   0%|          | 0/9 [00:00<?, ?it/s]"
      ]
     },
     "metadata": {},
     "output_type": "display_data"
    },
    {
     "data": {
      "application/vnd.jupyter.widget-view+json": {
       "model_id": "aeec68d643ac414593b759d7c968eb4d",
       "version_major": 2,
       "version_minor": 0
      },
      "text/plain": [
       "Depth 9 sub-progress:   0%|          | 0/9 [00:00<?, ?it/s]"
      ]
     },
     "metadata": {},
     "output_type": "display_data"
    },
    {
     "data": {
      "application/vnd.jupyter.widget-view+json": {
       "model_id": "0483bfd3803746bab2ccaa2135635edb",
       "version_major": 2,
       "version_minor": 0
      },
      "text/plain": [
       "Depth 9 sub-progress:   0%|          | 0/9 [00:00<?, ?it/s]"
      ]
     },
     "metadata": {},
     "output_type": "display_data"
    },
    {
     "data": {
      "application/vnd.jupyter.widget-view+json": {
       "model_id": "1fde1c803b1f4e3c9164fd4acddac8a9",
       "version_major": 2,
       "version_minor": 0
      },
      "text/plain": [
       "Depth 9 sub-progress:   0%|          | 0/9 [00:00<?, ?it/s]"
      ]
     },
     "metadata": {},
     "output_type": "display_data"
    },
    {
     "data": {
      "application/vnd.jupyter.widget-view+json": {
       "model_id": "8e06774ffccd42c0ba811da90df6e411",
       "version_major": 2,
       "version_minor": 0
      },
      "text/plain": [
       "Depth 9 sub-progress:   0%|          | 0/9 [00:00<?, ?it/s]"
      ]
     },
     "metadata": {},
     "output_type": "display_data"
    },
    {
     "data": {
      "application/vnd.jupyter.widget-view+json": {
       "model_id": "56288487f91e409bb377522d7e9bde94",
       "version_major": 2,
       "version_minor": 0
      },
      "text/plain": [
       "Depth 9 sub-progress:   0%|          | 0/9 [00:00<?, ?it/s]"
      ]
     },
     "metadata": {},
     "output_type": "display_data"
    },
    {
     "data": {
      "application/vnd.jupyter.widget-view+json": {
       "model_id": "56c9b6de48124aeba08ef9b11e7b29f1",
       "version_major": 2,
       "version_minor": 0
      },
      "text/plain": [
       "Depth 9 sub-progress:   0%|          | 0/9 [00:00<?, ?it/s]"
      ]
     },
     "metadata": {},
     "output_type": "display_data"
    },
    {
     "data": {
      "application/vnd.jupyter.widget-view+json": {
       "model_id": "61434682269b40ac999888981d1d839e",
       "version_major": 2,
       "version_minor": 0
      },
      "text/plain": [
       "Depth 9 sub-progress:   0%|          | 0/9 [00:00<?, ?it/s]"
      ]
     },
     "metadata": {},
     "output_type": "display_data"
    },
    {
     "data": {
      "application/vnd.jupyter.widget-view+json": {
       "model_id": "1606b77fa2ac459690e5772d1d83510f",
       "version_major": 2,
       "version_minor": 0
      },
      "text/plain": [
       "Depth 9 sub-progress:   0%|          | 0/9 [00:00<?, ?it/s]"
      ]
     },
     "metadata": {},
     "output_type": "display_data"
    },
    {
     "data": {
      "application/vnd.jupyter.widget-view+json": {
       "model_id": "f0ced2ce36724140b001d7628b34df21",
       "version_major": 2,
       "version_minor": 0
      },
      "text/plain": [
       "Depth 9 sub-progress:   0%|          | 0/9 [00:00<?, ?it/s]"
      ]
     },
     "metadata": {},
     "output_type": "display_data"
    },
    {
     "data": {
      "application/vnd.jupyter.widget-view+json": {
       "model_id": "86fac6c514144d70b69e8fc21d444982",
       "version_major": 2,
       "version_minor": 0
      },
      "text/plain": [
       "Depth 9 sub-progress:   0%|          | 0/9 [00:00<?, ?it/s]"
      ]
     },
     "metadata": {},
     "output_type": "display_data"
    },
    {
     "data": {
      "application/vnd.jupyter.widget-view+json": {
       "model_id": "f40d46d4cd144830bbca366cb19f669a",
       "version_major": 2,
       "version_minor": 0
      },
      "text/plain": [
       "Depth 9 sub-progress:   0%|          | 0/9 [00:00<?, ?it/s]"
      ]
     },
     "metadata": {},
     "output_type": "display_data"
    },
    {
     "data": {
      "application/vnd.jupyter.widget-view+json": {
       "model_id": "7cfc056393a349ebb05d9e3c7ec7bfb6",
       "version_major": 2,
       "version_minor": 0
      },
      "text/plain": [
       "Depth 9 sub-progress:   0%|          | 0/9 [00:00<?, ?it/s]"
      ]
     },
     "metadata": {},
     "output_type": "display_data"
    },
    {
     "data": {
      "application/vnd.jupyter.widget-view+json": {
       "model_id": "517392d6e6f24913b736e5917c5ec4a4",
       "version_major": 2,
       "version_minor": 0
      },
      "text/plain": [
       "Depth 9 sub-progress:   0%|          | 0/9 [00:00<?, ?it/s]"
      ]
     },
     "metadata": {},
     "output_type": "display_data"
    },
    {
     "data": {
      "application/vnd.jupyter.widget-view+json": {
       "model_id": "2e8186ca76cf46f7b07a0c2820e363a4",
       "version_major": 2,
       "version_minor": 0
      },
      "text/plain": [
       "Depth 9 sub-progress:   0%|          | 0/9 [00:00<?, ?it/s]"
      ]
     },
     "metadata": {},
     "output_type": "display_data"
    },
    {
     "data": {
      "application/vnd.jupyter.widget-view+json": {
       "model_id": "21aa9f8d76a842fbb796574588564ecc",
       "version_major": 2,
       "version_minor": 0
      },
      "text/plain": [
       "Depth 9 sub-progress:   0%|          | 0/9 [00:00<?, ?it/s]"
      ]
     },
     "metadata": {},
     "output_type": "display_data"
    },
    {
     "data": {
      "application/vnd.jupyter.widget-view+json": {
       "model_id": "7e3be8acd34e4ff2af4e807986199981",
       "version_major": 2,
       "version_minor": 0
      },
      "text/plain": [
       "Depth 9 sub-progress:   0%|          | 0/9 [00:00<?, ?it/s]"
      ]
     },
     "metadata": {},
     "output_type": "display_data"
    },
    {
     "data": {
      "application/vnd.jupyter.widget-view+json": {
       "model_id": "10f6cdd075f1418b824ffa98be668329",
       "version_major": 2,
       "version_minor": 0
      },
      "text/plain": [
       "Depth 9 sub-progress:   0%|          | 0/9 [00:00<?, ?it/s]"
      ]
     },
     "metadata": {},
     "output_type": "display_data"
    },
    {
     "data": {
      "application/vnd.jupyter.widget-view+json": {
       "model_id": "d1d54ec2cea34a6b8c7a3c38ba05360b",
       "version_major": 2,
       "version_minor": 0
      },
      "text/plain": [
       "Depth 9 sub-progress:   0%|          | 0/9 [00:00<?, ?it/s]"
      ]
     },
     "metadata": {},
     "output_type": "display_data"
    },
    {
     "data": {
      "application/vnd.jupyter.widget-view+json": {
       "model_id": "c50d87e65b964e288552b79828185e75",
       "version_major": 2,
       "version_minor": 0
      },
      "text/plain": [
       "Depth 9 sub-progress:   0%|          | 0/9 [00:00<?, ?it/s]"
      ]
     },
     "metadata": {},
     "output_type": "display_data"
    },
    {
     "data": {
      "application/vnd.jupyter.widget-view+json": {
       "model_id": "052eeccf656a46fba7a7a4bc3b76a18a",
       "version_major": 2,
       "version_minor": 0
      },
      "text/plain": [
       "Depth 9 sub-progress:   0%|          | 0/9 [00:00<?, ?it/s]"
      ]
     },
     "metadata": {},
     "output_type": "display_data"
    },
    {
     "data": {
      "application/vnd.jupyter.widget-view+json": {
       "model_id": "76da31e8f0834936a202c01aae62cec9",
       "version_major": 2,
       "version_minor": 0
      },
      "text/plain": [
       "Depth 9 sub-progress:   0%|          | 0/9 [00:00<?, ?it/s]"
      ]
     },
     "metadata": {},
     "output_type": "display_data"
    },
    {
     "data": {
      "application/vnd.jupyter.widget-view+json": {
       "model_id": "ec5dea0f57a145b6bc7baead0275dd3d",
       "version_major": 2,
       "version_minor": 0
      },
      "text/plain": [
       "Depth 9 sub-progress:   0%|          | 0/9 [00:00<?, ?it/s]"
      ]
     },
     "metadata": {},
     "output_type": "display_data"
    },
    {
     "data": {
      "application/vnd.jupyter.widget-view+json": {
       "model_id": "1c3b646164134acfb5c538c5eb89dd53",
       "version_major": 2,
       "version_minor": 0
      },
      "text/plain": [
       "Depth 9 sub-progress:   0%|          | 0/9 [00:00<?, ?it/s]"
      ]
     },
     "metadata": {},
     "output_type": "display_data"
    },
    {
     "data": {
      "application/vnd.jupyter.widget-view+json": {
       "model_id": "eed3660044a84763825bdd71606fd47f",
       "version_major": 2,
       "version_minor": 0
      },
      "text/plain": [
       "Depth 9 sub-progress:   0%|          | 0/9 [00:00<?, ?it/s]"
      ]
     },
     "metadata": {},
     "output_type": "display_data"
    },
    {
     "data": {
      "application/vnd.jupyter.widget-view+json": {
       "model_id": "5d5681d19800426bb6a88bbed44051b7",
       "version_major": 2,
       "version_minor": 0
      },
      "text/plain": [
       "Depth 9 sub-progress:   0%|          | 0/9 [00:00<?, ?it/s]"
      ]
     },
     "metadata": {},
     "output_type": "display_data"
    },
    {
     "data": {
      "application/vnd.jupyter.widget-view+json": {
       "model_id": "a431926977f149e18088f0c4c00cdbd4",
       "version_major": 2,
       "version_minor": 0
      },
      "text/plain": [
       "Depth 9 sub-progress:   0%|          | 0/9 [00:00<?, ?it/s]"
      ]
     },
     "metadata": {},
     "output_type": "display_data"
    },
    {
     "data": {
      "application/vnd.jupyter.widget-view+json": {
       "model_id": "c3700fc1a2864b2aa0872c7b48a143c9",
       "version_major": 2,
       "version_minor": 0
      },
      "text/plain": [
       "Depth 9 sub-progress:   0%|          | 0/9 [00:00<?, ?it/s]"
      ]
     },
     "metadata": {},
     "output_type": "display_data"
    },
    {
     "data": {
      "application/vnd.jupyter.widget-view+json": {
       "model_id": "1ae926ed10ef4d44854eafa23a8c12ef",
       "version_major": 2,
       "version_minor": 0
      },
      "text/plain": [
       "Depth 9 sub-progress:   0%|          | 0/9 [00:00<?, ?it/s]"
      ]
     },
     "metadata": {},
     "output_type": "display_data"
    },
    {
     "data": {
      "application/vnd.jupyter.widget-view+json": {
       "model_id": "e762f0af124744678089e7b0974d0547",
       "version_major": 2,
       "version_minor": 0
      },
      "text/plain": [
       "Depth 9 sub-progress:   0%|          | 0/9 [00:00<?, ?it/s]"
      ]
     },
     "metadata": {},
     "output_type": "display_data"
    },
    {
     "data": {
      "application/vnd.jupyter.widget-view+json": {
       "model_id": "3ab508389c714294ac620a7fdc6653de",
       "version_major": 2,
       "version_minor": 0
      },
      "text/plain": [
       "Depth 9 sub-progress:   0%|          | 0/9 [00:00<?, ?it/s]"
      ]
     },
     "metadata": {},
     "output_type": "display_data"
    },
    {
     "data": {
      "application/vnd.jupyter.widget-view+json": {
       "model_id": "289d168625e84ef9872278dd5bab03f6",
       "version_major": 2,
       "version_minor": 0
      },
      "text/plain": [
       "Depth 9 sub-progress:   0%|          | 0/9 [00:00<?, ?it/s]"
      ]
     },
     "metadata": {},
     "output_type": "display_data"
    },
    {
     "data": {
      "application/vnd.jupyter.widget-view+json": {
       "model_id": "71edf695e55c4ba695991def0e5e0ce0",
       "version_major": 2,
       "version_minor": 0
      },
      "text/plain": [
       "Depth 9 sub-progress:   0%|          | 0/9 [00:00<?, ?it/s]"
      ]
     },
     "metadata": {},
     "output_type": "display_data"
    },
    {
     "data": {
      "application/vnd.jupyter.widget-view+json": {
       "model_id": "40289f4efd8741b4848a15247faa02b5",
       "version_major": 2,
       "version_minor": 0
      },
      "text/plain": [
       "Depth 9 sub-progress:   0%|          | 0/9 [00:00<?, ?it/s]"
      ]
     },
     "metadata": {},
     "output_type": "display_data"
    },
    {
     "data": {
      "application/vnd.jupyter.widget-view+json": {
       "model_id": "3fcffc96b4f14ae6abf072eac64a3bb9",
       "version_major": 2,
       "version_minor": 0
      },
      "text/plain": [
       "Depth 9 sub-progress:   0%|          | 0/9 [00:00<?, ?it/s]"
      ]
     },
     "metadata": {},
     "output_type": "display_data"
    },
    {
     "data": {
      "application/vnd.jupyter.widget-view+json": {
       "model_id": "5ca59e9aed4348ada2c224a71c05410d",
       "version_major": 2,
       "version_minor": 0
      },
      "text/plain": [
       "Depth 9 sub-progress:   0%|          | 0/9 [00:00<?, ?it/s]"
      ]
     },
     "metadata": {},
     "output_type": "display_data"
    },
    {
     "data": {
      "application/vnd.jupyter.widget-view+json": {
       "model_id": "c71c895ec15e4e8bb752a743052b1bf3",
       "version_major": 2,
       "version_minor": 0
      },
      "text/plain": [
       "Depth 9 sub-progress:   0%|          | 0/9 [00:00<?, ?it/s]"
      ]
     },
     "metadata": {},
     "output_type": "display_data"
    },
    {
     "data": {
      "application/vnd.jupyter.widget-view+json": {
       "model_id": "ed7bfc1dbf7a4888a9f21944a0f504ed",
       "version_major": 2,
       "version_minor": 0
      },
      "text/plain": [
       "Depth 9 sub-progress:   0%|          | 0/9 [00:00<?, ?it/s]"
      ]
     },
     "metadata": {},
     "output_type": "display_data"
    },
    {
     "data": {
      "application/vnd.jupyter.widget-view+json": {
       "model_id": "68957f83b7474ecd921c30bcb4ede1a4",
       "version_major": 2,
       "version_minor": 0
      },
      "text/plain": [
       "Depth 9 sub-progress:   0%|          | 0/9 [00:00<?, ?it/s]"
      ]
     },
     "metadata": {},
     "output_type": "display_data"
    },
    {
     "data": {
      "application/vnd.jupyter.widget-view+json": {
       "model_id": "0313af27c33946c6837c851c75b635a0",
       "version_major": 2,
       "version_minor": 0
      },
      "text/plain": [
       "Depth 9 sub-progress:   0%|          | 0/9 [00:00<?, ?it/s]"
      ]
     },
     "metadata": {},
     "output_type": "display_data"
    },
    {
     "data": {
      "application/vnd.jupyter.widget-view+json": {
       "model_id": "96ee2f0eaccc4f61bcb5781316fcda69",
       "version_major": 2,
       "version_minor": 0
      },
      "text/plain": [
       "Depth 9 sub-progress:   0%|          | 0/9 [00:00<?, ?it/s]"
      ]
     },
     "metadata": {},
     "output_type": "display_data"
    },
    {
     "data": {
      "application/vnd.jupyter.widget-view+json": {
       "model_id": "bb58a003eebc4795b74c2040bcede019",
       "version_major": 2,
       "version_minor": 0
      },
      "text/plain": [
       "Depth 9 sub-progress:   0%|          | 0/9 [00:00<?, ?it/s]"
      ]
     },
     "metadata": {},
     "output_type": "display_data"
    },
    {
     "data": {
      "application/vnd.jupyter.widget-view+json": {
       "model_id": "26daa856a18943b5b53f09eb329d0d72",
       "version_major": 2,
       "version_minor": 0
      },
      "text/plain": [
       "Depth 9 sub-progress:   0%|          | 0/9 [00:00<?, ?it/s]"
      ]
     },
     "metadata": {},
     "output_type": "display_data"
    },
    {
     "data": {
      "application/vnd.jupyter.widget-view+json": {
       "model_id": "31c048b3f3944edf996a0f3e828ec676",
       "version_major": 2,
       "version_minor": 0
      },
      "text/plain": [
       "Depth 9 sub-progress:   0%|          | 0/9 [00:00<?, ?it/s]"
      ]
     },
     "metadata": {},
     "output_type": "display_data"
    },
    {
     "data": {
      "application/vnd.jupyter.widget-view+json": {
       "model_id": "5ee0a8306a674c05961632b96abf9774",
       "version_major": 2,
       "version_minor": 0
      },
      "text/plain": [
       "Depth 9 sub-progress:   0%|          | 0/9 [00:00<?, ?it/s]"
      ]
     },
     "metadata": {},
     "output_type": "display_data"
    },
    {
     "data": {
      "application/vnd.jupyter.widget-view+json": {
       "model_id": "5bd7661fd01c4ed2875f6e765eea4e10",
       "version_major": 2,
       "version_minor": 0
      },
      "text/plain": [
       "Depth 9 sub-progress:   0%|          | 0/9 [00:00<?, ?it/s]"
      ]
     },
     "metadata": {},
     "output_type": "display_data"
    },
    {
     "data": {
      "application/vnd.jupyter.widget-view+json": {
       "model_id": "1fdbbd4abb5847f0afb0182789a4d84d",
       "version_major": 2,
       "version_minor": 0
      },
      "text/plain": [
       "Depth 9 sub-progress:   0%|          | 0/9 [00:00<?, ?it/s]"
      ]
     },
     "metadata": {},
     "output_type": "display_data"
    },
    {
     "data": {
      "application/vnd.jupyter.widget-view+json": {
       "model_id": "db5c483171ab4919a9675aa221a45ef5",
       "version_major": 2,
       "version_minor": 0
      },
      "text/plain": [
       "Depth 9 sub-progress:   0%|          | 0/9 [00:00<?, ?it/s]"
      ]
     },
     "metadata": {},
     "output_type": "display_data"
    },
    {
     "data": {
      "application/vnd.jupyter.widget-view+json": {
       "model_id": "9f96b53bcd2447a7abdbcdeaccc3c45a",
       "version_major": 2,
       "version_minor": 0
      },
      "text/plain": [
       "Depth 9 sub-progress:   0%|          | 0/9 [00:00<?, ?it/s]"
      ]
     },
     "metadata": {},
     "output_type": "display_data"
    },
    {
     "data": {
      "application/vnd.jupyter.widget-view+json": {
       "model_id": "6cf5871605e647fcad82b7da7acad7a8",
       "version_major": 2,
       "version_minor": 0
      },
      "text/plain": [
       "Depth 9 sub-progress:   0%|          | 0/9 [00:00<?, ?it/s]"
      ]
     },
     "metadata": {},
     "output_type": "display_data"
    },
    {
     "data": {
      "application/vnd.jupyter.widget-view+json": {
       "model_id": "f0d5c5aa6a90441cbfe20c70095e727b",
       "version_major": 2,
       "version_minor": 0
      },
      "text/plain": [
       "Depth 9 sub-progress:   0%|          | 0/9 [00:00<?, ?it/s]"
      ]
     },
     "metadata": {},
     "output_type": "display_data"
    },
    {
     "data": {
      "application/vnd.jupyter.widget-view+json": {
       "model_id": "365e3b463edb494faffa30171bb10b65",
       "version_major": 2,
       "version_minor": 0
      },
      "text/plain": [
       "Depth 9 sub-progress:   0%|          | 0/9 [00:00<?, ?it/s]"
      ]
     },
     "metadata": {},
     "output_type": "display_data"
    },
    {
     "data": {
      "application/vnd.jupyter.widget-view+json": {
       "model_id": "da18f1c22e674c298236bf3d38be6a64",
       "version_major": 2,
       "version_minor": 0
      },
      "text/plain": [
       "Depth 9 sub-progress:   0%|          | 0/9 [00:00<?, ?it/s]"
      ]
     },
     "metadata": {},
     "output_type": "display_data"
    },
    {
     "data": {
      "application/vnd.jupyter.widget-view+json": {
       "model_id": "4d8fa9ba84a14f938c00f1d7162e3ed8",
       "version_major": 2,
       "version_minor": 0
      },
      "text/plain": [
       "Depth 9 sub-progress:   0%|          | 0/9 [00:00<?, ?it/s]"
      ]
     },
     "metadata": {},
     "output_type": "display_data"
    },
    {
     "data": {
      "application/vnd.jupyter.widget-view+json": {
       "model_id": "d9b142dffe62471a9421874ce8d832a6",
       "version_major": 2,
       "version_minor": 0
      },
      "text/plain": [
       "Depth 9 sub-progress:   0%|          | 0/9 [00:00<?, ?it/s]"
      ]
     },
     "metadata": {},
     "output_type": "display_data"
    },
    {
     "data": {
      "application/vnd.jupyter.widget-view+json": {
       "model_id": "3a46c1de5053449faab1e1706e4bd173",
       "version_major": 2,
       "version_minor": 0
      },
      "text/plain": [
       "Depth 9 sub-progress:   0%|          | 0/9 [00:00<?, ?it/s]"
      ]
     },
     "metadata": {},
     "output_type": "display_data"
    },
    {
     "data": {
      "application/vnd.jupyter.widget-view+json": {
       "model_id": "4fc24df34c9d4c51a13caa92a4153017",
       "version_major": 2,
       "version_minor": 0
      },
      "text/plain": [
       "Depth 9 sub-progress:   0%|          | 0/9 [00:00<?, ?it/s]"
      ]
     },
     "metadata": {},
     "output_type": "display_data"
    },
    {
     "data": {
      "application/vnd.jupyter.widget-view+json": {
       "model_id": "51e2d4e23da146b6876f968776116aa1",
       "version_major": 2,
       "version_minor": 0
      },
      "text/plain": [
       "Depth 9 sub-progress:   0%|          | 0/9 [00:00<?, ?it/s]"
      ]
     },
     "metadata": {},
     "output_type": "display_data"
    },
    {
     "data": {
      "application/vnd.jupyter.widget-view+json": {
       "model_id": "75665b3644f8400fb99ffa928a7dbcd5",
       "version_major": 2,
       "version_minor": 0
      },
      "text/plain": [
       "Depth 9 sub-progress:   0%|          | 0/9 [00:00<?, ?it/s]"
      ]
     },
     "metadata": {},
     "output_type": "display_data"
    },
    {
     "data": {
      "application/vnd.jupyter.widget-view+json": {
       "model_id": "c34dbfdb83e54d24af2b687192230a1c",
       "version_major": 2,
       "version_minor": 0
      },
      "text/plain": [
       "Depth 9 sub-progress:   0%|          | 0/9 [00:00<?, ?it/s]"
      ]
     },
     "metadata": {},
     "output_type": "display_data"
    },
    {
     "data": {
      "application/vnd.jupyter.widget-view+json": {
       "model_id": "f4fb2b05520a4865aa90386f990e97e9",
       "version_major": 2,
       "version_minor": 0
      },
      "text/plain": [
       "Depth 9 sub-progress:   0%|          | 0/9 [00:00<?, ?it/s]"
      ]
     },
     "metadata": {},
     "output_type": "display_data"
    },
    {
     "data": {
      "application/vnd.jupyter.widget-view+json": {
       "model_id": "84c0354b47024f31b570b11007339814",
       "version_major": 2,
       "version_minor": 0
      },
      "text/plain": [
       "Depth 9 sub-progress:   0%|          | 0/9 [00:00<?, ?it/s]"
      ]
     },
     "metadata": {},
     "output_type": "display_data"
    },
    {
     "data": {
      "application/vnd.jupyter.widget-view+json": {
       "model_id": "d79e061f324e46029fe4fddf9ebea653",
       "version_major": 2,
       "version_minor": 0
      },
      "text/plain": [
       "Depth 9 sub-progress:   0%|          | 0/9 [00:00<?, ?it/s]"
      ]
     },
     "metadata": {},
     "output_type": "display_data"
    },
    {
     "data": {
      "application/vnd.jupyter.widget-view+json": {
       "model_id": "cdb68791d72e4f31a491ba978fd9cbe7",
       "version_major": 2,
       "version_minor": 0
      },
      "text/plain": [
       "Depth 9 sub-progress:   0%|          | 0/9 [00:00<?, ?it/s]"
      ]
     },
     "metadata": {},
     "output_type": "display_data"
    },
    {
     "data": {
      "application/vnd.jupyter.widget-view+json": {
       "model_id": "87d5c53df66e4dd588d1be20809e833b",
       "version_major": 2,
       "version_minor": 0
      },
      "text/plain": [
       "Depth 9 sub-progress:   0%|          | 0/9 [00:00<?, ?it/s]"
      ]
     },
     "metadata": {},
     "output_type": "display_data"
    },
    {
     "data": {
      "application/vnd.jupyter.widget-view+json": {
       "model_id": "0462114a145a404d89624fadbc1d2cfe",
       "version_major": 2,
       "version_minor": 0
      },
      "text/plain": [
       "Depth 9 sub-progress:   0%|          | 0/9 [00:00<?, ?it/s]"
      ]
     },
     "metadata": {},
     "output_type": "display_data"
    },
    {
     "data": {
      "application/vnd.jupyter.widget-view+json": {
       "model_id": "44b3d87766cc478d962bd1d5447c51b3",
       "version_major": 2,
       "version_minor": 0
      },
      "text/plain": [
       "Depth 9 sub-progress:   0%|          | 0/9 [00:00<?, ?it/s]"
      ]
     },
     "metadata": {},
     "output_type": "display_data"
    },
    {
     "data": {
      "application/vnd.jupyter.widget-view+json": {
       "model_id": "b679466148f744279976254a96ffb56b",
       "version_major": 2,
       "version_minor": 0
      },
      "text/plain": [
       "Depth 9 sub-progress:   0%|          | 0/9 [00:00<?, ?it/s]"
      ]
     },
     "metadata": {},
     "output_type": "display_data"
    },
    {
     "data": {
      "application/vnd.jupyter.widget-view+json": {
       "model_id": "dfd1402cc92e42ef9681c31799edae6f",
       "version_major": 2,
       "version_minor": 0
      },
      "text/plain": [
       "Depth 9 sub-progress:   0%|          | 0/9 [00:00<?, ?it/s]"
      ]
     },
     "metadata": {},
     "output_type": "display_data"
    },
    {
     "data": {
      "application/vnd.jupyter.widget-view+json": {
       "model_id": "6ee5bf7dffad4eabaa51ce6dac22bbe6",
       "version_major": 2,
       "version_minor": 0
      },
      "text/plain": [
       "Depth 9 sub-progress:   0%|          | 0/9 [00:00<?, ?it/s]"
      ]
     },
     "metadata": {},
     "output_type": "display_data"
    },
    {
     "data": {
      "application/vnd.jupyter.widget-view+json": {
       "model_id": "bd9557e4c68a4488b7ba86faf015fde4",
       "version_major": 2,
       "version_minor": 0
      },
      "text/plain": [
       "Depth 9 sub-progress:   0%|          | 0/9 [00:00<?, ?it/s]"
      ]
     },
     "metadata": {},
     "output_type": "display_data"
    },
    {
     "data": {
      "application/vnd.jupyter.widget-view+json": {
       "model_id": "4d3e406f2f534ea7add222dc8758dc0f",
       "version_major": 2,
       "version_minor": 0
      },
      "text/plain": [
       "Depth 9 sub-progress:   0%|          | 0/9 [00:00<?, ?it/s]"
      ]
     },
     "metadata": {},
     "output_type": "display_data"
    },
    {
     "data": {
      "application/vnd.jupyter.widget-view+json": {
       "model_id": "f24164f1f7874812b4025501b02bf057",
       "version_major": 2,
       "version_minor": 0
      },
      "text/plain": [
       "Depth 9 sub-progress:   0%|          | 0/9 [00:00<?, ?it/s]"
      ]
     },
     "metadata": {},
     "output_type": "display_data"
    },
    {
     "data": {
      "application/vnd.jupyter.widget-view+json": {
       "model_id": "a9319c982e424ff190ce9c160dca4b18",
       "version_major": 2,
       "version_minor": 0
      },
      "text/plain": [
       "Depth 9 sub-progress:   0%|          | 0/9 [00:00<?, ?it/s]"
      ]
     },
     "metadata": {},
     "output_type": "display_data"
    },
    {
     "data": {
      "application/vnd.jupyter.widget-view+json": {
       "model_id": "66469ee5dc80467b89b69f21ab92679f",
       "version_major": 2,
       "version_minor": 0
      },
      "text/plain": [
       "Depth 9 sub-progress:   0%|          | 0/9 [00:00<?, ?it/s]"
      ]
     },
     "metadata": {},
     "output_type": "display_data"
    },
    {
     "data": {
      "application/vnd.jupyter.widget-view+json": {
       "model_id": "2117a8f33e21414d9439009fd746bc60",
       "version_major": 2,
       "version_minor": 0
      },
      "text/plain": [
       "Depth 9 sub-progress:   0%|          | 0/9 [00:00<?, ?it/s]"
      ]
     },
     "metadata": {},
     "output_type": "display_data"
    },
    {
     "data": {
      "application/vnd.jupyter.widget-view+json": {
       "model_id": "982e2b4947fe4c4c866877ec3e3ca919",
       "version_major": 2,
       "version_minor": 0
      },
      "text/plain": [
       "Depth 9 sub-progress:   0%|          | 0/9 [00:00<?, ?it/s]"
      ]
     },
     "metadata": {},
     "output_type": "display_data"
    },
    {
     "data": {
      "application/vnd.jupyter.widget-view+json": {
       "model_id": "c549ac3e15ee452ca65dbb51bb89e8db",
       "version_major": 2,
       "version_minor": 0
      },
      "text/plain": [
       "Depth 9 sub-progress:   0%|          | 0/9 [00:00<?, ?it/s]"
      ]
     },
     "metadata": {},
     "output_type": "display_data"
    },
    {
     "data": {
      "application/vnd.jupyter.widget-view+json": {
       "model_id": "27c2b5aa2c34419ab16522b4189c5c18",
       "version_major": 2,
       "version_minor": 0
      },
      "text/plain": [
       "Depth 9 sub-progress:   0%|          | 0/9 [00:00<?, ?it/s]"
      ]
     },
     "metadata": {},
     "output_type": "display_data"
    },
    {
     "data": {
      "application/vnd.jupyter.widget-view+json": {
       "model_id": "07e21332143947a4b61089cf7533e05c",
       "version_major": 2,
       "version_minor": 0
      },
      "text/plain": [
       "Depth 9 sub-progress:   0%|          | 0/9 [00:00<?, ?it/s]"
      ]
     },
     "metadata": {},
     "output_type": "display_data"
    },
    {
     "data": {
      "application/vnd.jupyter.widget-view+json": {
       "model_id": "3f97d258e0d544ce8151b9fd1bc542bd",
       "version_major": 2,
       "version_minor": 0
      },
      "text/plain": [
       "Depth 9 sub-progress:   0%|          | 0/9 [00:00<?, ?it/s]"
      ]
     },
     "metadata": {},
     "output_type": "display_data"
    },
    {
     "data": {
      "application/vnd.jupyter.widget-view+json": {
       "model_id": "2610f11e592e4942b5b33084fd1cc531",
       "version_major": 2,
       "version_minor": 0
      },
      "text/plain": [
       "Depth 9 sub-progress:   0%|          | 0/9 [00:00<?, ?it/s]"
      ]
     },
     "metadata": {},
     "output_type": "display_data"
    },
    {
     "data": {
      "application/vnd.jupyter.widget-view+json": {
       "model_id": "de185c1fc73940d7a67be32fda2cc721",
       "version_major": 2,
       "version_minor": 0
      },
      "text/plain": [
       "Depth 9 sub-progress:   0%|          | 0/9 [00:00<?, ?it/s]"
      ]
     },
     "metadata": {},
     "output_type": "display_data"
    },
    {
     "data": {
      "application/vnd.jupyter.widget-view+json": {
       "model_id": "98f83481dcaa437f8a080c5407e4aa12",
       "version_major": 2,
       "version_minor": 0
      },
      "text/plain": [
       "Depth 9 sub-progress:   0%|          | 0/9 [00:00<?, ?it/s]"
      ]
     },
     "metadata": {},
     "output_type": "display_data"
    },
    {
     "data": {
      "application/vnd.jupyter.widget-view+json": {
       "model_id": "d0b1d016d83f4132bb847f6c059b3bd5",
       "version_major": 2,
       "version_minor": 0
      },
      "text/plain": [
       "Depth 9 sub-progress:   0%|          | 0/9 [00:00<?, ?it/s]"
      ]
     },
     "metadata": {},
     "output_type": "display_data"
    },
    {
     "data": {
      "application/vnd.jupyter.widget-view+json": {
       "model_id": "12560105d7694732b749be0643b6492e",
       "version_major": 2,
       "version_minor": 0
      },
      "text/plain": [
       "Depth 9 sub-progress:   0%|          | 0/9 [00:00<?, ?it/s]"
      ]
     },
     "metadata": {},
     "output_type": "display_data"
    },
    {
     "data": {
      "application/vnd.jupyter.widget-view+json": {
       "model_id": "83fedcd81459401aba08004ea92affc4",
       "version_major": 2,
       "version_minor": 0
      },
      "text/plain": [
       "Depth 9 sub-progress:   0%|          | 0/9 [00:00<?, ?it/s]"
      ]
     },
     "metadata": {},
     "output_type": "display_data"
    },
    {
     "data": {
      "application/vnd.jupyter.widget-view+json": {
       "model_id": "5ed84cedde3b414cbdb150e6b7550238",
       "version_major": 2,
       "version_minor": 0
      },
      "text/plain": [
       "Depth 9 sub-progress:   0%|          | 0/9 [00:00<?, ?it/s]"
      ]
     },
     "metadata": {},
     "output_type": "display_data"
    },
    {
     "data": {
      "application/vnd.jupyter.widget-view+json": {
       "model_id": "476696f56fa84a86a0962f8bfaf010b7",
       "version_major": 2,
       "version_minor": 0
      },
      "text/plain": [
       "Depth 9 sub-progress:   0%|          | 0/9 [00:00<?, ?it/s]"
      ]
     },
     "metadata": {},
     "output_type": "display_data"
    },
    {
     "data": {
      "application/vnd.jupyter.widget-view+json": {
       "model_id": "038d7bc6fb0a492699e2f37dbe05181e",
       "version_major": 2,
       "version_minor": 0
      },
      "text/plain": [
       "Depth 9 sub-progress:   0%|          | 0/9 [00:00<?, ?it/s]"
      ]
     },
     "metadata": {},
     "output_type": "display_data"
    },
    {
     "data": {
      "application/vnd.jupyter.widget-view+json": {
       "model_id": "f8c1c6fa2565420e8b50cb2b5516a839",
       "version_major": 2,
       "version_minor": 0
      },
      "text/plain": [
       "Depth 9 sub-progress:   0%|          | 0/9 [00:00<?, ?it/s]"
      ]
     },
     "metadata": {},
     "output_type": "display_data"
    },
    {
     "data": {
      "application/vnd.jupyter.widget-view+json": {
       "model_id": "ca12852be5ce41698560e2eab850125a",
       "version_major": 2,
       "version_minor": 0
      },
      "text/plain": [
       "Depth 9 sub-progress:   0%|          | 0/9 [00:00<?, ?it/s]"
      ]
     },
     "metadata": {},
     "output_type": "display_data"
    },
    {
     "data": {
      "application/vnd.jupyter.widget-view+json": {
       "model_id": "bd40f63380d644379765e152004b4b4f",
       "version_major": 2,
       "version_minor": 0
      },
      "text/plain": [
       "Depth 9 sub-progress:   0%|          | 0/9 [00:00<?, ?it/s]"
      ]
     },
     "metadata": {},
     "output_type": "display_data"
    },
    {
     "data": {
      "application/vnd.jupyter.widget-view+json": {
       "model_id": "823d9ebc8f4744fb99638492e6600792",
       "version_major": 2,
       "version_minor": 0
      },
      "text/plain": [
       "Depth 9 sub-progress:   0%|          | 0/9 [00:00<?, ?it/s]"
      ]
     },
     "metadata": {},
     "output_type": "display_data"
    },
    {
     "data": {
      "application/vnd.jupyter.widget-view+json": {
       "model_id": "9b3f083ba9d1449aa839658bce5e53c0",
       "version_major": 2,
       "version_minor": 0
      },
      "text/plain": [
       "Depth 9 sub-progress:   0%|          | 0/9 [00:00<?, ?it/s]"
      ]
     },
     "metadata": {},
     "output_type": "display_data"
    },
    {
     "data": {
      "application/vnd.jupyter.widget-view+json": {
       "model_id": "1e4e05325640450788d31836e74ff4f7",
       "version_major": 2,
       "version_minor": 0
      },
      "text/plain": [
       "Depth 9 sub-progress:   0%|          | 0/9 [00:00<?, ?it/s]"
      ]
     },
     "metadata": {},
     "output_type": "display_data"
    },
    {
     "data": {
      "application/vnd.jupyter.widget-view+json": {
       "model_id": "756ae89889434b25a803177152a68cab",
       "version_major": 2,
       "version_minor": 0
      },
      "text/plain": [
       "Depth 9 sub-progress:   0%|          | 0/9 [00:00<?, ?it/s]"
      ]
     },
     "metadata": {},
     "output_type": "display_data"
    },
    {
     "data": {
      "application/vnd.jupyter.widget-view+json": {
       "model_id": "a8dc119ea0734c81addd63f023c289a6",
       "version_major": 2,
       "version_minor": 0
      },
      "text/plain": [
       "Depth 9 sub-progress:   0%|          | 0/9 [00:00<?, ?it/s]"
      ]
     },
     "metadata": {},
     "output_type": "display_data"
    },
    {
     "data": {
      "application/vnd.jupyter.widget-view+json": {
       "model_id": "ba6dedb0527346b79eb8f1244aa2448c",
       "version_major": 2,
       "version_minor": 0
      },
      "text/plain": [
       "Depth 9 sub-progress:   0%|          | 0/9 [00:00<?, ?it/s]"
      ]
     },
     "metadata": {},
     "output_type": "display_data"
    },
    {
     "data": {
      "application/vnd.jupyter.widget-view+json": {
       "model_id": "e93aff47b14a46d79efaf7f4adbbe4e6",
       "version_major": 2,
       "version_minor": 0
      },
      "text/plain": [
       "Depth 9 sub-progress:   0%|          | 0/9 [00:00<?, ?it/s]"
      ]
     },
     "metadata": {},
     "output_type": "display_data"
    },
    {
     "data": {
      "application/vnd.jupyter.widget-view+json": {
       "model_id": "572a290167a5429c90f832956fbc826f",
       "version_major": 2,
       "version_minor": 0
      },
      "text/plain": [
       "Depth 9 sub-progress:   0%|          | 0/9 [00:00<?, ?it/s]"
      ]
     },
     "metadata": {},
     "output_type": "display_data"
    },
    {
     "data": {
      "application/vnd.jupyter.widget-view+json": {
       "model_id": "2cf4463d5e6742a996657543cffb1bdf",
       "version_major": 2,
       "version_minor": 0
      },
      "text/plain": [
       "Depth 9 sub-progress:   0%|          | 0/9 [00:00<?, ?it/s]"
      ]
     },
     "metadata": {},
     "output_type": "display_data"
    },
    {
     "data": {
      "application/vnd.jupyter.widget-view+json": {
       "model_id": "0519af2f6db34eda80055df3a7a5fe23",
       "version_major": 2,
       "version_minor": 0
      },
      "text/plain": [
       "Depth 9 sub-progress:   0%|          | 0/9 [00:00<?, ?it/s]"
      ]
     },
     "metadata": {},
     "output_type": "display_data"
    },
    {
     "data": {
      "application/vnd.jupyter.widget-view+json": {
       "model_id": "5901c7c04564438e85d224b6f978a785",
       "version_major": 2,
       "version_minor": 0
      },
      "text/plain": [
       "Depth 9 sub-progress:   0%|          | 0/9 [00:00<?, ?it/s]"
      ]
     },
     "metadata": {},
     "output_type": "display_data"
    },
    {
     "data": {
      "application/vnd.jupyter.widget-view+json": {
       "model_id": "d1a20a5c387844faa64a1ed1537ed8ab",
       "version_major": 2,
       "version_minor": 0
      },
      "text/plain": [
       "Depth 9 sub-progress:   0%|          | 0/9 [00:00<?, ?it/s]"
      ]
     },
     "metadata": {},
     "output_type": "display_data"
    },
    {
     "data": {
      "application/vnd.jupyter.widget-view+json": {
       "model_id": "46ec5120225540eb8375c044e9ce59de",
       "version_major": 2,
       "version_minor": 0
      },
      "text/plain": [
       "Depth 9 sub-progress:   0%|          | 0/9 [00:00<?, ?it/s]"
      ]
     },
     "metadata": {},
     "output_type": "display_data"
    },
    {
     "data": {
      "application/vnd.jupyter.widget-view+json": {
       "model_id": "95d1bf13b4b14e92a6362ff8c512fe02",
       "version_major": 2,
       "version_minor": 0
      },
      "text/plain": [
       "Depth 9 sub-progress:   0%|          | 0/9 [00:00<?, ?it/s]"
      ]
     },
     "metadata": {},
     "output_type": "display_data"
    },
    {
     "data": {
      "application/vnd.jupyter.widget-view+json": {
       "model_id": "024ec69a676a4959b62f71072738f101",
       "version_major": 2,
       "version_minor": 0
      },
      "text/plain": [
       "Depth 10:   0%|          | 0/1020 [00:00<?, ?it/s]"
      ]
     },
     "metadata": {},
     "output_type": "display_data"
    },
    {
     "data": {
      "application/vnd.jupyter.widget-view+json": {
       "model_id": "95bfaa85da51418989e8110db56c944e",
       "version_major": 2,
       "version_minor": 0
      },
      "text/plain": [
       "Depth 10 sub-progress:   0%|          | 0/9 [00:00<?, ?it/s]"
      ]
     },
     "metadata": {},
     "output_type": "display_data"
    },
    {
     "data": {
      "application/vnd.jupyter.widget-view+json": {
       "model_id": "69e6bace07dc4c0ea7382e11366f7bd2",
       "version_major": 2,
       "version_minor": 0
      },
      "text/plain": [
       "Depth 10 sub-progress:   0%|          | 0/9 [00:00<?, ?it/s]"
      ]
     },
     "metadata": {},
     "output_type": "display_data"
    },
    {
     "data": {
      "application/vnd.jupyter.widget-view+json": {
       "model_id": "e325f2638611484fadeea5a455fdcbdc",
       "version_major": 2,
       "version_minor": 0
      },
      "text/plain": [
       "Depth 10 sub-progress:   0%|          | 0/9 [00:00<?, ?it/s]"
      ]
     },
     "metadata": {},
     "output_type": "display_data"
    },
    {
     "data": {
      "application/vnd.jupyter.widget-view+json": {
       "model_id": "e45ea5b0443145a2a64142c06193385b",
       "version_major": 2,
       "version_minor": 0
      },
      "text/plain": [
       "Depth 10 sub-progress:   0%|          | 0/9 [00:00<?, ?it/s]"
      ]
     },
     "metadata": {},
     "output_type": "display_data"
    },
    {
     "data": {
      "application/vnd.jupyter.widget-view+json": {
       "model_id": "65479645c9454324961d50ce921aca80",
       "version_major": 2,
       "version_minor": 0
      },
      "text/plain": [
       "Depth 10 sub-progress:   0%|          | 0/9 [00:00<?, ?it/s]"
      ]
     },
     "metadata": {},
     "output_type": "display_data"
    },
    {
     "data": {
      "application/vnd.jupyter.widget-view+json": {
       "model_id": "41602b0628284e76b7bc156c3875ca60",
       "version_major": 2,
       "version_minor": 0
      },
      "text/plain": [
       "Depth 10 sub-progress:   0%|          | 0/9 [00:00<?, ?it/s]"
      ]
     },
     "metadata": {},
     "output_type": "display_data"
    },
    {
     "data": {
      "application/vnd.jupyter.widget-view+json": {
       "model_id": "3e1ed6fcedf841be9efe6c459896fe0b",
       "version_major": 2,
       "version_minor": 0
      },
      "text/plain": [
       "Depth 10 sub-progress:   0%|          | 0/9 [00:00<?, ?it/s]"
      ]
     },
     "metadata": {},
     "output_type": "display_data"
    },
    {
     "data": {
      "application/vnd.jupyter.widget-view+json": {
       "model_id": "143a8adf6ce346bfb7c2a0ceeb21d4b1",
       "version_major": 2,
       "version_minor": 0
      },
      "text/plain": [
       "Depth 10 sub-progress:   0%|          | 0/9 [00:00<?, ?it/s]"
      ]
     },
     "metadata": {},
     "output_type": "display_data"
    },
    {
     "data": {
      "application/vnd.jupyter.widget-view+json": {
       "model_id": "c0a92227b9e54ec4b3d73f0c1c400a65",
       "version_major": 2,
       "version_minor": 0
      },
      "text/plain": [
       "Depth 10 sub-progress:   0%|          | 0/9 [00:00<?, ?it/s]"
      ]
     },
     "metadata": {},
     "output_type": "display_data"
    },
    {
     "data": {
      "application/vnd.jupyter.widget-view+json": {
       "model_id": "f8c226dc0129410ea6c6ac8a586aa6a7",
       "version_major": 2,
       "version_minor": 0
      },
      "text/plain": [
       "Depth 10 sub-progress:   0%|          | 0/9 [00:00<?, ?it/s]"
      ]
     },
     "metadata": {},
     "output_type": "display_data"
    },
    {
     "data": {
      "application/vnd.jupyter.widget-view+json": {
       "model_id": "747f4783e4ab44ee986eddaed84c3d78",
       "version_major": 2,
       "version_minor": 0
      },
      "text/plain": [
       "Depth 10 sub-progress:   0%|          | 0/9 [00:00<?, ?it/s]"
      ]
     },
     "metadata": {},
     "output_type": "display_data"
    },
    {
     "data": {
      "application/vnd.jupyter.widget-view+json": {
       "model_id": "3f8f3b52ccdd4050a8fd71c9702eaf4c",
       "version_major": 2,
       "version_minor": 0
      },
      "text/plain": [
       "Depth 10 sub-progress:   0%|          | 0/9 [00:00<?, ?it/s]"
      ]
     },
     "metadata": {},
     "output_type": "display_data"
    },
    {
     "data": {
      "application/vnd.jupyter.widget-view+json": {
       "model_id": "0fc95d81955f43cfa5cb76ea59fb189c",
       "version_major": 2,
       "version_minor": 0
      },
      "text/plain": [
       "Depth 10 sub-progress:   0%|          | 0/9 [00:00<?, ?it/s]"
      ]
     },
     "metadata": {},
     "output_type": "display_data"
    },
    {
     "data": {
      "application/vnd.jupyter.widget-view+json": {
       "model_id": "e600b9e2f937469480e1cdbb9a90f6a4",
       "version_major": 2,
       "version_minor": 0
      },
      "text/plain": [
       "Depth 10 sub-progress:   0%|          | 0/9 [00:00<?, ?it/s]"
      ]
     },
     "metadata": {},
     "output_type": "display_data"
    },
    {
     "data": {
      "application/vnd.jupyter.widget-view+json": {
       "model_id": "06090496eea441e5b00659d6afb05f41",
       "version_major": 2,
       "version_minor": 0
      },
      "text/plain": [
       "Depth 10 sub-progress:   0%|          | 0/9 [00:00<?, ?it/s]"
      ]
     },
     "metadata": {},
     "output_type": "display_data"
    },
    {
     "data": {
      "application/vnd.jupyter.widget-view+json": {
       "model_id": "0263b2ab11dc484489ac23b1d3620528",
       "version_major": 2,
       "version_minor": 0
      },
      "text/plain": [
       "Depth 10 sub-progress:   0%|          | 0/9 [00:00<?, ?it/s]"
      ]
     },
     "metadata": {},
     "output_type": "display_data"
    },
    {
     "data": {
      "application/vnd.jupyter.widget-view+json": {
       "model_id": "6ed59c2bd5fb45f9b2d99594b0c7c4b6",
       "version_major": 2,
       "version_minor": 0
      },
      "text/plain": [
       "Depth 10 sub-progress:   0%|          | 0/9 [00:00<?, ?it/s]"
      ]
     },
     "metadata": {},
     "output_type": "display_data"
    },
    {
     "data": {
      "application/vnd.jupyter.widget-view+json": {
       "model_id": "09c582b3d3194081aafa878002304e61",
       "version_major": 2,
       "version_minor": 0
      },
      "text/plain": [
       "Depth 10 sub-progress:   0%|          | 0/9 [00:00<?, ?it/s]"
      ]
     },
     "metadata": {},
     "output_type": "display_data"
    },
    {
     "data": {
      "application/vnd.jupyter.widget-view+json": {
       "model_id": "0ad1be6ff62d483d9017e33c8834e1b4",
       "version_major": 2,
       "version_minor": 0
      },
      "text/plain": [
       "Depth 10 sub-progress:   0%|          | 0/9 [00:00<?, ?it/s]"
      ]
     },
     "metadata": {},
     "output_type": "display_data"
    },
    {
     "data": {
      "application/vnd.jupyter.widget-view+json": {
       "model_id": "2ca504be2eef487da59c5186b3d75db6",
       "version_major": 2,
       "version_minor": 0
      },
      "text/plain": [
       "Depth 10 sub-progress:   0%|          | 0/9 [00:00<?, ?it/s]"
      ]
     },
     "metadata": {},
     "output_type": "display_data"
    },
    {
     "data": {
      "application/vnd.jupyter.widget-view+json": {
       "model_id": "39afe11223ac4b49a4e904dbd3a05ef4",
       "version_major": 2,
       "version_minor": 0
      },
      "text/plain": [
       "Depth 10 sub-progress:   0%|          | 0/9 [00:00<?, ?it/s]"
      ]
     },
     "metadata": {},
     "output_type": "display_data"
    },
    {
     "data": {
      "application/vnd.jupyter.widget-view+json": {
       "model_id": "60a05a1c3415481f8f7c503e58622252",
       "version_major": 2,
       "version_minor": 0
      },
      "text/plain": [
       "Depth 10 sub-progress:   0%|          | 0/9 [00:00<?, ?it/s]"
      ]
     },
     "metadata": {},
     "output_type": "display_data"
    },
    {
     "data": {
      "application/vnd.jupyter.widget-view+json": {
       "model_id": "35071831fb924a86887dc2e9cc3d947d",
       "version_major": 2,
       "version_minor": 0
      },
      "text/plain": [
       "Depth 10 sub-progress:   0%|          | 0/9 [00:00<?, ?it/s]"
      ]
     },
     "metadata": {},
     "output_type": "display_data"
    },
    {
     "data": {
      "application/vnd.jupyter.widget-view+json": {
       "model_id": "50ad4b16c5564cc88f870390ec8ba150",
       "version_major": 2,
       "version_minor": 0
      },
      "text/plain": [
       "Depth 10 sub-progress:   0%|          | 0/9 [00:00<?, ?it/s]"
      ]
     },
     "metadata": {},
     "output_type": "display_data"
    },
    {
     "data": {
      "application/vnd.jupyter.widget-view+json": {
       "model_id": "9e8c3b2d808644159e43cbb17a51ea1c",
       "version_major": 2,
       "version_minor": 0
      },
      "text/plain": [
       "Depth 10 sub-progress:   0%|          | 0/9 [00:00<?, ?it/s]"
      ]
     },
     "metadata": {},
     "output_type": "display_data"
    },
    {
     "data": {
      "application/vnd.jupyter.widget-view+json": {
       "model_id": "ac23331e2e8f40d9933c0a2da4973b0d",
       "version_major": 2,
       "version_minor": 0
      },
      "text/plain": [
       "Depth 10 sub-progress:   0%|          | 0/9 [00:00<?, ?it/s]"
      ]
     },
     "metadata": {},
     "output_type": "display_data"
    },
    {
     "data": {
      "application/vnd.jupyter.widget-view+json": {
       "model_id": "0a7f3a47ad7f4695953fd1d7085f481e",
       "version_major": 2,
       "version_minor": 0
      },
      "text/plain": [
       "Depth 10 sub-progress:   0%|          | 0/9 [00:00<?, ?it/s]"
      ]
     },
     "metadata": {},
     "output_type": "display_data"
    },
    {
     "data": {
      "application/vnd.jupyter.widget-view+json": {
       "model_id": "d844444e355a4e50a57431c10ef57a9b",
       "version_major": 2,
       "version_minor": 0
      },
      "text/plain": [
       "Depth 10 sub-progress:   0%|          | 0/9 [00:00<?, ?it/s]"
      ]
     },
     "metadata": {},
     "output_type": "display_data"
    },
    {
     "data": {
      "application/vnd.jupyter.widget-view+json": {
       "model_id": "0966d6d73b8d44178adbc03128ee9550",
       "version_major": 2,
       "version_minor": 0
      },
      "text/plain": [
       "Depth 10 sub-progress:   0%|          | 0/9 [00:00<?, ?it/s]"
      ]
     },
     "metadata": {},
     "output_type": "display_data"
    },
    {
     "data": {
      "application/vnd.jupyter.widget-view+json": {
       "model_id": "9d77a0b1f5754f27a99e990bae1b106b",
       "version_major": 2,
       "version_minor": 0
      },
      "text/plain": [
       "Depth 10 sub-progress:   0%|          | 0/9 [00:00<?, ?it/s]"
      ]
     },
     "metadata": {},
     "output_type": "display_data"
    },
    {
     "data": {
      "application/vnd.jupyter.widget-view+json": {
       "model_id": "2cf7073fd04f4c7394052848867f9fca",
       "version_major": 2,
       "version_minor": 0
      },
      "text/plain": [
       "Depth 10 sub-progress:   0%|          | 0/9 [00:00<?, ?it/s]"
      ]
     },
     "metadata": {},
     "output_type": "display_data"
    },
    {
     "data": {
      "application/vnd.jupyter.widget-view+json": {
       "model_id": "13d137a40e284873a1953938ef15cb78",
       "version_major": 2,
       "version_minor": 0
      },
      "text/plain": [
       "Depth 10 sub-progress:   0%|          | 0/9 [00:00<?, ?it/s]"
      ]
     },
     "metadata": {},
     "output_type": "display_data"
    },
    {
     "data": {
      "application/vnd.jupyter.widget-view+json": {
       "model_id": "a08a1fbd3d6e403b87da0da21c6c43d0",
       "version_major": 2,
       "version_minor": 0
      },
      "text/plain": [
       "Depth 10 sub-progress:   0%|          | 0/9 [00:00<?, ?it/s]"
      ]
     },
     "metadata": {},
     "output_type": "display_data"
    },
    {
     "data": {
      "application/vnd.jupyter.widget-view+json": {
       "model_id": "5812dafaf77842849417cd8af55f4509",
       "version_major": 2,
       "version_minor": 0
      },
      "text/plain": [
       "Depth 10 sub-progress:   0%|          | 0/9 [00:00<?, ?it/s]"
      ]
     },
     "metadata": {},
     "output_type": "display_data"
    },
    {
     "data": {
      "application/vnd.jupyter.widget-view+json": {
       "model_id": "171320b73ca64645a87b0c641720e351",
       "version_major": 2,
       "version_minor": 0
      },
      "text/plain": [
       "Depth 10 sub-progress:   0%|          | 0/9 [00:00<?, ?it/s]"
      ]
     },
     "metadata": {},
     "output_type": "display_data"
    },
    {
     "data": {
      "application/vnd.jupyter.widget-view+json": {
       "model_id": "18e64bc56ee54eb0a53ceff205b9412b",
       "version_major": 2,
       "version_minor": 0
      },
      "text/plain": [
       "Depth 10 sub-progress:   0%|          | 0/9 [00:00<?, ?it/s]"
      ]
     },
     "metadata": {},
     "output_type": "display_data"
    },
    {
     "data": {
      "application/vnd.jupyter.widget-view+json": {
       "model_id": "acecd48001384876bb2a4fa426da63c5",
       "version_major": 2,
       "version_minor": 0
      },
      "text/plain": [
       "Depth 10 sub-progress:   0%|          | 0/9 [00:00<?, ?it/s]"
      ]
     },
     "metadata": {},
     "output_type": "display_data"
    },
    {
     "data": {
      "application/vnd.jupyter.widget-view+json": {
       "model_id": "4964648f977e4dffa3103604c0d82160",
       "version_major": 2,
       "version_minor": 0
      },
      "text/plain": [
       "Depth 10 sub-progress:   0%|          | 0/9 [00:00<?, ?it/s]"
      ]
     },
     "metadata": {},
     "output_type": "display_data"
    },
    {
     "data": {
      "application/vnd.jupyter.widget-view+json": {
       "model_id": "240584dcce75406fb58c38877177286d",
       "version_major": 2,
       "version_minor": 0
      },
      "text/plain": [
       "Depth 10 sub-progress:   0%|          | 0/9 [00:00<?, ?it/s]"
      ]
     },
     "metadata": {},
     "output_type": "display_data"
    },
    {
     "data": {
      "application/vnd.jupyter.widget-view+json": {
       "model_id": "86a3f5e07830408b8d6b73739701a0a9",
       "version_major": 2,
       "version_minor": 0
      },
      "text/plain": [
       "Depth 10 sub-progress:   0%|          | 0/9 [00:00<?, ?it/s]"
      ]
     },
     "metadata": {},
     "output_type": "display_data"
    },
    {
     "data": {
      "application/vnd.jupyter.widget-view+json": {
       "model_id": "1bb46222ced3406192bfcf3392d7f5f3",
       "version_major": 2,
       "version_minor": 0
      },
      "text/plain": [
       "Depth 10 sub-progress:   0%|          | 0/9 [00:00<?, ?it/s]"
      ]
     },
     "metadata": {},
     "output_type": "display_data"
    },
    {
     "data": {
      "application/vnd.jupyter.widget-view+json": {
       "model_id": "08500ca07c794ac6bf06a955cfc60624",
       "version_major": 2,
       "version_minor": 0
      },
      "text/plain": [
       "Depth 10 sub-progress:   0%|          | 0/9 [00:00<?, ?it/s]"
      ]
     },
     "metadata": {},
     "output_type": "display_data"
    },
    {
     "data": {
      "application/vnd.jupyter.widget-view+json": {
       "model_id": "94a48eb578514ff29fa484637003a09d",
       "version_major": 2,
       "version_minor": 0
      },
      "text/plain": [
       "Depth 10 sub-progress:   0%|          | 0/9 [00:00<?, ?it/s]"
      ]
     },
     "metadata": {},
     "output_type": "display_data"
    },
    {
     "data": {
      "application/vnd.jupyter.widget-view+json": {
       "model_id": "3147064470da47c6afec0a49c6192284",
       "version_major": 2,
       "version_minor": 0
      },
      "text/plain": [
       "Depth 10 sub-progress:   0%|          | 0/9 [00:00<?, ?it/s]"
      ]
     },
     "metadata": {},
     "output_type": "display_data"
    },
    {
     "data": {
      "application/vnd.jupyter.widget-view+json": {
       "model_id": "b7c82a6d227744119fe175540cd4e06f",
       "version_major": 2,
       "version_minor": 0
      },
      "text/plain": [
       "Depth 10 sub-progress:   0%|          | 0/9 [00:00<?, ?it/s]"
      ]
     },
     "metadata": {},
     "output_type": "display_data"
    },
    {
     "data": {
      "application/vnd.jupyter.widget-view+json": {
       "model_id": "e3aba80cec5c4e0bb1a05ea68a56c467",
       "version_major": 2,
       "version_minor": 0
      },
      "text/plain": [
       "Depth 10 sub-progress:   0%|          | 0/9 [00:00<?, ?it/s]"
      ]
     },
     "metadata": {},
     "output_type": "display_data"
    },
    {
     "data": {
      "application/vnd.jupyter.widget-view+json": {
       "model_id": "25e83b5175c343b2836411ff59836069",
       "version_major": 2,
       "version_minor": 0
      },
      "text/plain": [
       "Depth 10 sub-progress:   0%|          | 0/9 [00:00<?, ?it/s]"
      ]
     },
     "metadata": {},
     "output_type": "display_data"
    },
    {
     "data": {
      "application/vnd.jupyter.widget-view+json": {
       "model_id": "320fb50e8e094a96ae2d0fdf60d9f87e",
       "version_major": 2,
       "version_minor": 0
      },
      "text/plain": [
       "Depth 10 sub-progress:   0%|          | 0/9 [00:00<?, ?it/s]"
      ]
     },
     "metadata": {},
     "output_type": "display_data"
    },
    {
     "data": {
      "application/vnd.jupyter.widget-view+json": {
       "model_id": "492820f92bf34809805b724ce9067981",
       "version_major": 2,
       "version_minor": 0
      },
      "text/plain": [
       "Depth 10 sub-progress:   0%|          | 0/9 [00:00<?, ?it/s]"
      ]
     },
     "metadata": {},
     "output_type": "display_data"
    },
    {
     "data": {
      "application/vnd.jupyter.widget-view+json": {
       "model_id": "673dd8fc2875486face0f913e11a1f50",
       "version_major": 2,
       "version_minor": 0
      },
      "text/plain": [
       "Depth 10 sub-progress:   0%|          | 0/9 [00:00<?, ?it/s]"
      ]
     },
     "metadata": {},
     "output_type": "display_data"
    },
    {
     "data": {
      "application/vnd.jupyter.widget-view+json": {
       "model_id": "e4901feced3742c9ba3a9da4aea2b0f8",
       "version_major": 2,
       "version_minor": 0
      },
      "text/plain": [
       "Depth 10 sub-progress:   0%|          | 0/9 [00:00<?, ?it/s]"
      ]
     },
     "metadata": {},
     "output_type": "display_data"
    },
    {
     "data": {
      "application/vnd.jupyter.widget-view+json": {
       "model_id": "429605ff996541ebbe78d7447c48366c",
       "version_major": 2,
       "version_minor": 0
      },
      "text/plain": [
       "Depth 10 sub-progress:   0%|          | 0/9 [00:00<?, ?it/s]"
      ]
     },
     "metadata": {},
     "output_type": "display_data"
    },
    {
     "data": {
      "application/vnd.jupyter.widget-view+json": {
       "model_id": "fc72cb93a9c34ce8b01fb596781ef993",
       "version_major": 2,
       "version_minor": 0
      },
      "text/plain": [
       "Depth 10 sub-progress:   0%|          | 0/9 [00:00<?, ?it/s]"
      ]
     },
     "metadata": {},
     "output_type": "display_data"
    },
    {
     "data": {
      "application/vnd.jupyter.widget-view+json": {
       "model_id": "f6c0b965ff494e47b78c8e9b9d7adb9d",
       "version_major": 2,
       "version_minor": 0
      },
      "text/plain": [
       "Depth 10 sub-progress:   0%|          | 0/9 [00:00<?, ?it/s]"
      ]
     },
     "metadata": {},
     "output_type": "display_data"
    },
    {
     "data": {
      "application/vnd.jupyter.widget-view+json": {
       "model_id": "dee0c18d7e68467b88358be1f1bebcd4",
       "version_major": 2,
       "version_minor": 0
      },
      "text/plain": [
       "Depth 10 sub-progress:   0%|          | 0/9 [00:00<?, ?it/s]"
      ]
     },
     "metadata": {},
     "output_type": "display_data"
    },
    {
     "data": {
      "application/vnd.jupyter.widget-view+json": {
       "model_id": "c892fb9e0cb24c15bf55f33a028a3edc",
       "version_major": 2,
       "version_minor": 0
      },
      "text/plain": [
       "Depth 10 sub-progress:   0%|          | 0/9 [00:00<?, ?it/s]"
      ]
     },
     "metadata": {},
     "output_type": "display_data"
    },
    {
     "data": {
      "application/vnd.jupyter.widget-view+json": {
       "model_id": "af6309115f7f4483a56e8d5471f17b06",
       "version_major": 2,
       "version_minor": 0
      },
      "text/plain": [
       "Depth 10 sub-progress:   0%|          | 0/9 [00:00<?, ?it/s]"
      ]
     },
     "metadata": {},
     "output_type": "display_data"
    },
    {
     "data": {
      "application/vnd.jupyter.widget-view+json": {
       "model_id": "b8b52c554a0845c2a6e5768011a6095b",
       "version_major": 2,
       "version_minor": 0
      },
      "text/plain": [
       "Depth 10 sub-progress:   0%|          | 0/9 [00:00<?, ?it/s]"
      ]
     },
     "metadata": {},
     "output_type": "display_data"
    },
    {
     "data": {
      "application/vnd.jupyter.widget-view+json": {
       "model_id": "00b660311b4a4039a8eb4fd51fa454dd",
       "version_major": 2,
       "version_minor": 0
      },
      "text/plain": [
       "Depth 10 sub-progress:   0%|          | 0/9 [00:00<?, ?it/s]"
      ]
     },
     "metadata": {},
     "output_type": "display_data"
    },
    {
     "data": {
      "application/vnd.jupyter.widget-view+json": {
       "model_id": "2ddea2e533844915bc437748d3d8a9e1",
       "version_major": 2,
       "version_minor": 0
      },
      "text/plain": [
       "Depth 10 sub-progress:   0%|          | 0/9 [00:00<?, ?it/s]"
      ]
     },
     "metadata": {},
     "output_type": "display_data"
    },
    {
     "data": {
      "application/vnd.jupyter.widget-view+json": {
       "model_id": "0a72dde19e0d455e87d02be03a849673",
       "version_major": 2,
       "version_minor": 0
      },
      "text/plain": [
       "Depth 10 sub-progress:   0%|          | 0/9 [00:00<?, ?it/s]"
      ]
     },
     "metadata": {},
     "output_type": "display_data"
    },
    {
     "data": {
      "application/vnd.jupyter.widget-view+json": {
       "model_id": "d80664a1f4034dbd949bb594b34ed207",
       "version_major": 2,
       "version_minor": 0
      },
      "text/plain": [
       "Depth 10 sub-progress:   0%|          | 0/9 [00:00<?, ?it/s]"
      ]
     },
     "metadata": {},
     "output_type": "display_data"
    },
    {
     "data": {
      "application/vnd.jupyter.widget-view+json": {
       "model_id": "c1afc93634e6430badbc044eaa6ac9e3",
       "version_major": 2,
       "version_minor": 0
      },
      "text/plain": [
       "Depth 10 sub-progress:   0%|          | 0/9 [00:00<?, ?it/s]"
      ]
     },
     "metadata": {},
     "output_type": "display_data"
    },
    {
     "data": {
      "application/vnd.jupyter.widget-view+json": {
       "model_id": "646e107bda2243d3a43c1b109890479e",
       "version_major": 2,
       "version_minor": 0
      },
      "text/plain": [
       "Depth 10 sub-progress:   0%|          | 0/9 [00:00<?, ?it/s]"
      ]
     },
     "metadata": {},
     "output_type": "display_data"
    },
    {
     "data": {
      "application/vnd.jupyter.widget-view+json": {
       "model_id": "88340a4286314d74b2a23761b1392254",
       "version_major": 2,
       "version_minor": 0
      },
      "text/plain": [
       "Depth 10 sub-progress:   0%|          | 0/9 [00:00<?, ?it/s]"
      ]
     },
     "metadata": {},
     "output_type": "display_data"
    },
    {
     "data": {
      "application/vnd.jupyter.widget-view+json": {
       "model_id": "3d76049516d349bab940d4996f41ccae",
       "version_major": 2,
       "version_minor": 0
      },
      "text/plain": [
       "Depth 10 sub-progress:   0%|          | 0/9 [00:00<?, ?it/s]"
      ]
     },
     "metadata": {},
     "output_type": "display_data"
    },
    {
     "data": {
      "application/vnd.jupyter.widget-view+json": {
       "model_id": "384a5864d93b46879f884e83773ad511",
       "version_major": 2,
       "version_minor": 0
      },
      "text/plain": [
       "Depth 10 sub-progress:   0%|          | 0/9 [00:00<?, ?it/s]"
      ]
     },
     "metadata": {},
     "output_type": "display_data"
    },
    {
     "data": {
      "application/vnd.jupyter.widget-view+json": {
       "model_id": "a275da119dfb4e46b598eb369d557d39",
       "version_major": 2,
       "version_minor": 0
      },
      "text/plain": [
       "Depth 10 sub-progress:   0%|          | 0/9 [00:00<?, ?it/s]"
      ]
     },
     "metadata": {},
     "output_type": "display_data"
    },
    {
     "data": {
      "application/vnd.jupyter.widget-view+json": {
       "model_id": "7dbf48e1250b4827911c4ade4accb5aa",
       "version_major": 2,
       "version_minor": 0
      },
      "text/plain": [
       "Depth 10 sub-progress:   0%|          | 0/9 [00:00<?, ?it/s]"
      ]
     },
     "metadata": {},
     "output_type": "display_data"
    },
    {
     "data": {
      "application/vnd.jupyter.widget-view+json": {
       "model_id": "e51a1d4fa8404a04b55aceb136fb5210",
       "version_major": 2,
       "version_minor": 0
      },
      "text/plain": [
       "Depth 10 sub-progress:   0%|          | 0/9 [00:00<?, ?it/s]"
      ]
     },
     "metadata": {},
     "output_type": "display_data"
    },
    {
     "data": {
      "application/vnd.jupyter.widget-view+json": {
       "model_id": "45b9aeb0e468409a827cb1388c33b4fd",
       "version_major": 2,
       "version_minor": 0
      },
      "text/plain": [
       "Depth 10 sub-progress:   0%|          | 0/9 [00:00<?, ?it/s]"
      ]
     },
     "metadata": {},
     "output_type": "display_data"
    },
    {
     "data": {
      "application/vnd.jupyter.widget-view+json": {
       "model_id": "2c1a78a3b4af47299a76db1025ecd971",
       "version_major": 2,
       "version_minor": 0
      },
      "text/plain": [
       "Depth 10 sub-progress:   0%|          | 0/9 [00:00<?, ?it/s]"
      ]
     },
     "metadata": {},
     "output_type": "display_data"
    },
    {
     "data": {
      "application/vnd.jupyter.widget-view+json": {
       "model_id": "2af571bb8a824b38ae7d78ad175a8a18",
       "version_major": 2,
       "version_minor": 0
      },
      "text/plain": [
       "Depth 10 sub-progress:   0%|          | 0/9 [00:00<?, ?it/s]"
      ]
     },
     "metadata": {},
     "output_type": "display_data"
    },
    {
     "data": {
      "application/vnd.jupyter.widget-view+json": {
       "model_id": "2168ce77a6b74180980638599ab7fb86",
       "version_major": 2,
       "version_minor": 0
      },
      "text/plain": [
       "Depth 10 sub-progress:   0%|          | 0/9 [00:00<?, ?it/s]"
      ]
     },
     "metadata": {},
     "output_type": "display_data"
    },
    {
     "data": {
      "application/vnd.jupyter.widget-view+json": {
       "model_id": "e0793d8a65264e0ab1bd3a6138a2449c",
       "version_major": 2,
       "version_minor": 0
      },
      "text/plain": [
       "Depth 10 sub-progress:   0%|          | 0/9 [00:00<?, ?it/s]"
      ]
     },
     "metadata": {},
     "output_type": "display_data"
    },
    {
     "data": {
      "application/vnd.jupyter.widget-view+json": {
       "model_id": "8a242d673e48461e96f13031078f6227",
       "version_major": 2,
       "version_minor": 0
      },
      "text/plain": [
       "Depth 10 sub-progress:   0%|          | 0/9 [00:00<?, ?it/s]"
      ]
     },
     "metadata": {},
     "output_type": "display_data"
    },
    {
     "data": {
      "application/vnd.jupyter.widget-view+json": {
       "model_id": "aff16d6100254543bbc8c34420bcff32",
       "version_major": 2,
       "version_minor": 0
      },
      "text/plain": [
       "Depth 10 sub-progress:   0%|          | 0/9 [00:00<?, ?it/s]"
      ]
     },
     "metadata": {},
     "output_type": "display_data"
    },
    {
     "data": {
      "application/vnd.jupyter.widget-view+json": {
       "model_id": "b2dd1562bdbb417db2e821a895a6290f",
       "version_major": 2,
       "version_minor": 0
      },
      "text/plain": [
       "Depth 10 sub-progress:   0%|          | 0/9 [00:00<?, ?it/s]"
      ]
     },
     "metadata": {},
     "output_type": "display_data"
    },
    {
     "data": {
      "application/vnd.jupyter.widget-view+json": {
       "model_id": "fdf074c8491546d6997aeb54f02c4226",
       "version_major": 2,
       "version_minor": 0
      },
      "text/plain": [
       "Depth 10 sub-progress:   0%|          | 0/9 [00:00<?, ?it/s]"
      ]
     },
     "metadata": {},
     "output_type": "display_data"
    },
    {
     "data": {
      "application/vnd.jupyter.widget-view+json": {
       "model_id": "249b1e80aa2e43fc8c60f3a170710dec",
       "version_major": 2,
       "version_minor": 0
      },
      "text/plain": [
       "Depth 10 sub-progress:   0%|          | 0/9 [00:00<?, ?it/s]"
      ]
     },
     "metadata": {},
     "output_type": "display_data"
    },
    {
     "data": {
      "application/vnd.jupyter.widget-view+json": {
       "model_id": "45d3b20623534a3da307969fc0f8aad7",
       "version_major": 2,
       "version_minor": 0
      },
      "text/plain": [
       "Depth 10 sub-progress:   0%|          | 0/9 [00:00<?, ?it/s]"
      ]
     },
     "metadata": {},
     "output_type": "display_data"
    },
    {
     "data": {
      "application/vnd.jupyter.widget-view+json": {
       "model_id": "aa484b3d8bed4aed83f0bac7b74241b1",
       "version_major": 2,
       "version_minor": 0
      },
      "text/plain": [
       "Depth 10 sub-progress:   0%|          | 0/9 [00:00<?, ?it/s]"
      ]
     },
     "metadata": {},
     "output_type": "display_data"
    },
    {
     "data": {
      "application/vnd.jupyter.widget-view+json": {
       "model_id": "9328cc1bf2794a19988397da2c6c2dad",
       "version_major": 2,
       "version_minor": 0
      },
      "text/plain": [
       "Depth 10 sub-progress:   0%|          | 0/9 [00:00<?, ?it/s]"
      ]
     },
     "metadata": {},
     "output_type": "display_data"
    },
    {
     "data": {
      "application/vnd.jupyter.widget-view+json": {
       "model_id": "01a7b3cfc8cc4b749ea01f3eafe6db60",
       "version_major": 2,
       "version_minor": 0
      },
      "text/plain": [
       "Depth 10 sub-progress:   0%|          | 0/9 [00:00<?, ?it/s]"
      ]
     },
     "metadata": {},
     "output_type": "display_data"
    },
    {
     "data": {
      "application/vnd.jupyter.widget-view+json": {
       "model_id": "d02d16e11c6a45dd9539391ddc152471",
       "version_major": 2,
       "version_minor": 0
      },
      "text/plain": [
       "Depth 10 sub-progress:   0%|          | 0/9 [00:00<?, ?it/s]"
      ]
     },
     "metadata": {},
     "output_type": "display_data"
    },
    {
     "data": {
      "application/vnd.jupyter.widget-view+json": {
       "model_id": "738ae5a262164c8b802400328cca86f1",
       "version_major": 2,
       "version_minor": 0
      },
      "text/plain": [
       "Depth 10 sub-progress:   0%|          | 0/9 [00:00<?, ?it/s]"
      ]
     },
     "metadata": {},
     "output_type": "display_data"
    },
    {
     "data": {
      "application/vnd.jupyter.widget-view+json": {
       "model_id": "b19b403dd4594b6b9c4d48d7346867a7",
       "version_major": 2,
       "version_minor": 0
      },
      "text/plain": [
       "Depth 10 sub-progress:   0%|          | 0/9 [00:00<?, ?it/s]"
      ]
     },
     "metadata": {},
     "output_type": "display_data"
    },
    {
     "data": {
      "application/vnd.jupyter.widget-view+json": {
       "model_id": "29bba6217d0d415683a3871dad4af121",
       "version_major": 2,
       "version_minor": 0
      },
      "text/plain": [
       "Depth 10 sub-progress:   0%|          | 0/9 [00:00<?, ?it/s]"
      ]
     },
     "metadata": {},
     "output_type": "display_data"
    },
    {
     "data": {
      "application/vnd.jupyter.widget-view+json": {
       "model_id": "cc83bc786b384f6880c70000f1e18747",
       "version_major": 2,
       "version_minor": 0
      },
      "text/plain": [
       "Depth 10 sub-progress:   0%|          | 0/9 [00:00<?, ?it/s]"
      ]
     },
     "metadata": {},
     "output_type": "display_data"
    },
    {
     "data": {
      "application/vnd.jupyter.widget-view+json": {
       "model_id": "19ddd93486454cd0b0b87e57df6da4aa",
       "version_major": 2,
       "version_minor": 0
      },
      "text/plain": [
       "Depth 10 sub-progress:   0%|          | 0/9 [00:00<?, ?it/s]"
      ]
     },
     "metadata": {},
     "output_type": "display_data"
    },
    {
     "data": {
      "application/vnd.jupyter.widget-view+json": {
       "model_id": "52b4b9a11bd14404952eef81a20f0538",
       "version_major": 2,
       "version_minor": 0
      },
      "text/plain": [
       "Depth 10 sub-progress:   0%|          | 0/9 [00:00<?, ?it/s]"
      ]
     },
     "metadata": {},
     "output_type": "display_data"
    },
    {
     "data": {
      "application/vnd.jupyter.widget-view+json": {
       "model_id": "ad2762c540b9454483986f2f2cb26d83",
       "version_major": 2,
       "version_minor": 0
      },
      "text/plain": [
       "Depth 10 sub-progress:   0%|          | 0/9 [00:00<?, ?it/s]"
      ]
     },
     "metadata": {},
     "output_type": "display_data"
    },
    {
     "data": {
      "application/vnd.jupyter.widget-view+json": {
       "model_id": "7c98c497fe97439eacfe1beadd01c795",
       "version_major": 2,
       "version_minor": 0
      },
      "text/plain": [
       "Depth 10 sub-progress:   0%|          | 0/9 [00:00<?, ?it/s]"
      ]
     },
     "metadata": {},
     "output_type": "display_data"
    },
    {
     "data": {
      "application/vnd.jupyter.widget-view+json": {
       "model_id": "c7d8de82e1a14f89b445437f306d4a71",
       "version_major": 2,
       "version_minor": 0
      },
      "text/plain": [
       "Depth 10 sub-progress:   0%|          | 0/9 [00:00<?, ?it/s]"
      ]
     },
     "metadata": {},
     "output_type": "display_data"
    },
    {
     "data": {
      "application/vnd.jupyter.widget-view+json": {
       "model_id": "a1bfde65613845e2bba63874a6520543",
       "version_major": 2,
       "version_minor": 0
      },
      "text/plain": [
       "Depth 10 sub-progress:   0%|          | 0/9 [00:00<?, ?it/s]"
      ]
     },
     "metadata": {},
     "output_type": "display_data"
    },
    {
     "data": {
      "application/vnd.jupyter.widget-view+json": {
       "model_id": "3f578513ce6949808972cf36dbcd818e",
       "version_major": 2,
       "version_minor": 0
      },
      "text/plain": [
       "Depth 10 sub-progress:   0%|          | 0/9 [00:00<?, ?it/s]"
      ]
     },
     "metadata": {},
     "output_type": "display_data"
    },
    {
     "data": {
      "application/vnd.jupyter.widget-view+json": {
       "model_id": "f2cac472f10c4331a8575a11b085ea7c",
       "version_major": 2,
       "version_minor": 0
      },
      "text/plain": [
       "Depth 10 sub-progress:   0%|          | 0/9 [00:00<?, ?it/s]"
      ]
     },
     "metadata": {},
     "output_type": "display_data"
    },
    {
     "data": {
      "application/vnd.jupyter.widget-view+json": {
       "model_id": "3a6da3b7233545ab9511cfdf84053499",
       "version_major": 2,
       "version_minor": 0
      },
      "text/plain": [
       "Depth 10 sub-progress:   0%|          | 0/9 [00:00<?, ?it/s]"
      ]
     },
     "metadata": {},
     "output_type": "display_data"
    },
    {
     "data": {
      "application/vnd.jupyter.widget-view+json": {
       "model_id": "72aeec1d886942d98c529d570ea7d290",
       "version_major": 2,
       "version_minor": 0
      },
      "text/plain": [
       "Depth 10 sub-progress:   0%|          | 0/9 [00:00<?, ?it/s]"
      ]
     },
     "metadata": {},
     "output_type": "display_data"
    },
    {
     "data": {
      "application/vnd.jupyter.widget-view+json": {
       "model_id": "b6c5a8ddceb84297a0e45fa33dcd62ba",
       "version_major": 2,
       "version_minor": 0
      },
      "text/plain": [
       "Depth 10 sub-progress:   0%|          | 0/9 [00:00<?, ?it/s]"
      ]
     },
     "metadata": {},
     "output_type": "display_data"
    },
    {
     "data": {
      "application/vnd.jupyter.widget-view+json": {
       "model_id": "4063a5b3c6a941e08b9ace74e19cd0fe",
       "version_major": 2,
       "version_minor": 0
      },
      "text/plain": [
       "Depth 10 sub-progress:   0%|          | 0/9 [00:00<?, ?it/s]"
      ]
     },
     "metadata": {},
     "output_type": "display_data"
    },
    {
     "data": {
      "application/vnd.jupyter.widget-view+json": {
       "model_id": "5a6c8ef11f7c46c9aa1bc65df8b139b4",
       "version_major": 2,
       "version_minor": 0
      },
      "text/plain": [
       "Depth 10 sub-progress:   0%|          | 0/9 [00:00<?, ?it/s]"
      ]
     },
     "metadata": {},
     "output_type": "display_data"
    },
    {
     "data": {
      "application/vnd.jupyter.widget-view+json": {
       "model_id": "1c38474e57a04b48ae3f9b915019252a",
       "version_major": 2,
       "version_minor": 0
      },
      "text/plain": [
       "Depth 10 sub-progress:   0%|          | 0/9 [00:00<?, ?it/s]"
      ]
     },
     "metadata": {},
     "output_type": "display_data"
    },
    {
     "data": {
      "application/vnd.jupyter.widget-view+json": {
       "model_id": "91397e1cb6fc4590a822e07ddfcb6a64",
       "version_major": 2,
       "version_minor": 0
      },
      "text/plain": [
       "Depth 10 sub-progress:   0%|          | 0/9 [00:00<?, ?it/s]"
      ]
     },
     "metadata": {},
     "output_type": "display_data"
    },
    {
     "data": {
      "application/vnd.jupyter.widget-view+json": {
       "model_id": "6a7017f5d2f9444bb7c6e09c99686bc9",
       "version_major": 2,
       "version_minor": 0
      },
      "text/plain": [
       "Depth 10 sub-progress:   0%|          | 0/9 [00:00<?, ?it/s]"
      ]
     },
     "metadata": {},
     "output_type": "display_data"
    },
    {
     "data": {
      "application/vnd.jupyter.widget-view+json": {
       "model_id": "421f5512fe514bb89a8e9b696c98932f",
       "version_major": 2,
       "version_minor": 0
      },
      "text/plain": [
       "Depth 10 sub-progress:   0%|          | 0/9 [00:00<?, ?it/s]"
      ]
     },
     "metadata": {},
     "output_type": "display_data"
    },
    {
     "data": {
      "application/vnd.jupyter.widget-view+json": {
       "model_id": "4c342dfc5b9b46b3ac17d1d4de2b16e9",
       "version_major": 2,
       "version_minor": 0
      },
      "text/plain": [
       "Depth 10 sub-progress:   0%|          | 0/9 [00:00<?, ?it/s]"
      ]
     },
     "metadata": {},
     "output_type": "display_data"
    },
    {
     "data": {
      "application/vnd.jupyter.widget-view+json": {
       "model_id": "c7fe8cb26ae54ad89861626548907a1a",
       "version_major": 2,
       "version_minor": 0
      },
      "text/plain": [
       "Depth 10 sub-progress:   0%|          | 0/9 [00:00<?, ?it/s]"
      ]
     },
     "metadata": {},
     "output_type": "display_data"
    },
    {
     "data": {
      "application/vnd.jupyter.widget-view+json": {
       "model_id": "4bbe43deebb84090980a190b4347d16f",
       "version_major": 2,
       "version_minor": 0
      },
      "text/plain": [
       "Depth 10 sub-progress:   0%|          | 0/9 [00:00<?, ?it/s]"
      ]
     },
     "metadata": {},
     "output_type": "display_data"
    },
    {
     "data": {
      "application/vnd.jupyter.widget-view+json": {
       "model_id": "e5a1432da0a1435c8cebf10e4298cfe0",
       "version_major": 2,
       "version_minor": 0
      },
      "text/plain": [
       "Depth 10 sub-progress:   0%|          | 0/9 [00:00<?, ?it/s]"
      ]
     },
     "metadata": {},
     "output_type": "display_data"
    },
    {
     "data": {
      "application/vnd.jupyter.widget-view+json": {
       "model_id": "07fff1de79e1468e8a04abea9cdd2cf8",
       "version_major": 2,
       "version_minor": 0
      },
      "text/plain": [
       "Depth 10 sub-progress:   0%|          | 0/9 [00:00<?, ?it/s]"
      ]
     },
     "metadata": {},
     "output_type": "display_data"
    },
    {
     "data": {
      "application/vnd.jupyter.widget-view+json": {
       "model_id": "3d27d3b2d3ce47a18025ff4200069dea",
       "version_major": 2,
       "version_minor": 0
      },
      "text/plain": [
       "Depth 10 sub-progress:   0%|          | 0/9 [00:00<?, ?it/s]"
      ]
     },
     "metadata": {},
     "output_type": "display_data"
    },
    {
     "data": {
      "application/vnd.jupyter.widget-view+json": {
       "model_id": "6b5fc45107cc44fba699e00975c23679",
       "version_major": 2,
       "version_minor": 0
      },
      "text/plain": [
       "Depth 10 sub-progress:   0%|          | 0/9 [00:00<?, ?it/s]"
      ]
     },
     "metadata": {},
     "output_type": "display_data"
    },
    {
     "data": {
      "application/vnd.jupyter.widget-view+json": {
       "model_id": "1bdc1d9bdd5e49678d97907ca47cf491",
       "version_major": 2,
       "version_minor": 0
      },
      "text/plain": [
       "Depth 10 sub-progress:   0%|          | 0/9 [00:00<?, ?it/s]"
      ]
     },
     "metadata": {},
     "output_type": "display_data"
    },
    {
     "data": {
      "application/vnd.jupyter.widget-view+json": {
       "model_id": "c564aae0f79d45dc85493f7f27be3ced",
       "version_major": 2,
       "version_minor": 0
      },
      "text/plain": [
       "Depth 10 sub-progress:   0%|          | 0/9 [00:00<?, ?it/s]"
      ]
     },
     "metadata": {},
     "output_type": "display_data"
    },
    {
     "data": {
      "application/vnd.jupyter.widget-view+json": {
       "model_id": "adbc220d9ada40599a86d8d54e6f7d75",
       "version_major": 2,
       "version_minor": 0
      },
      "text/plain": [
       "Depth 10 sub-progress:   0%|          | 0/9 [00:00<?, ?it/s]"
      ]
     },
     "metadata": {},
     "output_type": "display_data"
    },
    {
     "data": {
      "application/vnd.jupyter.widget-view+json": {
       "model_id": "17dbde9c41b342b7ba2096a17266b689",
       "version_major": 2,
       "version_minor": 0
      },
      "text/plain": [
       "Depth 10 sub-progress:   0%|          | 0/9 [00:00<?, ?it/s]"
      ]
     },
     "metadata": {},
     "output_type": "display_data"
    },
    {
     "data": {
      "application/vnd.jupyter.widget-view+json": {
       "model_id": "44397cd24b2d41dca789030198b616b3",
       "version_major": 2,
       "version_minor": 0
      },
      "text/plain": [
       "Depth 10 sub-progress:   0%|          | 0/9 [00:00<?, ?it/s]"
      ]
     },
     "metadata": {},
     "output_type": "display_data"
    },
    {
     "data": {
      "application/vnd.jupyter.widget-view+json": {
       "model_id": "3e8e377bb05f4b44942012362a9d12d5",
       "version_major": 2,
       "version_minor": 0
      },
      "text/plain": [
       "Depth 10 sub-progress:   0%|          | 0/9 [00:00<?, ?it/s]"
      ]
     },
     "metadata": {},
     "output_type": "display_data"
    },
    {
     "data": {
      "application/vnd.jupyter.widget-view+json": {
       "model_id": "c0dbb43a3dcf448481fb3d55082c4fa0",
       "version_major": 2,
       "version_minor": 0
      },
      "text/plain": [
       "Depth 10 sub-progress:   0%|          | 0/9 [00:00<?, ?it/s]"
      ]
     },
     "metadata": {},
     "output_type": "display_data"
    },
    {
     "data": {
      "application/vnd.jupyter.widget-view+json": {
       "model_id": "5832e27ceeee43b48bcf573e67916bb7",
       "version_major": 2,
       "version_minor": 0
      },
      "text/plain": [
       "Depth 10 sub-progress:   0%|          | 0/9 [00:00<?, ?it/s]"
      ]
     },
     "metadata": {},
     "output_type": "display_data"
    },
    {
     "data": {
      "application/vnd.jupyter.widget-view+json": {
       "model_id": "b65322b50af84248b7343dcfa41351dd",
       "version_major": 2,
       "version_minor": 0
      },
      "text/plain": [
       "Depth 10 sub-progress:   0%|          | 0/9 [00:00<?, ?it/s]"
      ]
     },
     "metadata": {},
     "output_type": "display_data"
    },
    {
     "data": {
      "application/vnd.jupyter.widget-view+json": {
       "model_id": "e15567c43dca46289282a783045d4c90",
       "version_major": 2,
       "version_minor": 0
      },
      "text/plain": [
       "Depth 10 sub-progress:   0%|          | 0/9 [00:00<?, ?it/s]"
      ]
     },
     "metadata": {},
     "output_type": "display_data"
    },
    {
     "data": {
      "application/vnd.jupyter.widget-view+json": {
       "model_id": "437da688ed544953bd1368211b4fd857",
       "version_major": 2,
       "version_minor": 0
      },
      "text/plain": [
       "Depth 10 sub-progress:   0%|          | 0/9 [00:00<?, ?it/s]"
      ]
     },
     "metadata": {},
     "output_type": "display_data"
    },
    {
     "data": {
      "application/vnd.jupyter.widget-view+json": {
       "model_id": "5c490c8676a34f7b98ad8da40ac75152",
       "version_major": 2,
       "version_minor": 0
      },
      "text/plain": [
       "Depth 10 sub-progress:   0%|          | 0/9 [00:00<?, ?it/s]"
      ]
     },
     "metadata": {},
     "output_type": "display_data"
    },
    {
     "data": {
      "application/vnd.jupyter.widget-view+json": {
       "model_id": "652eb80825e54c9386bba4cc15ffd70f",
       "version_major": 2,
       "version_minor": 0
      },
      "text/plain": [
       "Depth 10 sub-progress:   0%|          | 0/9 [00:00<?, ?it/s]"
      ]
     },
     "metadata": {},
     "output_type": "display_data"
    },
    {
     "data": {
      "application/vnd.jupyter.widget-view+json": {
       "model_id": "bb72d26015fd4b3f96463224ba722dcc",
       "version_major": 2,
       "version_minor": 0
      },
      "text/plain": [
       "Depth 10 sub-progress:   0%|          | 0/9 [00:00<?, ?it/s]"
      ]
     },
     "metadata": {},
     "output_type": "display_data"
    },
    {
     "data": {
      "application/vnd.jupyter.widget-view+json": {
       "model_id": "2212e13c238a4bf98c2cd846ea598694",
       "version_major": 2,
       "version_minor": 0
      },
      "text/plain": [
       "Depth 10 sub-progress:   0%|          | 0/9 [00:00<?, ?it/s]"
      ]
     },
     "metadata": {},
     "output_type": "display_data"
    },
    {
     "data": {
      "application/vnd.jupyter.widget-view+json": {
       "model_id": "a7644086e87a4392ba22679e275b1f9b",
       "version_major": 2,
       "version_minor": 0
      },
      "text/plain": [
       "Depth 10 sub-progress:   0%|          | 0/9 [00:00<?, ?it/s]"
      ]
     },
     "metadata": {},
     "output_type": "display_data"
    },
    {
     "data": {
      "application/vnd.jupyter.widget-view+json": {
       "model_id": "d93e7f6e3f23471da9c0c8519db93162",
       "version_major": 2,
       "version_minor": 0
      },
      "text/plain": [
       "Depth 10 sub-progress:   0%|          | 0/9 [00:00<?, ?it/s]"
      ]
     },
     "metadata": {},
     "output_type": "display_data"
    },
    {
     "data": {
      "application/vnd.jupyter.widget-view+json": {
       "model_id": "d588b3b1216447e4940fcf4e06c6e3c1",
       "version_major": 2,
       "version_minor": 0
      },
      "text/plain": [
       "Depth 10 sub-progress:   0%|          | 0/9 [00:00<?, ?it/s]"
      ]
     },
     "metadata": {},
     "output_type": "display_data"
    },
    {
     "data": {
      "application/vnd.jupyter.widget-view+json": {
       "model_id": "9dfeb635691045f69ce5f8501a22f36f",
       "version_major": 2,
       "version_minor": 0
      },
      "text/plain": [
       "Depth 10 sub-progress:   0%|          | 0/9 [00:00<?, ?it/s]"
      ]
     },
     "metadata": {},
     "output_type": "display_data"
    },
    {
     "data": {
      "application/vnd.jupyter.widget-view+json": {
       "model_id": "a197bb35eb4a4aacb6c974ab83a63ded",
       "version_major": 2,
       "version_minor": 0
      },
      "text/plain": [
       "Depth 10 sub-progress:   0%|          | 0/9 [00:00<?, ?it/s]"
      ]
     },
     "metadata": {},
     "output_type": "display_data"
    },
    {
     "data": {
      "application/vnd.jupyter.widget-view+json": {
       "model_id": "ab00cb5e750143abb9a00a48f720dbc5",
       "version_major": 2,
       "version_minor": 0
      },
      "text/plain": [
       "Depth 10 sub-progress:   0%|          | 0/9 [00:00<?, ?it/s]"
      ]
     },
     "metadata": {},
     "output_type": "display_data"
    },
    {
     "data": {
      "application/vnd.jupyter.widget-view+json": {
       "model_id": "ef89341942ed4331b09339bc80decdbf",
       "version_major": 2,
       "version_minor": 0
      },
      "text/plain": [
       "Depth 10 sub-progress:   0%|          | 0/9 [00:00<?, ?it/s]"
      ]
     },
     "metadata": {},
     "output_type": "display_data"
    },
    {
     "data": {
      "application/vnd.jupyter.widget-view+json": {
       "model_id": "3857ceb9068449c4b3d482e938c70a73",
       "version_major": 2,
       "version_minor": 0
      },
      "text/plain": [
       "Depth 10 sub-progress:   0%|          | 0/9 [00:00<?, ?it/s]"
      ]
     },
     "metadata": {},
     "output_type": "display_data"
    },
    {
     "data": {
      "application/vnd.jupyter.widget-view+json": {
       "model_id": "10f52340a20d4a9f84b7647bd4c8f12d",
       "version_major": 2,
       "version_minor": 0
      },
      "text/plain": [
       "Depth 10 sub-progress:   0%|          | 0/9 [00:00<?, ?it/s]"
      ]
     },
     "metadata": {},
     "output_type": "display_data"
    },
    {
     "data": {
      "application/vnd.jupyter.widget-view+json": {
       "model_id": "1c668f3c64ed465590965ba51ab68c09",
       "version_major": 2,
       "version_minor": 0
      },
      "text/plain": [
       "Depth 10 sub-progress:   0%|          | 0/9 [00:00<?, ?it/s]"
      ]
     },
     "metadata": {},
     "output_type": "display_data"
    },
    {
     "data": {
      "application/vnd.jupyter.widget-view+json": {
       "model_id": "988129320cce47cc93c3fc8462b037d4",
       "version_major": 2,
       "version_minor": 0
      },
      "text/plain": [
       "Depth 10 sub-progress:   0%|          | 0/9 [00:00<?, ?it/s]"
      ]
     },
     "metadata": {},
     "output_type": "display_data"
    },
    {
     "data": {
      "application/vnd.jupyter.widget-view+json": {
       "model_id": "c4d3f7239f064aa79ee577836125a3b6",
       "version_major": 2,
       "version_minor": 0
      },
      "text/plain": [
       "Depth 10 sub-progress:   0%|          | 0/9 [00:00<?, ?it/s]"
      ]
     },
     "metadata": {},
     "output_type": "display_data"
    },
    {
     "data": {
      "application/vnd.jupyter.widget-view+json": {
       "model_id": "d5831aea974747e5a973892c865d857b",
       "version_major": 2,
       "version_minor": 0
      },
      "text/plain": [
       "Depth 10 sub-progress:   0%|          | 0/9 [00:00<?, ?it/s]"
      ]
     },
     "metadata": {},
     "output_type": "display_data"
    },
    {
     "data": {
      "application/vnd.jupyter.widget-view+json": {
       "model_id": "6a0cea452cf343d39f2431236e8a448f",
       "version_major": 2,
       "version_minor": 0
      },
      "text/plain": [
       "Depth 10 sub-progress:   0%|          | 0/9 [00:00<?, ?it/s]"
      ]
     },
     "metadata": {},
     "output_type": "display_data"
    },
    {
     "data": {
      "application/vnd.jupyter.widget-view+json": {
       "model_id": "37ccc91fa4544866ba2e36100906525a",
       "version_major": 2,
       "version_minor": 0
      },
      "text/plain": [
       "Depth 10 sub-progress:   0%|          | 0/9 [00:00<?, ?it/s]"
      ]
     },
     "metadata": {},
     "output_type": "display_data"
    },
    {
     "data": {
      "application/vnd.jupyter.widget-view+json": {
       "model_id": "aaef039bc9d446d4af5e8df4de7bdb5e",
       "version_major": 2,
       "version_minor": 0
      },
      "text/plain": [
       "Depth 10 sub-progress:   0%|          | 0/9 [00:00<?, ?it/s]"
      ]
     },
     "metadata": {},
     "output_type": "display_data"
    },
    {
     "data": {
      "application/vnd.jupyter.widget-view+json": {
       "model_id": "3ee54fad6e174b86be3e14003e6d3907",
       "version_major": 2,
       "version_minor": 0
      },
      "text/plain": [
       "Depth 10 sub-progress:   0%|          | 0/9 [00:00<?, ?it/s]"
      ]
     },
     "metadata": {},
     "output_type": "display_data"
    },
    {
     "data": {
      "application/vnd.jupyter.widget-view+json": {
       "model_id": "0b1fcc29f18f453989423217ad07d776",
       "version_major": 2,
       "version_minor": 0
      },
      "text/plain": [
       "Depth 10 sub-progress:   0%|          | 0/9 [00:00<?, ?it/s]"
      ]
     },
     "metadata": {},
     "output_type": "display_data"
    },
    {
     "data": {
      "application/vnd.jupyter.widget-view+json": {
       "model_id": "5bdc991eac614d208e0093a5188202c5",
       "version_major": 2,
       "version_minor": 0
      },
      "text/plain": [
       "Depth 10 sub-progress:   0%|          | 0/9 [00:00<?, ?it/s]"
      ]
     },
     "metadata": {},
     "output_type": "display_data"
    },
    {
     "data": {
      "application/vnd.jupyter.widget-view+json": {
       "model_id": "645a759ef5da47aebcfdb5ad31c3190e",
       "version_major": 2,
       "version_minor": 0
      },
      "text/plain": [
       "Depth 10 sub-progress:   0%|          | 0/9 [00:00<?, ?it/s]"
      ]
     },
     "metadata": {},
     "output_type": "display_data"
    },
    {
     "data": {
      "application/vnd.jupyter.widget-view+json": {
       "model_id": "4ce47f87ede34fe6a1ab63edbece1b2b",
       "version_major": 2,
       "version_minor": 0
      },
      "text/plain": [
       "Depth 10 sub-progress:   0%|          | 0/9 [00:00<?, ?it/s]"
      ]
     },
     "metadata": {},
     "output_type": "display_data"
    },
    {
     "data": {
      "application/vnd.jupyter.widget-view+json": {
       "model_id": "71a85ee037104189a7992a1272353033",
       "version_major": 2,
       "version_minor": 0
      },
      "text/plain": [
       "Depth 10 sub-progress:   0%|          | 0/9 [00:00<?, ?it/s]"
      ]
     },
     "metadata": {},
     "output_type": "display_data"
    },
    {
     "data": {
      "application/vnd.jupyter.widget-view+json": {
       "model_id": "bd49824f20ab4704acea3522b6cb34c8",
       "version_major": 2,
       "version_minor": 0
      },
      "text/plain": [
       "Depth 10 sub-progress:   0%|          | 0/9 [00:00<?, ?it/s]"
      ]
     },
     "metadata": {},
     "output_type": "display_data"
    },
    {
     "data": {
      "application/vnd.jupyter.widget-view+json": {
       "model_id": "42a4000f849c4e15803b5c9c6e8e3f43",
       "version_major": 2,
       "version_minor": 0
      },
      "text/plain": [
       "Depth 10 sub-progress:   0%|          | 0/9 [00:00<?, ?it/s]"
      ]
     },
     "metadata": {},
     "output_type": "display_data"
    },
    {
     "data": {
      "application/vnd.jupyter.widget-view+json": {
       "model_id": "d6046c815d8e4400b82b902a34e54dba",
       "version_major": 2,
       "version_minor": 0
      },
      "text/plain": [
       "Depth 10 sub-progress:   0%|          | 0/9 [00:00<?, ?it/s]"
      ]
     },
     "metadata": {},
     "output_type": "display_data"
    },
    {
     "data": {
      "application/vnd.jupyter.widget-view+json": {
       "model_id": "db6a4e3f2c064c79bfbfbb6f38608f80",
       "version_major": 2,
       "version_minor": 0
      },
      "text/plain": [
       "Depth 10 sub-progress:   0%|          | 0/9 [00:00<?, ?it/s]"
      ]
     },
     "metadata": {},
     "output_type": "display_data"
    },
    {
     "data": {
      "application/vnd.jupyter.widget-view+json": {
       "model_id": "05438304024240f28953ca90cac39e0a",
       "version_major": 2,
       "version_minor": 0
      },
      "text/plain": [
       "Depth 10 sub-progress:   0%|          | 0/9 [00:00<?, ?it/s]"
      ]
     },
     "metadata": {},
     "output_type": "display_data"
    },
    {
     "data": {
      "application/vnd.jupyter.widget-view+json": {
       "model_id": "8315d209c6444f45b95dd0533bae51b0",
       "version_major": 2,
       "version_minor": 0
      },
      "text/plain": [
       "Depth 10 sub-progress:   0%|          | 0/9 [00:00<?, ?it/s]"
      ]
     },
     "metadata": {},
     "output_type": "display_data"
    },
    {
     "data": {
      "application/vnd.jupyter.widget-view+json": {
       "model_id": "aa5a5a539e86442582564ccd6c3e4eec",
       "version_major": 2,
       "version_minor": 0
      },
      "text/plain": [
       "Depth 10 sub-progress:   0%|          | 0/9 [00:00<?, ?it/s]"
      ]
     },
     "metadata": {},
     "output_type": "display_data"
    },
    {
     "data": {
      "application/vnd.jupyter.widget-view+json": {
       "model_id": "d49c74ad9cf04d499504f5a7b4d48f80",
       "version_major": 2,
       "version_minor": 0
      },
      "text/plain": [
       "Depth 10 sub-progress:   0%|          | 0/9 [00:00<?, ?it/s]"
      ]
     },
     "metadata": {},
     "output_type": "display_data"
    },
    {
     "data": {
      "application/vnd.jupyter.widget-view+json": {
       "model_id": "5361782745134b29a38b2d71e38c8718",
       "version_major": 2,
       "version_minor": 0
      },
      "text/plain": [
       "Depth 10 sub-progress:   0%|          | 0/9 [00:00<?, ?it/s]"
      ]
     },
     "metadata": {},
     "output_type": "display_data"
    },
    {
     "data": {
      "application/vnd.jupyter.widget-view+json": {
       "model_id": "a1ad1936d62642d093d96cd050ddbf00",
       "version_major": 2,
       "version_minor": 0
      },
      "text/plain": [
       "Depth 10 sub-progress:   0%|          | 0/9 [00:00<?, ?it/s]"
      ]
     },
     "metadata": {},
     "output_type": "display_data"
    },
    {
     "data": {
      "application/vnd.jupyter.widget-view+json": {
       "model_id": "6385a91fc4304f7eb8e9667046b5fe07",
       "version_major": 2,
       "version_minor": 0
      },
      "text/plain": [
       "Depth 10 sub-progress:   0%|          | 0/9 [00:00<?, ?it/s]"
      ]
     },
     "metadata": {},
     "output_type": "display_data"
    },
    {
     "data": {
      "application/vnd.jupyter.widget-view+json": {
       "model_id": "9c1c0965c67d432ea8777df63b4566b4",
       "version_major": 2,
       "version_minor": 0
      },
      "text/plain": [
       "Depth 10 sub-progress:   0%|          | 0/9 [00:00<?, ?it/s]"
      ]
     },
     "metadata": {},
     "output_type": "display_data"
    },
    {
     "data": {
      "application/vnd.jupyter.widget-view+json": {
       "model_id": "664fc65f70814eb3b00638202bbbdd7a",
       "version_major": 2,
       "version_minor": 0
      },
      "text/plain": [
       "Depth 10 sub-progress:   0%|          | 0/9 [00:00<?, ?it/s]"
      ]
     },
     "metadata": {},
     "output_type": "display_data"
    },
    {
     "data": {
      "application/vnd.jupyter.widget-view+json": {
       "model_id": "7d1d1d9a063a4b5f8a908e5d01d90b78",
       "version_major": 2,
       "version_minor": 0
      },
      "text/plain": [
       "Depth 10 sub-progress:   0%|          | 0/9 [00:00<?, ?it/s]"
      ]
     },
     "metadata": {},
     "output_type": "display_data"
    },
    {
     "data": {
      "application/vnd.jupyter.widget-view+json": {
       "model_id": "9fa77594f44d4535afdec344fbc52e7e",
       "version_major": 2,
       "version_minor": 0
      },
      "text/plain": [
       "Depth 10 sub-progress:   0%|          | 0/9 [00:00<?, ?it/s]"
      ]
     },
     "metadata": {},
     "output_type": "display_data"
    },
    {
     "data": {
      "application/vnd.jupyter.widget-view+json": {
       "model_id": "76cf5dbe87d84dd1894850d5d3c38917",
       "version_major": 2,
       "version_minor": 0
      },
      "text/plain": [
       "Depth 10 sub-progress:   0%|          | 0/9 [00:00<?, ?it/s]"
      ]
     },
     "metadata": {},
     "output_type": "display_data"
    },
    {
     "data": {
      "application/vnd.jupyter.widget-view+json": {
       "model_id": "5dbf1b02d6104bde85b38ebfd5544aab",
       "version_major": 2,
       "version_minor": 0
      },
      "text/plain": [
       "Depth 10 sub-progress:   0%|          | 0/9 [00:00<?, ?it/s]"
      ]
     },
     "metadata": {},
     "output_type": "display_data"
    },
    {
     "data": {
      "application/vnd.jupyter.widget-view+json": {
       "model_id": "5ca630ec13f1440fb35ac269d1dcd480",
       "version_major": 2,
       "version_minor": 0
      },
      "text/plain": [
       "Depth 10 sub-progress:   0%|          | 0/9 [00:00<?, ?it/s]"
      ]
     },
     "metadata": {},
     "output_type": "display_data"
    },
    {
     "data": {
      "application/vnd.jupyter.widget-view+json": {
       "model_id": "9ac170590f704846b49945ceccbe6664",
       "version_major": 2,
       "version_minor": 0
      },
      "text/plain": [
       "Depth 10 sub-progress:   0%|          | 0/9 [00:00<?, ?it/s]"
      ]
     },
     "metadata": {},
     "output_type": "display_data"
    },
    {
     "data": {
      "application/vnd.jupyter.widget-view+json": {
       "model_id": "225ffb12007f4f2abdb635156c95f375",
       "version_major": 2,
       "version_minor": 0
      },
      "text/plain": [
       "Depth 10 sub-progress:   0%|          | 0/9 [00:00<?, ?it/s]"
      ]
     },
     "metadata": {},
     "output_type": "display_data"
    },
    {
     "data": {
      "application/vnd.jupyter.widget-view+json": {
       "model_id": "fbcb0f80747e411eabf6147d44504763",
       "version_major": 2,
       "version_minor": 0
      },
      "text/plain": [
       "Depth 10 sub-progress:   0%|          | 0/9 [00:00<?, ?it/s]"
      ]
     },
     "metadata": {},
     "output_type": "display_data"
    },
    {
     "data": {
      "application/vnd.jupyter.widget-view+json": {
       "model_id": "eaafeb4fd6c54520a7ea2257e606c58a",
       "version_major": 2,
       "version_minor": 0
      },
      "text/plain": [
       "Depth 10 sub-progress:   0%|          | 0/9 [00:00<?, ?it/s]"
      ]
     },
     "metadata": {},
     "output_type": "display_data"
    },
    {
     "data": {
      "application/vnd.jupyter.widget-view+json": {
       "model_id": "03a2bddebcc04494bf74867dc421a8a7",
       "version_major": 2,
       "version_minor": 0
      },
      "text/plain": [
       "Depth 10 sub-progress:   0%|          | 0/9 [00:00<?, ?it/s]"
      ]
     },
     "metadata": {},
     "output_type": "display_data"
    },
    {
     "data": {
      "application/vnd.jupyter.widget-view+json": {
       "model_id": "656b3f4cc17e4b219a1f16f2c389cfff",
       "version_major": 2,
       "version_minor": 0
      },
      "text/plain": [
       "Depth 10 sub-progress:   0%|          | 0/9 [00:00<?, ?it/s]"
      ]
     },
     "metadata": {},
     "output_type": "display_data"
    },
    {
     "data": {
      "application/vnd.jupyter.widget-view+json": {
       "model_id": "4d577aa3c264490cb971f9952af01ff5",
       "version_major": 2,
       "version_minor": 0
      },
      "text/plain": [
       "Depth 10 sub-progress:   0%|          | 0/9 [00:00<?, ?it/s]"
      ]
     },
     "metadata": {},
     "output_type": "display_data"
    },
    {
     "data": {
      "application/vnd.jupyter.widget-view+json": {
       "model_id": "84793dc340a345a88cbb67016854a0bd",
       "version_major": 2,
       "version_minor": 0
      },
      "text/plain": [
       "Depth 10 sub-progress:   0%|          | 0/9 [00:00<?, ?it/s]"
      ]
     },
     "metadata": {},
     "output_type": "display_data"
    },
    {
     "data": {
      "application/vnd.jupyter.widget-view+json": {
       "model_id": "c4b5077172424501849fdf2b0c7ce210",
       "version_major": 2,
       "version_minor": 0
      },
      "text/plain": [
       "Depth 10 sub-progress:   0%|          | 0/9 [00:00<?, ?it/s]"
      ]
     },
     "metadata": {},
     "output_type": "display_data"
    },
    {
     "data": {
      "application/vnd.jupyter.widget-view+json": {
       "model_id": "155ad295498c4d91aba5dc45e2c433a1",
       "version_major": 2,
       "version_minor": 0
      },
      "text/plain": [
       "Depth 10 sub-progress:   0%|          | 0/9 [00:00<?, ?it/s]"
      ]
     },
     "metadata": {},
     "output_type": "display_data"
    },
    {
     "data": {
      "application/vnd.jupyter.widget-view+json": {
       "model_id": "02c70648857d4a88834488a623728f51",
       "version_major": 2,
       "version_minor": 0
      },
      "text/plain": [
       "Depth 10 sub-progress:   0%|          | 0/9 [00:00<?, ?it/s]"
      ]
     },
     "metadata": {},
     "output_type": "display_data"
    },
    {
     "data": {
      "application/vnd.jupyter.widget-view+json": {
       "model_id": "8caa3b5d09944a8e97cd6cc3f8e2a77f",
       "version_major": 2,
       "version_minor": 0
      },
      "text/plain": [
       "Depth 10 sub-progress:   0%|          | 0/9 [00:00<?, ?it/s]"
      ]
     },
     "metadata": {},
     "output_type": "display_data"
    },
    {
     "data": {
      "application/vnd.jupyter.widget-view+json": {
       "model_id": "9a3a4466aca04829a55bfed93a9a8bb7",
       "version_major": 2,
       "version_minor": 0
      },
      "text/plain": [
       "Depth 10 sub-progress:   0%|          | 0/9 [00:00<?, ?it/s]"
      ]
     },
     "metadata": {},
     "output_type": "display_data"
    },
    {
     "data": {
      "application/vnd.jupyter.widget-view+json": {
       "model_id": "35e6f85504b4496ba5c2d5d9c4728b65",
       "version_major": 2,
       "version_minor": 0
      },
      "text/plain": [
       "Depth 10 sub-progress:   0%|          | 0/9 [00:00<?, ?it/s]"
      ]
     },
     "metadata": {},
     "output_type": "display_data"
    },
    {
     "data": {
      "application/vnd.jupyter.widget-view+json": {
       "model_id": "0d1686d6a6044b88bc7eab2afb0ebd6a",
       "version_major": 2,
       "version_minor": 0
      },
      "text/plain": [
       "Depth 10 sub-progress:   0%|          | 0/9 [00:00<?, ?it/s]"
      ]
     },
     "metadata": {},
     "output_type": "display_data"
    },
    {
     "data": {
      "application/vnd.jupyter.widget-view+json": {
       "model_id": "2d9bbb5ca0344358b284a17e88aa9893",
       "version_major": 2,
       "version_minor": 0
      },
      "text/plain": [
       "Depth 10 sub-progress:   0%|          | 0/9 [00:00<?, ?it/s]"
      ]
     },
     "metadata": {},
     "output_type": "display_data"
    },
    {
     "data": {
      "application/vnd.jupyter.widget-view+json": {
       "model_id": "7102947681ca4b32b859d9f937e48c04",
       "version_major": 2,
       "version_minor": 0
      },
      "text/plain": [
       "Depth 10 sub-progress:   0%|          | 0/9 [00:00<?, ?it/s]"
      ]
     },
     "metadata": {},
     "output_type": "display_data"
    },
    {
     "data": {
      "application/vnd.jupyter.widget-view+json": {
       "model_id": "031160c6f13642348d2e6cadf940439c",
       "version_major": 2,
       "version_minor": 0
      },
      "text/plain": [
       "Depth 10 sub-progress:   0%|          | 0/9 [00:00<?, ?it/s]"
      ]
     },
     "metadata": {},
     "output_type": "display_data"
    },
    {
     "data": {
      "application/vnd.jupyter.widget-view+json": {
       "model_id": "9b4fe26402284efe8af6714d3be7ae13",
       "version_major": 2,
       "version_minor": 0
      },
      "text/plain": [
       "Depth 10 sub-progress:   0%|          | 0/9 [00:00<?, ?it/s]"
      ]
     },
     "metadata": {},
     "output_type": "display_data"
    },
    {
     "data": {
      "application/vnd.jupyter.widget-view+json": {
       "model_id": "2a320a3ae9bf42fa85f340b1c5643d32",
       "version_major": 2,
       "version_minor": 0
      },
      "text/plain": [
       "Depth 10 sub-progress:   0%|          | 0/9 [00:00<?, ?it/s]"
      ]
     },
     "metadata": {},
     "output_type": "display_data"
    },
    {
     "data": {
      "application/vnd.jupyter.widget-view+json": {
       "model_id": "f78488f6d8e342f38e7008024e8897f1",
       "version_major": 2,
       "version_minor": 0
      },
      "text/plain": [
       "Depth 10 sub-progress:   0%|          | 0/9 [00:00<?, ?it/s]"
      ]
     },
     "metadata": {},
     "output_type": "display_data"
    },
    {
     "data": {
      "application/vnd.jupyter.widget-view+json": {
       "model_id": "9491234ac14a4912b3438c9645c98946",
       "version_major": 2,
       "version_minor": 0
      },
      "text/plain": [
       "Depth 10 sub-progress:   0%|          | 0/9 [00:00<?, ?it/s]"
      ]
     },
     "metadata": {},
     "output_type": "display_data"
    },
    {
     "data": {
      "application/vnd.jupyter.widget-view+json": {
       "model_id": "bda420f435464462a7a5670fd47e1aa2",
       "version_major": 2,
       "version_minor": 0
      },
      "text/plain": [
       "Depth 10 sub-progress:   0%|          | 0/9 [00:00<?, ?it/s]"
      ]
     },
     "metadata": {},
     "output_type": "display_data"
    },
    {
     "data": {
      "application/vnd.jupyter.widget-view+json": {
       "model_id": "bde184cbf058420bb48c0386917d3c46",
       "version_major": 2,
       "version_minor": 0
      },
      "text/plain": [
       "Depth 10 sub-progress:   0%|          | 0/9 [00:00<?, ?it/s]"
      ]
     },
     "metadata": {},
     "output_type": "display_data"
    },
    {
     "data": {
      "application/vnd.jupyter.widget-view+json": {
       "model_id": "113e653dd0284e89b84d16470a9432a5",
       "version_major": 2,
       "version_minor": 0
      },
      "text/plain": [
       "Depth 10 sub-progress:   0%|          | 0/9 [00:00<?, ?it/s]"
      ]
     },
     "metadata": {},
     "output_type": "display_data"
    },
    {
     "data": {
      "application/vnd.jupyter.widget-view+json": {
       "model_id": "db9854cbe9874ab78d6b4f4bd939c4fe",
       "version_major": 2,
       "version_minor": 0
      },
      "text/plain": [
       "Depth 10 sub-progress:   0%|          | 0/9 [00:00<?, ?it/s]"
      ]
     },
     "metadata": {},
     "output_type": "display_data"
    },
    {
     "data": {
      "application/vnd.jupyter.widget-view+json": {
       "model_id": "5b6ee56b52c74e01a6ce2dfcd2c54804",
       "version_major": 2,
       "version_minor": 0
      },
      "text/plain": [
       "Depth 10 sub-progress:   0%|          | 0/9 [00:00<?, ?it/s]"
      ]
     },
     "metadata": {},
     "output_type": "display_data"
    },
    {
     "data": {
      "application/vnd.jupyter.widget-view+json": {
       "model_id": "eb707dfd6a2c47cd98f7293a556e5d6c",
       "version_major": 2,
       "version_minor": 0
      },
      "text/plain": [
       "Depth 10 sub-progress:   0%|          | 0/9 [00:00<?, ?it/s]"
      ]
     },
     "metadata": {},
     "output_type": "display_data"
    },
    {
     "data": {
      "application/vnd.jupyter.widget-view+json": {
       "model_id": "49cd0d928e18432e92a7159d493a608a",
       "version_major": 2,
       "version_minor": 0
      },
      "text/plain": [
       "Depth 10 sub-progress:   0%|          | 0/9 [00:00<?, ?it/s]"
      ]
     },
     "metadata": {},
     "output_type": "display_data"
    },
    {
     "data": {
      "application/vnd.jupyter.widget-view+json": {
       "model_id": "e427f6ee84f841bf9cfec8075d24ca23",
       "version_major": 2,
       "version_minor": 0
      },
      "text/plain": [
       "Depth 10 sub-progress:   0%|          | 0/9 [00:00<?, ?it/s]"
      ]
     },
     "metadata": {},
     "output_type": "display_data"
    },
    {
     "data": {
      "application/vnd.jupyter.widget-view+json": {
       "model_id": "73fc5501a33249fcab5bbb6610947adb",
       "version_major": 2,
       "version_minor": 0
      },
      "text/plain": [
       "Depth 10 sub-progress:   0%|          | 0/9 [00:00<?, ?it/s]"
      ]
     },
     "metadata": {},
     "output_type": "display_data"
    },
    {
     "data": {
      "application/vnd.jupyter.widget-view+json": {
       "model_id": "fd2f942e216643e3be82087d287f26b9",
       "version_major": 2,
       "version_minor": 0
      },
      "text/plain": [
       "Depth 10 sub-progress:   0%|          | 0/9 [00:00<?, ?it/s]"
      ]
     },
     "metadata": {},
     "output_type": "display_data"
    },
    {
     "data": {
      "application/vnd.jupyter.widget-view+json": {
       "model_id": "7b80aaccb2a043a4a80b6fc829c9722f",
       "version_major": 2,
       "version_minor": 0
      },
      "text/plain": [
       "Depth 10 sub-progress:   0%|          | 0/9 [00:00<?, ?it/s]"
      ]
     },
     "metadata": {},
     "output_type": "display_data"
    },
    {
     "data": {
      "application/vnd.jupyter.widget-view+json": {
       "model_id": "304be2e4e2f941d38b630eafedc3d7ad",
       "version_major": 2,
       "version_minor": 0
      },
      "text/plain": [
       "Depth 10 sub-progress:   0%|          | 0/9 [00:00<?, ?it/s]"
      ]
     },
     "metadata": {},
     "output_type": "display_data"
    },
    {
     "data": {
      "application/vnd.jupyter.widget-view+json": {
       "model_id": "726451fde2ff4e688e9dc2bc2b637709",
       "version_major": 2,
       "version_minor": 0
      },
      "text/plain": [
       "Depth 10 sub-progress:   0%|          | 0/9 [00:00<?, ?it/s]"
      ]
     },
     "metadata": {},
     "output_type": "display_data"
    },
    {
     "data": {
      "application/vnd.jupyter.widget-view+json": {
       "model_id": "712dbc4310184c57a2f403ba08ffa50f",
       "version_major": 2,
       "version_minor": 0
      },
      "text/plain": [
       "Depth 10 sub-progress:   0%|          | 0/9 [00:00<?, ?it/s]"
      ]
     },
     "metadata": {},
     "output_type": "display_data"
    },
    {
     "data": {
      "application/vnd.jupyter.widget-view+json": {
       "model_id": "705bdec0867c4311a259f5e4097faa98",
       "version_major": 2,
       "version_minor": 0
      },
      "text/plain": [
       "Depth 10 sub-progress:   0%|          | 0/9 [00:00<?, ?it/s]"
      ]
     },
     "metadata": {},
     "output_type": "display_data"
    },
    {
     "data": {
      "application/vnd.jupyter.widget-view+json": {
       "model_id": "93dd940ee44942a3a0385e7654e240c3",
       "version_major": 2,
       "version_minor": 0
      },
      "text/plain": [
       "Depth 10 sub-progress:   0%|          | 0/9 [00:00<?, ?it/s]"
      ]
     },
     "metadata": {},
     "output_type": "display_data"
    },
    {
     "data": {
      "application/vnd.jupyter.widget-view+json": {
       "model_id": "b79c248d310946b299d13bf4bca4fa97",
       "version_major": 2,
       "version_minor": 0
      },
      "text/plain": [
       "Depth 10 sub-progress:   0%|          | 0/9 [00:00<?, ?it/s]"
      ]
     },
     "metadata": {},
     "output_type": "display_data"
    },
    {
     "data": {
      "application/vnd.jupyter.widget-view+json": {
       "model_id": "54e77e8a23ec41bc9e308d953b110828",
       "version_major": 2,
       "version_minor": 0
      },
      "text/plain": [
       "Depth 10 sub-progress:   0%|          | 0/9 [00:00<?, ?it/s]"
      ]
     },
     "metadata": {},
     "output_type": "display_data"
    },
    {
     "data": {
      "application/vnd.jupyter.widget-view+json": {
       "model_id": "854ab25a1cb549f28757aa622dd08b64",
       "version_major": 2,
       "version_minor": 0
      },
      "text/plain": [
       "Depth 10 sub-progress:   0%|          | 0/9 [00:00<?, ?it/s]"
      ]
     },
     "metadata": {},
     "output_type": "display_data"
    },
    {
     "data": {
      "application/vnd.jupyter.widget-view+json": {
       "model_id": "230417ef6db64c7fa9a734c737a702b6",
       "version_major": 2,
       "version_minor": 0
      },
      "text/plain": [
       "Depth 10 sub-progress:   0%|          | 0/9 [00:00<?, ?it/s]"
      ]
     },
     "metadata": {},
     "output_type": "display_data"
    },
    {
     "data": {
      "application/vnd.jupyter.widget-view+json": {
       "model_id": "f4cad950b14748988b8026b36fd99160",
       "version_major": 2,
       "version_minor": 0
      },
      "text/plain": [
       "Depth 10 sub-progress:   0%|          | 0/9 [00:00<?, ?it/s]"
      ]
     },
     "metadata": {},
     "output_type": "display_data"
    },
    {
     "data": {
      "application/vnd.jupyter.widget-view+json": {
       "model_id": "1a20f7bc2c2b4ffc83ccdd8e5c5c1bbe",
       "version_major": 2,
       "version_minor": 0
      },
      "text/plain": [
       "Depth 10 sub-progress:   0%|          | 0/9 [00:00<?, ?it/s]"
      ]
     },
     "metadata": {},
     "output_type": "display_data"
    },
    {
     "data": {
      "application/vnd.jupyter.widget-view+json": {
       "model_id": "5b67cc8bda2a4c2d86ba157fe201e5f7",
       "version_major": 2,
       "version_minor": 0
      },
      "text/plain": [
       "Depth 10 sub-progress:   0%|          | 0/9 [00:00<?, ?it/s]"
      ]
     },
     "metadata": {},
     "output_type": "display_data"
    },
    {
     "data": {
      "application/vnd.jupyter.widget-view+json": {
       "model_id": "eb589b0dca96447e97706b0453e8d05b",
       "version_major": 2,
       "version_minor": 0
      },
      "text/plain": [
       "Depth 10 sub-progress:   0%|          | 0/9 [00:00<?, ?it/s]"
      ]
     },
     "metadata": {},
     "output_type": "display_data"
    },
    {
     "data": {
      "application/vnd.jupyter.widget-view+json": {
       "model_id": "a9a854c61c044f619dc3f1221284fae7",
       "version_major": 2,
       "version_minor": 0
      },
      "text/plain": [
       "Depth 10 sub-progress:   0%|          | 0/9 [00:00<?, ?it/s]"
      ]
     },
     "metadata": {},
     "output_type": "display_data"
    },
    {
     "data": {
      "application/vnd.jupyter.widget-view+json": {
       "model_id": "fbac4faf5e0d4480a279b1f12c024249",
       "version_major": 2,
       "version_minor": 0
      },
      "text/plain": [
       "Depth 10 sub-progress:   0%|          | 0/9 [00:00<?, ?it/s]"
      ]
     },
     "metadata": {},
     "output_type": "display_data"
    },
    {
     "data": {
      "application/vnd.jupyter.widget-view+json": {
       "model_id": "bb95fba9d49d4b99b691e9f59e803d65",
       "version_major": 2,
       "version_minor": 0
      },
      "text/plain": [
       "Depth 10 sub-progress:   0%|          | 0/9 [00:00<?, ?it/s]"
      ]
     },
     "metadata": {},
     "output_type": "display_data"
    },
    {
     "data": {
      "application/vnd.jupyter.widget-view+json": {
       "model_id": "12a00ca6f8754571af14ea8b6e7bb435",
       "version_major": 2,
       "version_minor": 0
      },
      "text/plain": [
       "Depth 10 sub-progress:   0%|          | 0/9 [00:00<?, ?it/s]"
      ]
     },
     "metadata": {},
     "output_type": "display_data"
    },
    {
     "data": {
      "application/vnd.jupyter.widget-view+json": {
       "model_id": "1d3ff82849634246bc7019d529c2b256",
       "version_major": 2,
       "version_minor": 0
      },
      "text/plain": [
       "Depth 10 sub-progress:   0%|          | 0/9 [00:00<?, ?it/s]"
      ]
     },
     "metadata": {},
     "output_type": "display_data"
    },
    {
     "data": {
      "application/vnd.jupyter.widget-view+json": {
       "model_id": "abe74f8d747f48529a1783c39ceda696",
       "version_major": 2,
       "version_minor": 0
      },
      "text/plain": [
       "Depth 10 sub-progress:   0%|          | 0/9 [00:00<?, ?it/s]"
      ]
     },
     "metadata": {},
     "output_type": "display_data"
    },
    {
     "data": {
      "application/vnd.jupyter.widget-view+json": {
       "model_id": "1fdd766948f147eab92f4b54fbd327a5",
       "version_major": 2,
       "version_minor": 0
      },
      "text/plain": [
       "Depth 10 sub-progress:   0%|          | 0/9 [00:00<?, ?it/s]"
      ]
     },
     "metadata": {},
     "output_type": "display_data"
    },
    {
     "data": {
      "application/vnd.jupyter.widget-view+json": {
       "model_id": "e94c796009a241568d89eca4af2bfd88",
       "version_major": 2,
       "version_minor": 0
      },
      "text/plain": [
       "Depth 10 sub-progress:   0%|          | 0/9 [00:00<?, ?it/s]"
      ]
     },
     "metadata": {},
     "output_type": "display_data"
    },
    {
     "data": {
      "application/vnd.jupyter.widget-view+json": {
       "model_id": "96c5119a7f8143f8b451fb0358814b5c",
       "version_major": 2,
       "version_minor": 0
      },
      "text/plain": [
       "Depth 10 sub-progress:   0%|          | 0/9 [00:00<?, ?it/s]"
      ]
     },
     "metadata": {},
     "output_type": "display_data"
    },
    {
     "data": {
      "application/vnd.jupyter.widget-view+json": {
       "model_id": "42378b3c52ea40df9274e2cbf900ed06",
       "version_major": 2,
       "version_minor": 0
      },
      "text/plain": [
       "Depth 10 sub-progress:   0%|          | 0/9 [00:00<?, ?it/s]"
      ]
     },
     "metadata": {},
     "output_type": "display_data"
    },
    {
     "data": {
      "application/vnd.jupyter.widget-view+json": {
       "model_id": "9242faa3d41b427f96f0ed2998289150",
       "version_major": 2,
       "version_minor": 0
      },
      "text/plain": [
       "Depth 10 sub-progress:   0%|          | 0/9 [00:00<?, ?it/s]"
      ]
     },
     "metadata": {},
     "output_type": "display_data"
    },
    {
     "data": {
      "application/vnd.jupyter.widget-view+json": {
       "model_id": "9c2d1d5536164d78b5b57da6aa8e826e",
       "version_major": 2,
       "version_minor": 0
      },
      "text/plain": [
       "Depth 10 sub-progress:   0%|          | 0/9 [00:00<?, ?it/s]"
      ]
     },
     "metadata": {},
     "output_type": "display_data"
    },
    {
     "data": {
      "application/vnd.jupyter.widget-view+json": {
       "model_id": "4dcfaa35306c4fc8b996fdd5665066c8",
       "version_major": 2,
       "version_minor": 0
      },
      "text/plain": [
       "Depth 10 sub-progress:   0%|          | 0/9 [00:00<?, ?it/s]"
      ]
     },
     "metadata": {},
     "output_type": "display_data"
    },
    {
     "data": {
      "application/vnd.jupyter.widget-view+json": {
       "model_id": "8afe939cbf6648f78843952d08fd43be",
       "version_major": 2,
       "version_minor": 0
      },
      "text/plain": [
       "Depth 10 sub-progress:   0%|          | 0/9 [00:00<?, ?it/s]"
      ]
     },
     "metadata": {},
     "output_type": "display_data"
    },
    {
     "data": {
      "application/vnd.jupyter.widget-view+json": {
       "model_id": "40771255c2fc473bad0686bcbac694e6",
       "version_major": 2,
       "version_minor": 0
      },
      "text/plain": [
       "Depth 10 sub-progress:   0%|          | 0/9 [00:00<?, ?it/s]"
      ]
     },
     "metadata": {},
     "output_type": "display_data"
    },
    {
     "data": {
      "application/vnd.jupyter.widget-view+json": {
       "model_id": "1921c1d23c5b41da96cd87c186273919",
       "version_major": 2,
       "version_minor": 0
      },
      "text/plain": [
       "Depth 10 sub-progress:   0%|          | 0/9 [00:00<?, ?it/s]"
      ]
     },
     "metadata": {},
     "output_type": "display_data"
    },
    {
     "data": {
      "application/vnd.jupyter.widget-view+json": {
       "model_id": "1c29016e06c54d9eb5f35f98e0d040de",
       "version_major": 2,
       "version_minor": 0
      },
      "text/plain": [
       "Depth 10 sub-progress:   0%|          | 0/9 [00:00<?, ?it/s]"
      ]
     },
     "metadata": {},
     "output_type": "display_data"
    },
    {
     "data": {
      "application/vnd.jupyter.widget-view+json": {
       "model_id": "75151e79cc4b4a98bd6da265c58c7bc2",
       "version_major": 2,
       "version_minor": 0
      },
      "text/plain": [
       "Depth 10 sub-progress:   0%|          | 0/9 [00:00<?, ?it/s]"
      ]
     },
     "metadata": {},
     "output_type": "display_data"
    },
    {
     "data": {
      "application/vnd.jupyter.widget-view+json": {
       "model_id": "d64f9a4a364b4333a2eeb7f346875c0d",
       "version_major": 2,
       "version_minor": 0
      },
      "text/plain": [
       "Depth 10 sub-progress:   0%|          | 0/9 [00:00<?, ?it/s]"
      ]
     },
     "metadata": {},
     "output_type": "display_data"
    },
    {
     "data": {
      "application/vnd.jupyter.widget-view+json": {
       "model_id": "be5431ad106a44dbb793887ddd47250e",
       "version_major": 2,
       "version_minor": 0
      },
      "text/plain": [
       "Depth 10 sub-progress:   0%|          | 0/9 [00:00<?, ?it/s]"
      ]
     },
     "metadata": {},
     "output_type": "display_data"
    },
    {
     "data": {
      "application/vnd.jupyter.widget-view+json": {
       "model_id": "ba9cace9b54d4c9bb3d6f5e7afd00da3",
       "version_major": 2,
       "version_minor": 0
      },
      "text/plain": [
       "Depth 10 sub-progress:   0%|          | 0/9 [00:00<?, ?it/s]"
      ]
     },
     "metadata": {},
     "output_type": "display_data"
    },
    {
     "data": {
      "application/vnd.jupyter.widget-view+json": {
       "model_id": "dd64d8ef356f4d4b921c5c2173bf7b8e",
       "version_major": 2,
       "version_minor": 0
      },
      "text/plain": [
       "Depth 10 sub-progress:   0%|          | 0/9 [00:00<?, ?it/s]"
      ]
     },
     "metadata": {},
     "output_type": "display_data"
    },
    {
     "data": {
      "application/vnd.jupyter.widget-view+json": {
       "model_id": "fa82bac745a74d38a0d36fa4e3883d1f",
       "version_major": 2,
       "version_minor": 0
      },
      "text/plain": [
       "Depth 10 sub-progress:   0%|          | 0/9 [00:00<?, ?it/s]"
      ]
     },
     "metadata": {},
     "output_type": "display_data"
    },
    {
     "data": {
      "application/vnd.jupyter.widget-view+json": {
       "model_id": "44de0198736847f28c6e5597d4fb58fd",
       "version_major": 2,
       "version_minor": 0
      },
      "text/plain": [
       "Depth 10 sub-progress:   0%|          | 0/9 [00:00<?, ?it/s]"
      ]
     },
     "metadata": {},
     "output_type": "display_data"
    },
    {
     "data": {
      "application/vnd.jupyter.widget-view+json": {
       "model_id": "1dd699fb4a6946e089bd7df6b55989fa",
       "version_major": 2,
       "version_minor": 0
      },
      "text/plain": [
       "Depth 10 sub-progress:   0%|          | 0/9 [00:00<?, ?it/s]"
      ]
     },
     "metadata": {},
     "output_type": "display_data"
    },
    {
     "data": {
      "application/vnd.jupyter.widget-view+json": {
       "model_id": "fc4eaa08e58f4134916ea799f9bfc068",
       "version_major": 2,
       "version_minor": 0
      },
      "text/plain": [
       "Depth 10 sub-progress:   0%|          | 0/9 [00:00<?, ?it/s]"
      ]
     },
     "metadata": {},
     "output_type": "display_data"
    },
    {
     "data": {
      "application/vnd.jupyter.widget-view+json": {
       "model_id": "67b3ba2dcd1e467d9e4e308a9d3e0668",
       "version_major": 2,
       "version_minor": 0
      },
      "text/plain": [
       "Depth 10 sub-progress:   0%|          | 0/9 [00:00<?, ?it/s]"
      ]
     },
     "metadata": {},
     "output_type": "display_data"
    },
    {
     "data": {
      "application/vnd.jupyter.widget-view+json": {
       "model_id": "93cc113e9ed54d11924fb046f0a67910",
       "version_major": 2,
       "version_minor": 0
      },
      "text/plain": [
       "Depth 10 sub-progress:   0%|          | 0/9 [00:00<?, ?it/s]"
      ]
     },
     "metadata": {},
     "output_type": "display_data"
    },
    {
     "data": {
      "application/vnd.jupyter.widget-view+json": {
       "model_id": "7a92183c6c774a10969861a25e284b64",
       "version_major": 2,
       "version_minor": 0
      },
      "text/plain": [
       "Depth 10 sub-progress:   0%|          | 0/9 [00:00<?, ?it/s]"
      ]
     },
     "metadata": {},
     "output_type": "display_data"
    },
    {
     "data": {
      "application/vnd.jupyter.widget-view+json": {
       "model_id": "6234ddd642e4412da16bbd8d36d5f34d",
       "version_major": 2,
       "version_minor": 0
      },
      "text/plain": [
       "Depth 10 sub-progress:   0%|          | 0/9 [00:00<?, ?it/s]"
      ]
     },
     "metadata": {},
     "output_type": "display_data"
    },
    {
     "data": {
      "application/vnd.jupyter.widget-view+json": {
       "model_id": "9fc97b6f3d354c4c88f73607b9fdfb75",
       "version_major": 2,
       "version_minor": 0
      },
      "text/plain": [
       "Depth 10 sub-progress:   0%|          | 0/9 [00:00<?, ?it/s]"
      ]
     },
     "metadata": {},
     "output_type": "display_data"
    },
    {
     "data": {
      "application/vnd.jupyter.widget-view+json": {
       "model_id": "4b0d522d8caf4f7285951c14afb23974",
       "version_major": 2,
       "version_minor": 0
      },
      "text/plain": [
       "Depth 10 sub-progress:   0%|          | 0/9 [00:00<?, ?it/s]"
      ]
     },
     "metadata": {},
     "output_type": "display_data"
    },
    {
     "data": {
      "application/vnd.jupyter.widget-view+json": {
       "model_id": "7c8eb00a4255440ebfc095882eb1295e",
       "version_major": 2,
       "version_minor": 0
      },
      "text/plain": [
       "Depth 10 sub-progress:   0%|          | 0/9 [00:00<?, ?it/s]"
      ]
     },
     "metadata": {},
     "output_type": "display_data"
    },
    {
     "data": {
      "application/vnd.jupyter.widget-view+json": {
       "model_id": "54dc650e2e1c4a5c943ec22093122557",
       "version_major": 2,
       "version_minor": 0
      },
      "text/plain": [
       "Depth 10 sub-progress:   0%|          | 0/9 [00:00<?, ?it/s]"
      ]
     },
     "metadata": {},
     "output_type": "display_data"
    },
    {
     "data": {
      "application/vnd.jupyter.widget-view+json": {
       "model_id": "94c9e76cef924b4e9ef4a41a4b372ff4",
       "version_major": 2,
       "version_minor": 0
      },
      "text/plain": [
       "Depth 10 sub-progress:   0%|          | 0/9 [00:00<?, ?it/s]"
      ]
     },
     "metadata": {},
     "output_type": "display_data"
    },
    {
     "data": {
      "application/vnd.jupyter.widget-view+json": {
       "model_id": "3f42b902d5be49639c8a26795b67fc20",
       "version_major": 2,
       "version_minor": 0
      },
      "text/plain": [
       "Depth 10 sub-progress:   0%|          | 0/9 [00:00<?, ?it/s]"
      ]
     },
     "metadata": {},
     "output_type": "display_data"
    },
    {
     "data": {
      "application/vnd.jupyter.widget-view+json": {
       "model_id": "3985640b3db745b9928e86fb54ca4fa8",
       "version_major": 2,
       "version_minor": 0
      },
      "text/plain": [
       "Depth 10 sub-progress:   0%|          | 0/9 [00:00<?, ?it/s]"
      ]
     },
     "metadata": {},
     "output_type": "display_data"
    },
    {
     "data": {
      "application/vnd.jupyter.widget-view+json": {
       "model_id": "3e68273ec1a34607b1884092009014af",
       "version_major": 2,
       "version_minor": 0
      },
      "text/plain": [
       "Depth 10 sub-progress:   0%|          | 0/9 [00:00<?, ?it/s]"
      ]
     },
     "metadata": {},
     "output_type": "display_data"
    },
    {
     "data": {
      "application/vnd.jupyter.widget-view+json": {
       "model_id": "aed4d229c8b049ed932168b523e9d2c9",
       "version_major": 2,
       "version_minor": 0
      },
      "text/plain": [
       "Depth 10 sub-progress:   0%|          | 0/9 [00:00<?, ?it/s]"
      ]
     },
     "metadata": {},
     "output_type": "display_data"
    },
    {
     "data": {
      "application/vnd.jupyter.widget-view+json": {
       "model_id": "e0aa03c4b4f844e49c965453fcb16f27",
       "version_major": 2,
       "version_minor": 0
      },
      "text/plain": [
       "Depth 10 sub-progress:   0%|          | 0/9 [00:00<?, ?it/s]"
      ]
     },
     "metadata": {},
     "output_type": "display_data"
    },
    {
     "data": {
      "application/vnd.jupyter.widget-view+json": {
       "model_id": "f067d556a80840f69767a749e1bf115e",
       "version_major": 2,
       "version_minor": 0
      },
      "text/plain": [
       "Depth 10 sub-progress:   0%|          | 0/9 [00:00<?, ?it/s]"
      ]
     },
     "metadata": {},
     "output_type": "display_data"
    },
    {
     "data": {
      "application/vnd.jupyter.widget-view+json": {
       "model_id": "0d48fb3f17194081bd65cc3658961858",
       "version_major": 2,
       "version_minor": 0
      },
      "text/plain": [
       "Depth 10 sub-progress:   0%|          | 0/9 [00:00<?, ?it/s]"
      ]
     },
     "metadata": {},
     "output_type": "display_data"
    },
    {
     "data": {
      "application/vnd.jupyter.widget-view+json": {
       "model_id": "f18d58e511094063937dd099a604c448",
       "version_major": 2,
       "version_minor": 0
      },
      "text/plain": [
       "Depth 10 sub-progress:   0%|          | 0/9 [00:00<?, ?it/s]"
      ]
     },
     "metadata": {},
     "output_type": "display_data"
    },
    {
     "data": {
      "application/vnd.jupyter.widget-view+json": {
       "model_id": "ace708357ce04465a31bbfafdf04c73e",
       "version_major": 2,
       "version_minor": 0
      },
      "text/plain": [
       "Depth 10 sub-progress:   0%|          | 0/9 [00:00<?, ?it/s]"
      ]
     },
     "metadata": {},
     "output_type": "display_data"
    },
    {
     "data": {
      "application/vnd.jupyter.widget-view+json": {
       "model_id": "e4c4236e855944ac80181f8276b60cde",
       "version_major": 2,
       "version_minor": 0
      },
      "text/plain": [
       "Depth 10 sub-progress:   0%|          | 0/9 [00:00<?, ?it/s]"
      ]
     },
     "metadata": {},
     "output_type": "display_data"
    },
    {
     "data": {
      "application/vnd.jupyter.widget-view+json": {
       "model_id": "c9721eb5cf5c49c3b8d6d03ae0ce9be1",
       "version_major": 2,
       "version_minor": 0
      },
      "text/plain": [
       "Depth 10 sub-progress:   0%|          | 0/9 [00:00<?, ?it/s]"
      ]
     },
     "metadata": {},
     "output_type": "display_data"
    },
    {
     "data": {
      "application/vnd.jupyter.widget-view+json": {
       "model_id": "60734d8fd6f5492f8cfa13e1c39a915c",
       "version_major": 2,
       "version_minor": 0
      },
      "text/plain": [
       "Depth 10 sub-progress:   0%|          | 0/9 [00:00<?, ?it/s]"
      ]
     },
     "metadata": {},
     "output_type": "display_data"
    },
    {
     "data": {
      "application/vnd.jupyter.widget-view+json": {
       "model_id": "d7ed655eee0945a586de2d325ee4d750",
       "version_major": 2,
       "version_minor": 0
      },
      "text/plain": [
       "Depth 10 sub-progress:   0%|          | 0/9 [00:00<?, ?it/s]"
      ]
     },
     "metadata": {},
     "output_type": "display_data"
    },
    {
     "data": {
      "application/vnd.jupyter.widget-view+json": {
       "model_id": "66ca7e33073043c69d3e87a63c852859",
       "version_major": 2,
       "version_minor": 0
      },
      "text/plain": [
       "Depth 10 sub-progress:   0%|          | 0/9 [00:00<?, ?it/s]"
      ]
     },
     "metadata": {},
     "output_type": "display_data"
    },
    {
     "data": {
      "application/vnd.jupyter.widget-view+json": {
       "model_id": "ddcb17b3e8c44149ae32e80fffeaefdf",
       "version_major": 2,
       "version_minor": 0
      },
      "text/plain": [
       "Depth 10 sub-progress:   0%|          | 0/9 [00:00<?, ?it/s]"
      ]
     },
     "metadata": {},
     "output_type": "display_data"
    },
    {
     "data": {
      "application/vnd.jupyter.widget-view+json": {
       "model_id": "3a977c8b433f4306b4122e261aca0666",
       "version_major": 2,
       "version_minor": 0
      },
      "text/plain": [
       "Depth 10 sub-progress:   0%|          | 0/9 [00:00<?, ?it/s]"
      ]
     },
     "metadata": {},
     "output_type": "display_data"
    },
    {
     "data": {
      "application/vnd.jupyter.widget-view+json": {
       "model_id": "c6a96588793e46d083637d768c3f7859",
       "version_major": 2,
       "version_minor": 0
      },
      "text/plain": [
       "Depth 10 sub-progress:   0%|          | 0/9 [00:00<?, ?it/s]"
      ]
     },
     "metadata": {},
     "output_type": "display_data"
    },
    {
     "data": {
      "application/vnd.jupyter.widget-view+json": {
       "model_id": "1fa25aa72e6a49d98bc0a15f195d90ea",
       "version_major": 2,
       "version_minor": 0
      },
      "text/plain": [
       "Depth 10 sub-progress:   0%|          | 0/9 [00:00<?, ?it/s]"
      ]
     },
     "metadata": {},
     "output_type": "display_data"
    },
    {
     "data": {
      "application/vnd.jupyter.widget-view+json": {
       "model_id": "3b4dbde82cf84e839e5c3da78f019574",
       "version_major": 2,
       "version_minor": 0
      },
      "text/plain": [
       "Depth 10 sub-progress:   0%|          | 0/9 [00:00<?, ?it/s]"
      ]
     },
     "metadata": {},
     "output_type": "display_data"
    },
    {
     "data": {
      "application/vnd.jupyter.widget-view+json": {
       "model_id": "18039912f6704440a24b32c228f32bdc",
       "version_major": 2,
       "version_minor": 0
      },
      "text/plain": [
       "Depth 10 sub-progress:   0%|          | 0/9 [00:00<?, ?it/s]"
      ]
     },
     "metadata": {},
     "output_type": "display_data"
    },
    {
     "data": {
      "application/vnd.jupyter.widget-view+json": {
       "model_id": "a8bd1122b2ec4b1789afbd739165a80e",
       "version_major": 2,
       "version_minor": 0
      },
      "text/plain": [
       "Depth 10 sub-progress:   0%|          | 0/9 [00:00<?, ?it/s]"
      ]
     },
     "metadata": {},
     "output_type": "display_data"
    },
    {
     "data": {
      "application/vnd.jupyter.widget-view+json": {
       "model_id": "e90a920f787147e58a80c2ea59f4c895",
       "version_major": 2,
       "version_minor": 0
      },
      "text/plain": [
       "Depth 10 sub-progress:   0%|          | 0/9 [00:00<?, ?it/s]"
      ]
     },
     "metadata": {},
     "output_type": "display_data"
    },
    {
     "data": {
      "application/vnd.jupyter.widget-view+json": {
       "model_id": "1e86544e09f74aea9df36daee4d476b4",
       "version_major": 2,
       "version_minor": 0
      },
      "text/plain": [
       "Depth 10 sub-progress:   0%|          | 0/9 [00:00<?, ?it/s]"
      ]
     },
     "metadata": {},
     "output_type": "display_data"
    },
    {
     "data": {
      "application/vnd.jupyter.widget-view+json": {
       "model_id": "95113081c13f42e3a01a1a7546a7b6a5",
       "version_major": 2,
       "version_minor": 0
      },
      "text/plain": [
       "Depth 10 sub-progress:   0%|          | 0/9 [00:00<?, ?it/s]"
      ]
     },
     "metadata": {},
     "output_type": "display_data"
    },
    {
     "data": {
      "application/vnd.jupyter.widget-view+json": {
       "model_id": "26b1d42e7fda4467811ec7ae799a56b4",
       "version_major": 2,
       "version_minor": 0
      },
      "text/plain": [
       "Depth 10 sub-progress:   0%|          | 0/9 [00:00<?, ?it/s]"
      ]
     },
     "metadata": {},
     "output_type": "display_data"
    },
    {
     "data": {
      "application/vnd.jupyter.widget-view+json": {
       "model_id": "ce61d45a96e6421ea3ea6afa6acfcbdf",
       "version_major": 2,
       "version_minor": 0
      },
      "text/plain": [
       "Depth 10 sub-progress:   0%|          | 0/9 [00:00<?, ?it/s]"
      ]
     },
     "metadata": {},
     "output_type": "display_data"
    },
    {
     "data": {
      "application/vnd.jupyter.widget-view+json": {
       "model_id": "7d2c7648ee714fa69875204c4c9b35c2",
       "version_major": 2,
       "version_minor": 0
      },
      "text/plain": [
       "Depth 10 sub-progress:   0%|          | 0/9 [00:00<?, ?it/s]"
      ]
     },
     "metadata": {},
     "output_type": "display_data"
    },
    {
     "data": {
      "application/vnd.jupyter.widget-view+json": {
       "model_id": "131f37af9ba144498d86c3dc079b6461",
       "version_major": 2,
       "version_minor": 0
      },
      "text/plain": [
       "Depth 10 sub-progress:   0%|          | 0/9 [00:00<?, ?it/s]"
      ]
     },
     "metadata": {},
     "output_type": "display_data"
    },
    {
     "data": {
      "application/vnd.jupyter.widget-view+json": {
       "model_id": "92c05cbe73c5423c82645b3332373475",
       "version_major": 2,
       "version_minor": 0
      },
      "text/plain": [
       "Depth 10 sub-progress:   0%|          | 0/9 [00:00<?, ?it/s]"
      ]
     },
     "metadata": {},
     "output_type": "display_data"
    },
    {
     "data": {
      "application/vnd.jupyter.widget-view+json": {
       "model_id": "dfa3c985dd6f45099a164b7347ef5082",
       "version_major": 2,
       "version_minor": 0
      },
      "text/plain": [
       "Depth 10 sub-progress:   0%|          | 0/9 [00:00<?, ?it/s]"
      ]
     },
     "metadata": {},
     "output_type": "display_data"
    },
    {
     "data": {
      "application/vnd.jupyter.widget-view+json": {
       "model_id": "4f05c555116b4da5bddd5e36fae9de5f",
       "version_major": 2,
       "version_minor": 0
      },
      "text/plain": [
       "Depth 10 sub-progress:   0%|          | 0/9 [00:00<?, ?it/s]"
      ]
     },
     "metadata": {},
     "output_type": "display_data"
    },
    {
     "data": {
      "application/vnd.jupyter.widget-view+json": {
       "model_id": "a28919c8d5a14ac3a0cda3bfb6c553d6",
       "version_major": 2,
       "version_minor": 0
      },
      "text/plain": [
       "Depth 10 sub-progress:   0%|          | 0/9 [00:00<?, ?it/s]"
      ]
     },
     "metadata": {},
     "output_type": "display_data"
    },
    {
     "data": {
      "application/vnd.jupyter.widget-view+json": {
       "model_id": "2e8bcd1b87604b20a1701a99755dc3f2",
       "version_major": 2,
       "version_minor": 0
      },
      "text/plain": [
       "Depth 10 sub-progress:   0%|          | 0/9 [00:00<?, ?it/s]"
      ]
     },
     "metadata": {},
     "output_type": "display_data"
    },
    {
     "data": {
      "application/vnd.jupyter.widget-view+json": {
       "model_id": "9791b1cd57424578a5d81c6b8f6164df",
       "version_major": 2,
       "version_minor": 0
      },
      "text/plain": [
       "Depth 10 sub-progress:   0%|          | 0/9 [00:00<?, ?it/s]"
      ]
     },
     "metadata": {},
     "output_type": "display_data"
    },
    {
     "data": {
      "application/vnd.jupyter.widget-view+json": {
       "model_id": "06f5bb6d1907486c9614bb70cd9d940c",
       "version_major": 2,
       "version_minor": 0
      },
      "text/plain": [
       "Depth 10 sub-progress:   0%|          | 0/9 [00:00<?, ?it/s]"
      ]
     },
     "metadata": {},
     "output_type": "display_data"
    },
    {
     "data": {
      "application/vnd.jupyter.widget-view+json": {
       "model_id": "13749bbdc1824ec1be30acb357943be3",
       "version_major": 2,
       "version_minor": 0
      },
      "text/plain": [
       "Depth 10 sub-progress:   0%|          | 0/9 [00:00<?, ?it/s]"
      ]
     },
     "metadata": {},
     "output_type": "display_data"
    },
    {
     "data": {
      "application/vnd.jupyter.widget-view+json": {
       "model_id": "1f9f0183c5174275a7ad972f770a5c9e",
       "version_major": 2,
       "version_minor": 0
      },
      "text/plain": [
       "Depth 10 sub-progress:   0%|          | 0/9 [00:00<?, ?it/s]"
      ]
     },
     "metadata": {},
     "output_type": "display_data"
    },
    {
     "data": {
      "application/vnd.jupyter.widget-view+json": {
       "model_id": "bd5a23bd77ab428daa7e83ee3b8ce51d",
       "version_major": 2,
       "version_minor": 0
      },
      "text/plain": [
       "Depth 10 sub-progress:   0%|          | 0/9 [00:00<?, ?it/s]"
      ]
     },
     "metadata": {},
     "output_type": "display_data"
    },
    {
     "data": {
      "application/vnd.jupyter.widget-view+json": {
       "model_id": "b2af476c373b413eba4eb604054cc4f1",
       "version_major": 2,
       "version_minor": 0
      },
      "text/plain": [
       "Depth 10 sub-progress:   0%|          | 0/9 [00:00<?, ?it/s]"
      ]
     },
     "metadata": {},
     "output_type": "display_data"
    },
    {
     "data": {
      "application/vnd.jupyter.widget-view+json": {
       "model_id": "dae20c36b89e4c76bde5d03178b71c0e",
       "version_major": 2,
       "version_minor": 0
      },
      "text/plain": [
       "Depth 10 sub-progress:   0%|          | 0/9 [00:00<?, ?it/s]"
      ]
     },
     "metadata": {},
     "output_type": "display_data"
    },
    {
     "data": {
      "application/vnd.jupyter.widget-view+json": {
       "model_id": "be7b8d4e831c4a428451a46ba08079a9",
       "version_major": 2,
       "version_minor": 0
      },
      "text/plain": [
       "Depth 10 sub-progress:   0%|          | 0/9 [00:00<?, ?it/s]"
      ]
     },
     "metadata": {},
     "output_type": "display_data"
    },
    {
     "data": {
      "application/vnd.jupyter.widget-view+json": {
       "model_id": "7cdaa9fdab604088a5dc6f0799f2c728",
       "version_major": 2,
       "version_minor": 0
      },
      "text/plain": [
       "Depth 10 sub-progress:   0%|          | 0/9 [00:00<?, ?it/s]"
      ]
     },
     "metadata": {},
     "output_type": "display_data"
    },
    {
     "data": {
      "application/vnd.jupyter.widget-view+json": {
       "model_id": "ca88238965884f93a118f115658173f5",
       "version_major": 2,
       "version_minor": 0
      },
      "text/plain": [
       "Depth 10 sub-progress:   0%|          | 0/9 [00:00<?, ?it/s]"
      ]
     },
     "metadata": {},
     "output_type": "display_data"
    },
    {
     "data": {
      "application/vnd.jupyter.widget-view+json": {
       "model_id": "ea170ee843c24692916ea56e1d488e85",
       "version_major": 2,
       "version_minor": 0
      },
      "text/plain": [
       "Depth 10 sub-progress:   0%|          | 0/9 [00:00<?, ?it/s]"
      ]
     },
     "metadata": {},
     "output_type": "display_data"
    },
    {
     "data": {
      "application/vnd.jupyter.widget-view+json": {
       "model_id": "1f1189042ac3426c84560bc705acd5cb",
       "version_major": 2,
       "version_minor": 0
      },
      "text/plain": [
       "Depth 10 sub-progress:   0%|          | 0/9 [00:00<?, ?it/s]"
      ]
     },
     "metadata": {},
     "output_type": "display_data"
    },
    {
     "data": {
      "application/vnd.jupyter.widget-view+json": {
       "model_id": "c8b4fe6365c243dc8c29399358077f89",
       "version_major": 2,
       "version_minor": 0
      },
      "text/plain": [
       "Depth 10 sub-progress:   0%|          | 0/9 [00:00<?, ?it/s]"
      ]
     },
     "metadata": {},
     "output_type": "display_data"
    },
    {
     "data": {
      "application/vnd.jupyter.widget-view+json": {
       "model_id": "ccad559ec3674ca4ab99f42c6de7be2d",
       "version_major": 2,
       "version_minor": 0
      },
      "text/plain": [
       "Depth 10 sub-progress:   0%|          | 0/9 [00:00<?, ?it/s]"
      ]
     },
     "metadata": {},
     "output_type": "display_data"
    },
    {
     "data": {
      "application/vnd.jupyter.widget-view+json": {
       "model_id": "0fd452fcc4d74752a8400d0ad5b85d70",
       "version_major": 2,
       "version_minor": 0
      },
      "text/plain": [
       "Depth 10 sub-progress:   0%|          | 0/9 [00:00<?, ?it/s]"
      ]
     },
     "metadata": {},
     "output_type": "display_data"
    },
    {
     "data": {
      "application/vnd.jupyter.widget-view+json": {
       "model_id": "517a354571424b68a975743e8027bee7",
       "version_major": 2,
       "version_minor": 0
      },
      "text/plain": [
       "Depth 10 sub-progress:   0%|          | 0/9 [00:00<?, ?it/s]"
      ]
     },
     "metadata": {},
     "output_type": "display_data"
    },
    {
     "data": {
      "application/vnd.jupyter.widget-view+json": {
       "model_id": "580bf80899004173a84f0cf336c2f089",
       "version_major": 2,
       "version_minor": 0
      },
      "text/plain": [
       "Depth 10 sub-progress:   0%|          | 0/9 [00:00<?, ?it/s]"
      ]
     },
     "metadata": {},
     "output_type": "display_data"
    },
    {
     "data": {
      "application/vnd.jupyter.widget-view+json": {
       "model_id": "437253430b9f472893e34562fe268e07",
       "version_major": 2,
       "version_minor": 0
      },
      "text/plain": [
       "Depth 10 sub-progress:   0%|          | 0/9 [00:00<?, ?it/s]"
      ]
     },
     "metadata": {},
     "output_type": "display_data"
    },
    {
     "data": {
      "application/vnd.jupyter.widget-view+json": {
       "model_id": "4e9155e6e6c34cc6985e0fc0f76ac8af",
       "version_major": 2,
       "version_minor": 0
      },
      "text/plain": [
       "Depth 10 sub-progress:   0%|          | 0/9 [00:00<?, ?it/s]"
      ]
     },
     "metadata": {},
     "output_type": "display_data"
    },
    {
     "data": {
      "application/vnd.jupyter.widget-view+json": {
       "model_id": "b5ac23c7a95345d18034c52c61e5035e",
       "version_major": 2,
       "version_minor": 0
      },
      "text/plain": [
       "Depth 10 sub-progress:   0%|          | 0/9 [00:00<?, ?it/s]"
      ]
     },
     "metadata": {},
     "output_type": "display_data"
    },
    {
     "data": {
      "application/vnd.jupyter.widget-view+json": {
       "model_id": "0a94210a15854b29b1f2e5167759e957",
       "version_major": 2,
       "version_minor": 0
      },
      "text/plain": [
       "Depth 10 sub-progress:   0%|          | 0/9 [00:00<?, ?it/s]"
      ]
     },
     "metadata": {},
     "output_type": "display_data"
    },
    {
     "data": {
      "application/vnd.jupyter.widget-view+json": {
       "model_id": "4ffd6bd1f6674e0c920e35f86b849784",
       "version_major": 2,
       "version_minor": 0
      },
      "text/plain": [
       "Depth 10 sub-progress:   0%|          | 0/9 [00:00<?, ?it/s]"
      ]
     },
     "metadata": {},
     "output_type": "display_data"
    },
    {
     "data": {
      "application/vnd.jupyter.widget-view+json": {
       "model_id": "1259a35297ea42a0b930a98315b29796",
       "version_major": 2,
       "version_minor": 0
      },
      "text/plain": [
       "Depth 10 sub-progress:   0%|          | 0/9 [00:00<?, ?it/s]"
      ]
     },
     "metadata": {},
     "output_type": "display_data"
    },
    {
     "data": {
      "application/vnd.jupyter.widget-view+json": {
       "model_id": "1a0e379248344938b80dff311170fbd8",
       "version_major": 2,
       "version_minor": 0
      },
      "text/plain": [
       "Depth 10 sub-progress:   0%|          | 0/9 [00:00<?, ?it/s]"
      ]
     },
     "metadata": {},
     "output_type": "display_data"
    },
    {
     "data": {
      "application/vnd.jupyter.widget-view+json": {
       "model_id": "a338132de20548ff87f06c29a4046631",
       "version_major": 2,
       "version_minor": 0
      },
      "text/plain": [
       "Depth 10 sub-progress:   0%|          | 0/9 [00:00<?, ?it/s]"
      ]
     },
     "metadata": {},
     "output_type": "display_data"
    },
    {
     "name": "stderr",
     "output_type": "stream",
     "text": [
      "Exception ignored in: <function tqdm.__del__ at 0x7fc16f5e5040>\n",
      "Traceback (most recent call last):\n",
      "  File \"/home/azimuth/anaconda3/lib/python3.9/site-packages/tqdm/std.py\", line 1147, in __del__\n",
      "    self.close()\n",
      "  File \"/home/azimuth/anaconda3/lib/python3.9/site-packages/tqdm/notebook.py\", line 286, in close\n",
      "    self.disp(bar_style='danger', check_delay=False)\n",
      "AttributeError: 'tqdm' object has no attribute 'disp'\n"
     ]
    },
    {
     "name": "stdout",
     "output_type": "stream",
     "text": [
      "Interrupted at depth 10\n",
      "Attempting to cache progress...\n",
      "Caching progress to temp/<lambda>_boundary_search_0_4_0_4_2_15.pkl.\n"
     ]
    }
   ],
   "source": [
    "p_range = (0, 4)\n",
    "r_range = (0, 4)\n",
    "inside_circle = lambda p, r: ((p-2)**2 + (r-2)**2) < 1\n",
    "cardioid = lambda p, r: (np.sqrt(p**2 + r**2) + np.cos(np.arctan(r/p))) < 1\n",
    "\n",
    "results = boundary_search(p_range, r_range, inside_circle, split=2, max_depth=15, cache_dir=SAVE_TO)"
   ]
  },
  {
   "cell_type": "code",
   "execution_count": null,
   "id": "b584a3d2-f2b4-41a9-941c-690270681037",
   "metadata": {},
   "outputs": [],
   "source": [
    "p_coords = []\n",
    "r_coords = []\n",
    "threshs = []\n",
    "for (p, r), t in results.items():\n",
    "    p_coords.append(p)\n",
    "    r_coords.append(r)\n",
    "    threshs.append(t)\n",
    "\n",
    "fig, ax = plt.subplots(1, 1, figsize=(8,8))\n",
    "ax.set_aspect('equal')\n",
    "ax.set_xlabel('$p$ values')\n",
    "ax.set_ylabel('$r$ values')\n",
    "\n",
    "scat = ax.scatter(p_coords, r_coords, c=threshs, s=2, cmap='viridis')"
   ]
  },
  {
   "cell_type": "code",
   "execution_count": null,
   "id": "02424065-149f-4f68-bdf6-7a34ee639d3c",
   "metadata": {},
   "outputs": [],
   "source": [
    "from matplotlib.animation import FuncAnimation, PillowWriter\n",
    "from tqdm.auto import tqdm\n",
    "\n",
    "p_range = (0, 1.5)\n",
    "r_range = (0, 1.5)\n",
    "inside_circle = lambda p, r: (p**2 + r**2) < 1\n",
    "    \n",
    "fig, (ax1, ax2) = plt.subplots(1, 2, figsize=(16,8))\n",
    "TICKS = 6\n",
    "\n",
    "for ax in (ax1, ax2):\n",
    "    ax.set_aspect('equal')\n",
    "    ax.set_xlabel('$p$ values')\n",
    "    ax.set_ylabel('$r$ values')\n",
    "\n",
    "def update(frame):\n",
    "    fig.suptitle(f'Recursion depth: {frame}')\n",
    "    img, results = boundary_search(p_range, r_range, inside_circle, max_depth=frame)\n",
    "    \n",
    "    p_coords = []\n",
    "    r_coords = []\n",
    "    threshs = []\n",
    "    for (p, r), t in results.items():\n",
    "        p_coords.append(p)\n",
    "        r_coords.append(r)\n",
    "        threshs.append(t)\n",
    "\n",
    "    artists = [\n",
    "        ax1.scatter(p_coords, r_coords, c=threshs, s=2, cmap='viridis'),\n",
    "        ax2.imshow(img)\n",
    "    ]\n",
    "    ax2.set_xticks(np.linspace(*ax2.get_xlim(), TICKS)),\n",
    "    ax2.set_xticklabels(np.around(np.linspace(*p_range, TICKS), decimals=1)),\n",
    "    ax2.set_yticks(np.linspace(*ax2.get_ylim(), TICKS)),\n",
    "    ax2.set_yticklabels(np.around(np.linspace(*r_range, TICKS), decimals=1))\n",
    "    return artists\n",
    "\n",
    "anim = FuncAnimation(fig, update, frames=tqdm(range(1, 11)), interval=200, blit=True)\n",
    "anim.save(os.path.join(SAVE_TO, 'boundary_search.gif'), writer=PillowWriter(fps=1), dpi=600)"
   ]
  },
  {
   "cell_type": "code",
   "execution_count": null,
   "id": "58ae4788-3e88-487a-b072-68de82342e56",
   "metadata": {},
   "outputs": [],
   "source": []
  }
 ],
 "metadata": {
  "kernelspec": {
   "display_name": "Python 3 (ipykernel)",
   "language": "python",
   "name": "python3"
  },
  "language_info": {
   "codemirror_mode": {
    "name": "ipython",
    "version": 3
   },
   "file_extension": ".py",
   "mimetype": "text/x-python",
   "name": "python",
   "nbconvert_exporter": "python",
   "pygments_lexer": "ipython3",
   "version": "3.9.7"
  }
 },
 "nbformat": 4,
 "nbformat_minor": 5
}
