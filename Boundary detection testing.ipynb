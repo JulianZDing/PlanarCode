{
 "cells": [
  {
   "cell_type": "code",
   "execution_count": null,
   "id": "d08ef42f-1324-4cb1-8ae9-464e5b52528b",
   "metadata": {},
   "outputs": [],
   "source": [
    "import os\n",
    "import pickle\n",
    "import numpy as np\n",
    "import matplotlib.pyplot as plt\n",
    "from timeit import timeit\n",
    "from threshold import *\n",
    "\n",
    "SAVE_TO = 'temp/'"
   ]
  },
  {
   "cell_type": "code",
   "execution_count": null,
   "id": "4ab16f26",
   "metadata": {},
   "outputs": [],
   "source": [
    "p = 0.2\n",
    "r = 0.2\n",
    "\n",
    "slope_t = timeit(lambda: threshold_slope(p,r,lengths=[4,5,6,8]), number=1)\n",
    "thresh_t = timeit(lambda: above_threshold(p,r,large_L=10), number=1)\n",
    "\n",
    "print(slope_t, thresh_t)"
   ]
  },
  {
   "cell_type": "code",
   "execution_count": null,
   "id": "8f4d3d5f",
   "metadata": {},
   "outputs": [],
   "source": [
    "slope_1000 = timeit(lambda: threshold_slope(p,r, samples=1000), number=1)\n",
    "slope_2000 = timeit(lambda: threshold_slope(p,r, samples=2000), number=1)\n",
    "thresh_1000 = timeit(lambda: above_threshold(p,r, samples=1000), number=1)\n",
    "thresh_2000 = timeit(lambda: above_threshold(p,r, samples=2000), number=1)\n",
    "print(slope_1000, slope_2000)\n",
    "print(thresh_1000, thresh_2000)"
   ]
  },
  {
   "cell_type": "code",
   "execution_count": null,
   "id": "6dc3a5ee-79d8-4ed6-8827-87d3901d0b64",
   "metadata": {},
   "outputs": [],
   "source": [
    "p_range = (0, 4)\n",
    "r_range = (0, 4)\n",
    "def inside_circle(p, r):\n",
    "    return ((p-2)**2 + (r-2)**2) < 1\n",
    "\n",
    "def cardioid(p,r):\n",
    "    return (np.sqrt(p**2 + r**2) + np.cos(np.arctan(r/p))) < 1\n",
    "\n",
    "engine = BoundarySearchEngine(p_range, r_range, split=2, max_depth=10, cache_dir=SAVE_TO, workers=8)\n",
    "results = engine.boundary_search(inside_circle)\n",
    "mp_time = timeit(lambda: engine.boundary_search(inside_circle, verbose=False), number=1)\n",
    "seq_time = timeit(lambda: boundary_search(p_range, r_range, inside_circle, split=2, max_depth=10, cache_dir=SAVE_TO), number=1)\n",
    "print(mp_time, seq_time)"
   ]
  },
  {
   "cell_type": "code",
   "execution_count": null,
   "id": "b584a3d2-f2b4-41a9-941c-690270681037",
   "metadata": {},
   "outputs": [],
   "source": [
    "p_coords = []\n",
    "r_coords = []\n",
    "threshs = []\n",
    "for (p, r), t in results.items():\n",
    "    p_coords.append(p)\n",
    "    r_coords.append(r)\n",
    "    threshs.append(t)\n",
    "\n",
    "fig, ax = plt.subplots(1, 1, figsize=(8,8))\n",
    "ax.set_aspect('equal')\n",
    "ax.set_xlabel('$p$ values')\n",
    "ax.set_ylabel('$r$ values')\n",
    "\n",
    "scat = ax.scatter(p_coords, r_coords, c=threshs, s=2, cmap='viridis')"
   ]
  },
  {
   "cell_type": "code",
   "execution_count": null,
   "id": "02424065-149f-4f68-bdf6-7a34ee639d3c",
   "metadata": {},
   "outputs": [],
   "source": [
    "from matplotlib.animation import FuncAnimation, PillowWriter\n",
    "from tqdm.auto import tqdm\n",
    "\n",
    "p_range = (0, 1.5)\n",
    "r_range = (0, 1.5)\n",
    "inside_circle = lambda p, r: (p**2 + r**2) < 1\n",
    "    \n",
    "fig, (ax1, ax2) = plt.subplots(1, 2, figsize=(16,8))\n",
    "TICKS = 6\n",
    "\n",
    "for ax in (ax1, ax2):\n",
    "    ax.set_aspect('equal')\n",
    "    ax.set_xlabel('$p$ values')\n",
    "    ax.set_ylabel('$r$ values')\n",
    "\n",
    "def update(frame):\n",
    "    fig.suptitle(f'Recursion depth: {frame}')\n",
    "    img, results = boundary_search(p_range, r_range, inside_circle, max_depth=frame)\n",
    "    \n",
    "    p_coords = []\n",
    "    r_coords = []\n",
    "    threshs = []\n",
    "    for (p, r), t in results.items():\n",
    "        p_coords.append(p)\n",
    "        r_coords.append(r)\n",
    "        threshs.append(t)\n",
    "\n",
    "    artists = [\n",
    "        ax1.scatter(p_coords, r_coords, c=threshs, s=2, cmap='viridis'),\n",
    "        ax2.imshow(img)\n",
    "    ]\n",
    "    ax2.set_xticks(np.linspace(*ax2.get_xlim(), TICKS)),\n",
    "    ax2.set_xticklabels(np.around(np.linspace(*p_range, TICKS), decimals=1)),\n",
    "    ax2.set_yticks(np.linspace(*ax2.get_ylim(), TICKS)),\n",
    "    ax2.set_yticklabels(np.around(np.linspace(*r_range, TICKS), decimals=1))\n",
    "    return artists\n",
    "\n",
    "anim = FuncAnimation(fig, update, frames=tqdm(range(1, 11)), interval=200, blit=True)\n",
    "anim.save(os.path.join(SAVE_TO, 'boundary_search.gif'), writer=PillowWriter(fps=1), dpi=600)"
   ]
  },
  {
   "cell_type": "code",
   "execution_count": null,
   "id": "58ae4788-3e88-487a-b072-68de82342e56",
   "metadata": {},
   "outputs": [],
   "source": []
  }
 ],
 "metadata": {
  "kernelspec": {
   "display_name": "Python 3 (ipykernel)",
   "language": "python",
   "name": "python3"
  },
  "language_info": {
   "codemirror_mode": {
    "name": "ipython",
    "version": 3
   },
   "file_extension": ".py",
   "mimetype": "text/x-python",
   "name": "python",
   "nbconvert_exporter": "python",
   "pygments_lexer": "ipython3",
   "version": "3.9.7"
  }
 },
 "nbformat": 4,
 "nbformat_minor": 5
}
